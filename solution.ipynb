{
  "nbformat": 4,
  "nbformat_minor": 0,
  "metadata": {
    "kernelspec": {
      "display_name": "Python 3 (ipykernel)",
      "language": "python",
      "name": "python3"
    },
    "language_info": {
      "codemirror_mode": {
        "name": "ipython",
        "version": 3
      },
      "file_extension": ".py",
      "mimetype": "text/x-python",
      "name": "python",
      "nbconvert_exporter": "python",
      "pygments_lexer": "ipython3",
      "version": "3.8.11"
    },
    "colab": {
      "name": "solution.ipynb",
      "provenance": [],
      "collapsed_sections": []
    },
    "accelerator": "GPU"
  },
  "cells": [
    {
      "cell_type": "markdown",
      "metadata": {
        "collapsed": true,
        "id": "aoWZrdYj6ka4"
      },
      "source": [
        "# Music Recomendations"
      ]
    },
    {
      "cell_type": "code",
      "metadata": {
        "id": "bP2rFoVt6of5"
      },
      "source": [
        "!pip install catboost==1.0.3\n",
        "!pip install gensim==4.1.0\n",
        "!pip install --upgrade numpy"
      ],
      "execution_count": null,
      "outputs": []
    },
    {
      "cell_type": "code",
      "metadata": {
        "colab": {
          "base_uri": "https://localhost:8080/"
        },
        "id": "aAove_va6u9V",
        "outputId": "5d6c5c73-b093-41ce-d5d7-ff269a6052cd"
      },
      "source": [
        "!nvidia-smi"
      ],
      "execution_count": 23,
      "outputs": [
        {
          "output_type": "stream",
          "name": "stdout",
          "text": [
            "Tue Nov 23 22:54:48 2021       \n",
            "+-----------------------------------------------------------------------------+\n",
            "| NVIDIA-SMI 495.44       Driver Version: 460.32.03    CUDA Version: 11.2     |\n",
            "|-------------------------------+----------------------+----------------------+\n",
            "| GPU  Name        Persistence-M| Bus-Id        Disp.A | Volatile Uncorr. ECC |\n",
            "| Fan  Temp  Perf  Pwr:Usage/Cap|         Memory-Usage | GPU-Util  Compute M. |\n",
            "|                               |                      |               MIG M. |\n",
            "|===============================+======================+======================|\n",
            "|   0  Tesla K80           Off  | 00000000:00:04.0 Off |                    0 |\n",
            "| N/A   73C    P0    75W / 149W |     70MiB / 11441MiB |      0%      Default |\n",
            "|                               |                      |                  N/A |\n",
            "+-------------------------------+----------------------+----------------------+\n",
            "                                                                               \n",
            "+-----------------------------------------------------------------------------+\n",
            "| Processes:                                                                  |\n",
            "|  GPU   GI   CI        PID   Type   Process name                  GPU Memory |\n",
            "|        ID   ID                                                   Usage      |\n",
            "|=============================================================================|\n",
            "|  No running processes found                                                 |\n",
            "+-----------------------------------------------------------------------------+\n"
          ]
        }
      ]
    },
    {
      "cell_type": "code",
      "metadata": {
        "colab": {
          "base_uri": "https://localhost:8080/"
        },
        "id": "lwnCE5dt6p3q",
        "outputId": "e6481f70-be20-4e2c-e8f7-7cfb8014a514"
      },
      "source": [
        "%cd /content\n",
        "!wget https://voudy-data.s3.eu-north-1.amazonaws.com/wsdm_data.tar.gz\n",
        "!tar -xf /content/wsdm_data.tar.gz\n",
        "!mkdir data\n",
        "!mv -t data members.csv song_extra_info.csv songs.csv train.csv\n",
        "!git clone -b hw2 https://github.com/Sushentsev/recommendation-systems\n",
        "%cd recommendation-systems/\n",
        "!mv /content/data /content/recommendation-systems/hw2"
      ],
      "execution_count": 24,
      "outputs": [
        {
          "output_type": "stream",
          "name": "stdout",
          "text": [
            "/content\n",
            "--2021-11-23 22:54:49--  https://voudy-data.s3.eu-north-1.amazonaws.com/wsdm_data.tar.gz\n",
            "Resolving voudy-data.s3.eu-north-1.amazonaws.com (voudy-data.s3.eu-north-1.amazonaws.com)... 52.95.170.32\n",
            "Connecting to voudy-data.s3.eu-north-1.amazonaws.com (voudy-data.s3.eu-north-1.amazonaws.com)|52.95.170.32|:443... connected.\n",
            "HTTP request sent, awaiting response... 200 OK\n",
            "Length: 613394184 (585M) [application/x-gzip]\n",
            "Saving to: ‘wsdm_data.tar.gz.2’\n",
            "\n",
            "wsdm_data.tar.gz.2  100%[===================>] 584.98M  88.3MB/s    in 6.8s    \n",
            "\n",
            "2021-11-23 22:54:56 (85.4 MB/s) - ‘wsdm_data.tar.gz.2’ saved [613394184/613394184]\n",
            "\n",
            "mkdir: cannot create directory ‘data’: File exists\n",
            "fatal: destination path 'recommendation-systems' already exists and is not an empty directory.\n",
            "/content/recommendation-systems\n",
            "mv: cannot move '/content/data' to '/content/recommendation-systems/hw2/data': Directory not empty\n"
          ]
        }
      ]
    },
    {
      "cell_type": "code",
      "metadata": {
        "colab": {
          "base_uri": "https://localhost:8080/"
        },
        "id": "Bijh8iRH6rqv",
        "outputId": "672291b4-ab69-4dbd-e076-91a8a9bbe3ee"
      },
      "source": [
        "%cd /content/recommendation-systems/hw2"
      ],
      "execution_count": 5,
      "outputs": [
        {
          "output_type": "stream",
          "name": "stdout",
          "text": [
            "/content/recommendation-systems/hw2\n"
          ]
        }
      ]
    },
    {
      "cell_type": "code",
      "metadata": {
        "id": "4G8Gs-HI6tSy"
      },
      "source": [
        "import sys\n",
        "sys.path.append(\"/content/recommendation-systems\")"
      ],
      "execution_count": 6,
      "outputs": []
    },
    {
      "cell_type": "code",
      "metadata": {
        "id": "MCXSw-XY6ka5"
      },
      "source": [
        "from datasets.members import MembersDataset\n",
        "from datasets.songs import SongsDataset\n",
        "from datasets.train import TrainDataset\n",
        "from datasets.songs_info import SongsInfoDataset\n",
        "\n",
        "from models.catboost_model import CatBoostModel\n",
        "from models.embeddings_model import EmbeddingModel\n",
        "\n",
        "from embeddings import EmbeddingsBuilder\n",
        "\n",
        "from plot import * \n",
        "from utils import * \n",
        "\n",
        "import pandas as pd\n",
        "import numpy as np\n",
        "import matplotlib.pyplot as plt\n",
        "\n",
        "%load_ext autoreload\n",
        "%autoreload 2"
      ],
      "execution_count": 7,
      "outputs": []
    },
    {
      "cell_type": "markdown",
      "metadata": {
        "id": "hovxQlXl6ka6"
      },
      "source": [
        "## Подготовка данных"
      ]
    },
    {
      "cell_type": "code",
      "metadata": {
        "id": "xnvHEoJn6ka7"
      },
      "source": [
        "random_state = 42"
      ],
      "execution_count": 8,
      "outputs": []
    },
    {
      "cell_type": "markdown",
      "metadata": {
        "id": "FvZPG6hO6ka7"
      },
      "source": [
        "Загрузим данные в память. "
      ]
    },
    {
      "cell_type": "code",
      "metadata": {
        "colab": {
          "base_uri": "https://localhost:8080/"
        },
        "id": "l4n07gtT6ka7",
        "outputId": "7c914ca5-4440-44ed-bfd3-a30b3ad91287"
      },
      "source": [
        "%%time\n",
        "members_dataset = MembersDataset.from_path(\"./data/members.csv\")\n",
        "songs_dataset = SongsDataset.from_path(\"./data/songs.csv\")\n",
        "train_dataset = TrainDataset.from_path(\"./data/train.csv\")\n",
        "songs_info_dataset = SongsInfoDataset.from_path(\"./data/song_extra_info.csv\")"
      ],
      "execution_count": 9,
      "outputs": [
        {
          "output_type": "stream",
          "name": "stdout",
          "text": [
            "CPU times: user 55.8 s, sys: 1.95 s, total: 57.8 s\n",
            "Wall time: 58.6 s\n"
          ]
        }
      ]
    },
    {
      "cell_type": "markdown",
      "metadata": {
        "id": "rrtM00Yw6ka8"
      },
      "source": [
        "Построим признаки для песен и пользователей и посмотрим, что получилось. "
      ]
    },
    {
      "cell_type": "code",
      "metadata": {
        "colab": {
          "base_uri": "https://localhost:8080/"
        },
        "id": "JP9BeZDY6ka8",
        "outputId": "6fd688d7-f6bb-4bab-e2d2-5d32177902fd"
      },
      "source": [
        "%%time\n",
        "members_dataset = members_dataset.create_features()\n",
        "songs_dataset = songs_dataset.create_features(songs_info_dataset)"
      ],
      "execution_count": 10,
      "outputs": [
        {
          "output_type": "stream",
          "name": "stdout",
          "text": [
            "CPU times: user 22 s, sys: 844 ms, total: 22.9 s\n",
            "Wall time: 22.7 s\n"
          ]
        }
      ]
    },
    {
      "cell_type": "code",
      "metadata": {
        "colab": {
          "base_uri": "https://localhost:8080/",
          "height": 142
        },
        "id": "isbOUfyg6ka9",
        "outputId": "95f538f9-2eab-4b9d-e358-45f25fa470ad"
      },
      "source": [
        "members_dataset.pandas_df.head(3)"
      ],
      "execution_count": 11,
      "outputs": [
        {
          "output_type": "execute_result",
          "data": {
            "text/html": [
              "<div>\n",
              "<style scoped>\n",
              "    .dataframe tbody tr th:only-of-type {\n",
              "        vertical-align: middle;\n",
              "    }\n",
              "\n",
              "    .dataframe tbody tr th {\n",
              "        vertical-align: top;\n",
              "    }\n",
              "\n",
              "    .dataframe thead th {\n",
              "        text-align: right;\n",
              "    }\n",
              "</style>\n",
              "<table border=\"1\" class=\"dataframe\">\n",
              "  <thead>\n",
              "    <tr style=\"text-align: right;\">\n",
              "      <th></th>\n",
              "      <th>msno</th>\n",
              "      <th>city</th>\n",
              "      <th>gender</th>\n",
              "      <th>registered_via</th>\n",
              "      <th>bd_category</th>\n",
              "      <th>registration_init_year</th>\n",
              "      <th>expiration_date_year</th>\n",
              "    </tr>\n",
              "  </thead>\n",
              "  <tbody>\n",
              "    <tr>\n",
              "      <th>0</th>\n",
              "      <td>XQxgAYj3klVKjR3oxPPXYYFp4soD4TuBghkhMTD4oTw=</td>\n",
              "      <td>1</td>\n",
              "      <td>&lt;UNK&gt;</td>\n",
              "      <td>7</td>\n",
              "      <td>&lt;UNK&gt;</td>\n",
              "      <td>2011</td>\n",
              "      <td>2017</td>\n",
              "    </tr>\n",
              "    <tr>\n",
              "      <th>1</th>\n",
              "      <td>UizsfmJb9mV54qE9hCYyU07Va97c0lCRLEQX3ae+ztM=</td>\n",
              "      <td>1</td>\n",
              "      <td>&lt;UNK&gt;</td>\n",
              "      <td>7</td>\n",
              "      <td>&lt;UNK&gt;</td>\n",
              "      <td>2015</td>\n",
              "      <td>2017</td>\n",
              "    </tr>\n",
              "    <tr>\n",
              "      <th>2</th>\n",
              "      <td>D8nEhsIOBSoE6VthTaqDX8U6lqjJ7dLdr72mOyLya2A=</td>\n",
              "      <td>1</td>\n",
              "      <td>&lt;UNK&gt;</td>\n",
              "      <td>4</td>\n",
              "      <td>&lt;UNK&gt;</td>\n",
              "      <td>2016</td>\n",
              "      <td>2017</td>\n",
              "    </tr>\n",
              "  </tbody>\n",
              "</table>\n",
              "</div>"
            ],
            "text/plain": [
              "                                           msno  ... expiration_date_year\n",
              "0  XQxgAYj3klVKjR3oxPPXYYFp4soD4TuBghkhMTD4oTw=  ...                 2017\n",
              "1  UizsfmJb9mV54qE9hCYyU07Va97c0lCRLEQX3ae+ztM=  ...                 2017\n",
              "2  D8nEhsIOBSoE6VthTaqDX8U6lqjJ7dLdr72mOyLya2A=  ...                 2017\n",
              "\n",
              "[3 rows x 7 columns]"
            ]
          },
          "metadata": {},
          "execution_count": 11
        }
      ]
    },
    {
      "cell_type": "code",
      "metadata": {
        "colab": {
          "base_uri": "https://localhost:8080/",
          "height": 264
        },
        "id": "LlaUj84G6ka9",
        "outputId": "c2057c30-3650-41e3-82f3-584678d011bb"
      },
      "source": [
        "songs_dataset.pandas_df.head(3)"
      ],
      "execution_count": 12,
      "outputs": [
        {
          "output_type": "execute_result",
          "data": {
            "text/html": [
              "<div>\n",
              "<style scoped>\n",
              "    .dataframe tbody tr th:only-of-type {\n",
              "        vertical-align: middle;\n",
              "    }\n",
              "\n",
              "    .dataframe tbody tr th {\n",
              "        vertical-align: top;\n",
              "    }\n",
              "\n",
              "    .dataframe thead th {\n",
              "        text-align: right;\n",
              "    }\n",
              "</style>\n",
              "<table border=\"1\" class=\"dataframe\">\n",
              "  <thead>\n",
              "    <tr style=\"text-align: right;\">\n",
              "      <th></th>\n",
              "      <th>song_id</th>\n",
              "      <th>song_length</th>\n",
              "      <th>genre_ids</th>\n",
              "      <th>artist_name</th>\n",
              "      <th>composer</th>\n",
              "      <th>lyricist</th>\n",
              "      <th>language</th>\n",
              "      <th>genres_count</th>\n",
              "      <th>artist_name_count</th>\n",
              "      <th>composer_count</th>\n",
              "      <th>lyricists_count</th>\n",
              "      <th>isrc_year</th>\n",
              "    </tr>\n",
              "  </thead>\n",
              "  <tbody>\n",
              "    <tr>\n",
              "      <th>0</th>\n",
              "      <td>CXoTN1eb7AI+DntdU1vbcwGRV4SCIDxZu+YD8JP8r4E=</td>\n",
              "      <td>247640</td>\n",
              "      <td>465</td>\n",
              "      <td>張信哲 (Jeff Chang)</td>\n",
              "      <td>董貞</td>\n",
              "      <td>何啟弘</td>\n",
              "      <td>3.0</td>\n",
              "      <td>1</td>\n",
              "      <td>1</td>\n",
              "      <td>1</td>\n",
              "      <td>1</td>\n",
              "      <td>2014</td>\n",
              "    </tr>\n",
              "    <tr>\n",
              "      <th>1</th>\n",
              "      <td>o0kFgae9QtnYgRkVPqLJwa05zIhRlUjfF7O1tDw0ZDU=</td>\n",
              "      <td>197328</td>\n",
              "      <td>444</td>\n",
              "      <td>BLACKPINK</td>\n",
              "      <td>TEDDY|  FUTURE BOUNCE|  Bekuh BOOM</td>\n",
              "      <td>TEDDY</td>\n",
              "      <td>31.0</td>\n",
              "      <td>1</td>\n",
              "      <td>1</td>\n",
              "      <td>3</td>\n",
              "      <td>1</td>\n",
              "      <td>-1</td>\n",
              "    </tr>\n",
              "    <tr>\n",
              "      <th>2</th>\n",
              "      <td>DwVvVurfpuz+XPuFvucclVQEyPqcpUkHR0ne1RQzPs0=</td>\n",
              "      <td>231781</td>\n",
              "      <td>465</td>\n",
              "      <td>SUPER JUNIOR</td>\n",
              "      <td>&lt;UNK&gt;</td>\n",
              "      <td>&lt;UNK&gt;</td>\n",
              "      <td>31.0</td>\n",
              "      <td>1</td>\n",
              "      <td>1</td>\n",
              "      <td>0</td>\n",
              "      <td>0</td>\n",
              "      <td>-1</td>\n",
              "    </tr>\n",
              "  </tbody>\n",
              "</table>\n",
              "</div>"
            ],
            "text/plain": [
              "                                        song_id  ...  isrc_year\n",
              "0  CXoTN1eb7AI+DntdU1vbcwGRV4SCIDxZu+YD8JP8r4E=  ...       2014\n",
              "1  o0kFgae9QtnYgRkVPqLJwa05zIhRlUjfF7O1tDw0ZDU=  ...         -1\n",
              "2  DwVvVurfpuz+XPuFvucclVQEyPqcpUkHR0ne1RQzPs0=  ...         -1\n",
              "\n",
              "[3 rows x 12 columns]"
            ]
          },
          "metadata": {},
          "execution_count": 12
        }
      ]
    },
    {
      "cell_type": "markdown",
      "metadata": {
        "id": "bQmJbYJe6ka9"
      },
      "source": [
        "Теперь добавим в обучающую выборку признаков из песен и пользователей. "
      ]
    },
    {
      "cell_type": "code",
      "metadata": {
        "id": "yqhcxZYj6ka-"
      },
      "source": [
        "train_dataset = train_dataset.merge(members_dataset, on=\"msno\", how=\"left\")\n",
        "train_dataset = train_dataset.merge(songs_dataset, on=\"song_id\", how=\"left\")"
      ],
      "execution_count": 13,
      "outputs": []
    },
    {
      "cell_type": "code",
      "metadata": {
        "colab": {
          "base_uri": "https://localhost:8080/",
          "height": 315
        },
        "id": "2K9CvIa56ka-",
        "outputId": "69050b78-7bf5-4e16-b40c-3748a27466c5"
      },
      "source": [
        "train_dataset.pandas_df.head(3)"
      ],
      "execution_count": 14,
      "outputs": [
        {
          "output_type": "execute_result",
          "data": {
            "text/html": [
              "<div>\n",
              "<style scoped>\n",
              "    .dataframe tbody tr th:only-of-type {\n",
              "        vertical-align: middle;\n",
              "    }\n",
              "\n",
              "    .dataframe tbody tr th {\n",
              "        vertical-align: top;\n",
              "    }\n",
              "\n",
              "    .dataframe thead th {\n",
              "        text-align: right;\n",
              "    }\n",
              "</style>\n",
              "<table border=\"1\" class=\"dataframe\">\n",
              "  <thead>\n",
              "    <tr style=\"text-align: right;\">\n",
              "      <th></th>\n",
              "      <th>msno</th>\n",
              "      <th>song_id</th>\n",
              "      <th>source_system_tab</th>\n",
              "      <th>source_screen_name</th>\n",
              "      <th>source_type</th>\n",
              "      <th>target</th>\n",
              "      <th>city</th>\n",
              "      <th>gender</th>\n",
              "      <th>registered_via</th>\n",
              "      <th>bd_category</th>\n",
              "      <th>registration_init_year</th>\n",
              "      <th>expiration_date_year</th>\n",
              "      <th>song_length</th>\n",
              "      <th>genre_ids</th>\n",
              "      <th>artist_name</th>\n",
              "      <th>composer</th>\n",
              "      <th>lyricist</th>\n",
              "      <th>language</th>\n",
              "      <th>genres_count</th>\n",
              "      <th>artist_name_count</th>\n",
              "      <th>composer_count</th>\n",
              "      <th>lyricists_count</th>\n",
              "      <th>isrc_year</th>\n",
              "    </tr>\n",
              "  </thead>\n",
              "  <tbody>\n",
              "    <tr>\n",
              "      <th>0</th>\n",
              "      <td>FGtllVqz18RPiwJj/edr2gV78zirAiY/9SmYvia+kCg=</td>\n",
              "      <td>BBzumQNXUHKdEBOB7mAJuzok+IJA1c2Ryg/yzTF6tik=</td>\n",
              "      <td>explore</td>\n",
              "      <td>Explore</td>\n",
              "      <td>online-playlist</td>\n",
              "      <td>1</td>\n",
              "      <td>1</td>\n",
              "      <td>&lt;UNK&gt;</td>\n",
              "      <td>7</td>\n",
              "      <td>&lt;UNK&gt;</td>\n",
              "      <td>2012</td>\n",
              "      <td>2017</td>\n",
              "      <td>206471.0</td>\n",
              "      <td>359</td>\n",
              "      <td>Bastille</td>\n",
              "      <td>Dan Smith| Mark Crew</td>\n",
              "      <td>&lt;UNK&gt;</td>\n",
              "      <td>52.0</td>\n",
              "      <td>1.0</td>\n",
              "      <td>1.0</td>\n",
              "      <td>2.0</td>\n",
              "      <td>0.0</td>\n",
              "      <td>2016</td>\n",
              "    </tr>\n",
              "    <tr>\n",
              "      <th>1</th>\n",
              "      <td>Xumu+NIjS6QYVxDS4/t3SawvJ7viT9hPKXmf0RtLNx8=</td>\n",
              "      <td>bhp/MpSNoqoxOIB+/l8WPqu6jldth4DIpCm3ayXnJqM=</td>\n",
              "      <td>my library</td>\n",
              "      <td>Local playlist more</td>\n",
              "      <td>local-playlist</td>\n",
              "      <td>1</td>\n",
              "      <td>13</td>\n",
              "      <td>female</td>\n",
              "      <td>9</td>\n",
              "      <td>young</td>\n",
              "      <td>2011</td>\n",
              "      <td>2017</td>\n",
              "      <td>284584.0</td>\n",
              "      <td>1259</td>\n",
              "      <td>Various Artists</td>\n",
              "      <td>&lt;UNK&gt;</td>\n",
              "      <td>&lt;UNK&gt;</td>\n",
              "      <td>52.0</td>\n",
              "      <td>1.0</td>\n",
              "      <td>1.0</td>\n",
              "      <td>0.0</td>\n",
              "      <td>0.0</td>\n",
              "      <td>1999</td>\n",
              "    </tr>\n",
              "    <tr>\n",
              "      <th>2</th>\n",
              "      <td>Xumu+NIjS6QYVxDS4/t3SawvJ7viT9hPKXmf0RtLNx8=</td>\n",
              "      <td>JNWfrrC7zNN7BdMpsISKa4Mw+xVJYNnxXh3/Epw7QgY=</td>\n",
              "      <td>my library</td>\n",
              "      <td>Local playlist more</td>\n",
              "      <td>local-playlist</td>\n",
              "      <td>1</td>\n",
              "      <td>13</td>\n",
              "      <td>female</td>\n",
              "      <td>9</td>\n",
              "      <td>young</td>\n",
              "      <td>2011</td>\n",
              "      <td>2017</td>\n",
              "      <td>225396.0</td>\n",
              "      <td>1259</td>\n",
              "      <td>Nas</td>\n",
              "      <td>N. Jones、W. Adams、J. Lordan、D. Ingle</td>\n",
              "      <td>&lt;UNK&gt;</td>\n",
              "      <td>52.0</td>\n",
              "      <td>1.0</td>\n",
              "      <td>1.0</td>\n",
              "      <td>1.0</td>\n",
              "      <td>0.0</td>\n",
              "      <td>2006</td>\n",
              "    </tr>\n",
              "  </tbody>\n",
              "</table>\n",
              "</div>"
            ],
            "text/plain": [
              "                                           msno  ... isrc_year\n",
              "0  FGtllVqz18RPiwJj/edr2gV78zirAiY/9SmYvia+kCg=  ...      2016\n",
              "1  Xumu+NIjS6QYVxDS4/t3SawvJ7viT9hPKXmf0RtLNx8=  ...      1999\n",
              "2  Xumu+NIjS6QYVxDS4/t3SawvJ7viT9hPKXmf0RtLNx8=  ...      2006\n",
              "\n",
              "[3 rows x 23 columns]"
            ]
          },
          "metadata": {},
          "execution_count": 14
        }
      ]
    },
    {
      "cell_type": "markdown",
      "metadata": {
        "id": "ZVfEmj7G6ka-"
      },
      "source": [
        "Теперь преобразуем некоторые колонки категориальным значениям и заполнил пропуски. "
      ]
    },
    {
      "cell_type": "code",
      "metadata": {
        "id": "CCMNt-AL6ka_"
      },
      "source": [
        "train_dataset.to_category([\"msno\", \"song_id\"])\n",
        "train_dataset.fill_na_category([\"source_system_tab\", \"source_screen_name\", \"source_type\"])"
      ],
      "execution_count": 15,
      "outputs": []
    },
    {
      "cell_type": "code",
      "metadata": {
        "colab": {
          "base_uri": "https://localhost:8080/"
        },
        "id": "jtxtARhF6ka_",
        "outputId": "21dd35af-417c-4463-c12c-f1a9bd9927a7"
      },
      "source": [
        "train_dataset.pandas_df.info()"
      ],
      "execution_count": 16,
      "outputs": [
        {
          "output_type": "stream",
          "name": "stdout",
          "text": [
            "<class 'pandas.core.frame.DataFrame'>\n",
            "Int64Index: 7377418 entries, 0 to 7377417\n",
            "Data columns (total 23 columns):\n",
            " #   Column                  Dtype   \n",
            "---  ------                  -----   \n",
            " 0   msno                    category\n",
            " 1   song_id                 category\n",
            " 2   source_system_tab       category\n",
            " 3   source_screen_name      category\n",
            " 4   source_type             category\n",
            " 5   target                  uint8   \n",
            " 6   city                    category\n",
            " 7   gender                  category\n",
            " 8   registered_via          category\n",
            " 9   bd_category             category\n",
            " 10  registration_init_year  int64   \n",
            " 11  expiration_date_year    int64   \n",
            " 12  song_length             float64 \n",
            " 13  genre_ids               category\n",
            " 14  artist_name             category\n",
            " 15  composer                category\n",
            " 16  lyricist                category\n",
            " 17  language                category\n",
            " 18  genres_count            float64 \n",
            " 19  artist_name_count       float64 \n",
            " 20  composer_count          float64 \n",
            " 21  lyricists_count         float64 \n",
            " 22  isrc_year               category\n",
            "dtypes: category(15), float64(5), int64(2), uint8(1)\n",
            "memory usage: 705.7 MB\n"
          ]
        }
      ]
    },
    {
      "cell_type": "markdown",
      "metadata": {
        "id": "GXNFFDer6ka_"
      },
      "source": [
        "Все круто!"
      ]
    },
    {
      "cell_type": "code",
      "metadata": {
        "colab": {
          "base_uri": "https://localhost:8080/"
        },
        "id": "Jr-aNfBl6kbA",
        "outputId": "646719b8-ce00-464d-d972-e3b41f51f8a2"
      },
      "source": [
        "na_mask = train_dataset.pandas_df.isna().any(axis=1)\n",
        "print(f\"Количество записей, для которых не нашлось пользователя или песни: {sum(na_mask)}\")"
      ],
      "execution_count": 17,
      "outputs": [
        {
          "output_type": "stream",
          "name": "stdout",
          "text": [
            "Количество записей, для которых не нашлось пользователя или песни: 114\n"
          ]
        }
      ]
    },
    {
      "cell_type": "markdown",
      "metadata": {
        "id": "qlHIgmH06kbA"
      },
      "source": [
        "Их оказалось не так много, уберем из нашего набора данных."
      ]
    },
    {
      "cell_type": "code",
      "metadata": {
        "id": "yB_thHSh6kbA"
      },
      "source": [
        "train_dataset = train_dataset.remove_by_mask(na_mask)"
      ],
      "execution_count": 18,
      "outputs": []
    },
    {
      "cell_type": "markdown",
      "metadata": {
        "id": "nLwkhQft6kbB"
      },
      "source": [
        "Так как **CatBoost** на CPU обучается достаточно долго (больше часа), то было решено обучать на GPU. Однако GPU не поддерживает группы больше 1023, поэтому тренировочный набор данных был уменьшен. При этом, желательно сохранить порядок записей."
      ]
    },
    {
      "cell_type": "code",
      "metadata": {
        "id": "FYzYiVPA6kbB"
      },
      "source": [
        "train_dataset = train_dataset.reduce_by_members(size=1023)"
      ],
      "execution_count": 19,
      "outputs": []
    },
    {
      "cell_type": "code",
      "metadata": {
        "colab": {
          "base_uri": "https://localhost:8080/"
        },
        "id": "vhLZ_L7w6kbB",
        "outputId": "31842a5f-e89b-4255-ef76-3a0690145977"
      },
      "source": [
        "train_dataset.pandas_df.target.value_counts()"
      ],
      "execution_count": 20,
      "outputs": [
        {
          "output_type": "execute_result",
          "data": {
            "text/plain": [
              "1    3564182\n",
              "0    3451109\n",
              "Name: target, dtype: int64"
            ]
          },
          "metadata": {},
          "execution_count": 20
        }
      ]
    },
    {
      "cell_type": "markdown",
      "metadata": {
        "id": "-7TwGZBs6kbC"
      },
      "source": [
        "Соотношение классов осталось тем же, все хорошо. Изменение размеров: 7377304 -> 7015291"
      ]
    },
    {
      "cell_type": "markdown",
      "metadata": {
        "id": "n7-8HEIm6kbC"
      },
      "source": [
        "## Задание 1"
      ]
    },
    {
      "cell_type": "markdown",
      "metadata": {
        "id": "Jaet9xXf6kbD"
      },
      "source": [
        "Построить рекомендации для каждого пользователя, произвести оценку качества с помощью 5-fold CV с метриками NDCG, ROC AUC per user."
      ]
    },
    {
      "cell_type": "markdown",
      "metadata": {
        "id": "i16vIczQ6kbD"
      },
      "source": [
        "При разработке признаков я умеренно не стал брать признаки, полученные с помощью матричных факторизаций, чтобы потом добавить неклассические эмбеддинги, полученные в задании 2. "
      ]
    },
    {
      "cell_type": "markdown",
      "metadata": {
        "id": "sgFN6-Fm6kbD"
      },
      "source": [
        "Для **CatBoost** необоходимо, чтобы данные были упорядочены по **queries**, поэтому будем обучать модели на упорядоченных данных, но эмбеддинги составлять на основе натурального порядка. "
      ]
    },
    {
      "cell_type": "code",
      "metadata": {
        "colab": {
          "base_uri": "https://localhost:8080/",
          "height": 1000
        },
        "id": "LKOFG1_-6kbD",
        "outputId": "3690ca39-367f-43e3-fd0d-86ebdc979210"
      },
      "source": [
        "train_dataset_sorted = train_dataset.sort_by(\"msno\")\n",
        "model = CatBoostModel(\"YetiRank\", 150, \"GPU\", random_state)\n",
        "scores = model.cv_scores(train_dataset_sorted, n_splits=5)"
      ],
      "execution_count": 22,
      "outputs": [
        {
          "output_type": "stream",
          "name": "stdout",
          "text": [
            "Train dataset size: 5612232 | Test dataset size: 1403059\n",
            "Groupwise loss function. OneHotMaxSize set to 10\n"
          ]
        },
        {
          "output_type": "stream",
          "name": "stderr",
          "text": [
            "Metric PFound is not implemented on GPU. Will use CPU for metric computation, this could significantly affect learning time\n",
            "Metric PFound is not implemented on GPU. Will use CPU for metric computation, this could significantly affect learning time\n"
          ]
        },
        {
          "output_type": "stream",
          "name": "stdout",
          "text": [
            "0:\ttotal: 1.35s\tremaining: 3m 20s\n",
            "1:\ttotal: 2.54s\tremaining: 3m 8s\n",
            "2:\ttotal: 3.74s\tremaining: 3m 3s\n",
            "3:\ttotal: 4.93s\tremaining: 2m 59s\n",
            "4:\ttotal: 6.14s\tremaining: 2m 58s\n",
            "5:\ttotal: 7.33s\tremaining: 2m 56s\n",
            "6:\ttotal: 8.53s\tremaining: 2m 54s\n",
            "7:\ttotal: 9.72s\tremaining: 2m 52s\n",
            "8:\ttotal: 10.9s\tremaining: 2m 51s\n",
            "9:\ttotal: 12.1s\tremaining: 2m 49s\n",
            "10:\ttotal: 13.3s\tremaining: 2m 48s\n",
            "11:\ttotal: 14.5s\tremaining: 2m 47s\n",
            "12:\ttotal: 15.8s\tremaining: 2m 45s\n",
            "13:\ttotal: 17s\tremaining: 2m 44s\n",
            "14:\ttotal: 18.2s\tremaining: 2m 43s\n",
            "15:\ttotal: 19.4s\tremaining: 2m 42s\n",
            "16:\ttotal: 20.6s\tremaining: 2m 40s\n",
            "17:\ttotal: 21.8s\tremaining: 2m 39s\n",
            "18:\ttotal: 23s\tremaining: 2m 38s\n",
            "19:\ttotal: 24.2s\tremaining: 2m 37s\n",
            "20:\ttotal: 25.4s\tremaining: 2m 36s\n",
            "21:\ttotal: 26.6s\tremaining: 2m 34s\n",
            "22:\ttotal: 27.8s\tremaining: 2m 33s\n",
            "23:\ttotal: 29s\tremaining: 2m 32s\n",
            "24:\ttotal: 30.2s\tremaining: 2m 31s\n",
            "25:\ttotal: 31.4s\tremaining: 2m 29s\n",
            "26:\ttotal: 32.6s\tremaining: 2m 28s\n",
            "27:\ttotal: 33.8s\tremaining: 2m 27s\n",
            "28:\ttotal: 35s\tremaining: 2m 26s\n",
            "29:\ttotal: 36.2s\tremaining: 2m 24s\n",
            "30:\ttotal: 37.4s\tremaining: 2m 23s\n",
            "31:\ttotal: 38.6s\tremaining: 2m 22s\n",
            "32:\ttotal: 39.8s\tremaining: 2m 21s\n",
            "33:\ttotal: 41s\tremaining: 2m 20s\n",
            "34:\ttotal: 42.2s\tremaining: 2m 18s\n",
            "35:\ttotal: 43.4s\tremaining: 2m 17s\n",
            "36:\ttotal: 44.6s\tremaining: 2m 16s\n",
            "37:\ttotal: 45.8s\tremaining: 2m 15s\n",
            "38:\ttotal: 47s\tremaining: 2m 13s\n",
            "39:\ttotal: 48.2s\tremaining: 2m 12s\n",
            "40:\ttotal: 49.4s\tremaining: 2m 11s\n",
            "41:\ttotal: 50.7s\tremaining: 2m 10s\n",
            "42:\ttotal: 51.9s\tremaining: 2m 9s\n",
            "43:\ttotal: 53.1s\tremaining: 2m 7s\n",
            "44:\ttotal: 54.2s\tremaining: 2m 6s\n",
            "45:\ttotal: 55.5s\tremaining: 2m 5s\n",
            "46:\ttotal: 56.6s\tremaining: 2m 4s\n",
            "47:\ttotal: 57.9s\tremaining: 2m 2s\n",
            "48:\ttotal: 59.1s\tremaining: 2m 1s\n",
            "49:\ttotal: 1m\tremaining: 2m\n",
            "50:\ttotal: 1m 1s\tremaining: 1m 59s\n",
            "51:\ttotal: 1m 2s\tremaining: 1m 58s\n",
            "52:\ttotal: 1m 3s\tremaining: 1m 56s\n",
            "53:\ttotal: 1m 5s\tremaining: 1m 55s\n",
            "54:\ttotal: 1m 6s\tremaining: 1m 54s\n",
            "55:\ttotal: 1m 7s\tremaining: 1m 53s\n",
            "56:\ttotal: 1m 8s\tremaining: 1m 52s\n",
            "57:\ttotal: 1m 9s\tremaining: 1m 50s\n",
            "58:\ttotal: 1m 11s\tremaining: 1m 49s\n",
            "59:\ttotal: 1m 12s\tremaining: 1m 48s\n",
            "60:\ttotal: 1m 13s\tremaining: 1m 47s\n",
            "61:\ttotal: 1m 14s\tremaining: 1m 45s\n",
            "62:\ttotal: 1m 15s\tremaining: 1m 44s\n",
            "63:\ttotal: 1m 17s\tremaining: 1m 43s\n",
            "64:\ttotal: 1m 18s\tremaining: 1m 42s\n",
            "65:\ttotal: 1m 19s\tremaining: 1m 41s\n",
            "66:\ttotal: 1m 20s\tremaining: 1m 39s\n",
            "67:\ttotal: 1m 21s\tremaining: 1m 38s\n",
            "68:\ttotal: 1m 23s\tremaining: 1m 37s\n",
            "69:\ttotal: 1m 24s\tremaining: 1m 36s\n",
            "70:\ttotal: 1m 25s\tremaining: 1m 35s\n",
            "71:\ttotal: 1m 26s\tremaining: 1m 33s\n",
            "72:\ttotal: 1m 27s\tremaining: 1m 32s\n",
            "73:\ttotal: 1m 29s\tremaining: 1m 31s\n",
            "74:\ttotal: 1m 30s\tremaining: 1m 30s\n",
            "75:\ttotal: 1m 31s\tremaining: 1m 29s\n",
            "76:\ttotal: 1m 32s\tremaining: 1m 27s\n",
            "77:\ttotal: 1m 33s\tremaining: 1m 26s\n",
            "78:\ttotal: 1m 35s\tremaining: 1m 25s\n",
            "79:\ttotal: 1m 36s\tremaining: 1m 24s\n",
            "80:\ttotal: 1m 37s\tremaining: 1m 23s\n",
            "81:\ttotal: 1m 38s\tremaining: 1m 21s\n",
            "82:\ttotal: 1m 39s\tremaining: 1m 20s\n",
            "83:\ttotal: 1m 41s\tremaining: 1m 19s\n",
            "84:\ttotal: 1m 42s\tremaining: 1m 18s\n",
            "85:\ttotal: 1m 43s\tremaining: 1m 17s\n",
            "86:\ttotal: 1m 44s\tremaining: 1m 15s\n",
            "87:\ttotal: 1m 45s\tremaining: 1m 14s\n",
            "88:\ttotal: 1m 47s\tremaining: 1m 13s\n",
            "89:\ttotal: 1m 48s\tremaining: 1m 12s\n",
            "90:\ttotal: 1m 49s\tremaining: 1m 11s\n",
            "91:\ttotal: 1m 50s\tremaining: 1m 9s\n",
            "92:\ttotal: 1m 51s\tremaining: 1m 8s\n",
            "93:\ttotal: 1m 53s\tremaining: 1m 7s\n",
            "94:\ttotal: 1m 54s\tremaining: 1m 6s\n",
            "95:\ttotal: 1m 55s\tremaining: 1m 4s\n",
            "96:\ttotal: 1m 56s\tremaining: 1m 3s\n",
            "97:\ttotal: 1m 57s\tremaining: 1m 2s\n",
            "98:\ttotal: 1m 59s\tremaining: 1m 1s\n",
            "99:\ttotal: 2m\tremaining: 1m\n",
            "100:\ttotal: 2m 1s\tremaining: 59s\n",
            "101:\ttotal: 2m 2s\tremaining: 57.8s\n",
            "102:\ttotal: 2m 3s\tremaining: 56.6s\n",
            "103:\ttotal: 2m 5s\tremaining: 55.4s\n",
            "104:\ttotal: 2m 6s\tremaining: 54.2s\n",
            "105:\ttotal: 2m 7s\tremaining: 53s\n",
            "106:\ttotal: 2m 8s\tremaining: 51.7s\n",
            "107:\ttotal: 2m 9s\tremaining: 50.5s\n",
            "108:\ttotal: 2m 11s\tremaining: 49.3s\n",
            "109:\ttotal: 2m 12s\tremaining: 48.1s\n",
            "110:\ttotal: 2m 13s\tremaining: 46.9s\n",
            "111:\ttotal: 2m 14s\tremaining: 45.7s\n",
            "112:\ttotal: 2m 15s\tremaining: 44.5s\n",
            "113:\ttotal: 2m 17s\tremaining: 43.3s\n",
            "114:\ttotal: 2m 18s\tremaining: 42.1s\n",
            "115:\ttotal: 2m 19s\tremaining: 40.9s\n",
            "116:\ttotal: 2m 20s\tremaining: 39.7s\n",
            "117:\ttotal: 2m 21s\tremaining: 38.5s\n",
            "118:\ttotal: 2m 23s\tremaining: 37.3s\n",
            "119:\ttotal: 2m 24s\tremaining: 36.1s\n",
            "120:\ttotal: 2m 25s\tremaining: 34.9s\n",
            "121:\ttotal: 2m 26s\tremaining: 33.7s\n",
            "122:\ttotal: 2m 27s\tremaining: 32.5s\n",
            "123:\ttotal: 2m 29s\tremaining: 31.3s\n",
            "124:\ttotal: 2m 30s\tremaining: 30.1s\n",
            "125:\ttotal: 2m 31s\tremaining: 28.9s\n",
            "126:\ttotal: 2m 32s\tremaining: 27.7s\n",
            "127:\ttotal: 2m 33s\tremaining: 26.5s\n",
            "128:\ttotal: 2m 35s\tremaining: 25.3s\n",
            "129:\ttotal: 2m 36s\tremaining: 24.1s\n",
            "130:\ttotal: 2m 37s\tremaining: 22.9s\n",
            "131:\ttotal: 2m 38s\tremaining: 21.7s\n",
            "132:\ttotal: 2m 40s\tremaining: 20.5s\n",
            "133:\ttotal: 2m 41s\tremaining: 19.2s\n",
            "134:\ttotal: 2m 42s\tremaining: 18s\n",
            "135:\ttotal: 2m 43s\tremaining: 16.8s\n",
            "136:\ttotal: 2m 44s\tremaining: 15.6s\n",
            "137:\ttotal: 2m 46s\tremaining: 14.4s\n",
            "138:\ttotal: 2m 47s\tremaining: 13.2s\n",
            "139:\ttotal: 2m 48s\tremaining: 12s\n",
            "140:\ttotal: 2m 49s\tremaining: 10.8s\n",
            "141:\ttotal: 2m 50s\tremaining: 9.62s\n",
            "142:\ttotal: 2m 52s\tremaining: 8.42s\n",
            "143:\ttotal: 2m 53s\tremaining: 7.22s\n",
            "144:\ttotal: 2m 54s\tremaining: 6.01s\n",
            "145:\ttotal: 2m 55s\tremaining: 4.81s\n",
            "146:\ttotal: 2m 56s\tremaining: 3.61s\n",
            "147:\ttotal: 2m 58s\tremaining: 2.4s\n",
            "148:\ttotal: 2m 59s\tremaining: 1.2s\n",
            "149:\ttotal: 3m\tremaining: 0us\n"
          ]
        },
        {
          "output_type": "stream",
          "name": "stderr",
          "text": [
            "/content/recommendation-systems/hw2/metrics.py:12: RuntimeWarning: invalid value encountered in true_divide\n",
            "  return sum(relevance / np.log2(1 + np.arange(n_items)))\n",
            "/content/recommendation-systems/hw2/metrics.py:22: RuntimeWarning: invalid value encountered in true_divide\n",
            "  return sum(relevance / np.log2(1 + np.arange(n_items)))\n",
            "/content/recommendation-systems/hw2/metrics.py:12: RuntimeWarning: divide by zero encountered in true_divide\n",
            "  return sum(relevance / np.log2(1 + np.arange(n_items)))\n",
            "/content/recommendation-systems/hw2/metrics.py:22: RuntimeWarning: divide by zero encountered in true_divide\n",
            "  return sum(relevance / np.log2(1 + np.arange(n_items)))\n",
            "/content/recommendation-systems/hw2/metrics.py:35: RuntimeWarning: invalid value encountered in double_scalars\n",
            "  ndcgs.append(query_dcg / query_idcg)\n"
          ]
        },
        {
          "output_type": "error",
          "ename": "ValueError",
          "evalue": "ignored",
          "traceback": [
            "\u001b[0;31m---------------------------------------------------------------------------\u001b[0m",
            "\u001b[0;31mValueError\u001b[0m                                Traceback (most recent call last)",
            "\u001b[0;32m<ipython-input-22-8f87f62eeb17>\u001b[0m in \u001b[0;36m<module>\u001b[0;34m()\u001b[0m\n\u001b[1;32m      1\u001b[0m \u001b[0mtrain_dataset_sorted\u001b[0m \u001b[0;34m=\u001b[0m \u001b[0mtrain_dataset\u001b[0m\u001b[0;34m.\u001b[0m\u001b[0msort_by\u001b[0m\u001b[0;34m(\u001b[0m\u001b[0;34m\"msno\"\u001b[0m\u001b[0;34m)\u001b[0m\u001b[0;34m\u001b[0m\u001b[0;34m\u001b[0m\u001b[0m\n\u001b[1;32m      2\u001b[0m \u001b[0mmodel\u001b[0m \u001b[0;34m=\u001b[0m \u001b[0mCatBoostModel\u001b[0m\u001b[0;34m(\u001b[0m\u001b[0;34m\"YetiRank\"\u001b[0m\u001b[0;34m,\u001b[0m \u001b[0;36m150\u001b[0m\u001b[0;34m,\u001b[0m \u001b[0;34m\"GPU\"\u001b[0m\u001b[0;34m,\u001b[0m \u001b[0mrandom_state\u001b[0m\u001b[0;34m)\u001b[0m\u001b[0;34m\u001b[0m\u001b[0;34m\u001b[0m\u001b[0m\n\u001b[0;32m----> 3\u001b[0;31m \u001b[0mscores\u001b[0m \u001b[0;34m=\u001b[0m \u001b[0mmodel\u001b[0m\u001b[0;34m.\u001b[0m\u001b[0mcv_scores\u001b[0m\u001b[0;34m(\u001b[0m\u001b[0mtrain_dataset_sorted\u001b[0m\u001b[0;34m,\u001b[0m \u001b[0mn_splits\u001b[0m\u001b[0;34m=\u001b[0m\u001b[0;36m5\u001b[0m\u001b[0;34m)\u001b[0m\u001b[0;34m\u001b[0m\u001b[0;34m\u001b[0m\u001b[0m\n\u001b[0m",
            "\u001b[0;32m/content/recommendation-systems/hw2/models/base.py\u001b[0m in \u001b[0;36mcv_scores\u001b[0;34m(self, dataset, n_splits)\u001b[0m\n\u001b[1;32m     27\u001b[0m \u001b[0;34m\u001b[0m\u001b[0m\n\u001b[1;32m     28\u001b[0m             \u001b[0mmetrics\u001b[0m\u001b[0;34m[\u001b[0m\u001b[0;34m\"NDCG\"\u001b[0m\u001b[0;34m]\u001b[0m\u001b[0;34m.\u001b[0m\u001b[0mappend\u001b[0m\u001b[0;34m(\u001b[0m\u001b[0mndcg\u001b[0m\u001b[0;34m(\u001b[0m\u001b[0mtest_dataset\u001b[0m\u001b[0;34m.\u001b[0m\u001b[0mqueries\u001b[0m\u001b[0;34m,\u001b[0m \u001b[0mscores\u001b[0m\u001b[0;34m,\u001b[0m \u001b[0mtest_dataset\u001b[0m\u001b[0;34m.\u001b[0m\u001b[0mlabels\u001b[0m\u001b[0;34m)\u001b[0m\u001b[0;34m)\u001b[0m\u001b[0;34m\u001b[0m\u001b[0;34m\u001b[0m\u001b[0m\n\u001b[0;32m---> 29\u001b[0;31m             \u001b[0mmetrics\u001b[0m\u001b[0;34m[\u001b[0m\u001b[0;34m\"ROC_AUC\"\u001b[0m\u001b[0;34m]\u001b[0m\u001b[0;34m.\u001b[0m\u001b[0mappend\u001b[0m\u001b[0;34m(\u001b[0m\u001b[0mauc_per_query\u001b[0m\u001b[0;34m(\u001b[0m\u001b[0mtest_dataset\u001b[0m\u001b[0;34m.\u001b[0m\u001b[0mqueries\u001b[0m\u001b[0;34m,\u001b[0m \u001b[0mscores\u001b[0m\u001b[0;34m,\u001b[0m \u001b[0mtest_dataset\u001b[0m\u001b[0;34m.\u001b[0m\u001b[0mlabels\u001b[0m\u001b[0;34m)\u001b[0m\u001b[0;34m)\u001b[0m\u001b[0;34m\u001b[0m\u001b[0;34m\u001b[0m\u001b[0m\n\u001b[0m\u001b[1;32m     30\u001b[0m \u001b[0;34m\u001b[0m\u001b[0m\n\u001b[1;32m     31\u001b[0m             \u001b[0mprint\u001b[0m\u001b[0;34m(\u001b[0m\u001b[0;34mf\"NDCG: {metrics['NDCG'][-1]} | ROC AUC {metrics['ROC_AUC'][-1]}\"\u001b[0m\u001b[0;34m)\u001b[0m\u001b[0;34m\u001b[0m\u001b[0;34m\u001b[0m\u001b[0m\n",
            "\u001b[0;32m/content/recommendation-systems/hw2/metrics.py\u001b[0m in \u001b[0;36mauc_per_query\u001b[0;34m(queries, scores, relevance)\u001b[0m\n\u001b[1;32m     46\u001b[0m     \u001b[0;32mfor\u001b[0m \u001b[0mquery_label\u001b[0m \u001b[0;32min\u001b[0m \u001b[0mquery_labels\u001b[0m\u001b[0;34m:\u001b[0m\u001b[0;34m\u001b[0m\u001b[0;34m\u001b[0m\u001b[0m\n\u001b[1;32m     47\u001b[0m         \u001b[0mquery_mask\u001b[0m \u001b[0;34m=\u001b[0m \u001b[0mqueries\u001b[0m \u001b[0;34m==\u001b[0m \u001b[0mquery_label\u001b[0m\u001b[0;34m\u001b[0m\u001b[0;34m\u001b[0m\u001b[0m\n\u001b[0;32m---> 48\u001b[0;31m         \u001b[0mquery_auc\u001b[0m \u001b[0;34m=\u001b[0m \u001b[0mroc_auc_score\u001b[0m\u001b[0;34m(\u001b[0m\u001b[0mrelevance\u001b[0m\u001b[0;34m[\u001b[0m\u001b[0mquery_mask\u001b[0m\u001b[0;34m]\u001b[0m\u001b[0;34m,\u001b[0m \u001b[0mscores\u001b[0m\u001b[0;34m[\u001b[0m\u001b[0mquery_mask\u001b[0m\u001b[0;34m]\u001b[0m\u001b[0;34m)\u001b[0m\u001b[0;34m\u001b[0m\u001b[0;34m\u001b[0m\u001b[0m\n\u001b[0m\u001b[1;32m     49\u001b[0m         \u001b[0maucs\u001b[0m\u001b[0;34m.\u001b[0m\u001b[0mappend\u001b[0m\u001b[0;34m(\u001b[0m\u001b[0mquery_auc\u001b[0m\u001b[0;34m)\u001b[0m\u001b[0;34m\u001b[0m\u001b[0;34m\u001b[0m\u001b[0m\n\u001b[1;32m     50\u001b[0m \u001b[0;34m\u001b[0m\u001b[0m\n",
            "\u001b[0;32m/usr/local/lib/python3.7/dist-packages/sklearn/metrics/_ranking.py\u001b[0m in \u001b[0;36mroc_auc_score\u001b[0;34m(y_true, y_score, average, sample_weight, max_fpr, multi_class, labels)\u001b[0m\n\u001b[1;32m    570\u001b[0m             \u001b[0my_score\u001b[0m\u001b[0;34m,\u001b[0m\u001b[0;34m\u001b[0m\u001b[0;34m\u001b[0m\u001b[0m\n\u001b[1;32m    571\u001b[0m             \u001b[0maverage\u001b[0m\u001b[0;34m,\u001b[0m\u001b[0;34m\u001b[0m\u001b[0;34m\u001b[0m\u001b[0m\n\u001b[0;32m--> 572\u001b[0;31m             \u001b[0msample_weight\u001b[0m\u001b[0;34m=\u001b[0m\u001b[0msample_weight\u001b[0m\u001b[0;34m,\u001b[0m\u001b[0;34m\u001b[0m\u001b[0;34m\u001b[0m\u001b[0m\n\u001b[0m\u001b[1;32m    573\u001b[0m         )\n\u001b[1;32m    574\u001b[0m     \u001b[0;32melse\u001b[0m\u001b[0;34m:\u001b[0m  \u001b[0;31m# multilabel-indicator\u001b[0m\u001b[0;34m\u001b[0m\u001b[0;34m\u001b[0m\u001b[0m\n",
            "\u001b[0;32m/usr/local/lib/python3.7/dist-packages/sklearn/metrics/_base.py\u001b[0m in \u001b[0;36m_average_binary_score\u001b[0;34m(binary_metric, y_true, y_score, average, sample_weight)\u001b[0m\n\u001b[1;32m     73\u001b[0m \u001b[0;34m\u001b[0m\u001b[0m\n\u001b[1;32m     74\u001b[0m     \u001b[0;32mif\u001b[0m \u001b[0my_type\u001b[0m \u001b[0;34m==\u001b[0m \u001b[0;34m\"binary\"\u001b[0m\u001b[0;34m:\u001b[0m\u001b[0;34m\u001b[0m\u001b[0;34m\u001b[0m\u001b[0m\n\u001b[0;32m---> 75\u001b[0;31m         \u001b[0;32mreturn\u001b[0m \u001b[0mbinary_metric\u001b[0m\u001b[0;34m(\u001b[0m\u001b[0my_true\u001b[0m\u001b[0;34m,\u001b[0m \u001b[0my_score\u001b[0m\u001b[0;34m,\u001b[0m \u001b[0msample_weight\u001b[0m\u001b[0;34m=\u001b[0m\u001b[0msample_weight\u001b[0m\u001b[0;34m)\u001b[0m\u001b[0;34m\u001b[0m\u001b[0;34m\u001b[0m\u001b[0m\n\u001b[0m\u001b[1;32m     76\u001b[0m \u001b[0;34m\u001b[0m\u001b[0m\n\u001b[1;32m     77\u001b[0m     \u001b[0mcheck_consistent_length\u001b[0m\u001b[0;34m(\u001b[0m\u001b[0my_true\u001b[0m\u001b[0;34m,\u001b[0m \u001b[0my_score\u001b[0m\u001b[0;34m,\u001b[0m \u001b[0msample_weight\u001b[0m\u001b[0;34m)\u001b[0m\u001b[0;34m\u001b[0m\u001b[0;34m\u001b[0m\u001b[0m\n",
            "\u001b[0;32m/usr/local/lib/python3.7/dist-packages/sklearn/metrics/_ranking.py\u001b[0m in \u001b[0;36m_binary_roc_auc_score\u001b[0;34m(y_true, y_score, sample_weight, max_fpr)\u001b[0m\n\u001b[1;32m    336\u001b[0m     \u001b[0;32mif\u001b[0m \u001b[0mlen\u001b[0m\u001b[0;34m(\u001b[0m\u001b[0mnp\u001b[0m\u001b[0;34m.\u001b[0m\u001b[0munique\u001b[0m\u001b[0;34m(\u001b[0m\u001b[0my_true\u001b[0m\u001b[0;34m)\u001b[0m\u001b[0;34m)\u001b[0m \u001b[0;34m!=\u001b[0m \u001b[0;36m2\u001b[0m\u001b[0;34m:\u001b[0m\u001b[0;34m\u001b[0m\u001b[0;34m\u001b[0m\u001b[0m\n\u001b[1;32m    337\u001b[0m         raise ValueError(\n\u001b[0;32m--> 338\u001b[0;31m             \u001b[0;34m\"Only one class present in y_true. ROC AUC score \"\u001b[0m\u001b[0;34m\u001b[0m\u001b[0;34m\u001b[0m\u001b[0m\n\u001b[0m\u001b[1;32m    339\u001b[0m             \u001b[0;34m\"is not defined in that case.\"\u001b[0m\u001b[0;34m\u001b[0m\u001b[0;34m\u001b[0m\u001b[0m\n\u001b[1;32m    340\u001b[0m         )\n",
            "\u001b[0;31mValueError\u001b[0m: Only one class present in y_true. ROC AUC score is not defined in that case."
          ]
        }
      ]
    },
    {
      "cell_type": "markdown",
      "metadata": {
        "id": "yyUjsFx26kbE"
      },
      "source": [
        "## Задание 2"
      ]
    },
    {
      "cell_type": "markdown",
      "metadata": {
        "id": "EN85LqhE_1wO"
      },
      "source": [
        "Построить неклассические эмбеддинги и исследовать их полезность."
      ]
    },
    {
      "cell_type": "code",
      "metadata": {
        "id": "rdHSMVPJ6kbE"
      },
      "source": [
        "%%time\n",
        "embeddings = EmbeddingsBuilder(embedding_dim=100, random_state=random_state)\n",
        "embeddings = embeddings.fit(train_df)\n",
        "save_pickle(embeddings, \"embeddings.pkl\")"
      ],
      "execution_count": null,
      "outputs": []
    }
  ]
}