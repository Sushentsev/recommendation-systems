{
 "cells": [
  {
   "cell_type": "markdown",
   "metadata": {
    "collapsed": true,
    "id": "rH0QNh3k-6MR"
   },
   "source": [
    "# Music Recommendation"
   ]
  },
  {
   "cell_type": "code",
   "execution_count": 2,
   "metadata": {
    "id": "Mt8rnQO3woLl"
   },
   "outputs": [],
   "source": [
    "!pip install catboost==1.0.3\n",
    "!pip install gensim==4.1.0\n",
    "!pip install --upgrade numpy"
   ]
  },
  {
   "cell_type": "code",
   "execution_count": null,
   "metadata": {
    "id": "swIDHdhGVPPg"
   },
   "outputs": [],
   "source": [
    "%cd /content\n",
    "!wget https://voudy-data.s3.eu-north-1.amazonaws.com/wsdm_data.tar.gz\n",
    "!tar -xf /content/wsdm_data.tar.gz\n",
    "!mkdir data\n",
    "!mv -t data members.csv song_extra_info.csv songs.csv train.csv\n",
    "!git clone -b hw2 https://github.com/Sushentsev/recommendation-systems\n",
    "%cd recommendation-systems/\n",
    "!mv /content/data /content/recommendation-systems/hw2"
   ]
  },
  {
   "cell_type": "code",
   "execution_count": 3,
   "metadata": {
    "colab": {
     "base_uri": "https://localhost:8080/"
    },
    "id": "KhfFbHVHwpar",
    "outputId": "7a419bf0-32fe-49aa-adae-13714216c581"
   },
   "outputs": [
    {
     "name": "stdout",
     "output_type": "stream",
     "text": [
      "/content/recommendation-systems/hw2\n"
     ]
    }
   ],
   "source": [
    "%cd /content/recommendation-systems/hw2"
   ]
  },
  {
   "cell_type": "code",
   "execution_count": 30,
   "metadata": {
    "colab": {
     "base_uri": "https://localhost:8080/"
    },
    "id": "uRK3DiIk-6MT",
    "outputId": "87691831-39d7-4817-aad1-6edeeb7b4884"
   },
   "outputs": [
    {
     "name": "stdout",
     "output_type": "stream",
     "text": [
      "The autoreload extension is already loaded. To reload it, use:\n",
      "  %reload_ext autoreload\n"
     ]
    }
   ],
   "source": [
    "import sys\n",
    "sys.path.append(\"/content/recommendation-systems\")\n",
    "from load_data import *\n",
    "from plot import *\n",
    "from utils import *\n",
    "from models import *\n",
    "from embeddings import EmbeddingsBuilder\n",
    "from create_features.song_features import create_song_features\n",
    "from create_features.user_features import create_user_features\n",
    "from catboost import CatBoostRanker, Pool, cv\n",
    "from sklearn.metrics import roc_auc_score\n",
    "from sklearn.manifold import TSNE\n",
    "from sklearn.preprocessing import LabelEncoder\n",
    "from sklearn.model_selection import GroupKFold\n",
    "\n",
    "import pandas as pd\n",
    "import numpy as np\n",
    "import matplotlib.pyplot as plt\n",
    "\n",
    "%load_ext autoreload\n",
    "%autoreload 2"
   ]
  },
  {
   "cell_type": "markdown",
   "metadata": {
    "id": "vhdDvgEg-6MV"
   },
   "source": [
    "## Подготовка данных"
   ]
  },
  {
   "cell_type": "code",
   "execution_count": 5,
   "metadata": {
    "id": "yWlGLoFC-6MW"
   },
   "outputs": [],
   "source": [
    "random_state = 42\n",
    "data_dir = \"./data/\""
   ]
  },
  {
   "cell_type": "markdown",
   "metadata": {
    "id": "zYebg0-0Agri"
   },
   "source": [
    "Сделаем признаки для песен. "
   ]
  },
  {
   "cell_type": "code",
   "execution_count": 6,
   "metadata": {
    "colab": {
     "base_uri": "https://localhost:8080/"
    },
    "id": "5ky9q7xA-6MW",
    "outputId": "2b394d9c-f274-48bc-8315-0c0b488c6efc"
   },
   "outputs": [
    {
     "name": "stdout",
     "output_type": "stream",
     "text": [
      "CPU times: user 1min 2s, sys: 2.23 s, total: 1min 5s\n",
      "Wall time: 1min 4s\n"
     ]
    }
   ],
   "source": [
    "%%time\n",
    "song_features_df = create_song_features(data_dir)"
   ]
  },
  {
   "cell_type": "code",
   "execution_count": 7,
   "metadata": {
    "colab": {
     "base_uri": "https://localhost:8080/",
     "height": 264
    },
    "id": "7VBF2qnF-6MX",
    "outputId": "4457e3a8-8db0-401d-f323-e441888baa2c"
   },
   "outputs": [
    {
     "data": {
      "text/html": [
       "<div>\n",
       "<style scoped>\n",
       "    .dataframe tbody tr th:only-of-type {\n",
       "        vertical-align: middle;\n",
       "    }\n",
       "\n",
       "    .dataframe tbody tr th {\n",
       "        vertical-align: top;\n",
       "    }\n",
       "\n",
       "    .dataframe thead th {\n",
       "        text-align: right;\n",
       "    }\n",
       "</style>\n",
       "<table border=\"1\" class=\"dataframe\">\n",
       "  <thead>\n",
       "    <tr style=\"text-align: right;\">\n",
       "      <th></th>\n",
       "      <th>song_id</th>\n",
       "      <th>song_length</th>\n",
       "      <th>genre_ids</th>\n",
       "      <th>artist_name</th>\n",
       "      <th>composer</th>\n",
       "      <th>lyricist</th>\n",
       "      <th>language</th>\n",
       "      <th>artist_name_count</th>\n",
       "      <th>composer_count</th>\n",
       "      <th>lyricists_count</th>\n",
       "      <th>isrc_year</th>\n",
       "      <th>genres_count</th>\n",
       "    </tr>\n",
       "  </thead>\n",
       "  <tbody>\n",
       "    <tr>\n",
       "      <th>0</th>\n",
       "      <td>CXoTN1eb7AI+DntdU1vbcwGRV4SCIDxZu+YD8JP8r4E=</td>\n",
       "      <td>247640</td>\n",
       "      <td>465</td>\n",
       "      <td>張信哲 (Jeff Chang)</td>\n",
       "      <td>董貞</td>\n",
       "      <td>何啟弘</td>\n",
       "      <td>3.0</td>\n",
       "      <td>1</td>\n",
       "      <td>1</td>\n",
       "      <td>1</td>\n",
       "      <td>2014</td>\n",
       "      <td>1</td>\n",
       "    </tr>\n",
       "    <tr>\n",
       "      <th>1</th>\n",
       "      <td>o0kFgae9QtnYgRkVPqLJwa05zIhRlUjfF7O1tDw0ZDU=</td>\n",
       "      <td>197328</td>\n",
       "      <td>444</td>\n",
       "      <td>BLACKPINK</td>\n",
       "      <td>TEDDY|  FUTURE BOUNCE|  Bekuh BOOM</td>\n",
       "      <td>TEDDY</td>\n",
       "      <td>31.0</td>\n",
       "      <td>1</td>\n",
       "      <td>3</td>\n",
       "      <td>1</td>\n",
       "      <td>-1</td>\n",
       "      <td>1</td>\n",
       "    </tr>\n",
       "    <tr>\n",
       "      <th>2</th>\n",
       "      <td>DwVvVurfpuz+XPuFvucclVQEyPqcpUkHR0ne1RQzPs0=</td>\n",
       "      <td>231781</td>\n",
       "      <td>465</td>\n",
       "      <td>SUPER JUNIOR</td>\n",
       "      <td>&lt;UNK&gt;</td>\n",
       "      <td>&lt;UNK&gt;</td>\n",
       "      <td>31.0</td>\n",
       "      <td>1</td>\n",
       "      <td>0</td>\n",
       "      <td>0</td>\n",
       "      <td>-1</td>\n",
       "      <td>0</td>\n",
       "    </tr>\n",
       "  </tbody>\n",
       "</table>\n",
       "</div>"
      ],
      "text/plain": [
       "                                        song_id  ...  genres_count\n",
       "0  CXoTN1eb7AI+DntdU1vbcwGRV4SCIDxZu+YD8JP8r4E=  ...             1\n",
       "1  o0kFgae9QtnYgRkVPqLJwa05zIhRlUjfF7O1tDw0ZDU=  ...             1\n",
       "2  DwVvVurfpuz+XPuFvucclVQEyPqcpUkHR0ne1RQzPs0=  ...             0\n",
       "\n",
       "[3 rows x 12 columns]"
      ]
     },
     "execution_count": 7,
     "metadata": {},
     "output_type": "execute_result"
    }
   ],
   "source": [
    "song_features_df.head(3)"
   ]
  },
  {
   "cell_type": "markdown",
   "metadata": {
    "id": "1xM7LRZhAneB"
   },
   "source": [
    "Сделаем признаки для пользователей. "
   ]
  },
  {
   "cell_type": "code",
   "execution_count": 8,
   "metadata": {
    "colab": {
     "base_uri": "https://localhost:8080/"
    },
    "id": "E-2h41Z--6MX",
    "outputId": "b1b94c33-2432-4d54-82f7-8469d3370b1a"
   },
   "outputs": [
    {
     "name": "stdout",
     "output_type": "stream",
     "text": [
      "CPU times: user 460 ms, sys: 4.05 ms, total: 464 ms\n",
      "Wall time: 465 ms\n"
     ]
    }
   ],
   "source": [
    "%%time\n",
    "user_features_df = create_user_features(data_dir)"
   ]
  },
  {
   "cell_type": "code",
   "execution_count": 9,
   "metadata": {
    "colab": {
     "base_uri": "https://localhost:8080/",
     "height": 142
    },
    "id": "AEfHWhA0-6MY",
    "outputId": "22879072-6c65-49c7-f39a-4ed67e28ce1d"
   },
   "outputs": [
    {
     "data": {
      "text/html": [
       "<div>\n",
       "<style scoped>\n",
       "    .dataframe tbody tr th:only-of-type {\n",
       "        vertical-align: middle;\n",
       "    }\n",
       "\n",
       "    .dataframe tbody tr th {\n",
       "        vertical-align: top;\n",
       "    }\n",
       "\n",
       "    .dataframe thead th {\n",
       "        text-align: right;\n",
       "    }\n",
       "</style>\n",
       "<table border=\"1\" class=\"dataframe\">\n",
       "  <thead>\n",
       "    <tr style=\"text-align: right;\">\n",
       "      <th></th>\n",
       "      <th>msno</th>\n",
       "      <th>city</th>\n",
       "      <th>gender</th>\n",
       "      <th>registered_via</th>\n",
       "      <th>bd_category</th>\n",
       "      <th>registration_init_year</th>\n",
       "      <th>expiration_date_year</th>\n",
       "    </tr>\n",
       "  </thead>\n",
       "  <tbody>\n",
       "    <tr>\n",
       "      <th>0</th>\n",
       "      <td>XQxgAYj3klVKjR3oxPPXYYFp4soD4TuBghkhMTD4oTw=</td>\n",
       "      <td>1</td>\n",
       "      <td>&lt;UNK&gt;</td>\n",
       "      <td>7</td>\n",
       "      <td>&lt;UNK&gt;</td>\n",
       "      <td>2011</td>\n",
       "      <td>2017</td>\n",
       "    </tr>\n",
       "    <tr>\n",
       "      <th>1</th>\n",
       "      <td>UizsfmJb9mV54qE9hCYyU07Va97c0lCRLEQX3ae+ztM=</td>\n",
       "      <td>1</td>\n",
       "      <td>&lt;UNK&gt;</td>\n",
       "      <td>7</td>\n",
       "      <td>&lt;UNK&gt;</td>\n",
       "      <td>2015</td>\n",
       "      <td>2017</td>\n",
       "    </tr>\n",
       "    <tr>\n",
       "      <th>2</th>\n",
       "      <td>D8nEhsIOBSoE6VthTaqDX8U6lqjJ7dLdr72mOyLya2A=</td>\n",
       "      <td>1</td>\n",
       "      <td>&lt;UNK&gt;</td>\n",
       "      <td>4</td>\n",
       "      <td>&lt;UNK&gt;</td>\n",
       "      <td>2016</td>\n",
       "      <td>2017</td>\n",
       "    </tr>\n",
       "  </tbody>\n",
       "</table>\n",
       "</div>"
      ],
      "text/plain": [
       "                                           msno  ... expiration_date_year\n",
       "0  XQxgAYj3klVKjR3oxPPXYYFp4soD4TuBghkhMTD4oTw=  ...                 2017\n",
       "1  UizsfmJb9mV54qE9hCYyU07Va97c0lCRLEQX3ae+ztM=  ...                 2017\n",
       "2  D8nEhsIOBSoE6VthTaqDX8U6lqjJ7dLdr72mOyLya2A=  ...                 2017\n",
       "\n",
       "[3 rows x 7 columns]"
      ]
     },
     "execution_count": 9,
     "metadata": {},
     "output_type": "execute_result"
    }
   ],
   "source": [
    "user_features_df.head(3)"
   ]
  },
  {
   "cell_type": "markdown",
   "metadata": {
    "id": "RT9DCGVbArzq"
   },
   "source": [
    "Загрузим тренировочную выборку и добавим существующие признаки. "
   ]
  },
  {
   "cell_type": "code",
   "execution_count": 10,
   "metadata": {
    "colab": {
     "base_uri": "https://localhost:8080/",
     "height": 142
    },
    "id": "bCx4VGAl-6MZ",
    "outputId": "96476c92-0e0e-4f54-84b5-ee6eb47884a6",
    "scrolled": true
   },
   "outputs": [
    {
     "data": {
      "text/html": [
       "<div>\n",
       "<style scoped>\n",
       "    .dataframe tbody tr th:only-of-type {\n",
       "        vertical-align: middle;\n",
       "    }\n",
       "\n",
       "    .dataframe tbody tr th {\n",
       "        vertical-align: top;\n",
       "    }\n",
       "\n",
       "    .dataframe thead th {\n",
       "        text-align: right;\n",
       "    }\n",
       "</style>\n",
       "<table border=\"1\" class=\"dataframe\">\n",
       "  <thead>\n",
       "    <tr style=\"text-align: right;\">\n",
       "      <th></th>\n",
       "      <th>msno</th>\n",
       "      <th>song_id</th>\n",
       "      <th>source_system_tab</th>\n",
       "      <th>source_screen_name</th>\n",
       "      <th>source_type</th>\n",
       "      <th>target</th>\n",
       "    </tr>\n",
       "  </thead>\n",
       "  <tbody>\n",
       "    <tr>\n",
       "      <th>0</th>\n",
       "      <td>FGtllVqz18RPiwJj/edr2gV78zirAiY/9SmYvia+kCg=</td>\n",
       "      <td>BBzumQNXUHKdEBOB7mAJuzok+IJA1c2Ryg/yzTF6tik=</td>\n",
       "      <td>explore</td>\n",
       "      <td>Explore</td>\n",
       "      <td>online-playlist</td>\n",
       "      <td>1</td>\n",
       "    </tr>\n",
       "    <tr>\n",
       "      <th>1</th>\n",
       "      <td>Xumu+NIjS6QYVxDS4/t3SawvJ7viT9hPKXmf0RtLNx8=</td>\n",
       "      <td>bhp/MpSNoqoxOIB+/l8WPqu6jldth4DIpCm3ayXnJqM=</td>\n",
       "      <td>my library</td>\n",
       "      <td>Local playlist more</td>\n",
       "      <td>local-playlist</td>\n",
       "      <td>1</td>\n",
       "    </tr>\n",
       "    <tr>\n",
       "      <th>2</th>\n",
       "      <td>Xumu+NIjS6QYVxDS4/t3SawvJ7viT9hPKXmf0RtLNx8=</td>\n",
       "      <td>JNWfrrC7zNN7BdMpsISKa4Mw+xVJYNnxXh3/Epw7QgY=</td>\n",
       "      <td>my library</td>\n",
       "      <td>Local playlist more</td>\n",
       "      <td>local-playlist</td>\n",
       "      <td>1</td>\n",
       "    </tr>\n",
       "  </tbody>\n",
       "</table>\n",
       "</div>"
      ],
      "text/plain": [
       "                                           msno  ... target\n",
       "0  FGtllVqz18RPiwJj/edr2gV78zirAiY/9SmYvia+kCg=  ...      1\n",
       "1  Xumu+NIjS6QYVxDS4/t3SawvJ7viT9hPKXmf0RtLNx8=  ...      1\n",
       "2  Xumu+NIjS6QYVxDS4/t3SawvJ7viT9hPKXmf0RtLNx8=  ...      1\n",
       "\n",
       "[3 rows x 6 columns]"
      ]
     },
     "execution_count": 10,
     "metadata": {},
     "output_type": "execute_result"
    }
   ],
   "source": [
    "train_df = load_train(data_dir + \"train.csv\")\n",
    "train_df.head(3)"
   ]
  },
  {
   "cell_type": "code",
   "execution_count": 11,
   "metadata": {
    "colab": {
     "base_uri": "https://localhost:8080/",
     "height": 315
    },
    "id": "pxJ8s_Ki-6MZ",
    "outputId": "763da3de-d0ee-4e34-b462-7cd4f6b97d13"
   },
   "outputs": [
    {
     "data": {
      "text/html": [
       "<div>\n",
       "<style scoped>\n",
       "    .dataframe tbody tr th:only-of-type {\n",
       "        vertical-align: middle;\n",
       "    }\n",
       "\n",
       "    .dataframe tbody tr th {\n",
       "        vertical-align: top;\n",
       "    }\n",
       "\n",
       "    .dataframe thead th {\n",
       "        text-align: right;\n",
       "    }\n",
       "</style>\n",
       "<table border=\"1\" class=\"dataframe\">\n",
       "  <thead>\n",
       "    <tr style=\"text-align: right;\">\n",
       "      <th></th>\n",
       "      <th>msno</th>\n",
       "      <th>song_id</th>\n",
       "      <th>source_system_tab</th>\n",
       "      <th>source_screen_name</th>\n",
       "      <th>source_type</th>\n",
       "      <th>target</th>\n",
       "      <th>song_length</th>\n",
       "      <th>genre_ids</th>\n",
       "      <th>artist_name</th>\n",
       "      <th>composer</th>\n",
       "      <th>lyricist</th>\n",
       "      <th>language</th>\n",
       "      <th>artist_name_count</th>\n",
       "      <th>composer_count</th>\n",
       "      <th>lyricists_count</th>\n",
       "      <th>isrc_year</th>\n",
       "      <th>genres_count</th>\n",
       "      <th>city</th>\n",
       "      <th>gender</th>\n",
       "      <th>registered_via</th>\n",
       "      <th>bd_category</th>\n",
       "      <th>registration_init_year</th>\n",
       "      <th>expiration_date_year</th>\n",
       "    </tr>\n",
       "  </thead>\n",
       "  <tbody>\n",
       "    <tr>\n",
       "      <th>0</th>\n",
       "      <td>FGtllVqz18RPiwJj/edr2gV78zirAiY/9SmYvia+kCg=</td>\n",
       "      <td>BBzumQNXUHKdEBOB7mAJuzok+IJA1c2Ryg/yzTF6tik=</td>\n",
       "      <td>explore</td>\n",
       "      <td>Explore</td>\n",
       "      <td>online-playlist</td>\n",
       "      <td>1</td>\n",
       "      <td>206471.0</td>\n",
       "      <td>359</td>\n",
       "      <td>Bastille</td>\n",
       "      <td>Dan Smith| Mark Crew</td>\n",
       "      <td>&lt;UNK&gt;</td>\n",
       "      <td>52.0</td>\n",
       "      <td>1.0</td>\n",
       "      <td>2.0</td>\n",
       "      <td>0.0</td>\n",
       "      <td>2016</td>\n",
       "      <td>0.0</td>\n",
       "      <td>1</td>\n",
       "      <td>&lt;UNK&gt;</td>\n",
       "      <td>7</td>\n",
       "      <td>&lt;UNK&gt;</td>\n",
       "      <td>2012</td>\n",
       "      <td>2017</td>\n",
       "    </tr>\n",
       "    <tr>\n",
       "      <th>1</th>\n",
       "      <td>Xumu+NIjS6QYVxDS4/t3SawvJ7viT9hPKXmf0RtLNx8=</td>\n",
       "      <td>bhp/MpSNoqoxOIB+/l8WPqu6jldth4DIpCm3ayXnJqM=</td>\n",
       "      <td>my library</td>\n",
       "      <td>Local playlist more</td>\n",
       "      <td>local-playlist</td>\n",
       "      <td>1</td>\n",
       "      <td>284584.0</td>\n",
       "      <td>1259</td>\n",
       "      <td>Various Artists</td>\n",
       "      <td>&lt;UNK&gt;</td>\n",
       "      <td>&lt;UNK&gt;</td>\n",
       "      <td>52.0</td>\n",
       "      <td>1.0</td>\n",
       "      <td>0.0</td>\n",
       "      <td>0.0</td>\n",
       "      <td>1999</td>\n",
       "      <td>0.0</td>\n",
       "      <td>13</td>\n",
       "      <td>female</td>\n",
       "      <td>9</td>\n",
       "      <td>young</td>\n",
       "      <td>2011</td>\n",
       "      <td>2017</td>\n",
       "    </tr>\n",
       "    <tr>\n",
       "      <th>2</th>\n",
       "      <td>Xumu+NIjS6QYVxDS4/t3SawvJ7viT9hPKXmf0RtLNx8=</td>\n",
       "      <td>JNWfrrC7zNN7BdMpsISKa4Mw+xVJYNnxXh3/Epw7QgY=</td>\n",
       "      <td>my library</td>\n",
       "      <td>Local playlist more</td>\n",
       "      <td>local-playlist</td>\n",
       "      <td>1</td>\n",
       "      <td>225396.0</td>\n",
       "      <td>1259</td>\n",
       "      <td>Nas</td>\n",
       "      <td>N. Jones、W. Adams、J. Lordan、D. Ingle</td>\n",
       "      <td>&lt;UNK&gt;</td>\n",
       "      <td>52.0</td>\n",
       "      <td>1.0</td>\n",
       "      <td>1.0</td>\n",
       "      <td>0.0</td>\n",
       "      <td>2006</td>\n",
       "      <td>0.0</td>\n",
       "      <td>13</td>\n",
       "      <td>female</td>\n",
       "      <td>9</td>\n",
       "      <td>young</td>\n",
       "      <td>2011</td>\n",
       "      <td>2017</td>\n",
       "    </tr>\n",
       "  </tbody>\n",
       "</table>\n",
       "</div>"
      ],
      "text/plain": [
       "                                           msno  ... expiration_date_year\n",
       "0  FGtllVqz18RPiwJj/edr2gV78zirAiY/9SmYvia+kCg=  ...                 2017\n",
       "1  Xumu+NIjS6QYVxDS4/t3SawvJ7viT9hPKXmf0RtLNx8=  ...                 2017\n",
       "2  Xumu+NIjS6QYVxDS4/t3SawvJ7viT9hPKXmf0RtLNx8=  ...                 2017\n",
       "\n",
       "[3 rows x 23 columns]"
      ]
     },
     "execution_count": 11,
     "metadata": {},
     "output_type": "execute_result"
    }
   ],
   "source": [
    "train_df = train_df.merge(song_features_df, on=\"song_id\", how=\"left\")\n",
    "train_df = train_df.merge(user_features_df, on=\"msno\", how=\"left\")\n",
    "train_df.head(3)"
   ]
  },
  {
   "cell_type": "code",
   "execution_count": 12,
   "metadata": {
    "id": "qMDBLZIe-6Ma"
   },
   "outputs": [],
   "source": [
    "train_df.source_system_tab = train_df.source_system_tab.cat.add_categories(\"<UNK>\").fillna(value=\"<UNK>\")\n",
    "train_df.source_screen_name = train_df.source_screen_name.cat.add_categories(\"<UNK>\").fillna(value=\"<UNK>\")\n",
    "train_df.source_type = train_df.source_type.cat.add_categories(\"<UNK>\").fillna(value=\"<UNK>\")\n",
    "\n",
    "train_df.msno = train_df.msno.astype(\"category\")\n",
    "train_df.song_id = train_df.song_id.astype(\"category\")"
   ]
  },
  {
   "cell_type": "code",
   "execution_count": 13,
   "metadata": {
    "colab": {
     "base_uri": "https://localhost:8080/"
    },
    "id": "f2ckgYA3-6Ma",
    "outputId": "5abfbbea-1392-4dfd-8906-ad8cfd102088"
   },
   "outputs": [
    {
     "name": "stdout",
     "output_type": "stream",
     "text": [
      "<class 'pandas.core.frame.DataFrame'>\n",
      "Int64Index: 7377418 entries, 0 to 7377417\n",
      "Data columns (total 23 columns):\n",
      " #   Column                  Dtype   \n",
      "---  ------                  -----   \n",
      " 0   msno                    category\n",
      " 1   song_id                 category\n",
      " 2   source_system_tab       category\n",
      " 3   source_screen_name      category\n",
      " 4   source_type             category\n",
      " 5   target                  uint8   \n",
      " 6   song_length             float64 \n",
      " 7   genre_ids               category\n",
      " 8   artist_name             category\n",
      " 9   composer                category\n",
      " 10  lyricist                category\n",
      " 11  language                category\n",
      " 12  artist_name_count       float64 \n",
      " 13  composer_count          float64 \n",
      " 14  lyricists_count         float64 \n",
      " 15  isrc_year               category\n",
      " 16  genres_count            float64 \n",
      " 17  city                    category\n",
      " 18  gender                  category\n",
      " 19  registered_via          category\n",
      " 20  bd_category             category\n",
      " 21  registration_init_year  int64   \n",
      " 22  expiration_date_year    int64   \n",
      "dtypes: category(15), float64(5), int64(2), uint8(1)\n",
      "memory usage: 705.7 MB\n"
     ]
    }
   ],
   "source": [
    "train_df.info()"
   ]
  },
  {
   "cell_type": "code",
   "execution_count": 14,
   "metadata": {
    "colab": {
     "base_uri": "https://localhost:8080/"
    },
    "id": "mKXbVJpq-6Mb",
    "outputId": "d2a956fd-854d-4200-b1f8-c18b8f115fd2"
   },
   "outputs": [
    {
     "name": "stdout",
     "output_type": "stream",
     "text": [
      "Количество записей, для которых не нашлось пользователя или песни: 114\n"
     ]
    }
   ],
   "source": [
    "na_mask = train_df.isna().any(axis=1)\n",
    "print(f\"Количество записей, для которых не нашлось пользователя или песни: {sum(na_mask)}\")"
   ]
  },
  {
   "cell_type": "markdown",
   "metadata": {
    "id": "tjjVn8hX-6Mb"
   },
   "source": [
    "Их оказалось не так много, уберем из нашего набора данных. "
   ]
  },
  {
   "cell_type": "code",
   "execution_count": 15,
   "metadata": {
    "id": "VXcmADSW-6Mc"
   },
   "outputs": [],
   "source": [
    "train_df = train_df[~na_mask]"
   ]
  },
  {
   "cell_type": "markdown",
   "metadata": {
    "id": "NT-nI92sAzO5"
   },
   "source": [
    "Так как **CatBoost** на CPU обучается достаточно долго (больше часа), то было решено обучать на GPU. Однако GPU не поддерживает группы больше 1023, поэтому тренировочный набор данных был уменьшен. При этом, желательно сохранить порядок записей."
   ]
  },
  {
   "cell_type": "code",
   "execution_count": 16,
   "metadata": {
    "colab": {
     "base_uri": "https://localhost:8080/"
    },
    "id": "o94wq8zPBK81",
    "outputId": "b09414e7-a3c7-4580-9768-1739e4867626"
   },
   "outputs": [
    {
     "data": {
      "text/plain": [
       "1    3564182\n",
       "0    3451109\n",
       "Name: target, dtype: int64"
      ]
     },
     "execution_count": 16,
     "metadata": {},
     "output_type": "execute_result"
    }
   ],
   "source": [
    "train_reduced_df = train_df.groupby(\"msno\").head(1023).reset_index(drop=True)\n",
    "train_reduced_df.target.value_counts()"
   ]
  },
  {
   "cell_type": "markdown",
   "metadata": {
    "id": "xv0jUot5JAvx"
   },
   "source": [
    "По крайней мере получили равномерное распределение по целевой переменной, будем считать, что это ок ;)"
   ]
  },
  {
   "cell_type": "markdown",
   "metadata": {
    "id": "ww_gKnpo-6Mc"
   },
   "source": [
    "## Задание 1"
   ]
  },
  {
   "cell_type": "markdown",
   "metadata": {
    "id": "Hr67UR4S-6Mc"
   },
   "source": [
    "Построить рекомендации для каждого пользователя, произвести оценку качества с помощью 5-fold CV с метриками NDCG, ROC AUC."
   ]
  },
  {
   "cell_type": "markdown",
   "metadata": {
    "id": "cbp3QrqK-6Md"
   },
   "source": [
    "При разработке признаков я умеренно не стал брать признаки, полученные с помощью матричных факторизаций, чтобы потом добавить неклассические эмбеддинги, полученные в задании 2. "
   ]
  },
  {
   "cell_type": "markdown",
   "metadata": {
    "id": "oIC-tHlb-6Md"
   },
   "source": [
    "В качестве модели машинного обучения я решил использовать **CatBoost**, так как она хорошо работает с категориальными признаками. "
   ]
  },
  {
   "cell_type": "code",
   "execution_count": 37,
   "metadata": {
    "id": "mme2hDWN-6Md"
   },
   "outputs": [],
   "source": [
    "cat_columns = train_reduced_df.select_dtypes(include=[\"category\"]).columns.to_numpy()\n",
    "data = train_reduced_df.sort_values(by=\"msno\")"
   ]
  },
  {
   "cell_type": "code",
   "execution_count": 28,
   "metadata": {
    "id": "WRtkcTnek_uM"
   },
   "outputs": [],
   "source": [
    "params = {\n",
    "    \"loss_function\": \"YetiRank\", \n",
    "    \"iterations\": 150, \n",
    "    \"custom_metric\": [\"NDCG\", \"QueryAUC:type=Ranking\"], \n",
    "    \"random_seed\": random_state, \n",
    "    \"metric_period\": 10,\n",
    "    \"task_type\": \"GPU\"\n",
    "}"
   ]
  },
  {
   "cell_type": "code",
   "execution_count": 30,
   "metadata": {
    "colab": {
     "base_uri": "https://localhost:8080/",
     "height": 0
    },
    "id": "TMDZcvVBlAbo",
    "outputId": "53351d6c-f4fa-44d2-cff9-c5fc1abbb2a2"
   },
   "outputs": [
    {
     "name": "stdout",
     "output_type": "stream",
     "text": [
      "Groupwise loss function. OneHotMaxSize set to 10\n"
     ]
    },
    {
     "name": "stderr",
     "output_type": "stream",
     "text": [
      "Metric PFound is not implemented on GPU. Will use CPU for metric computation, this could significantly affect learning time\n",
      "Metric PFound is not implemented on GPU. Will use CPU for metric computation, this could significantly affect learning time\n",
      "Metric NDCG:type=Base is not implemented on GPU. Will use CPU for metric computation, this could significantly affect learning time\n",
      "Metric QueryAUC:type=Ranking is not implemented on GPU. Will use CPU for metric computation, this could significantly affect learning time\n"
     ]
    },
    {
     "name": "stdout",
     "output_type": "stream",
     "text": [
      "0:\ttest: 0.5618024\tbest: 0.5618024 (0)\ttotal: 2.02s\tremaining: 5m\n",
      "10:\ttest: 0.6339235\tbest: 0.6339235 (10)\ttotal: 14.8s\tremaining: 3m 6s\n",
      "20:\ttest: 0.7376157\tbest: 0.7376157 (20)\ttotal: 27.6s\tremaining: 2m 49s\n",
      "30:\ttest: 0.7404175\tbest: 0.7404175 (30)\ttotal: 40.4s\tremaining: 2m 35s\n",
      "40:\ttest: 0.7409741\tbest: 0.7409741 (40)\ttotal: 53.3s\tremaining: 2m 21s\n",
      "50:\ttest: 0.7409731\tbest: 0.7409741 (40)\ttotal: 1m 6s\tremaining: 2m 8s\n",
      "60:\ttest: 0.7424382\tbest: 0.7424382 (60)\ttotal: 1m 18s\tremaining: 1m 55s\n",
      "70:\ttest: 0.7462509\tbest: 0.7462509 (70)\ttotal: 1m 31s\tremaining: 1m 42s\n",
      "80:\ttest: 0.7471724\tbest: 0.7471724 (80)\ttotal: 1m 44s\tremaining: 1m 29s\n",
      "90:\ttest: 0.7581773\tbest: 0.7581773 (90)\ttotal: 1m 57s\tremaining: 1m 16s\n",
      "100:\ttest: 0.7583847\tbest: 0.7583847 (100)\ttotal: 2m 10s\tremaining: 1m 3s\n",
      "110:\ttest: 0.7591868\tbest: 0.7591868 (110)\ttotal: 2m 23s\tremaining: 50.4s\n",
      "120:\ttest: 0.7617622\tbest: 0.7617622 (120)\ttotal: 2m 36s\tremaining: 37.5s\n",
      "130:\ttest: 0.7615449\tbest: 0.7617622 (120)\ttotal: 2m 49s\tremaining: 24.6s\n",
      "140:\ttest: 0.7683485\tbest: 0.7683485 (140)\ttotal: 3m 2s\tremaining: 11.6s\n",
      "149:\ttest: 0.7763570\tbest: 0.7763570 (149)\ttotal: 3m 13s\tremaining: 0us\n",
      "bestTest = 0.7763569819\n",
      "bestIteration = 149\n",
      "Groupwise loss function. OneHotMaxSize set to 10\n"
     ]
    },
    {
     "name": "stderr",
     "output_type": "stream",
     "text": [
      "Metric PFound is not implemented on GPU. Will use CPU for metric computation, this could significantly affect learning time\n",
      "Metric PFound is not implemented on GPU. Will use CPU for metric computation, this could significantly affect learning time\n",
      "Metric NDCG:type=Base is not implemented on GPU. Will use CPU for metric computation, this could significantly affect learning time\n",
      "Metric QueryAUC:type=Ranking is not implemented on GPU. Will use CPU for metric computation, this could significantly affect learning time\n"
     ]
    },
    {
     "name": "stdout",
     "output_type": "stream",
     "text": [
      "0:\ttest: 0.6142657\tbest: 0.6142657 (0)\ttotal: 2.02s\tremaining: 5m 1s\n",
      "10:\ttest: 0.6500847\tbest: 0.6500847 (10)\ttotal: 14.7s\tremaining: 3m 6s\n",
      "20:\ttest: 0.6508341\tbest: 0.6508341 (20)\ttotal: 27.5s\tremaining: 2m 48s\n",
      "30:\ttest: 0.7118984\tbest: 0.7118984 (30)\ttotal: 40.2s\tremaining: 2m 34s\n",
      "40:\ttest: 0.7121956\tbest: 0.7121956 (40)\ttotal: 53s\tremaining: 2m 20s\n",
      "50:\ttest: 0.7129219\tbest: 0.7129219 (50)\ttotal: 1m 5s\tremaining: 2m 7s\n",
      "60:\ttest: 0.7165660\tbest: 0.7165660 (60)\ttotal: 1m 18s\tremaining: 1m 54s\n",
      "70:\ttest: 0.7188705\tbest: 0.7188705 (70)\ttotal: 1m 31s\tremaining: 1m 41s\n",
      "80:\ttest: 0.7493500\tbest: 0.7493500 (80)\ttotal: 1m 44s\tremaining: 1m 28s\n",
      "90:\ttest: 0.7513771\tbest: 0.7513771 (90)\ttotal: 1m 57s\tremaining: 1m 15s\n",
      "100:\ttest: 0.7508930\tbest: 0.7513771 (90)\ttotal: 2m 9s\tremaining: 1m 3s\n",
      "110:\ttest: 0.7509688\tbest: 0.7513771 (90)\ttotal: 2m 22s\tremaining: 50.2s\n",
      "120:\ttest: 0.7690536\tbest: 0.7690536 (120)\ttotal: 2m 35s\tremaining: 37.3s\n",
      "130:\ttest: 0.7709274\tbest: 0.7709274 (130)\ttotal: 2m 48s\tremaining: 24.4s\n",
      "140:\ttest: 0.7738659\tbest: 0.7738659 (140)\ttotal: 3m 1s\tremaining: 11.6s\n",
      "149:\ttest: 0.7756977\tbest: 0.7756977 (149)\ttotal: 3m 12s\tremaining: 0us\n",
      "bestTest = 0.7756976602\n",
      "bestIteration = 149\n",
      "Groupwise loss function. OneHotMaxSize set to 10\n"
     ]
    },
    {
     "name": "stderr",
     "output_type": "stream",
     "text": [
      "Metric PFound is not implemented on GPU. Will use CPU for metric computation, this could significantly affect learning time\n",
      "Metric PFound is not implemented on GPU. Will use CPU for metric computation, this could significantly affect learning time\n",
      "Metric NDCG:type=Base is not implemented on GPU. Will use CPU for metric computation, this could significantly affect learning time\n",
      "Metric QueryAUC:type=Ranking is not implemented on GPU. Will use CPU for metric computation, this could significantly affect learning time\n"
     ]
    },
    {
     "name": "stdout",
     "output_type": "stream",
     "text": [
      "0:\ttest: 0.6336347\tbest: 0.6336347 (0)\ttotal: 2s\tremaining: 4m 58s\n",
      "10:\ttest: 0.6661573\tbest: 0.6661573 (10)\ttotal: 14.7s\tremaining: 3m 6s\n",
      "20:\ttest: 0.6664079\tbest: 0.6664079 (20)\ttotal: 27.5s\tremaining: 2m 48s\n",
      "30:\ttest: 0.6708405\tbest: 0.6708405 (30)\ttotal: 40.2s\tremaining: 2m 34s\n",
      "40:\ttest: 0.7292888\tbest: 0.7292888 (40)\ttotal: 53s\tremaining: 2m 20s\n",
      "50:\ttest: 0.7297467\tbest: 0.7297467 (50)\ttotal: 1m 5s\tremaining: 2m 7s\n",
      "60:\ttest: 0.7300793\tbest: 0.7300793 (60)\ttotal: 1m 18s\tremaining: 1m 54s\n",
      "70:\ttest: 0.7297417\tbest: 0.7300793 (60)\ttotal: 1m 31s\tremaining: 1m 41s\n",
      "80:\ttest: 0.7511253\tbest: 0.7511253 (80)\ttotal: 1m 44s\tremaining: 1m 28s\n",
      "90:\ttest: 0.7543886\tbest: 0.7543886 (90)\ttotal: 1m 57s\tremaining: 1m 15s\n",
      "100:\ttest: 0.7540817\tbest: 0.7543886 (90)\ttotal: 2m 9s\tremaining: 1m 3s\n",
      "110:\ttest: 0.7705828\tbest: 0.7705828 (110)\ttotal: 2m 22s\tremaining: 50.2s\n",
      "120:\ttest: 0.7711934\tbest: 0.7711934 (120)\ttotal: 2m 35s\tremaining: 37.3s\n",
      "130:\ttest: 0.7734734\tbest: 0.7734734 (130)\ttotal: 2m 48s\tremaining: 24.4s\n",
      "140:\ttest: 0.7739117\tbest: 0.7739117 (140)\ttotal: 3m 1s\tremaining: 11.6s\n",
      "149:\ttest: 0.7747739\tbest: 0.7747739 (149)\ttotal: 3m 12s\tremaining: 0us\n",
      "bestTest = 0.7747739407\n",
      "bestIteration = 149\n",
      "Groupwise loss function. OneHotMaxSize set to 10\n"
     ]
    },
    {
     "name": "stderr",
     "output_type": "stream",
     "text": [
      "Metric PFound is not implemented on GPU. Will use CPU for metric computation, this could significantly affect learning time\n",
      "Metric PFound is not implemented on GPU. Will use CPU for metric computation, this could significantly affect learning time\n",
      "Metric NDCG:type=Base is not implemented on GPU. Will use CPU for metric computation, this could significantly affect learning time\n",
      "Metric QueryAUC:type=Ranking is not implemented on GPU. Will use CPU for metric computation, this could significantly affect learning time\n"
     ]
    },
    {
     "name": "stdout",
     "output_type": "stream",
     "text": [
      "0:\ttest: 0.6452793\tbest: 0.6452793 (0)\ttotal: 1.99s\tremaining: 4m 57s\n",
      "10:\ttest: 0.6689070\tbest: 0.6689070 (10)\ttotal: 14.8s\tremaining: 3m 6s\n",
      "20:\ttest: 0.6692909\tbest: 0.6692909 (20)\ttotal: 27.5s\tremaining: 2m 49s\n",
      "30:\ttest: 0.7243135\tbest: 0.7243135 (30)\ttotal: 40.4s\tremaining: 2m 34s\n",
      "40:\ttest: 0.7241160\tbest: 0.7243135 (30)\ttotal: 53.2s\tremaining: 2m 21s\n",
      "50:\ttest: 0.7240036\tbest: 0.7243135 (30)\ttotal: 1m 6s\tremaining: 2m 8s\n",
      "60:\ttest: 0.7247612\tbest: 0.7247612 (60)\ttotal: 1m 18s\tremaining: 1m 55s\n",
      "70:\ttest: 0.7252607\tbest: 0.7252607 (70)\ttotal: 1m 31s\tremaining: 1m 42s\n",
      "80:\ttest: 0.7263252\tbest: 0.7263252 (80)\ttotal: 1m 44s\tremaining: 1m 29s\n",
      "90:\ttest: 0.7347117\tbest: 0.7347117 (90)\ttotal: 1m 57s\tremaining: 1m 16s\n",
      "100:\ttest: 0.7343139\tbest: 0.7347117 (90)\ttotal: 2m 10s\tremaining: 1m 3s\n",
      "110:\ttest: 0.7519142\tbest: 0.7519142 (110)\ttotal: 2m 23s\tremaining: 50.3s\n",
      "120:\ttest: 0.7534374\tbest: 0.7534374 (120)\ttotal: 2m 36s\tremaining: 37.4s\n",
      "130:\ttest: 0.7677018\tbest: 0.7677018 (130)\ttotal: 2m 49s\tremaining: 24.5s\n",
      "140:\ttest: 0.7688156\tbest: 0.7688156 (140)\ttotal: 3m 1s\tremaining: 11.6s\n",
      "149:\ttest: 0.7697824\tbest: 0.7697824 (149)\ttotal: 3m 13s\tremaining: 0us\n",
      "bestTest = 0.7697823711\n",
      "bestIteration = 149\n",
      "Groupwise loss function. OneHotMaxSize set to 10\n"
     ]
    },
    {
     "name": "stderr",
     "output_type": "stream",
     "text": [
      "Metric PFound is not implemented on GPU. Will use CPU for metric computation, this could significantly affect learning time\n",
      "Metric PFound is not implemented on GPU. Will use CPU for metric computation, this could significantly affect learning time\n",
      "Metric NDCG:type=Base is not implemented on GPU. Will use CPU for metric computation, this could significantly affect learning time\n",
      "Metric QueryAUC:type=Ranking is not implemented on GPU. Will use CPU for metric computation, this could significantly affect learning time\n"
     ]
    },
    {
     "name": "stdout",
     "output_type": "stream",
     "text": [
      "0:\ttest: 0.6200022\tbest: 0.6200022 (0)\ttotal: 2.04s\tremaining: 5m 3s\n",
      "10:\ttest: 0.6618695\tbest: 0.6618695 (10)\ttotal: 14.9s\tremaining: 3m 7s\n",
      "20:\ttest: 0.6623503\tbest: 0.6623503 (20)\ttotal: 27.7s\tremaining: 2m 50s\n",
      "30:\ttest: 0.7207179\tbest: 0.7207179 (30)\ttotal: 40.6s\tremaining: 2m 35s\n",
      "40:\ttest: 0.7222481\tbest: 0.7222481 (40)\ttotal: 53.4s\tremaining: 2m 21s\n",
      "50:\ttest: 0.7223659\tbest: 0.7223659 (50)\ttotal: 1m 6s\tremaining: 2m 8s\n",
      "60:\ttest: 0.7232085\tbest: 0.7232085 (60)\ttotal: 1m 19s\tremaining: 1m 55s\n",
      "70:\ttest: 0.7272198\tbest: 0.7272198 (70)\ttotal: 1m 31s\tremaining: 1m 42s\n",
      "80:\ttest: 0.7520644\tbest: 0.7520644 (80)\ttotal: 1m 44s\tremaining: 1m 29s\n",
      "90:\ttest: 0.7519532\tbest: 0.7520644 (80)\ttotal: 1m 57s\tremaining: 1m 16s\n",
      "100:\ttest: 0.7530338\tbest: 0.7530338 (100)\ttotal: 2m 10s\tremaining: 1m 3s\n",
      "110:\ttest: 0.7656076\tbest: 0.7656076 (110)\ttotal: 2m 23s\tremaining: 50.5s\n",
      "120:\ttest: 0.7653928\tbest: 0.7656076 (110)\ttotal: 2m 36s\tremaining: 37.6s\n",
      "130:\ttest: 0.7657673\tbest: 0.7657673 (130)\ttotal: 2m 49s\tremaining: 24.6s\n",
      "140:\ttest: 0.7682614\tbest: 0.7682614 (140)\ttotal: 3m 2s\tremaining: 11.7s\n",
      "149:\ttest: 0.7750120\tbest: 0.7750120 (149)\ttotal: 3m 14s\tremaining: 0us\n",
      "bestTest = 0.7750119624\n",
      "bestIteration = 149\n"
     ]
    }
   ],
   "source": [
    "group_kfold = GroupKFold(n_splits=5)\n",
    "\n",
    "X = data.drop(\"target\", axis=1)\n",
    "y = data.target.to_numpy()\n",
    "groups = data.msno.cat.codes.to_numpy()\n",
    "\n",
    "scores = []\n",
    "for train_index, test_index in group_kfold.split(X, y, groups):\n",
    "    X_train, X_test = X.iloc[train_index], X.iloc[test_index]\n",
    "    y_train, y_test = y[train_index], y[test_index]\n",
    "    groups_train, groups_test = groups[train_index], groups[test_index]\n",
    "\n",
    "    train_pool = Pool(data=X_train, label=y_train, group_id=groups_train, \n",
    "                      cat_features=cat_columns, has_header=True)\n",
    "    test_pool = Pool(data=X_test, label=y_test, group_id=groups_test, \n",
    "                     cat_features=cat_columns, has_header=True)\n",
    "    \n",
    "    model = CatBoostRanker(**params)\n",
    "    model.fit(train_pool, eval_set=test_pool)\n",
    "    scores.append(model.get_evals_result())"
   ]
  },
  {
   "cell_type": "code",
   "execution_count": 50,
   "metadata": {
    "colab": {
     "base_uri": "https://localhost:8080/",
     "height": 458
    },
    "id": "63Pk8Wvhm73-",
    "outputId": "ffab89b7-234a-4ec8-e9cc-d2bc41e3fdb0"
   },
   "outputs": [
    {
     "data": {
      "image/png": "[encoded data removed]",
      "text/plain": [
       "<Figure size 720x504 with 1 Axes>"
      ]
     },
     "metadata": {
      "needs_background": "light"
     },
     "output_type": "display_data"
    }
   ],
   "source": [
    "plot_scores(scores, \"QueryAUC:type=Ranking\", \"QueryAUC\")"
   ]
  },
  {
   "cell_type": "code",
   "execution_count": 53,
   "metadata": {
    "colab": {
     "base_uri": "https://localhost:8080/",
     "height": 458
    },
    "id": "IxiEIHGtm7s-",
    "outputId": "6fc6b4e0-dc5c-4e77-8239-4f49868fe030"
   },
   "outputs": [
    {
     "data": {
      "image/png": "[encoded data removed]",
      "text/plain": [
       "<Figure size 720x504 with 1 Axes>"
      ]
     },
     "metadata": {
      "needs_background": "light"
     },
     "output_type": "display_data"
    }
   ],
   "source": [
    "plot_scores(scores, \"NDCG:type=Base\", \"NDCG\")"
   ]
  },
  {
   "cell_type": "markdown",
   "metadata": {
    "id": "tterFHja-6Mf"
   },
   "source": [
    "## Задание 2"
   ]
  },
  {
   "cell_type": "markdown",
   "metadata": {
    "id": "c0SQ_WgX-6Mf"
   },
   "source": [
    "Построить неклассические эмбеддинги и исследовать их полезность. "
   ]
  },
  {
   "cell_type": "code",
   "execution_count": null,
   "metadata": {
    "id": "R4AfjwfL-6Mf"
   },
   "outputs": [],
   "source": [
    "%%time\n",
    "embeddings = EmbeddingsBuilder(embedding_dim=100, random_state=random_state)\n",
    "embeddings = embeddings.fit(train_df)\n",
    "save_pickle(embeddings, \"embeddings.pkl\")"
   ]
  },
  {
   "cell_type": "code",
   "execution_count": 20,
   "metadata": {
    "id": "4Thm64B1pojT"
   },
   "outputs": [],
   "source": [
    "embeddings = load_pickle(\"embeddings.pkl\")"
   ]
  },
  {
   "cell_type": "markdown",
   "metadata": {
    "id": "CAoRColY-6Mg"
   },
   "source": [
    "Посмотрим на похожие песни и пользователей, визуализировав их с помощью PCA."
   ]
  },
  {
   "cell_type": "markdown",
   "metadata": {
    "id": "9iak9O7UpqS3"
   },
   "source": [
    "Посмотрим на похожие песни и пользователей, визуализировав их с помощью PCA. Будем называть песни похожими, если они принадлежат к одному жанру."
   ]
  },
  {
   "cell_type": "code",
   "execution_count": 21,
   "metadata": {
    "colab": {
     "base_uri": "https://localhost:8080/",
     "height": 235
    },
    "id": "VPCUeD_Q-6Mg",
    "outputId": "92dfd8f3-d3ba-4930-e3f4-62ed54619dd6"
   },
   "outputs": [
    {
     "data": {
      "text/html": [
       "<div>\n",
       "<style scoped>\n",
       "    .dataframe tbody tr th:only-of-type {\n",
       "        vertical-align: middle;\n",
       "    }\n",
       "\n",
       "    .dataframe tbody tr th {\n",
       "        vertical-align: top;\n",
       "    }\n",
       "\n",
       "    .dataframe thead th {\n",
       "        text-align: right;\n",
       "    }\n",
       "</style>\n",
       "<table border=\"1\" class=\"dataframe\">\n",
       "  <thead>\n",
       "    <tr style=\"text-align: right;\">\n",
       "      <th></th>\n",
       "      <th>song_id</th>\n",
       "      <th>song_length</th>\n",
       "      <th>artist_name</th>\n",
       "      <th>composer</th>\n",
       "      <th>lyricist</th>\n",
       "      <th>language</th>\n",
       "      <th>artist_name_count</th>\n",
       "      <th>composer_count</th>\n",
       "      <th>lyricists_count</th>\n",
       "      <th>isrc_year</th>\n",
       "      <th>genres_count</th>\n",
       "    </tr>\n",
       "    <tr>\n",
       "      <th>genre_ids</th>\n",
       "      <th></th>\n",
       "      <th></th>\n",
       "      <th></th>\n",
       "      <th></th>\n",
       "      <th></th>\n",
       "      <th></th>\n",
       "      <th></th>\n",
       "      <th></th>\n",
       "      <th></th>\n",
       "      <th></th>\n",
       "      <th></th>\n",
       "    </tr>\n",
       "  </thead>\n",
       "  <tbody>\n",
       "    <tr>\n",
       "      <th>465</th>\n",
       "      <td>567911</td>\n",
       "      <td>567911</td>\n",
       "      <td>567911</td>\n",
       "      <td>567911</td>\n",
       "      <td>567911</td>\n",
       "      <td>567911</td>\n",
       "      <td>567911</td>\n",
       "      <td>567911</td>\n",
       "      <td>567911</td>\n",
       "      <td>567911</td>\n",
       "      <td>567911</td>\n",
       "    </tr>\n",
       "    <tr>\n",
       "      <th>958</th>\n",
       "      <td>176349</td>\n",
       "      <td>176349</td>\n",
       "      <td>176349</td>\n",
       "      <td>176349</td>\n",
       "      <td>176349</td>\n",
       "      <td>176349</td>\n",
       "      <td>176349</td>\n",
       "      <td>176349</td>\n",
       "      <td>176349</td>\n",
       "      <td>176349</td>\n",
       "      <td>176349</td>\n",
       "    </tr>\n",
       "    <tr>\n",
       "      <th>2022</th>\n",
       "      <td>168870</td>\n",
       "      <td>168870</td>\n",
       "      <td>168870</td>\n",
       "      <td>168870</td>\n",
       "      <td>168870</td>\n",
       "      <td>168870</td>\n",
       "      <td>168870</td>\n",
       "      <td>168870</td>\n",
       "      <td>168870</td>\n",
       "      <td>168870</td>\n",
       "      <td>168870</td>\n",
       "    </tr>\n",
       "    <tr>\n",
       "      <th>1609</th>\n",
       "      <td>166457</td>\n",
       "      <td>166457</td>\n",
       "      <td>166457</td>\n",
       "      <td>166457</td>\n",
       "      <td>166457</td>\n",
       "      <td>166457</td>\n",
       "      <td>166457</td>\n",
       "      <td>166457</td>\n",
       "      <td>166457</td>\n",
       "      <td>166457</td>\n",
       "      <td>166457</td>\n",
       "    </tr>\n",
       "    <tr>\n",
       "      <th>2122</th>\n",
       "      <td>139938</td>\n",
       "      <td>139938</td>\n",
       "      <td>139938</td>\n",
       "      <td>139938</td>\n",
       "      <td>139938</td>\n",
       "      <td>139938</td>\n",
       "      <td>139938</td>\n",
       "      <td>139938</td>\n",
       "      <td>139938</td>\n",
       "      <td>139938</td>\n",
       "      <td>139938</td>\n",
       "    </tr>\n",
       "  </tbody>\n",
       "</table>\n",
       "</div>"
      ],
      "text/plain": [
       "           song_id  song_length  ...  isrc_year  genres_count\n",
       "genre_ids                        ...                         \n",
       "465         567911       567911  ...     567911        567911\n",
       "958         176349       176349  ...     176349        176349\n",
       "2022        168870       168870  ...     168870        168870\n",
       "1609        166457       166457  ...     166457        166457\n",
       "2122        139938       139938  ...     139938        139938\n",
       "\n",
       "[5 rows x 11 columns]"
      ]
     },
     "execution_count": 21,
     "metadata": {},
     "output_type": "execute_result"
    }
   ],
   "source": [
    "song_features_df.groupby([\"genre_ids\"]).count().sort_values(by=\"song_id\", ascending=False).head()"
   ]
  },
  {
   "cell_type": "code",
   "execution_count": 22,
   "metadata": {
    "id": "uZzHtPPd-6Mg"
   },
   "outputs": [],
   "source": [
    "genres_ids = [\"958\", \"2022\", \"1609\", \"2122\"]\n",
    "sim_songs_df = song_features_df[song_features_df.genre_ids.isin(genres_ids)]\n",
    "\n",
    "songs = sim_songs_df.song_id.to_numpy()\n",
    "genres = sim_songs_df.genre_ids.to_numpy()\n",
    "has_embedding = np.array([embeddings.has_item(song) for song in songs])\n",
    "\n",
    "songs = songs[has_embedding]\n",
    "genres = genres[has_embedding]"
   ]
  },
  {
   "cell_type": "code",
   "execution_count": 23,
   "metadata": {
    "colab": {
     "base_uri": "https://localhost:8080/",
     "height": 460
    },
    "id": "hie2cKbl-6Mg",
    "outputId": "5007e41f-85d3-4aba-f9eb-a9d9ab538cdf"
   },
   "outputs": [
    {
     "data": {
      "image/png": "[encoded data removed]",
      "text/plain": [
       "<Figure size 720x504 with 1 Axes>"
      ]
     },
     "metadata": {
      "needs_background": "light"
     },
     "output_type": "display_data"
    }
   ],
   "source": [
    "plot_similar(embeddings.get_item_embeddings(songs), genres, \"Item embeddings\")"
   ]
  },
  {
   "cell_type": "markdown",
   "metadata": {
    "id": "yyp2hpzrpwGK"
   },
   "source": [
    "Можно видеть, что есть небольшие группы."
   ]
  },
  {
   "cell_type": "markdown",
   "metadata": {
    "id": "PRKsfayNBDyT"
   },
   "source": [
    "Теперь измерим качество получившейся модели."
   ]
  },
  {
   "cell_type": "code",
   "execution_count": 32,
   "metadata": {
    "id": "ywk4eHrmpxYi"
   },
   "outputs": [],
   "source": [
    "emb_model = EmbeddingBasedModel(embeddings)"
   ]
  },
  {
   "cell_type": "code",
   "execution_count": 41,
   "metadata": {
    "colab": {
     "base_uri": "https://localhost:8080/"
    },
    "id": "TJGr84T5ATp4",
    "outputId": "070ef041-0fff-439c-ddb3-9ad9e18b0dda"
   },
   "outputs": [
    {
     "name": "stdout",
     "output_type": "stream",
     "text": [
      "[ 2.00331032e+01  0.00000000e+00  2.03408247e+01  0.00000000e+00\n",
      "  3.12886511e+00  5.55073476e+00  1.37800889e+01  5.56097448e+00\n",
      "  9.06846121e+00  1.11468761e+00  1.34749653e+01  1.29029731e+01\n",
      "  1.42353814e+01  8.98532351e-01  1.75961534e+01  1.66149396e+00\n",
      "  1.54158577e+01  1.32337233e+01  1.26306980e+01  1.25804993e+01\n",
      "  1.57936671e+01  3.90761379e-01  6.09017948e+00  4.24178920e+00\n",
      "  2.40089474e+00  1.61734843e+01  1.78694498e+01  4.85760825e-01\n",
      "  1.63760627e-01  0.00000000e+00  1.07574768e+00  1.04875270e+00\n",
      "  2.22724591e+01  1.90969431e+01  0.00000000e+00  4.00092856e+00\n",
      "  1.36322788e+01  9.05081960e+00  1.59488800e+01  9.07652623e+00\n",
      "  6.78822195e+00  2.25054449e+00  1.64759248e+01  8.25694049e+00\n",
      "  0.00000000e+00  1.24347984e+01  9.75708561e-01  1.39099402e+01\n",
      "  1.97290205e+01  1.79136326e+01  1.98359068e+01  1.33548408e+01\n",
      "  1.95369219e+01  1.62572442e+01  1.14544254e+00  2.98654965e-01\n",
      "  1.39710559e+01  1.84404403e+01  1.26635333e+00  1.17209232e+01\n",
      "  1.14292997e+01  1.53941016e+01  1.46052526e+01  2.34741262e+01\n",
      "  2.12172132e+01  1.32102194e+01  1.31125974e+01  4.48699517e+00\n",
      "  3.46213706e-01  4.13906111e-01  1.31580840e+00  1.68715758e+01\n",
      "  1.80981929e+01  0.00000000e+00  0.00000000e+00  1.94460687e+01\n",
      "  1.40162094e+00  1.33079595e+01  0.00000000e+00  0.00000000e+00\n",
      "  1.50877131e+01  2.32763015e+01  1.78640351e+01  1.70492976e+01\n",
      "  1.42357091e+01  8.17133044e+00  0.00000000e+00  8.93493693e+00\n",
      "  1.08208109e+00  1.18306492e+00  7.03038824e+00  1.74413490e+01\n",
      "  1.68585877e+01  1.40025735e+01  0.00000000e+00  1.47320813e+01\n",
      "  1.70872090e+01  0.00000000e+00  1.41720509e+01  1.08719674e+00\n",
      "  9.80820300e+00  1.33711538e+01  1.15028009e+01  1.35859111e+01\n",
      "  8.55320577e+00  0.00000000e+00  1.00322017e+01  1.18704194e+00\n",
      "  1.86130671e+01  4.26839685e-01  0.00000000e+00 -5.84296992e-02\n",
      "  7.63196525e-01  6.77307495e-01  1.88012382e+01  4.04667392e-01\n",
      "  5.14168396e-01  2.05912977e+01  7.61909502e-01  0.00000000e+00\n",
      "  6.77576867e+00  1.39916736e+01  1.26554671e+01  1.19941210e+01\n",
      "  1.29180155e+01  1.89392495e+01  3.62340311e+00  3.24718858e+00\n",
      "  1.59226606e+01  0.00000000e+00  8.43725365e+00  1.76192423e+00\n",
      "  1.95067172e-01  2.16755593e+01  1.51571060e+01  1.53014353e+01\n",
      "  1.07167243e+01  7.80864682e+00  1.21167256e+01  1.93535759e+01\n",
      "  6.36679420e+00  1.43570973e+01  1.24775311e+01  1.22085122e+01\n",
      "  8.41642865e-01  1.85742434e+01  2.15139181e+01  1.92896744e+01\n",
      "  1.84865076e+01  1.14381406e+01  1.56505773e+01  1.52317970e+01\n",
      "  2.46922145e-01  1.99271460e+01  1.26548868e+01  1.22154935e+01\n",
      "  1.73659121e+01  1.90005747e+01  8.50172148e+00  2.12199820e+01\n",
      "  1.03853434e+01  1.51448942e+01  1.72201479e+01  1.72530180e+01\n",
      "  1.04686474e+01  2.05201413e+01  1.65559113e+01  1.91751473e+01\n",
      "  1.57526708e+01  2.07481389e+01  2.23987386e+01  1.85943348e-01\n",
      "  9.62024333e-01  1.64989749e+01  8.77197839e+00  3.58460662e+00\n",
      "  1.43694988e+00  9.55523804e+00  9.39045105e+00  1.92281825e+00\n",
      "  1.97245303e+01  9.40125467e+00  2.07640952e+01 -5.24125685e+00\n",
      "  1.77592354e+01  1.64311899e+01  1.16430271e+01 -4.07999262e-01\n",
      "  1.16230140e+00  8.31716465e+00  1.99512174e+01  1.73217782e+01\n",
      "  1.21044494e-01  0.00000000e+00  1.35130370e+01  1.16830647e+01\n",
      "  1.77021766e+01  1.26515788e+01  0.00000000e+00  0.00000000e+00\n",
      "  1.35773088e+01  0.00000000e+00  0.00000000e+00  3.00531459e+00\n",
      "  1.23174710e+01  5.06209287e+00  1.14884757e+00  1.52690171e+01\n",
      "  0.00000000e+00  0.00000000e+00  8.34125431e+00  1.08870065e+01\n",
      "  1.84689006e+01  1.23071516e+01  0.00000000e+00  0.00000000e+00\n",
      "  2.55232793e+00  1.07705602e+01  3.31556501e-01  9.57245519e-01\n",
      "  9.31054950e-01  1.06639484e+01  1.79794687e+01  1.24640945e+00\n",
      "  1.35657111e+00  6.18182639e-01  1.92883233e+00  0.00000000e+00\n",
      "  2.91473571e+00  0.00000000e+00  0.00000000e+00  7.41058068e-01\n",
      "  1.58493791e+01  1.46449962e+01  2.13622432e+00  4.96526529e-01\n",
      "  1.29986537e+01  1.30728712e+01  0.00000000e+00  1.57596189e+01\n",
      " -2.10169868e-01  1.44145264e+01  6.88112100e+00  4.82195363e+00\n",
      "  1.10028407e+00  0.00000000e+00  0.00000000e+00 -1.05270917e+00\n",
      "  5.57583729e+00  0.00000000e+00  0.00000000e+00  1.28720051e+01\n",
      "  1.06660611e+01  0.00000000e+00  0.00000000e+00  0.00000000e+00\n",
      " -2.39984825e-01  0.00000000e+00  0.00000000e+00  8.97359704e-01\n",
      "  8.03385713e+00  1.21886789e+01  5.74635708e+00  4.57439485e+00\n",
      "  1.53615448e+01  1.96329233e+01  0.00000000e+00  4.78813664e+00\n",
      "  1.26417584e+00  1.44075788e+01  0.00000000e+00  0.00000000e+00\n",
      "  5.62702091e+00  1.25397573e+01  0.00000000e+00  0.00000000e+00\n",
      "  0.00000000e+00  6.23013562e-01  0.00000000e+00  0.00000000e+00\n",
      "  0.00000000e+00  1.54644293e+01  7.57286757e+00  7.07889455e+00\n",
      "  2.38623803e-01  3.75777588e+00  2.25708218e+01 -2.79666193e+00\n",
      "  3.16023488e-01  3.77979436e-01  1.40352669e+01  1.72999433e+01\n",
      "  1.43902056e+01  1.35533475e+01  5.57802747e+00  2.11520258e+00\n",
      "  1.44010441e+00  5.11029289e-01  8.92821384e-01  8.23859267e+00\n",
      "  1.51633227e+01  8.59695202e+00  6.75596701e+00  1.27339467e+01\n",
      "  1.23342039e+01  2.14236441e+00  0.00000000e+00  2.07716408e+00\n",
      "  5.63416247e+00  1.01069683e+00  6.97815458e+00  8.22100648e-01\n",
      "  1.59031051e+01  1.40855780e+01  1.83722523e+01  5.71814753e+00\n",
      "  1.82077270e+01  2.17106685e+01  4.86802635e+00  4.48311604e+00\n",
      "  1.05029530e+01  1.59436494e+00  3.18816841e+00  1.65798713e+01\n",
      "  6.12373925e+00  6.73117500e-01  2.87980743e+00  7.49298869e-01\n",
      "  8.82455538e-01  1.11369928e+00  3.07708927e+00  0.00000000e+00\n",
      "  1.32560910e+01  4.63303155e-01  1.36764607e+00  4.19811246e+00\n",
      "  2.89605220e+00  2.23836835e+00  1.28985021e+01  1.58130403e+01\n",
      "  9.79684097e+00  4.67163561e-01  1.39362049e+01  0.00000000e+00\n",
      "  9.31006508e-01  0.00000000e+00  0.00000000e+00  0.00000000e+00\n",
      "  6.70213037e-01  0.00000000e+00  0.00000000e+00  8.37457091e-01\n",
      "  0.00000000e+00  1.46813336e+01 -4.06386859e-01  7.32313990e-01\n",
      "  1.10386314e+01  1.30525155e+00  0.00000000e+00 -6.96106681e-02\n",
      "  5.63764694e+00  2.80461783e+00  0.00000000e+00  2.71151355e-01\n",
      "  1.04794997e+01  1.74303088e+01  0.00000000e+00 -2.75214491e-01\n",
      " -1.46423640e+00  1.99526238e+00 -8.73159978e-01  0.00000000e+00\n",
      "  1.64033980e+01  0.00000000e+00  0.00000000e+00  1.51675720e+00\n",
      " -5.81287863e-01  1.86448344e+01  5.42371835e-01  0.00000000e+00\n",
      "  9.33502787e-01  4.01581787e+00  0.00000000e+00  4.28977283e-01\n",
      "  1.88307890e+01  1.45744863e+01  1.33082467e+01  1.80339641e+01\n",
      "  1.70852204e+01  2.11415142e+01  2.11374464e+01  1.70034621e+01\n",
      "  1.85186289e+01  1.95073356e+01  2.05624261e+01  1.73372465e+01\n",
      "  0.00000000e+00  1.41140474e+01  1.33819998e+01  1.35344472e+01\n",
      "  1.05112814e+01  1.92468225e+01  1.84088971e+01  7.76072389e+00\n",
      "  5.47465285e+00  1.27379108e-02  1.28738266e-01  1.12623538e+00\n",
      "  1.35932905e+01  1.86178449e+01  2.37468709e+00  1.54996225e+01\n",
      "  5.84144919e+00  1.40925949e+01  1.19526279e+01  1.43250646e+00\n",
      "  1.91276094e-01  1.04021834e+01  1.49119300e+01  1.64017259e+01\n",
      "  0.00000000e+00  7.88611302e+00  1.46796037e+01  7.84856926e-01\n",
      "  9.94057201e+00  1.50904049e+00  1.56483268e+01  1.65313476e+01\n",
      "  1.45866450e+01  9.48410682e+00  0.00000000e+00  5.82914969e+00\n",
      "  0.00000000e+00  6.64426590e+00  8.54670047e-01  9.07693115e+00\n",
      "  2.26289885e+01  1.79495489e+01 -1.89333607e+00  2.10170472e+01\n",
      "  5.56819667e+00  1.60321933e+01  1.36551423e+01 -1.44107766e-02\n",
      "  2.42558792e-01  9.87757260e-01  2.05748802e-01  1.74377364e+01\n",
      "  1.70454278e+01  2.03974099e+01  0.00000000e+00  0.00000000e+00\n",
      "  1.45770162e+01  0.00000000e+00  1.28223479e+01  5.04043106e-01\n",
      "  3.72070716e-02  1.38628634e+00  1.30049788e+01  1.79516086e+01\n",
      "  1.50083091e+01  1.42655678e+01  1.90467992e+01  1.01375199e+00\n",
      "  1.42473203e+01  1.25980464e+01  1.07581106e+00  2.03155039e+01\n",
      "  9.08369381e+00  4.81054827e-01  8.05041800e+00  1.16896296e+01\n",
      "  7.11116588e+00  6.96160837e+00  1.23586621e+00  4.44345414e-01\n",
      "  2.76399381e+00  1.41383764e+01  1.74626823e+01  1.69488508e+01\n",
      "  0.00000000e+00  7.98873804e-01  2.02914025e+01  1.33638176e+01\n",
      "  0.00000000e+00  1.28958622e+01  9.96861625e+00  0.00000000e+00\n",
      "  6.38124455e-01  1.52264242e+01  1.36288873e+01  1.44999215e+01\n",
      "  2.12359883e+01  0.00000000e+00  3.69840117e+00  1.27536716e+01\n",
      "  0.00000000e+00  2.38249607e+01  8.82384149e-01  2.03499948e-01\n",
      "  1.36895483e+00  1.09458583e+01  4.12427613e+00  1.97883510e+01\n",
      "  7.39891278e+00  8.52038449e+00  0.00000000e+00  0.00000000e+00\n",
      "  9.53427371e+00  9.73931761e+00  1.12354260e+01  1.35853270e+01\n",
      "  1.50522785e+01  1.04537209e+01  3.98222582e-01  1.01049794e+00\n",
      "  1.64806419e+00  2.02897259e+01  1.62345198e+00  1.29771770e+01\n",
      "  9.14893856e+00  1.96943948e+00  9.76840882e+00  1.27545015e+01\n",
      "  0.00000000e+00  1.35740475e+01  8.84906164e+00  1.22903684e+01\n",
      "  1.60860874e+01  2.10890220e+01  1.73963177e+01  0.00000000e+00\n",
      "  1.55765267e+01  1.05714153e+01  6.74432434e+00  1.27354363e+01\n",
      "  1.73765203e+01  8.49599645e+00  9.33110464e+00  1.34291493e+01\n",
      "  5.67438790e+00  1.72051305e+01  9.60872769e-01  1.34095712e+01\n",
      "  1.67043707e+01  1.44833101e+01  1.46761740e+01  6.93131200e-01\n",
      "  1.24262805e+01  1.24209962e+01  1.01737672e+01  1.28944727e+01\n",
      "  4.83952910e-01  3.82531080e-01  1.20607701e+01  1.07589600e+01\n",
      "  1.62533141e+01  0.00000000e+00  8.65341688e+00  2.34112271e+00\n",
      "  7.27631070e-01  8.50103963e+00  8.35513222e-01  7.96286627e+00\n",
      "  2.39867612e+01  1.79370248e+01  3.86334750e+00  1.88876326e+01\n",
      "  9.67833683e+00  1.16447985e+01  2.16164477e+01  1.41454705e+01\n",
      "  1.60157169e+01  0.00000000e+00  1.19153842e+01  9.84846461e+00\n",
      "  0.00000000e+00  0.00000000e+00  1.41682891e+01  0.00000000e+00\n",
      "  1.26570027e+01  1.18466751e+01  9.70364672e+00  8.84185239e+00\n",
      "  1.46689762e+01  1.24956052e+01  1.09693842e+01  1.27612871e+01\n",
      "  0.00000000e+00]\n"
     ]
    }
   ],
   "source": [
    "group_kfold = GroupKFold(n_splits=5)\n",
    "\n",
    "cat_columns = train_reduced_df.select_dtypes(include=[\"category\"]).columns.to_numpy()\n",
    "data = train_reduced_df.sort_values(by=\"msno\")\n",
    "\n",
    "X = data.song_id.to_numpy()\n",
    "y = data.target.to_numpy()\n",
    "groups = data.msno.to_numpy()\n",
    "\n",
    "scores = []\n",
    "for _, test_index in group_kfold.split(X, y, groups):\n",
    "    X_test = X[test_index]\n",
    "    y_test = y[test_index]\n",
    "    groups_test = groups[test_index]\n",
    "\n",
    "    for group_id in np.unique(groups_test): \n",
    "        mask = group_id == groups_test\n",
    "        ans = emb_model.rank_scores(group_id, X_test[mask])\n",
    "        print(ans)\n",
    "        break\n",
    "        # TODO\n",
    "\n",
    "    break\n",
    "    # TODO"
   ]
  },
  {
   "cell_type": "code",
   "execution_count": null,
   "metadata": {
    "id": "TY3-Rx-yCjvf"
   },
   "outputs": [],
   "source": []
  }
 ],
 "metadata": {
  "accelerator": "GPU",
  "colab": {
   "collapsed_sections": [],
   "name": "solution.ipynb",
   "provenance": []
  },
  "kernelspec": {
   "display_name": "Python 3 (ipykernel)",
   "language": "python",
   "name": "python3"
  },
  "language_info": {
   "codemirror_mode": {
    "name": "ipython",
    "version": 3
   },
   "file_extension": ".py",
   "mimetype": "text/x-python",
   "name": "python",
   "nbconvert_exporter": "python",
   "pygments_lexer": "ipython3",
   "version": "3.8.11"
  }
 },
 "nbformat": 4,
 "nbformat_minor": 1
}
