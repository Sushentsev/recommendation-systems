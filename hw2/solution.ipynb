{
 "cells": [
  {
   "cell_type": "markdown",
   "metadata": {
    "collapsed": true
   },
   "source": [
    "# Music Recommendation"
   ]
  },
  {
   "cell_type": "code",
   "execution_count": 24,
   "metadata": {},
   "outputs": [
    {
     "name": "stdout",
     "output_type": "stream",
     "text": [
      "The autoreload extension is already loaded. To reload it, use:\n",
      "  %reload_ext autoreload\n"
     ]
    }
   ],
   "source": [
    "from load_data import *\n",
    "from embeddings import EmbeddingsBuilder\n",
    "from create_features.song_features import create_song_features\n",
    "from create_features.user_features import create_user_features\n",
    "from catboost import CatBoostRanker, Pool, cv\n",
    "from sklearn.metrics import roc_auc_score\n",
    "from sklearn.model_selection import KFold\n",
    "from sklearn.manifold import TSNE\n",
    "from sklearn.preprocessing import LabelEncoder\n",
    "\n",
    "import pandas as pd\n",
    "import numpy as np\n",
    "import matplotlib.pyplot as plt\n",
    "\n",
    "%load_ext autoreload\n",
    "%autoreload 2"
   ]
  },
  {
   "cell_type": "markdown",
   "metadata": {},
   "source": [
    "## Подготовка данных"
   ]
  },
  {
   "cell_type": "code",
   "execution_count": 2,
   "metadata": {},
   "outputs": [],
   "source": [
    "random_state = 42\n",
    "data_dir = \"./data/\""
   ]
  },
  {
   "cell_type": "code",
   "execution_count": 3,
   "metadata": {},
   "outputs": [
    {
     "name": "stdout",
     "output_type": "stream",
     "text": [
      "CPU times: user 50.3 s, sys: 1.24 s, total: 51.5 s\n",
      "Wall time: 51.7 s\n"
     ]
    }
   ],
   "source": [
    "%%time\n",
    "song_features_df = create_song_features(data_dir)"
   ]
  },
  {
   "cell_type": "code",
   "execution_count": 4,
   "metadata": {},
   "outputs": [
    {
     "data": {
      "text/html": [
       "<div>\n",
       "<style scoped>\n",
       "    .dataframe tbody tr th:only-of-type {\n",
       "        vertical-align: middle;\n",
       "    }\n",
       "\n",
       "    .dataframe tbody tr th {\n",
       "        vertical-align: top;\n",
       "    }\n",
       "\n",
       "    .dataframe thead th {\n",
       "        text-align: right;\n",
       "    }\n",
       "</style>\n",
       "<table border=\"1\" class=\"dataframe\">\n",
       "  <thead>\n",
       "    <tr style=\"text-align: right;\">\n",
       "      <th></th>\n",
       "      <th>song_id</th>\n",
       "      <th>song_length</th>\n",
       "      <th>genre_ids</th>\n",
       "      <th>artist_name</th>\n",
       "      <th>composer</th>\n",
       "      <th>lyricist</th>\n",
       "      <th>language</th>\n",
       "      <th>artist_name_count</th>\n",
       "      <th>composer_count</th>\n",
       "      <th>lyricists_count</th>\n",
       "      <th>isrc_year</th>\n",
       "      <th>genres_count</th>\n",
       "    </tr>\n",
       "  </thead>\n",
       "  <tbody>\n",
       "    <tr>\n",
       "      <th>0</th>\n",
       "      <td>CXoTN1eb7AI+DntdU1vbcwGRV4SCIDxZu+YD8JP8r4E=</td>\n",
       "      <td>247640</td>\n",
       "      <td>465</td>\n",
       "      <td>張信哲 (Jeff Chang)</td>\n",
       "      <td>董貞</td>\n",
       "      <td>何啟弘</td>\n",
       "      <td>3.0</td>\n",
       "      <td>1</td>\n",
       "      <td>1</td>\n",
       "      <td>1</td>\n",
       "      <td>2014</td>\n",
       "      <td>1</td>\n",
       "    </tr>\n",
       "    <tr>\n",
       "      <th>1</th>\n",
       "      <td>o0kFgae9QtnYgRkVPqLJwa05zIhRlUjfF7O1tDw0ZDU=</td>\n",
       "      <td>197328</td>\n",
       "      <td>444</td>\n",
       "      <td>BLACKPINK</td>\n",
       "      <td>TEDDY|  FUTURE BOUNCE|  Bekuh BOOM</td>\n",
       "      <td>TEDDY</td>\n",
       "      <td>31.0</td>\n",
       "      <td>1</td>\n",
       "      <td>3</td>\n",
       "      <td>1</td>\n",
       "      <td>-1</td>\n",
       "      <td>1</td>\n",
       "    </tr>\n",
       "    <tr>\n",
       "      <th>2</th>\n",
       "      <td>DwVvVurfpuz+XPuFvucclVQEyPqcpUkHR0ne1RQzPs0=</td>\n",
       "      <td>231781</td>\n",
       "      <td>465</td>\n",
       "      <td>SUPER JUNIOR</td>\n",
       "      <td>&lt;UNK&gt;</td>\n",
       "      <td>&lt;UNK&gt;</td>\n",
       "      <td>31.0</td>\n",
       "      <td>1</td>\n",
       "      <td>0</td>\n",
       "      <td>0</td>\n",
       "      <td>-1</td>\n",
       "      <td>0</td>\n",
       "    </tr>\n",
       "  </tbody>\n",
       "</table>\n",
       "</div>"
      ],
      "text/plain": [
       "                                        song_id  song_length genre_ids  \\\n",
       "0  CXoTN1eb7AI+DntdU1vbcwGRV4SCIDxZu+YD8JP8r4E=       247640       465   \n",
       "1  o0kFgae9QtnYgRkVPqLJwa05zIhRlUjfF7O1tDw0ZDU=       197328       444   \n",
       "2  DwVvVurfpuz+XPuFvucclVQEyPqcpUkHR0ne1RQzPs0=       231781       465   \n",
       "\n",
       "        artist_name                            composer lyricist language  \\\n",
       "0  張信哲 (Jeff Chang)                                  董貞      何啟弘      3.0   \n",
       "1         BLACKPINK  TEDDY|  FUTURE BOUNCE|  Bekuh BOOM    TEDDY     31.0   \n",
       "2      SUPER JUNIOR                               <UNK>    <UNK>     31.0   \n",
       "\n",
       "   artist_name_count  composer_count  lyricists_count isrc_year  genres_count  \n",
       "0                  1               1                1      2014             1  \n",
       "1                  1               3                1        -1             1  \n",
       "2                  1               0                0        -1             0  "
      ]
     },
     "execution_count": 4,
     "metadata": {},
     "output_type": "execute_result"
    }
   ],
   "source": [
    "song_features_df.head(3)"
   ]
  },
  {
   "cell_type": "code",
   "execution_count": 5,
   "metadata": {},
   "outputs": [
    {
     "name": "stdout",
     "output_type": "stream",
     "text": [
      "CPU times: user 321 ms, sys: 5.45 ms, total: 327 ms\n",
      "Wall time: 326 ms\n"
     ]
    }
   ],
   "source": [
    "%%time\n",
    "user_features_df = create_user_features(data_dir)"
   ]
  },
  {
   "cell_type": "code",
   "execution_count": 6,
   "metadata": {},
   "outputs": [
    {
     "data": {
      "text/html": [
       "<div>\n",
       "<style scoped>\n",
       "    .dataframe tbody tr th:only-of-type {\n",
       "        vertical-align: middle;\n",
       "    }\n",
       "\n",
       "    .dataframe tbody tr th {\n",
       "        vertical-align: top;\n",
       "    }\n",
       "\n",
       "    .dataframe thead th {\n",
       "        text-align: right;\n",
       "    }\n",
       "</style>\n",
       "<table border=\"1\" class=\"dataframe\">\n",
       "  <thead>\n",
       "    <tr style=\"text-align: right;\">\n",
       "      <th></th>\n",
       "      <th>msno</th>\n",
       "      <th>city</th>\n",
       "      <th>gender</th>\n",
       "      <th>registered_via</th>\n",
       "      <th>bd_category</th>\n",
       "      <th>registration_init_year</th>\n",
       "      <th>expiration_date_year</th>\n",
       "    </tr>\n",
       "  </thead>\n",
       "  <tbody>\n",
       "    <tr>\n",
       "      <th>0</th>\n",
       "      <td>XQxgAYj3klVKjR3oxPPXYYFp4soD4TuBghkhMTD4oTw=</td>\n",
       "      <td>1</td>\n",
       "      <td>&lt;UNK&gt;</td>\n",
       "      <td>7</td>\n",
       "      <td>&lt;UNK&gt;</td>\n",
       "      <td>2011</td>\n",
       "      <td>2017</td>\n",
       "    </tr>\n",
       "    <tr>\n",
       "      <th>1</th>\n",
       "      <td>UizsfmJb9mV54qE9hCYyU07Va97c0lCRLEQX3ae+ztM=</td>\n",
       "      <td>1</td>\n",
       "      <td>&lt;UNK&gt;</td>\n",
       "      <td>7</td>\n",
       "      <td>&lt;UNK&gt;</td>\n",
       "      <td>2015</td>\n",
       "      <td>2017</td>\n",
       "    </tr>\n",
       "    <tr>\n",
       "      <th>2</th>\n",
       "      <td>D8nEhsIOBSoE6VthTaqDX8U6lqjJ7dLdr72mOyLya2A=</td>\n",
       "      <td>1</td>\n",
       "      <td>&lt;UNK&gt;</td>\n",
       "      <td>4</td>\n",
       "      <td>&lt;UNK&gt;</td>\n",
       "      <td>2016</td>\n",
       "      <td>2017</td>\n",
       "    </tr>\n",
       "  </tbody>\n",
       "</table>\n",
       "</div>"
      ],
      "text/plain": [
       "                                           msno city gender registered_via  \\\n",
       "0  XQxgAYj3klVKjR3oxPPXYYFp4soD4TuBghkhMTD4oTw=    1  <UNK>              7   \n",
       "1  UizsfmJb9mV54qE9hCYyU07Va97c0lCRLEQX3ae+ztM=    1  <UNK>              7   \n",
       "2  D8nEhsIOBSoE6VthTaqDX8U6lqjJ7dLdr72mOyLya2A=    1  <UNK>              4   \n",
       "\n",
       "  bd_category  registration_init_year  expiration_date_year  \n",
       "0       <UNK>                    2011                  2017  \n",
       "1       <UNK>                    2015                  2017  \n",
       "2       <UNK>                    2016                  2017  "
      ]
     },
     "execution_count": 6,
     "metadata": {},
     "output_type": "execute_result"
    }
   ],
   "source": [
    "user_features_df.head(3)"
   ]
  },
  {
   "cell_type": "code",
   "execution_count": 7,
   "metadata": {
    "scrolled": true
   },
   "outputs": [
    {
     "data": {
      "text/html": [
       "<div>\n",
       "<style scoped>\n",
       "    .dataframe tbody tr th:only-of-type {\n",
       "        vertical-align: middle;\n",
       "    }\n",
       "\n",
       "    .dataframe tbody tr th {\n",
       "        vertical-align: top;\n",
       "    }\n",
       "\n",
       "    .dataframe thead th {\n",
       "        text-align: right;\n",
       "    }\n",
       "</style>\n",
       "<table border=\"1\" class=\"dataframe\">\n",
       "  <thead>\n",
       "    <tr style=\"text-align: right;\">\n",
       "      <th></th>\n",
       "      <th>msno</th>\n",
       "      <th>song_id</th>\n",
       "      <th>source_system_tab</th>\n",
       "      <th>source_screen_name</th>\n",
       "      <th>source_type</th>\n",
       "      <th>target</th>\n",
       "    </tr>\n",
       "  </thead>\n",
       "  <tbody>\n",
       "    <tr>\n",
       "      <th>0</th>\n",
       "      <td>FGtllVqz18RPiwJj/edr2gV78zirAiY/9SmYvia+kCg=</td>\n",
       "      <td>BBzumQNXUHKdEBOB7mAJuzok+IJA1c2Ryg/yzTF6tik=</td>\n",
       "      <td>explore</td>\n",
       "      <td>Explore</td>\n",
       "      <td>online-playlist</td>\n",
       "      <td>1</td>\n",
       "    </tr>\n",
       "    <tr>\n",
       "      <th>1</th>\n",
       "      <td>Xumu+NIjS6QYVxDS4/t3SawvJ7viT9hPKXmf0RtLNx8=</td>\n",
       "      <td>bhp/MpSNoqoxOIB+/l8WPqu6jldth4DIpCm3ayXnJqM=</td>\n",
       "      <td>my library</td>\n",
       "      <td>Local playlist more</td>\n",
       "      <td>local-playlist</td>\n",
       "      <td>1</td>\n",
       "    </tr>\n",
       "    <tr>\n",
       "      <th>2</th>\n",
       "      <td>Xumu+NIjS6QYVxDS4/t3SawvJ7viT9hPKXmf0RtLNx8=</td>\n",
       "      <td>JNWfrrC7zNN7BdMpsISKa4Mw+xVJYNnxXh3/Epw7QgY=</td>\n",
       "      <td>my library</td>\n",
       "      <td>Local playlist more</td>\n",
       "      <td>local-playlist</td>\n",
       "      <td>1</td>\n",
       "    </tr>\n",
       "    <tr>\n",
       "      <th>3</th>\n",
       "      <td>Xumu+NIjS6QYVxDS4/t3SawvJ7viT9hPKXmf0RtLNx8=</td>\n",
       "      <td>2A87tzfnJTSWqD7gIZHisolhe4DMdzkbd6LzO1KHjNs=</td>\n",
       "      <td>my library</td>\n",
       "      <td>Local playlist more</td>\n",
       "      <td>local-playlist</td>\n",
       "      <td>1</td>\n",
       "    </tr>\n",
       "    <tr>\n",
       "      <th>4</th>\n",
       "      <td>FGtllVqz18RPiwJj/edr2gV78zirAiY/9SmYvia+kCg=</td>\n",
       "      <td>3qm6XTZ6MOCU11x8FIVbAGH5l5uMkT3/ZalWG1oo2Gc=</td>\n",
       "      <td>explore</td>\n",
       "      <td>Explore</td>\n",
       "      <td>online-playlist</td>\n",
       "      <td>1</td>\n",
       "    </tr>\n",
       "  </tbody>\n",
       "</table>\n",
       "</div>"
      ],
      "text/plain": [
       "                                           msno  \\\n",
       "0  FGtllVqz18RPiwJj/edr2gV78zirAiY/9SmYvia+kCg=   \n",
       "1  Xumu+NIjS6QYVxDS4/t3SawvJ7viT9hPKXmf0RtLNx8=   \n",
       "2  Xumu+NIjS6QYVxDS4/t3SawvJ7viT9hPKXmf0RtLNx8=   \n",
       "3  Xumu+NIjS6QYVxDS4/t3SawvJ7viT9hPKXmf0RtLNx8=   \n",
       "4  FGtllVqz18RPiwJj/edr2gV78zirAiY/9SmYvia+kCg=   \n",
       "\n",
       "                                        song_id source_system_tab  \\\n",
       "0  BBzumQNXUHKdEBOB7mAJuzok+IJA1c2Ryg/yzTF6tik=           explore   \n",
       "1  bhp/MpSNoqoxOIB+/l8WPqu6jldth4DIpCm3ayXnJqM=        my library   \n",
       "2  JNWfrrC7zNN7BdMpsISKa4Mw+xVJYNnxXh3/Epw7QgY=        my library   \n",
       "3  2A87tzfnJTSWqD7gIZHisolhe4DMdzkbd6LzO1KHjNs=        my library   \n",
       "4  3qm6XTZ6MOCU11x8FIVbAGH5l5uMkT3/ZalWG1oo2Gc=           explore   \n",
       "\n",
       "    source_screen_name      source_type  target  \n",
       "0              Explore  online-playlist       1  \n",
       "1  Local playlist more   local-playlist       1  \n",
       "2  Local playlist more   local-playlist       1  \n",
       "3  Local playlist more   local-playlist       1  \n",
       "4              Explore  online-playlist       1  "
      ]
     },
     "execution_count": 7,
     "metadata": {},
     "output_type": "execute_result"
    }
   ],
   "source": [
    "train_df = load_train(data_dir + \"train.csv\")\n",
    "train_df.head()"
   ]
  },
  {
   "cell_type": "code",
   "execution_count": 8,
   "metadata": {},
   "outputs": [],
   "source": [
    "train_df = train_df.merge(song_features_df, on=\"song_id\", how=\"left\")\n",
    "train_df = train_df.merge(user_features_df, on=\"msno\", how=\"left\")"
   ]
  },
  {
   "cell_type": "code",
   "execution_count": 9,
   "metadata": {},
   "outputs": [
    {
     "data": {
      "text/html": [
       "<div>\n",
       "<style scoped>\n",
       "    .dataframe tbody tr th:only-of-type {\n",
       "        vertical-align: middle;\n",
       "    }\n",
       "\n",
       "    .dataframe tbody tr th {\n",
       "        vertical-align: top;\n",
       "    }\n",
       "\n",
       "    .dataframe thead th {\n",
       "        text-align: right;\n",
       "    }\n",
       "</style>\n",
       "<table border=\"1\" class=\"dataframe\">\n",
       "  <thead>\n",
       "    <tr style=\"text-align: right;\">\n",
       "      <th></th>\n",
       "      <th>msno</th>\n",
       "      <th>song_id</th>\n",
       "      <th>source_system_tab</th>\n",
       "      <th>source_screen_name</th>\n",
       "      <th>source_type</th>\n",
       "      <th>target</th>\n",
       "      <th>song_length</th>\n",
       "      <th>genre_ids</th>\n",
       "      <th>artist_name</th>\n",
       "      <th>composer</th>\n",
       "      <th>...</th>\n",
       "      <th>composer_count</th>\n",
       "      <th>lyricists_count</th>\n",
       "      <th>isrc_year</th>\n",
       "      <th>genres_count</th>\n",
       "      <th>city</th>\n",
       "      <th>gender</th>\n",
       "      <th>registered_via</th>\n",
       "      <th>bd_category</th>\n",
       "      <th>registration_init_year</th>\n",
       "      <th>expiration_date_year</th>\n",
       "    </tr>\n",
       "  </thead>\n",
       "  <tbody>\n",
       "    <tr>\n",
       "      <th>0</th>\n",
       "      <td>FGtllVqz18RPiwJj/edr2gV78zirAiY/9SmYvia+kCg=</td>\n",
       "      <td>BBzumQNXUHKdEBOB7mAJuzok+IJA1c2Ryg/yzTF6tik=</td>\n",
       "      <td>explore</td>\n",
       "      <td>Explore</td>\n",
       "      <td>online-playlist</td>\n",
       "      <td>1</td>\n",
       "      <td>206471.0</td>\n",
       "      <td>359</td>\n",
       "      <td>Bastille</td>\n",
       "      <td>Dan Smith| Mark Crew</td>\n",
       "      <td>...</td>\n",
       "      <td>2.0</td>\n",
       "      <td>0.0</td>\n",
       "      <td>2016</td>\n",
       "      <td>0.0</td>\n",
       "      <td>1</td>\n",
       "      <td>&lt;UNK&gt;</td>\n",
       "      <td>7</td>\n",
       "      <td>&lt;UNK&gt;</td>\n",
       "      <td>2012</td>\n",
       "      <td>2017</td>\n",
       "    </tr>\n",
       "    <tr>\n",
       "      <th>1</th>\n",
       "      <td>Xumu+NIjS6QYVxDS4/t3SawvJ7viT9hPKXmf0RtLNx8=</td>\n",
       "      <td>bhp/MpSNoqoxOIB+/l8WPqu6jldth4DIpCm3ayXnJqM=</td>\n",
       "      <td>my library</td>\n",
       "      <td>Local playlist more</td>\n",
       "      <td>local-playlist</td>\n",
       "      <td>1</td>\n",
       "      <td>284584.0</td>\n",
       "      <td>1259</td>\n",
       "      <td>Various Artists</td>\n",
       "      <td>&lt;UNK&gt;</td>\n",
       "      <td>...</td>\n",
       "      <td>0.0</td>\n",
       "      <td>0.0</td>\n",
       "      <td>1999</td>\n",
       "      <td>0.0</td>\n",
       "      <td>13</td>\n",
       "      <td>female</td>\n",
       "      <td>9</td>\n",
       "      <td>young</td>\n",
       "      <td>2011</td>\n",
       "      <td>2017</td>\n",
       "    </tr>\n",
       "    <tr>\n",
       "      <th>2</th>\n",
       "      <td>Xumu+NIjS6QYVxDS4/t3SawvJ7viT9hPKXmf0RtLNx8=</td>\n",
       "      <td>JNWfrrC7zNN7BdMpsISKa4Mw+xVJYNnxXh3/Epw7QgY=</td>\n",
       "      <td>my library</td>\n",
       "      <td>Local playlist more</td>\n",
       "      <td>local-playlist</td>\n",
       "      <td>1</td>\n",
       "      <td>225396.0</td>\n",
       "      <td>1259</td>\n",
       "      <td>Nas</td>\n",
       "      <td>N. Jones、W. Adams、J. Lordan、D. Ingle</td>\n",
       "      <td>...</td>\n",
       "      <td>1.0</td>\n",
       "      <td>0.0</td>\n",
       "      <td>2006</td>\n",
       "      <td>0.0</td>\n",
       "      <td>13</td>\n",
       "      <td>female</td>\n",
       "      <td>9</td>\n",
       "      <td>young</td>\n",
       "      <td>2011</td>\n",
       "      <td>2017</td>\n",
       "    </tr>\n",
       "  </tbody>\n",
       "</table>\n",
       "<p>3 rows × 23 columns</p>\n",
       "</div>"
      ],
      "text/plain": [
       "                                           msno  \\\n",
       "0  FGtllVqz18RPiwJj/edr2gV78zirAiY/9SmYvia+kCg=   \n",
       "1  Xumu+NIjS6QYVxDS4/t3SawvJ7viT9hPKXmf0RtLNx8=   \n",
       "2  Xumu+NIjS6QYVxDS4/t3SawvJ7viT9hPKXmf0RtLNx8=   \n",
       "\n",
       "                                        song_id source_system_tab  \\\n",
       "0  BBzumQNXUHKdEBOB7mAJuzok+IJA1c2Ryg/yzTF6tik=           explore   \n",
       "1  bhp/MpSNoqoxOIB+/l8WPqu6jldth4DIpCm3ayXnJqM=        my library   \n",
       "2  JNWfrrC7zNN7BdMpsISKa4Mw+xVJYNnxXh3/Epw7QgY=        my library   \n",
       "\n",
       "    source_screen_name      source_type  target  song_length genre_ids  \\\n",
       "0              Explore  online-playlist       1     206471.0       359   \n",
       "1  Local playlist more   local-playlist       1     284584.0      1259   \n",
       "2  Local playlist more   local-playlist       1     225396.0      1259   \n",
       "\n",
       "       artist_name                              composer  ... composer_count  \\\n",
       "0         Bastille                  Dan Smith| Mark Crew  ...            2.0   \n",
       "1  Various Artists                                 <UNK>  ...            0.0   \n",
       "2              Nas  N. Jones、W. Adams、J. Lordan、D. Ingle  ...            1.0   \n",
       "\n",
       "  lyricists_count  isrc_year  genres_count  city  gender  registered_via  \\\n",
       "0             0.0       2016           0.0     1   <UNK>               7   \n",
       "1             0.0       1999           0.0    13  female               9   \n",
       "2             0.0       2006           0.0    13  female               9   \n",
       "\n",
       "  bd_category registration_init_year expiration_date_year  \n",
       "0       <UNK>                   2012                 2017  \n",
       "1       young                   2011                 2017  \n",
       "2       young                   2011                 2017  \n",
       "\n",
       "[3 rows x 23 columns]"
      ]
     },
     "execution_count": 9,
     "metadata": {},
     "output_type": "execute_result"
    }
   ],
   "source": [
    "train_df.head(3)"
   ]
  },
  {
   "cell_type": "code",
   "execution_count": 10,
   "metadata": {},
   "outputs": [],
   "source": [
    "train_df.source_system_tab = train_df.source_system_tab.cat.add_categories(\"<UNK>\").fillna(value=\"<UNK>\")\n",
    "train_df.source_screen_name = train_df.source_screen_name.cat.add_categories(\"<UNK>\").fillna(value=\"<UNK>\")\n",
    "train_df.source_type = train_df.source_type.cat.add_categories(\"<UNK>\").fillna(value=\"<UNK>\")\n",
    "\n",
    "train_df.msno = train_df.msno.astype(\"category\")\n",
    "train_df.song_id = train_df.song_id.astype(\"category\")"
   ]
  },
  {
   "cell_type": "code",
   "execution_count": 11,
   "metadata": {},
   "outputs": [
    {
     "name": "stdout",
     "output_type": "stream",
     "text": [
      "<class 'pandas.core.frame.DataFrame'>\n",
      "Int64Index: 7377418 entries, 0 to 7377417\n",
      "Data columns (total 23 columns):\n",
      " #   Column                  Dtype   \n",
      "---  ------                  -----   \n",
      " 0   msno                    category\n",
      " 1   song_id                 category\n",
      " 2   source_system_tab       category\n",
      " 3   source_screen_name      category\n",
      " 4   source_type             category\n",
      " 5   target                  uint8   \n",
      " 6   song_length             float64 \n",
      " 7   genre_ids               category\n",
      " 8   artist_name             category\n",
      " 9   composer                category\n",
      " 10  lyricist                category\n",
      " 11  language                category\n",
      " 12  artist_name_count       float64 \n",
      " 13  composer_count          float64 \n",
      " 14  lyricists_count         float64 \n",
      " 15  isrc_year               category\n",
      " 16  genres_count            float64 \n",
      " 17  city                    category\n",
      " 18  gender                  category\n",
      " 19  registered_via          category\n",
      " 20  bd_category             category\n",
      " 21  registration_init_year  int64   \n",
      " 22  expiration_date_year    int64   \n",
      "dtypes: category(15), float64(5), int64(2), uint8(1)\n",
      "memory usage: 698.7 MB\n"
     ]
    }
   ],
   "source": [
    "train_df.info()"
   ]
  },
  {
   "cell_type": "code",
   "execution_count": 12,
   "metadata": {},
   "outputs": [
    {
     "name": "stdout",
     "output_type": "stream",
     "text": [
      "Количество записей, для которых не нашлось пользователя или песни: 114\n"
     ]
    }
   ],
   "source": [
    "na_mask = train_df.isna().any(axis=1)\n",
    "print(f\"Количество записей, для которых не нашлось пользователя или песни: {sum(na_mask)}\")"
   ]
  },
  {
   "cell_type": "markdown",
   "metadata": {},
   "source": [
    "Их оказалось не так много, уберем из нашего набора данных. "
   ]
  },
  {
   "cell_type": "code",
   "execution_count": 13,
   "metadata": {},
   "outputs": [],
   "source": [
    "train_df = train_df[~na_mask]"
   ]
  },
  {
   "cell_type": "markdown",
   "metadata": {},
   "source": [
    "## Задание 1"
   ]
  },
  {
   "cell_type": "markdown",
   "metadata": {},
   "source": [
    "Построить рекомендации для каждого пользователя, произвести оценку качества с помощью 5-fold CV с метриками NDCG, ROC AUC."
   ]
  },
  {
   "cell_type": "markdown",
   "metadata": {},
   "source": [
    "При разработке признаков я умеренно не стал брать признаки, полученные с помощью матричных факторизаций, чтобы потом добавить неклассические эмбеддинги, полученные в задании 2. "
   ]
  },
  {
   "cell_type": "markdown",
   "metadata": {},
   "source": [
    "В качестве модели машинного обучения я решил использовать **CatBoost**, так как она хорошо работает с категориальными признаками. "
   ]
  },
  {
   "cell_type": "code",
   "execution_count": 45,
   "metadata": {},
   "outputs": [],
   "source": [
    "cat_columns = train_df.select_dtypes(include=[\"category\"]).columns.values\n",
    "data = train_df.sort_values(by=\"msno\")"
   ]
  },
  {
   "cell_type": "code",
   "execution_count": 46,
   "metadata": {
    "collapsed": true
   },
   "outputs": [
    {
     "name": "stdout",
     "output_type": "stream",
     "text": [
      "0:\ttest: 0.4938031\tbest: 0.4938031 (0)\ttotal: 30.4s\tremaining: 50m 14s\n",
      "1:\ttest: 0.4914225\tbest: 0.4938031 (0)\ttotal: 57.2s\tremaining: 46m 40s\n",
      "2:\ttest: 0.4911426\tbest: 0.4938031 (0)\ttotal: 1m 20s\tremaining: 43m 23s\n",
      "3:\ttest: 0.4963642\tbest: 0.4963642 (3)\ttotal: 1m 44s\tremaining: 41m 44s\n",
      "4:\ttest: 0.5020549\tbest: 0.5020549 (4)\ttotal: 2m 7s\tremaining: 40m 29s\n",
      "5:\ttest: 0.5015923\tbest: 0.5020549 (4)\ttotal: 2m 30s\tremaining: 39m 21s\n",
      "6:\ttest: 0.5006870\tbest: 0.5020549 (4)\ttotal: 2m 54s\tremaining: 38m 33s\n",
      "7:\ttest: 0.5565855\tbest: 0.5565855 (7)\ttotal: 3m 17s\tremaining: 37m 46s\n",
      "8:\ttest: 0.6379155\tbest: 0.6379155 (8)\ttotal: 3m 40s\tremaining: 37m 4s\n",
      "9:\ttest: 0.6904783\tbest: 0.6904783 (9)\ttotal: 4m 3s\tremaining: 36m 27s\n",
      "10:\ttest: 0.6900035\tbest: 0.6904783 (9)\ttotal: 4m 25s\tremaining: 35m 47s\n",
      "11:\ttest: 0.6920859\tbest: 0.6920859 (11)\ttotal: 4m 50s\tremaining: 35m 26s\n",
      "12:\ttest: 0.6915712\tbest: 0.6920859 (11)\ttotal: 5m 13s\tremaining: 34m 58s\n",
      "13:\ttest: 0.7174606\tbest: 0.7174606 (13)\ttotal: 5m 37s\tremaining: 34m 35s\n",
      "14:\ttest: 0.7328670\tbest: 0.7328670 (14)\ttotal: 6m 6s\tremaining: 34m 36s\n",
      "15:\ttest: 0.7348446\tbest: 0.7348446 (15)\ttotal: 6m 37s\tremaining: 34m 44s\n",
      "16:\ttest: 0.7355524\tbest: 0.7355524 (16)\ttotal: 7m 3s\tremaining: 34m 27s\n",
      "17:\ttest: 0.7354739\tbest: 0.7355524 (16)\ttotal: 7m 27s\tremaining: 33m 57s\n",
      "18:\ttest: 0.7369170\tbest: 0.7369170 (18)\ttotal: 7m 54s\tremaining: 33m 42s\n",
      "19:\ttest: 0.7373685\tbest: 0.7373685 (19)\ttotal: 8m 24s\tremaining: 33m 39s\n",
      "20:\ttest: 0.7377112\tbest: 0.7377112 (20)\ttotal: 8m 52s\tremaining: 33m 25s\n",
      "21:\ttest: 0.7381600\tbest: 0.7381600 (21)\ttotal: 9m 19s\tremaining: 33m 2s\n",
      "22:\ttest: 0.7384650\tbest: 0.7384650 (22)\ttotal: 9m 45s\tremaining: 32m 39s\n",
      "23:\ttest: 0.7387044\tbest: 0.7387044 (23)\ttotal: 10m 12s\tremaining: 32m 20s\n",
      "24:\ttest: 0.7390054\tbest: 0.7390054 (24)\ttotal: 10m 39s\tremaining: 31m 59s\n",
      "25:\ttest: 0.7392505\tbest: 0.7392505 (25)\ttotal: 11m 6s\tremaining: 31m 35s\n",
      "26:\ttest: 0.7393082\tbest: 0.7393082 (26)\ttotal: 11m 32s\tremaining: 31m 13s\n",
      "27:\ttest: 0.7393846\tbest: 0.7393846 (27)\ttotal: 11m 58s\tremaining: 30m 48s\n",
      "28:\ttest: 0.7395377\tbest: 0.7395377 (28)\ttotal: 12m 19s\tremaining: 30m 10s\n",
      "29:\ttest: 0.7396811\tbest: 0.7396811 (29)\ttotal: 12m 40s\tremaining: 29m 35s\n",
      "30:\ttest: 0.7402771\tbest: 0.7402771 (30)\ttotal: 13m 4s\tremaining: 29m 5s\n",
      "31:\ttest: 0.7404160\tbest: 0.7404160 (31)\ttotal: 13m 26s\tremaining: 28m 34s\n",
      "32:\ttest: 0.7404262\tbest: 0.7404262 (32)\ttotal: 13m 48s\tremaining: 28m 3s\n",
      "33:\ttest: 0.7448572\tbest: 0.7448572 (33)\ttotal: 14m 11s\tremaining: 27m 32s\n",
      "34:\ttest: 0.7521716\tbest: 0.7521716 (34)\ttotal: 14m 32s\tremaining: 26m 59s\n",
      "35:\ttest: 0.7525592\tbest: 0.7525592 (35)\ttotal: 14m 55s\tremaining: 26m 31s\n",
      "36:\ttest: 0.7534822\tbest: 0.7534822 (36)\ttotal: 15m 18s\tremaining: 26m 4s\n",
      "37:\ttest: 0.7536059\tbest: 0.7536059 (37)\ttotal: 15m 43s\tremaining: 25m 38s\n",
      "38:\ttest: 0.7553486\tbest: 0.7553486 (38)\ttotal: 16m 8s\tremaining: 25m 14s\n",
      "39:\ttest: 0.7557127\tbest: 0.7557127 (39)\ttotal: 16m 31s\tremaining: 24m 46s\n",
      "40:\ttest: 0.7557730\tbest: 0.7557730 (40)\ttotal: 16m 53s\tremaining: 24m 18s\n",
      "41:\ttest: 0.7572167\tbest: 0.7572167 (41)\ttotal: 17m 15s\tremaining: 23m 49s\n",
      "42:\ttest: 0.7569530\tbest: 0.7572167 (41)\ttotal: 17m 36s\tremaining: 23m 20s\n",
      "43:\ttest: 0.7578633\tbest: 0.7578633 (43)\ttotal: 17m 58s\tremaining: 22m 52s\n",
      "44:\ttest: 0.7577171\tbest: 0.7578633 (43)\ttotal: 18m 22s\tremaining: 22m 27s\n",
      "45:\ttest: 0.7576617\tbest: 0.7578633 (43)\ttotal: 18m 48s\tremaining: 22m 5s\n",
      "46:\ttest: 0.7576542\tbest: 0.7578633 (43)\ttotal: 19m 10s\tremaining: 21m 37s\n",
      "47:\ttest: 0.7576903\tbest: 0.7578633 (43)\ttotal: 19m 31s\tremaining: 21m 9s\n",
      "48:\ttest: 0.7577280\tbest: 0.7578633 (43)\ttotal: 19m 52s\tremaining: 20m 40s\n",
      "49:\ttest: 0.7576574\tbest: 0.7578633 (43)\ttotal: 20m 12s\tremaining: 20m 12s\n",
      "50:\ttest: 0.7577892\tbest: 0.7578633 (43)\ttotal: 20m 33s\tremaining: 19m 44s\n",
      "51:\ttest: 0.7577936\tbest: 0.7578633 (43)\ttotal: 20m 53s\tremaining: 19m 17s\n",
      "52:\ttest: 0.7577454\tbest: 0.7578633 (43)\ttotal: 21m 14s\tremaining: 18m 49s\n",
      "53:\ttest: 0.7576725\tbest: 0.7578633 (43)\ttotal: 21m 34s\tremaining: 18m 22s\n",
      "54:\ttest: 0.7577410\tbest: 0.7578633 (43)\ttotal: 21m 54s\tremaining: 17m 55s\n",
      "55:\ttest: 0.7578027\tbest: 0.7578633 (43)\ttotal: 22m 15s\tremaining: 17m 28s\n",
      "56:\ttest: 0.7611506\tbest: 0.7611506 (56)\ttotal: 22m 35s\tremaining: 17m 2s\n",
      "57:\ttest: 0.7617996\tbest: 0.7617996 (57)\ttotal: 22m 55s\tremaining: 16m 36s\n",
      "58:\ttest: 0.7617703\tbest: 0.7617996 (57)\ttotal: 23m 16s\tremaining: 16m 10s\n",
      "59:\ttest: 0.7617431\tbest: 0.7617996 (57)\ttotal: 23m 37s\tremaining: 15m 44s\n",
      "60:\ttest: 0.7617317\tbest: 0.7617996 (57)\ttotal: 24m\tremaining: 15m 20s\n",
      "61:\ttest: 0.7618194\tbest: 0.7618194 (61)\ttotal: 24m 24s\tremaining: 14m 57s\n",
      "62:\ttest: 0.7616762\tbest: 0.7618194 (61)\ttotal: 24m 44s\tremaining: 14m 31s\n",
      "63:\ttest: 0.7617706\tbest: 0.7618194 (61)\ttotal: 25m 5s\tremaining: 14m 7s\n",
      "64:\ttest: 0.7619869\tbest: 0.7619869 (64)\ttotal: 25m 28s\tremaining: 13m 43s\n",
      "65:\ttest: 0.7634461\tbest: 0.7634461 (65)\ttotal: 25m 48s\tremaining: 13m 17s\n",
      "66:\ttest: 0.7635919\tbest: 0.7635919 (66)\ttotal: 26m 8s\tremaining: 12m 52s\n",
      "67:\ttest: 0.7634709\tbest: 0.7635919 (66)\ttotal: 26m 28s\tremaining: 12m 27s\n",
      "68:\ttest: 0.7635698\tbest: 0.7635919 (66)\ttotal: 26m 49s\tremaining: 12m 3s\n",
      "69:\ttest: 0.7641300\tbest: 0.7641300 (69)\ttotal: 27m 13s\tremaining: 11m 39s\n",
      "70:\ttest: 0.7646395\tbest: 0.7646395 (70)\ttotal: 27m 37s\tremaining: 11m 16s\n",
      "71:\ttest: 0.7649548\tbest: 0.7649548 (71)\ttotal: 27m 57s\tremaining: 10m 52s\n",
      "72:\ttest: 0.7650452\tbest: 0.7650452 (72)\ttotal: 28m 17s\tremaining: 10m 27s\n",
      "73:\ttest: 0.7650285\tbest: 0.7650452 (72)\ttotal: 28m 39s\tremaining: 10m 4s\n",
      "74:\ttest: 0.7649722\tbest: 0.7650452 (72)\ttotal: 29m 3s\tremaining: 9m 41s\n",
      "75:\ttest: 0.7663728\tbest: 0.7663728 (75)\ttotal: 29m 26s\tremaining: 9m 17s\n",
      "76:\ttest: 0.7663307\tbest: 0.7663728 (75)\ttotal: 29m 48s\tremaining: 8m 54s\n",
      "77:\ttest: 0.7663229\tbest: 0.7663728 (75)\ttotal: 30m 13s\tremaining: 8m 31s\n",
      "78:\ttest: 0.7663417\tbest: 0.7663728 (75)\ttotal: 30m 37s\tremaining: 8m 8s\n",
      "79:\ttest: 0.7667664\tbest: 0.7667664 (79)\ttotal: 30m 58s\tremaining: 7m 44s\n",
      "80:\ttest: 0.7675121\tbest: 0.7675121 (80)\ttotal: 31m 23s\tremaining: 7m 21s\n",
      "81:\ttest: 0.7676541\tbest: 0.7676541 (81)\ttotal: 31m 44s\tremaining: 6m 58s\n",
      "82:\ttest: 0.7674275\tbest: 0.7676541 (81)\ttotal: 32m 4s\tremaining: 6m 34s\n",
      "83:\ttest: 0.7676227\tbest: 0.7676541 (81)\ttotal: 32m 24s\tremaining: 6m 10s\n",
      "84:\ttest: 0.7675358\tbest: 0.7676541 (81)\ttotal: 32m 44s\tremaining: 5m 46s\n",
      "85:\ttest: 0.7679116\tbest: 0.7679116 (85)\ttotal: 33m 3s\tremaining: 5m 22s\n",
      "86:\ttest: 0.7686009\tbest: 0.7686009 (86)\ttotal: 33m 23s\tremaining: 4m 59s\n",
      "87:\ttest: 0.7686316\tbest: 0.7686316 (87)\ttotal: 33m 43s\tremaining: 4m 35s\n",
      "88:\ttest: 0.7685203\tbest: 0.7686316 (87)\ttotal: 34m 2s\tremaining: 4m 12s\n",
      "89:\ttest: 0.7685896\tbest: 0.7686316 (87)\ttotal: 34m 25s\tremaining: 3m 49s\n",
      "90:\ttest: 0.7687132\tbest: 0.7687132 (90)\ttotal: 34m 49s\tremaining: 3m 26s\n",
      "91:\ttest: 0.7687999\tbest: 0.7687999 (91)\ttotal: 35m 12s\tremaining: 3m 3s\n",
      "92:\ttest: 0.7690186\tbest: 0.7690186 (92)\ttotal: 35m 35s\tremaining: 2m 40s\n",
      "93:\ttest: 0.7691240\tbest: 0.7691240 (93)\ttotal: 35m 57s\tremaining: 2m 17s\n",
      "94:\ttest: 0.7692384\tbest: 0.7692384 (94)\ttotal: 36m 21s\tremaining: 1m 54s\n",
      "95:\ttest: 0.7695915\tbest: 0.7695915 (95)\ttotal: 36m 44s\tremaining: 1m 31s\n",
      "96:\ttest: 0.7696208\tbest: 0.7696208 (96)\ttotal: 37m 6s\tremaining: 1m 8s\n",
      "97:\ttest: 0.7696550\tbest: 0.7696550 (97)\ttotal: 37m 28s\tremaining: 45.9s\n",
      "98:\ttest: 0.7698984\tbest: 0.7698984 (98)\ttotal: 37m 49s\tremaining: 22.9s\n",
      "99:\ttest: 0.7699394\tbest: 0.7699394 (99)\ttotal: 38m 10s\tremaining: 0us\n"
     ]
    }
   ],
   "source": [
    "params = {\n",
    "    \"loss_function\": \"YetiRank\", \n",
    "    \"iterations\": 100, \n",
    "    \"custom_metric\": [\"NDCG\", \"QueryAUC:type=Ranking\"], \n",
    "    \"random_seed\": random_state\n",
    "}\n",
    "\n",
    "data_pool = Pool(data=data.drop(\"target\", axis=1), \n",
    "                 label=data.target.values, \n",
    "                 group_id=data.msno.cat.codes.values, \n",
    "                 cat_features=cat_columns, \n",
    "                 has_header=True)\n",
    "\n",
    "cv_data = cv(params=params, pool=data_pool, fold_count=2, \n",
    "             shuffle=True, partition_random_seed=random_state, verbose=False)"
   ]
  },
  {
   "cell_type": "code",
   "execution_count": 48,
   "metadata": {},
   "outputs": [
    {
     "data": {
      "text/html": [
       "<div>\n",
       "<style scoped>\n",
       "    .dataframe tbody tr th:only-of-type {\n",
       "        vertical-align: middle;\n",
       "    }\n",
       "\n",
       "    .dataframe tbody tr th {\n",
       "        vertical-align: top;\n",
       "    }\n",
       "\n",
       "    .dataframe thead th {\n",
       "        text-align: right;\n",
       "    }\n",
       "</style>\n",
       "<table border=\"1\" class=\"dataframe\">\n",
       "  <thead>\n",
       "    <tr style=\"text-align: right;\">\n",
       "      <th></th>\n",
       "      <th>iterations</th>\n",
       "      <th>test-PFound-mean</th>\n",
       "      <th>test-PFound-std</th>\n",
       "      <th>test-NDCG:type=Base-mean</th>\n",
       "      <th>test-NDCG:type=Base-std</th>\n",
       "      <th>test-QueryAUC:type=Ranking-mean</th>\n",
       "      <th>test-QueryAUC:type=Ranking-std</th>\n",
       "    </tr>\n",
       "  </thead>\n",
       "  <tbody>\n",
       "    <tr>\n",
       "      <th>0</th>\n",
       "      <td>0</td>\n",
       "      <td>0.493803</td>\n",
       "      <td>0.005849</td>\n",
       "      <td>0.791047</td>\n",
       "      <td>0.000026</td>\n",
       "      <td>0.528079</td>\n",
       "      <td>0.000300</td>\n",
       "    </tr>\n",
       "    <tr>\n",
       "      <th>1</th>\n",
       "      <td>1</td>\n",
       "      <td>0.491422</td>\n",
       "      <td>0.008484</td>\n",
       "      <td>0.791139</td>\n",
       "      <td>0.000394</td>\n",
       "      <td>0.528147</td>\n",
       "      <td>0.000020</td>\n",
       "    </tr>\n",
       "    <tr>\n",
       "      <th>2</th>\n",
       "      <td>2</td>\n",
       "      <td>0.491143</td>\n",
       "      <td>0.008955</td>\n",
       "      <td>0.791034</td>\n",
       "      <td>0.000519</td>\n",
       "      <td>0.528186</td>\n",
       "      <td>0.000069</td>\n",
       "    </tr>\n",
       "    <tr>\n",
       "      <th>3</th>\n",
       "      <td>3</td>\n",
       "      <td>0.496364</td>\n",
       "      <td>0.015481</td>\n",
       "      <td>0.792818</td>\n",
       "      <td>0.002780</td>\n",
       "      <td>0.529192</td>\n",
       "      <td>0.001614</td>\n",
       "    </tr>\n",
       "    <tr>\n",
       "      <th>4</th>\n",
       "      <td>4</td>\n",
       "      <td>0.502055</td>\n",
       "      <td>0.006850</td>\n",
       "      <td>0.794471</td>\n",
       "      <td>0.000271</td>\n",
       "      <td>0.530278</td>\n",
       "      <td>0.000459</td>\n",
       "    </tr>\n",
       "    <tr>\n",
       "      <th>...</th>\n",
       "      <td>...</td>\n",
       "      <td>...</td>\n",
       "      <td>...</td>\n",
       "      <td>...</td>\n",
       "      <td>...</td>\n",
       "      <td>...</td>\n",
       "      <td>...</td>\n",
       "    </tr>\n",
       "    <tr>\n",
       "      <th>95</th>\n",
       "      <td>95</td>\n",
       "      <td>0.769591</td>\n",
       "      <td>0.000044</td>\n",
       "      <td>0.848015</td>\n",
       "      <td>0.001024</td>\n",
       "      <td>0.552037</td>\n",
       "      <td>0.001075</td>\n",
       "    </tr>\n",
       "    <tr>\n",
       "      <th>96</th>\n",
       "      <td>96</td>\n",
       "      <td>0.769621</td>\n",
       "      <td>0.000120</td>\n",
       "      <td>0.848075</td>\n",
       "      <td>0.000964</td>\n",
       "      <td>0.552099</td>\n",
       "      <td>0.001021</td>\n",
       "    </tr>\n",
       "    <tr>\n",
       "      <th>97</th>\n",
       "      <td>97</td>\n",
       "      <td>0.769655</td>\n",
       "      <td>0.000152</td>\n",
       "      <td>0.848071</td>\n",
       "      <td>0.000953</td>\n",
       "      <td>0.552133</td>\n",
       "      <td>0.000981</td>\n",
       "    </tr>\n",
       "    <tr>\n",
       "      <th>98</th>\n",
       "      <td>98</td>\n",
       "      <td>0.769898</td>\n",
       "      <td>0.000441</td>\n",
       "      <td>0.848187</td>\n",
       "      <td>0.000814</td>\n",
       "      <td>0.552218</td>\n",
       "      <td>0.000922</td>\n",
       "    </tr>\n",
       "    <tr>\n",
       "      <th>99</th>\n",
       "      <td>99</td>\n",
       "      <td>0.769939</td>\n",
       "      <td>0.000376</td>\n",
       "      <td>0.848203</td>\n",
       "      <td>0.000827</td>\n",
       "      <td>0.552254</td>\n",
       "      <td>0.000882</td>\n",
       "    </tr>\n",
       "  </tbody>\n",
       "</table>\n",
       "<p>100 rows × 7 columns</p>\n",
       "</div>"
      ],
      "text/plain": [
       "    iterations  test-PFound-mean  test-PFound-std  test-NDCG:type=Base-mean  \\\n",
       "0            0          0.493803         0.005849                  0.791047   \n",
       "1            1          0.491422         0.008484                  0.791139   \n",
       "2            2          0.491143         0.008955                  0.791034   \n",
       "3            3          0.496364         0.015481                  0.792818   \n",
       "4            4          0.502055         0.006850                  0.794471   \n",
       "..         ...               ...              ...                       ...   \n",
       "95          95          0.769591         0.000044                  0.848015   \n",
       "96          96          0.769621         0.000120                  0.848075   \n",
       "97          97          0.769655         0.000152                  0.848071   \n",
       "98          98          0.769898         0.000441                  0.848187   \n",
       "99          99          0.769939         0.000376                  0.848203   \n",
       "\n",
       "    test-NDCG:type=Base-std  test-QueryAUC:type=Ranking-mean  \\\n",
       "0                  0.000026                         0.528079   \n",
       "1                  0.000394                         0.528147   \n",
       "2                  0.000519                         0.528186   \n",
       "3                  0.002780                         0.529192   \n",
       "4                  0.000271                         0.530278   \n",
       "..                      ...                              ...   \n",
       "95                 0.001024                         0.552037   \n",
       "96                 0.000964                         0.552099   \n",
       "97                 0.000953                         0.552133   \n",
       "98                 0.000814                         0.552218   \n",
       "99                 0.000827                         0.552254   \n",
       "\n",
       "    test-QueryAUC:type=Ranking-std  \n",
       "0                         0.000300  \n",
       "1                         0.000020  \n",
       "2                         0.000069  \n",
       "3                         0.001614  \n",
       "4                         0.000459  \n",
       "..                             ...  \n",
       "95                        0.001075  \n",
       "96                        0.001021  \n",
       "97                        0.000981  \n",
       "98                        0.000922  \n",
       "99                        0.000882  \n",
       "\n",
       "[100 rows x 7 columns]"
      ]
     },
     "execution_count": 48,
     "metadata": {},
     "output_type": "execute_result"
    }
   ],
   "source": [
    "cv_data"
   ]
  },
  {
   "cell_type": "markdown",
   "metadata": {},
   "source": [
    "## Задание 2"
   ]
  },
  {
   "cell_type": "markdown",
   "metadata": {},
   "source": [
    "Построить неклассические эмбеддинги и исследовать их полезность. "
   ]
  },
  {
   "cell_type": "code",
   "execution_count": 20,
   "metadata": {},
   "outputs": [
    {
     "name": "stderr",
     "output_type": "stream",
     "text": [
      "Fitting users: 100%|██████████| 30755/30755 [15:54<00:00, 32.23it/s]\n"
     ]
    },
    {
     "name": "stdout",
     "output_type": "stream",
     "text": [
      "CPU times: user 17min 18s, sys: 10.5 s, total: 17min 28s\n",
      "Wall time: 16min 33s\n"
     ]
    },
    {
     "data": {
      "text/plain": [
       "<embeddings.EmbeddingsBuilder at 0x7ff7529a2460>"
      ]
     },
     "execution_count": 20,
     "metadata": {},
     "output_type": "execute_result"
    }
   ],
   "source": [
    "%%time\n",
    "embeddings = EmbeddingsBuilder(embedding_dim=100, random_state=random_state)\n",
    "embeddings.fit(train_df)"
   ]
  },
  {
   "cell_type": "markdown",
   "metadata": {},
   "source": [
    "Посмотрим на похожие песни и пользователей, визуализировав их с помощью t-SNE."
   ]
  },
  {
   "cell_type": "code",
   "execution_count": 25,
   "metadata": {},
   "outputs": [],
   "source": [
    "t_sne = TSNE(n_components=2)"
   ]
  },
  {
   "cell_type": "code",
   "execution_count": null,
   "metadata": {},
   "outputs": [],
   "source": [
    "song_features_df.groupby([\"genre_ids\", \"artist_name\"]).count()"
   ]
  },
  {
   "cell_type": "code",
   "execution_count": null,
   "metadata": {},
   "outputs": [],
   "source": []
  }
 ],
 "metadata": {
  "kernelspec": {
   "display_name": "Python 3 (ipykernel)",
   "language": "python",
   "name": "python3"
  },
  "language_info": {
   "codemirror_mode": {
    "name": "ipython",
    "version": 3
   },
   "file_extension": ".py",
   "mimetype": "text/x-python",
   "name": "python",
   "nbconvert_exporter": "python",
   "pygments_lexer": "ipython3",
   "version": "3.8.11"
  }
 },
 "nbformat": 4,
 "nbformat_minor": 1
}