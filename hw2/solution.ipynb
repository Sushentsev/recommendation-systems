{
 "cells": [
  {
   "cell_type": "markdown",
   "metadata": {
    "collapsed": true
   },
   "source": [
    "# Music Recomendations"
   ]
  },
  {
   "cell_type": "code",
   "execution_count": 52,
   "metadata": {},
   "outputs": [
    {
     "name": "stdout",
     "output_type": "stream",
     "text": [
      "The autoreload extension is already loaded. To reload it, use:\n",
      "  %reload_ext autoreload\n"
     ]
    }
   ],
   "source": [
    "from datasets.members import MembersDataset\n",
    "from datasets.songs import SongsDataset\n",
    "from datasets.train import TrainDataset\n",
    "from datasets.songs_info import SongsInfoDataset\n",
    "\n",
    "from models.catboost_model import CatBoostModel\n",
    "from models.embeddings_model import EmbeddingModel\n",
    "\n",
    "from plot import * \n",
    "from utils import * \n",
    "\n",
    "import pandas as pd\n",
    "import numpy as np\n",
    "import matplotlib.pyplot as plt\n",
    "\n",
    "%load_ext autoreload\n",
    "%autoreload 2"
   ]
  },
  {
   "cell_type": "markdown",
   "metadata": {},
   "source": [
    "## Подготовка данных"
   ]
  },
  {
   "cell_type": "code",
   "execution_count": 20,
   "metadata": {},
   "outputs": [],
   "source": [
    "random_state = 42"
   ]
  },
  {
   "cell_type": "markdown",
   "metadata": {},
   "source": [
    "Загрузим данные в память. "
   ]
  },
  {
   "cell_type": "code",
   "execution_count": 21,
   "metadata": {},
   "outputs": [
    {
     "name": "stdout",
     "output_type": "stream",
     "text": [
      "CPU times: user 56.3 s, sys: 1.01 s, total: 57.3 s\n",
      "Wall time: 57.5 s\n"
     ]
    }
   ],
   "source": [
    "%%time\n",
    "members_dataset = MembersDataset.from_path(\"./data/members.csv\")\n",
    "songs_dataset = SongsDataset.from_path(\"./data/songs.csv\")\n",
    "train_dataset = TrainDataset.from_path(\"./data/train.csv\")\n",
    "songs_info_dataset = SongsInfoDataset.from_path(\"./data/song_extra_info.csv\")"
   ]
  },
  {
   "cell_type": "markdown",
   "metadata": {},
   "source": [
    "Построим признаки для песен и пользователей и посмотрим, что получилось. "
   ]
  },
  {
   "cell_type": "code",
   "execution_count": 22,
   "metadata": {},
   "outputs": [
    {
     "name": "stdout",
     "output_type": "stream",
     "text": [
      "CPU times: user 11.1 s, sys: 460 ms, total: 11.6 s\n",
      "Wall time: 11.7 s\n"
     ]
    }
   ],
   "source": [
    "%%time\n",
    "members_dataset_featured = members_dataset.create_features(inplace=False)\n",
    "songs_dataset_featured = songs_dataset.create_features(songs_info_dataset, inplace=False)"
   ]
  },
  {
   "cell_type": "code",
   "execution_count": 24,
   "metadata": {},
   "outputs": [
    {
     "data": {
      "text/html": [
       "<div>\n",
       "<style scoped>\n",
       "    .dataframe tbody tr th:only-of-type {\n",
       "        vertical-align: middle;\n",
       "    }\n",
       "\n",
       "    .dataframe tbody tr th {\n",
       "        vertical-align: top;\n",
       "    }\n",
       "\n",
       "    .dataframe thead th {\n",
       "        text-align: right;\n",
       "    }\n",
       "</style>\n",
       "<table border=\"1\" class=\"dataframe\">\n",
       "  <thead>\n",
       "    <tr style=\"text-align: right;\">\n",
       "      <th></th>\n",
       "      <th>msno</th>\n",
       "      <th>city</th>\n",
       "      <th>gender</th>\n",
       "      <th>registered_via</th>\n",
       "      <th>bd_category</th>\n",
       "      <th>registration_init_year</th>\n",
       "      <th>expiration_date_year</th>\n",
       "    </tr>\n",
       "  </thead>\n",
       "  <tbody>\n",
       "    <tr>\n",
       "      <th>0</th>\n",
       "      <td>XQxgAYj3klVKjR3oxPPXYYFp4soD4TuBghkhMTD4oTw=</td>\n",
       "      <td>1</td>\n",
       "      <td>&lt;UNK&gt;</td>\n",
       "      <td>7</td>\n",
       "      <td>&lt;UNK&gt;</td>\n",
       "      <td>2011</td>\n",
       "      <td>2017</td>\n",
       "    </tr>\n",
       "    <tr>\n",
       "      <th>1</th>\n",
       "      <td>UizsfmJb9mV54qE9hCYyU07Va97c0lCRLEQX3ae+ztM=</td>\n",
       "      <td>1</td>\n",
       "      <td>&lt;UNK&gt;</td>\n",
       "      <td>7</td>\n",
       "      <td>&lt;UNK&gt;</td>\n",
       "      <td>2015</td>\n",
       "      <td>2017</td>\n",
       "    </tr>\n",
       "    <tr>\n",
       "      <th>2</th>\n",
       "      <td>D8nEhsIOBSoE6VthTaqDX8U6lqjJ7dLdr72mOyLya2A=</td>\n",
       "      <td>1</td>\n",
       "      <td>&lt;UNK&gt;</td>\n",
       "      <td>4</td>\n",
       "      <td>&lt;UNK&gt;</td>\n",
       "      <td>2016</td>\n",
       "      <td>2017</td>\n",
       "    </tr>\n",
       "  </tbody>\n",
       "</table>\n",
       "</div>"
      ],
      "text/plain": [
       "                                           msno city gender registered_via  \\\n",
       "0  XQxgAYj3klVKjR3oxPPXYYFp4soD4TuBghkhMTD4oTw=    1  <UNK>              7   \n",
       "1  UizsfmJb9mV54qE9hCYyU07Va97c0lCRLEQX3ae+ztM=    1  <UNK>              7   \n",
       "2  D8nEhsIOBSoE6VthTaqDX8U6lqjJ7dLdr72mOyLya2A=    1  <UNK>              4   \n",
       "\n",
       "  bd_category  registration_init_year  expiration_date_year  \n",
       "0       <UNK>                    2011                  2017  \n",
       "1       <UNK>                    2015                  2017  \n",
       "2       <UNK>                    2016                  2017  "
      ]
     },
     "execution_count": 24,
     "metadata": {},
     "output_type": "execute_result"
    }
   ],
   "source": [
    "members_dataset_featured.pandas_df.head(3)"
   ]
  },
  {
   "cell_type": "code",
   "execution_count": 30,
   "metadata": {},
   "outputs": [
    {
     "data": {
      "text/html": [
       "<div>\n",
       "<style scoped>\n",
       "    .dataframe tbody tr th:only-of-type {\n",
       "        vertical-align: middle;\n",
       "    }\n",
       "\n",
       "    .dataframe tbody tr th {\n",
       "        vertical-align: top;\n",
       "    }\n",
       "\n",
       "    .dataframe thead th {\n",
       "        text-align: right;\n",
       "    }\n",
       "</style>\n",
       "<table border=\"1\" class=\"dataframe\">\n",
       "  <thead>\n",
       "    <tr style=\"text-align: right;\">\n",
       "      <th></th>\n",
       "      <th>song_id</th>\n",
       "      <th>song_length</th>\n",
       "      <th>genre_ids</th>\n",
       "      <th>artist_name</th>\n",
       "      <th>composer</th>\n",
       "      <th>lyricist</th>\n",
       "      <th>language</th>\n",
       "      <th>genres_count</th>\n",
       "      <th>artist_name_count</th>\n",
       "      <th>composer_count</th>\n",
       "      <th>lyricists_count</th>\n",
       "      <th>isrc_year</th>\n",
       "    </tr>\n",
       "  </thead>\n",
       "  <tbody>\n",
       "    <tr>\n",
       "      <th>0</th>\n",
       "      <td>CXoTN1eb7AI+DntdU1vbcwGRV4SCIDxZu+YD8JP8r4E=</td>\n",
       "      <td>247640</td>\n",
       "      <td>465</td>\n",
       "      <td>張信哲 (Jeff Chang)</td>\n",
       "      <td>董貞</td>\n",
       "      <td>何啟弘</td>\n",
       "      <td>3.0</td>\n",
       "      <td>1</td>\n",
       "      <td>1</td>\n",
       "      <td>1</td>\n",
       "      <td>1</td>\n",
       "      <td>2014</td>\n",
       "    </tr>\n",
       "    <tr>\n",
       "      <th>1</th>\n",
       "      <td>o0kFgae9QtnYgRkVPqLJwa05zIhRlUjfF7O1tDw0ZDU=</td>\n",
       "      <td>197328</td>\n",
       "      <td>444</td>\n",
       "      <td>BLACKPINK</td>\n",
       "      <td>TEDDY|  FUTURE BOUNCE|  Bekuh BOOM</td>\n",
       "      <td>TEDDY</td>\n",
       "      <td>31.0</td>\n",
       "      <td>1</td>\n",
       "      <td>1</td>\n",
       "      <td>3</td>\n",
       "      <td>1</td>\n",
       "      <td>-1</td>\n",
       "    </tr>\n",
       "    <tr>\n",
       "      <th>2</th>\n",
       "      <td>DwVvVurfpuz+XPuFvucclVQEyPqcpUkHR0ne1RQzPs0=</td>\n",
       "      <td>231781</td>\n",
       "      <td>465</td>\n",
       "      <td>SUPER JUNIOR</td>\n",
       "      <td>&lt;UNK&gt;</td>\n",
       "      <td>&lt;UNK&gt;</td>\n",
       "      <td>31.0</td>\n",
       "      <td>1</td>\n",
       "      <td>1</td>\n",
       "      <td>0</td>\n",
       "      <td>0</td>\n",
       "      <td>-1</td>\n",
       "    </tr>\n",
       "  </tbody>\n",
       "</table>\n",
       "</div>"
      ],
      "text/plain": [
       "                                        song_id  song_length genre_ids  \\\n",
       "0  CXoTN1eb7AI+DntdU1vbcwGRV4SCIDxZu+YD8JP8r4E=       247640       465   \n",
       "1  o0kFgae9QtnYgRkVPqLJwa05zIhRlUjfF7O1tDw0ZDU=       197328       444   \n",
       "2  DwVvVurfpuz+XPuFvucclVQEyPqcpUkHR0ne1RQzPs0=       231781       465   \n",
       "\n",
       "        artist_name                            composer lyricist language  \\\n",
       "0  張信哲 (Jeff Chang)                                  董貞      何啟弘      3.0   \n",
       "1         BLACKPINK  TEDDY|  FUTURE BOUNCE|  Bekuh BOOM    TEDDY     31.0   \n",
       "2      SUPER JUNIOR                               <UNK>    <UNK>     31.0   \n",
       "\n",
       "   genres_count  artist_name_count  composer_count  lyricists_count isrc_year  \n",
       "0             1                  1               1                1      2014  \n",
       "1             1                  1               3                1        -1  \n",
       "2             1                  1               0                0        -1  "
      ]
     },
     "execution_count": 30,
     "metadata": {},
     "output_type": "execute_result"
    }
   ],
   "source": [
    "songs_dataset_featured.pandas_df.head(3)"
   ]
  },
  {
   "cell_type": "markdown",
   "metadata": {},
   "source": [
    "Теперь добавим в обучающую выборку признаков из песен и пользователей. "
   ]
  },
  {
   "cell_type": "code",
   "execution_count": 35,
   "metadata": {},
   "outputs": [],
   "source": [
    "train_dataset = train_dataset.merge(members_dataset_featured, on=\"msno\", how=\"left\")\n",
    "train_dataset = train_dataset.merge(songs_dataset_featured, on=\"song_id\", how=\"left\")"
   ]
  },
  {
   "cell_type": "code",
   "execution_count": 36,
   "metadata": {},
   "outputs": [
    {
     "data": {
      "text/html": [
       "<div>\n",
       "<style scoped>\n",
       "    .dataframe tbody tr th:only-of-type {\n",
       "        vertical-align: middle;\n",
       "    }\n",
       "\n",
       "    .dataframe tbody tr th {\n",
       "        vertical-align: top;\n",
       "    }\n",
       "\n",
       "    .dataframe thead th {\n",
       "        text-align: right;\n",
       "    }\n",
       "</style>\n",
       "<table border=\"1\" class=\"dataframe\">\n",
       "  <thead>\n",
       "    <tr style=\"text-align: right;\">\n",
       "      <th></th>\n",
       "      <th>msno</th>\n",
       "      <th>song_id</th>\n",
       "      <th>source_system_tab</th>\n",
       "      <th>source_screen_name</th>\n",
       "      <th>source_type</th>\n",
       "      <th>target</th>\n",
       "      <th>city</th>\n",
       "      <th>gender</th>\n",
       "      <th>registered_via</th>\n",
       "      <th>bd_category</th>\n",
       "      <th>...</th>\n",
       "      <th>genre_ids</th>\n",
       "      <th>artist_name</th>\n",
       "      <th>composer</th>\n",
       "      <th>lyricist</th>\n",
       "      <th>language</th>\n",
       "      <th>genres_count</th>\n",
       "      <th>artist_name_count</th>\n",
       "      <th>composer_count</th>\n",
       "      <th>lyricists_count</th>\n",
       "      <th>isrc_year</th>\n",
       "    </tr>\n",
       "  </thead>\n",
       "  <tbody>\n",
       "    <tr>\n",
       "      <th>0</th>\n",
       "      <td>FGtllVqz18RPiwJj/edr2gV78zirAiY/9SmYvia+kCg=</td>\n",
       "      <td>BBzumQNXUHKdEBOB7mAJuzok+IJA1c2Ryg/yzTF6tik=</td>\n",
       "      <td>explore</td>\n",
       "      <td>Explore</td>\n",
       "      <td>online-playlist</td>\n",
       "      <td>1</td>\n",
       "      <td>1</td>\n",
       "      <td>&lt;UNK&gt;</td>\n",
       "      <td>7</td>\n",
       "      <td>&lt;UNK&gt;</td>\n",
       "      <td>...</td>\n",
       "      <td>359</td>\n",
       "      <td>Bastille</td>\n",
       "      <td>Dan Smith| Mark Crew</td>\n",
       "      <td>&lt;UNK&gt;</td>\n",
       "      <td>52.0</td>\n",
       "      <td>1.0</td>\n",
       "      <td>1.0</td>\n",
       "      <td>2.0</td>\n",
       "      <td>0.0</td>\n",
       "      <td>2016</td>\n",
       "    </tr>\n",
       "    <tr>\n",
       "      <th>1</th>\n",
       "      <td>Xumu+NIjS6QYVxDS4/t3SawvJ7viT9hPKXmf0RtLNx8=</td>\n",
       "      <td>bhp/MpSNoqoxOIB+/l8WPqu6jldth4DIpCm3ayXnJqM=</td>\n",
       "      <td>my library</td>\n",
       "      <td>Local playlist more</td>\n",
       "      <td>local-playlist</td>\n",
       "      <td>1</td>\n",
       "      <td>13</td>\n",
       "      <td>female</td>\n",
       "      <td>9</td>\n",
       "      <td>young</td>\n",
       "      <td>...</td>\n",
       "      <td>1259</td>\n",
       "      <td>Various Artists</td>\n",
       "      <td>&lt;UNK&gt;</td>\n",
       "      <td>&lt;UNK&gt;</td>\n",
       "      <td>52.0</td>\n",
       "      <td>1.0</td>\n",
       "      <td>1.0</td>\n",
       "      <td>0.0</td>\n",
       "      <td>0.0</td>\n",
       "      <td>1999</td>\n",
       "    </tr>\n",
       "    <tr>\n",
       "      <th>2</th>\n",
       "      <td>Xumu+NIjS6QYVxDS4/t3SawvJ7viT9hPKXmf0RtLNx8=</td>\n",
       "      <td>JNWfrrC7zNN7BdMpsISKa4Mw+xVJYNnxXh3/Epw7QgY=</td>\n",
       "      <td>my library</td>\n",
       "      <td>Local playlist more</td>\n",
       "      <td>local-playlist</td>\n",
       "      <td>1</td>\n",
       "      <td>13</td>\n",
       "      <td>female</td>\n",
       "      <td>9</td>\n",
       "      <td>young</td>\n",
       "      <td>...</td>\n",
       "      <td>1259</td>\n",
       "      <td>Nas</td>\n",
       "      <td>N. Jones、W. Adams、J. Lordan、D. Ingle</td>\n",
       "      <td>&lt;UNK&gt;</td>\n",
       "      <td>52.0</td>\n",
       "      <td>1.0</td>\n",
       "      <td>1.0</td>\n",
       "      <td>1.0</td>\n",
       "      <td>0.0</td>\n",
       "      <td>2006</td>\n",
       "    </tr>\n",
       "  </tbody>\n",
       "</table>\n",
       "<p>3 rows × 23 columns</p>\n",
       "</div>"
      ],
      "text/plain": [
       "                                           msno  \\\n",
       "0  FGtllVqz18RPiwJj/edr2gV78zirAiY/9SmYvia+kCg=   \n",
       "1  Xumu+NIjS6QYVxDS4/t3SawvJ7viT9hPKXmf0RtLNx8=   \n",
       "2  Xumu+NIjS6QYVxDS4/t3SawvJ7viT9hPKXmf0RtLNx8=   \n",
       "\n",
       "                                        song_id source_system_tab  \\\n",
       "0  BBzumQNXUHKdEBOB7mAJuzok+IJA1c2Ryg/yzTF6tik=           explore   \n",
       "1  bhp/MpSNoqoxOIB+/l8WPqu6jldth4DIpCm3ayXnJqM=        my library   \n",
       "2  JNWfrrC7zNN7BdMpsISKa4Mw+xVJYNnxXh3/Epw7QgY=        my library   \n",
       "\n",
       "    source_screen_name      source_type  target city  gender registered_via  \\\n",
       "0              Explore  online-playlist       1    1   <UNK>              7   \n",
       "1  Local playlist more   local-playlist       1   13  female              9   \n",
       "2  Local playlist more   local-playlist       1   13  female              9   \n",
       "\n",
       "  bd_category  ...  genre_ids      artist_name  \\\n",
       "0       <UNK>  ...        359         Bastille   \n",
       "1       young  ...       1259  Various Artists   \n",
       "2       young  ...       1259              Nas   \n",
       "\n",
       "                               composer lyricist language genres_count  \\\n",
       "0                  Dan Smith| Mark Crew    <UNK>     52.0          1.0   \n",
       "1                                 <UNK>    <UNK>     52.0          1.0   \n",
       "2  N. Jones、W. Adams、J. Lordan、D. Ingle    <UNK>     52.0          1.0   \n",
       "\n",
       "  artist_name_count composer_count  lyricists_count  isrc_year  \n",
       "0               1.0            2.0              0.0       2016  \n",
       "1               1.0            0.0              0.0       1999  \n",
       "2               1.0            1.0              0.0       2006  \n",
       "\n",
       "[3 rows x 23 columns]"
      ]
     },
     "execution_count": 36,
     "metadata": {},
     "output_type": "execute_result"
    }
   ],
   "source": [
    "train_dataset.pandas_df.head(3)"
   ]
  },
  {
   "cell_type": "markdown",
   "metadata": {},
   "source": [
    "Теперь преобразуем некоторые колонки категориальным значениям и заполнил пропуски. "
   ]
  },
  {
   "cell_type": "code",
   "execution_count": 37,
   "metadata": {},
   "outputs": [],
   "source": [
    "train_dataset.to_category([\"msno\", \"song_id\"])\n",
    "train_dataset.fill_na_category([\"source_system_tab\", \"source_screen_name\", \"source_type\"])"
   ]
  },
  {
   "cell_type": "code",
   "execution_count": 38,
   "metadata": {},
   "outputs": [
    {
     "name": "stdout",
     "output_type": "stream",
     "text": [
      "<class 'pandas.core.frame.DataFrame'>\n",
      "Int64Index: 7377418 entries, 0 to 7377417\n",
      "Data columns (total 23 columns):\n",
      " #   Column                  Dtype   \n",
      "---  ------                  -----   \n",
      " 0   msno                    category\n",
      " 1   song_id                 category\n",
      " 2   source_system_tab       category\n",
      " 3   source_screen_name      category\n",
      " 4   source_type             category\n",
      " 5   target                  uint8   \n",
      " 6   city                    category\n",
      " 7   gender                  category\n",
      " 8   registered_via          category\n",
      " 9   bd_category             category\n",
      " 10  registration_init_year  int64   \n",
      " 11  expiration_date_year    int64   \n",
      " 12  song_length             float64 \n",
      " 13  genre_ids               category\n",
      " 14  artist_name             category\n",
      " 15  composer                category\n",
      " 16  lyricist                category\n",
      " 17  language                category\n",
      " 18  genres_count            float64 \n",
      " 19  artist_name_count       float64 \n",
      " 20  composer_count          float64 \n",
      " 21  lyricists_count         float64 \n",
      " 22  isrc_year               category\n",
      "dtypes: category(15), float64(5), int64(2), uint8(1)\n",
      "memory usage: 698.7 MB\n"
     ]
    }
   ],
   "source": [
    "train_dataset.pandas_df.info()"
   ]
  },
  {
   "cell_type": "markdown",
   "metadata": {},
   "source": [
    "Все круто!"
   ]
  },
  {
   "cell_type": "code",
   "execution_count": 39,
   "metadata": {},
   "outputs": [
    {
     "name": "stdout",
     "output_type": "stream",
     "text": [
      "Количество записей, для которых не нашлось пользователя или песни: 114\n"
     ]
    }
   ],
   "source": [
    "na_mask = train_dataset.pandas_df.isna().any(axis=1)\n",
    "print(f\"Количество записей, для которых не нашлось пользователя или песни: {sum(na_mask)}\")"
   ]
  },
  {
   "cell_type": "markdown",
   "metadata": {},
   "source": [
    "Их оказалось не так много, уберем из нашего набора данных."
   ]
  },
  {
   "cell_type": "code",
   "execution_count": 40,
   "metadata": {},
   "outputs": [],
   "source": [
    "train_dataset = train_dataset.remove_by_mask(na_mask)"
   ]
  },
  {
   "cell_type": "markdown",
   "metadata": {},
   "source": [
    "Так как **CatBoost** на CPU обучается достаточно долго (больше часа), то было решено обучать на GPU. Однако GPU не поддерживает группы больше 1023, поэтому тренировочный набор данных был уменьшен. При этом, желательно сохранить порядок записей."
   ]
  },
  {
   "cell_type": "code",
   "execution_count": 41,
   "metadata": {},
   "outputs": [],
   "source": [
    "train_dataset_reduced = train_dataset.reduce_by_members(size=1023)"
   ]
  },
  {
   "cell_type": "code",
   "execution_count": 42,
   "metadata": {},
   "outputs": [
    {
     "data": {
      "text/plain": [
       "1    3564182\n",
       "0    3451109\n",
       "Name: target, dtype: int64"
      ]
     },
     "execution_count": 42,
     "metadata": {},
     "output_type": "execute_result"
    }
   ],
   "source": [
    "train_dataset_reduced.pandas_df.target.value_counts()"
   ]
  },
  {
   "cell_type": "markdown",
   "metadata": {},
   "source": [
    "Соотношение классов осталось тем же, все хорошо. "
   ]
  },
  {
   "cell_type": "code",
   "execution_count": 43,
   "metadata": {},
   "outputs": [
    {
     "name": "stdout",
     "output_type": "stream",
     "text": [
      "Изменение размеров: 7377304 -> 7015291\n"
     ]
    }
   ],
   "source": [
    "print(f\"Изменение размеров: {len(train_dataset)} -> {len(train_dataset_reduced)}\")"
   ]
  },
  {
   "cell_type": "markdown",
   "metadata": {},
   "source": [
    "## Задание 1"
   ]
  },
  {
   "cell_type": "markdown",
   "metadata": {},
   "source": [
    "Построить рекомендации для каждого пользователя, произвести оценку качества с помощью 5-fold CV с метриками NDCG, ROC AUC per user."
   ]
  },
  {
   "cell_type": "markdown",
   "metadata": {},
   "source": [
    "При разработке признаков я умеренно не стал брать признаки, полученные с помощью матричных факторизаций, чтобы потом добавить неклассические эмбеддинги, полученные в задании 2. "
   ]
  },
  {
   "cell_type": "markdown",
   "metadata": {},
   "source": [
    "Для **CatBoost** необоходимо, чтобы данные были упорядочены по **queries**, поэтому будем обучать модели на упорядоченных данных, но эмбеддинги составлять на основе натурального порядка. "
   ]
  },
  {
   "cell_type": "code",
   "execution_count": null,
   "metadata": {},
   "outputs": [
    {
     "name": "stdout",
     "output_type": "stream",
     "text": [
      "Train dataset size: 5612232 | Test dataset size: 1403059\n",
      "Groupwise loss function. OneHotMaxSize set to 10\n",
      "0:\ttotal: 19.7s\tremaining: 48m 51s\n",
      "1:\ttotal: 34s\tremaining: 41m 56s\n",
      "2:\ttotal: 48.1s\tremaining: 39m 15s\n",
      "3:\ttotal: 1m 2s\tremaining: 38m 6s\n",
      "4:\ttotal: 1m 16s\tremaining: 36m 57s\n",
      "5:\ttotal: 1m 32s\tremaining: 36m 59s\n",
      "6:\ttotal: 1m 48s\tremaining: 36m 50s\n",
      "7:\ttotal: 2m 3s\tremaining: 36m 28s\n",
      "8:\ttotal: 2m 19s\tremaining: 36m 18s\n",
      "9:\ttotal: 2m 33s\tremaining: 35m 52s\n",
      "10:\ttotal: 2m 48s\tremaining: 35m 28s\n",
      "11:\ttotal: 3m 2s\tremaining: 34m 53s\n",
      "12:\ttotal: 3m 16s\tremaining: 34m 31s\n",
      "13:\ttotal: 3m 32s\tremaining: 34m 21s\n",
      "14:\ttotal: 3m 47s\tremaining: 34m 4s\n",
      "15:\ttotal: 4m 2s\tremaining: 33m 47s\n",
      "16:\ttotal: 4m 17s\tremaining: 33m 35s\n",
      "17:\ttotal: 4m 31s\tremaining: 33m 9s\n",
      "18:\ttotal: 4m 45s\tremaining: 32m 51s\n",
      "19:\ttotal: 5m 1s\tremaining: 32m 41s\n",
      "20:\ttotal: 5m 17s\tremaining: 32m 32s\n",
      "21:\ttotal: 5m 33s\tremaining: 32m 21s\n",
      "22:\ttotal: 5m 46s\tremaining: 31m 55s\n",
      "23:\ttotal: 6m 1s\tremaining: 31m 36s\n",
      "24:\ttotal: 6m 16s\tremaining: 31m 20s\n",
      "25:\ttotal: 6m 30s\tremaining: 31m 2s\n",
      "26:\ttotal: 6m 45s\tremaining: 30m 49s\n",
      "27:\ttotal: 6m 59s\tremaining: 30m 29s\n",
      "28:\ttotal: 7m 13s\tremaining: 30m 10s\n",
      "29:\ttotal: 7m 28s\tremaining: 29m 54s\n",
      "30:\ttotal: 7m 43s\tremaining: 29m 37s\n",
      "31:\ttotal: 7m 56s\tremaining: 29m 18s\n",
      "32:\ttotal: 8m 11s\tremaining: 29m 4s\n",
      "33:\ttotal: 8m 25s\tremaining: 28m 44s\n",
      "34:\ttotal: 8m 41s\tremaining: 28m 33s\n",
      "35:\ttotal: 8m 55s\tremaining: 28m 15s\n",
      "36:\ttotal: 9m 11s\tremaining: 28m 4s\n",
      "37:\ttotal: 9m 28s\tremaining: 27m 54s\n",
      "38:\ttotal: 9m 44s\tremaining: 27m 43s\n",
      "39:\ttotal: 10m\tremaining: 27m 30s\n",
      "40:\ttotal: 10m 16s\tremaining: 27m 17s\n",
      "41:\ttotal: 10m 29s\tremaining: 26m 58s\n",
      "42:\ttotal: 10m 43s\tremaining: 26m 41s\n",
      "43:\ttotal: 10m 58s\tremaining: 26m 25s\n",
      "44:\ttotal: 11m 12s\tremaining: 26m 10s\n",
      "45:\ttotal: 11m 27s\tremaining: 25m 54s\n",
      "46:\ttotal: 11m 40s\tremaining: 25m 35s\n",
      "47:\ttotal: 11m 53s\tremaining: 25m 16s\n",
      "48:\ttotal: 12m 10s\tremaining: 25m 6s\n",
      "49:\ttotal: 12m 25s\tremaining: 24m 51s\n",
      "50:\ttotal: 12m 39s\tremaining: 24m 33s\n",
      "51:\ttotal: 12m 53s\tremaining: 24m 18s\n",
      "52:\ttotal: 13m 8s\tremaining: 24m 3s\n",
      "53:\ttotal: 13m 25s\tremaining: 23m 52s\n",
      "54:\ttotal: 13m 40s\tremaining: 23m 36s\n",
      "55:\ttotal: 13m 54s\tremaining: 23m 21s\n",
      "56:\ttotal: 14m 8s\tremaining: 23m 4s\n",
      "57:\ttotal: 14m 23s\tremaining: 22m 49s\n",
      "58:\ttotal: 14m 38s\tremaining: 22m 35s\n",
      "59:\ttotal: 14m 53s\tremaining: 22m 20s\n",
      "60:\ttotal: 15m 6s\tremaining: 22m 2s\n",
      "61:\ttotal: 15m 19s\tremaining: 21m 44s\n",
      "62:\ttotal: 15m 34s\tremaining: 21m 29s\n",
      "63:\ttotal: 15m 50s\tremaining: 21m 17s\n",
      "64:\ttotal: 16m 5s\tremaining: 21m 2s\n",
      "65:\ttotal: 16m 21s\tremaining: 20m 48s\n",
      "66:\ttotal: 16m 35s\tremaining: 20m 32s\n",
      "67:\ttotal: 16m 48s\tremaining: 20m 16s\n",
      "68:\ttotal: 17m 2s\tremaining: 19m 59s\n",
      "69:\ttotal: 17m 16s\tremaining: 19m 44s\n",
      "70:\ttotal: 17m 32s\tremaining: 19m 30s\n",
      "71:\ttotal: 17m 46s\tremaining: 19m 15s\n",
      "72:\ttotal: 18m 2s\tremaining: 19m 1s\n",
      "73:\ttotal: 18m 15s\tremaining: 18m 45s\n",
      "74:\ttotal: 18m 30s\tremaining: 18m 30s\n"
     ]
    }
   ],
   "source": [
    "train_dataset_reduced_sorted = train_dataset_reduced.sort_by(\"msno\")\n",
    "model = CatBoostModel(\"YetiRank\", 150, \"CPU\", random_state)\n",
    "scores = model.cv_scores(train_dataset_reduced_sorted, n_splits=5)"
   ]
  },
  {
   "cell_type": "markdown",
   "metadata": {},
   "source": [
    "## Задание 2"
   ]
  },
  {
   "cell_type": "code",
   "execution_count": null,
   "metadata": {},
   "outputs": [],
   "source": []
  }
 ],
 "metadata": {
  "kernelspec": {
   "display_name": "Python 3 (ipykernel)",
   "language": "python",
   "name": "python3"
  },
  "language_info": {
   "codemirror_mode": {
    "name": "ipython",
    "version": 3
   },
   "file_extension": ".py",
   "mimetype": "text/x-python",
   "name": "python",
   "nbconvert_exporter": "python",
   "pygments_lexer": "ipython3",
   "version": "3.8.11"
  }
 },
 "nbformat": 4,
 "nbformat_minor": 1
}
