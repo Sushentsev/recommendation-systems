{
 "cells": [
  {
   "cell_type": "markdown",
   "metadata": {
    "collapsed": true,
    "id": "aoWZrdYj6ka4"
   },
   "source": [
    "# Music Recomendations"
   ]
  },
  {
   "cell_type": "code",
   "execution_count": null,
   "metadata": {
    "id": "bP2rFoVt6of5",
    "scrolled": true
   },
   "outputs": [],
   "source": [
    "!pip install catboost==1.0.3\n",
    "!pip install gensim==4.1.0\n",
    "!pip install --upgrade numpy\n",
    "!pip install shap"
   ]
  },
  {
   "cell_type": "code",
   "execution_count": null,
   "metadata": {
    "colab": {
     "base_uri": "https://localhost:8080/"
    },
    "id": "aAove_va6u9V",
    "outputId": "2936e05d-a964-47e0-d201-d8340dc8af8d"
   },
   "outputs": [
    {
     "name": "stdout",
     "output_type": "stream",
     "text": [
      "Sun Nov 28 10:20:39 2021       \n",
      "+-----------------------------------------------------------------------------+\n",
      "| NVIDIA-SMI 495.44       Driver Version: 460.32.03    CUDA Version: 11.2     |\n",
      "|-------------------------------+----------------------+----------------------+\n",
      "| GPU  Name        Persistence-M| Bus-Id        Disp.A | Volatile Uncorr. ECC |\n",
      "| Fan  Temp  Perf  Pwr:Usage/Cap|         Memory-Usage | GPU-Util  Compute M. |\n",
      "|                               |                      |               MIG M. |\n",
      "|===============================+======================+======================|\n",
      "|   0  Tesla K80           Off  | 00000000:00:04.0 Off |                    0 |\n",
      "| N/A   67C    P8    31W / 149W |      0MiB / 11441MiB |      0%      Default |\n",
      "|                               |                      |                  N/A |\n",
      "+-------------------------------+----------------------+----------------------+\n",
      "                                                                               \n",
      "+-----------------------------------------------------------------------------+\n",
      "| Processes:                                                                  |\n",
      "|  GPU   GI   CI        PID   Type   Process name                  GPU Memory |\n",
      "|        ID   ID                                                   Usage      |\n",
      "|=============================================================================|\n",
      "|  No running processes found                                                 |\n",
      "+-----------------------------------------------------------------------------+\n"
     ]
    }
   ],
   "source": [
    "!nvidia-smi"
   ]
  },
  {
   "cell_type": "code",
   "execution_count": null,
   "metadata": {
    "colab": {
     "base_uri": "https://localhost:8080/"
    },
    "id": "lwnCE5dt6p3q",
    "outputId": "0fad731b-1083-427a-e3bf-d3d4cfd4263b"
   },
   "outputs": [
    {
     "name": "stdout",
     "output_type": "stream",
     "text": [
      "/content\n",
      "--2021-11-28 09:52:17--  https://voudy-data.s3.eu-north-1.amazonaws.com/wsdm_data.tar.gz\n",
      "Resolving voudy-data.s3.eu-north-1.amazonaws.com (voudy-data.s3.eu-north-1.amazonaws.com)... 52.95.171.20\n",
      "Connecting to voudy-data.s3.eu-north-1.amazonaws.com (voudy-data.s3.eu-north-1.amazonaws.com)|52.95.171.20|:443... connected.\n",
      "HTTP request sent, awaiting response... 200 OK\n",
      "Length: 613394184 (585M) [application/x-gzip]\n",
      "Saving to: ‘wsdm_data.tar.gz’\n",
      "\n",
      "wsdm_data.tar.gz    100%[===================>] 584.98M  10.9MB/s    in 56s     \n",
      "\n",
      "2021-11-28 09:53:14 (10.4 MB/s) - ‘wsdm_data.tar.gz’ saved [613394184/613394184]\n",
      "\n",
      "Cloning into 'recommendation-systems'...\n",
      "remote: Enumerating objects: 127, done.\u001B[K\n",
      "remote: Counting objects: 100% (127/127), done.\u001B[K\n",
      "remote: Compressing objects: 100% (92/92), done.\u001B[K\n",
      "remote: Total 127 (delta 71), reused 85 (delta 33), pack-reused 0\u001B[K\n",
      "Receiving objects: 100% (127/127), 6.48 MiB | 13.19 MiB/s, done.\n",
      "Resolving deltas: 100% (71/71), done.\n",
      "/content/recommendation-systems\n"
     ]
    }
   ],
   "source": [
    "%cd /content\n",
    "!wget https://voudy-data.s3.eu-north-1.amazonaws.com/wsdm_data.tar.gz\n",
    "!tar -xf /content/wsdm_data.tar.gz\n",
    "!mkdir data\n",
    "!mv -t data members.csv song_extra_info.csv songs.csv train.csv\n",
    "!git clone -b hw2 https://github.com/Sushentsev/recommendation-systems\n",
    "%cd recommendation-systems/\n",
    "!mv /content/data /content/recommendation-systems/hw2"
   ]
  },
  {
   "cell_type": "code",
   "execution_count": 11,
   "metadata": {
    "colab": {
     "base_uri": "https://localhost:8080/"
    },
    "id": "Bijh8iRH6rqv",
    "outputId": "a9652473-a094-4429-c60d-65ad518fe941"
   },
   "outputs": [
    {
     "name": "stdout",
     "output_type": "stream",
     "text": [
      "/content/recommendation-systems/hw2\n"
     ]
    }
   ],
   "source": [
    "%cd /content/recommendation-systems/hw2"
   ]
  },
  {
   "cell_type": "code",
   "execution_count": 12,
   "metadata": {
    "id": "4G8Gs-HI6tSy"
   },
   "outputs": [],
   "source": [
    "import sys\n",
    "sys.path.append(\"/content/recommendation-systems\")"
   ]
  },
  {
   "cell_type": "code",
   "execution_count": 1,
   "metadata": {
    "colab": {
     "base_uri": "https://localhost:8080/"
    },
    "id": "MCXSw-XY6ka5",
    "outputId": "a639e36e-6572-4681-b216-6adba5a49a9c"
   },
   "outputs": [],
   "source": [
    "from datasets.members import MembersDataset\n",
    "from datasets.songs import SongsDataset\n",
    "from datasets.train import TrainDataset\n",
    "from datasets.songs_info import SongsInfoDataset\n",
    "\n",
    "from models.catboost_model import CatBoostModel\n",
    "from models.embeddings_model import EmbeddingModel\n",
    "from models.combined_model import CombinedModel\n",
    "\n",
    "from embeddings_builder import EmbeddingsBuilder\n",
    "\n",
    "from plot import * \n",
    "from utils import * \n",
    "from sklearn.model_selection import train_test_split\n",
    "from catboost import *\n",
    "\n",
    "import pandas as pd\n",
    "import numpy as np\n",
    "import matplotlib.pyplot as plt\n",
    "import shap\n",
    "\n",
    "%load_ext autoreload\n",
    "%autoreload 2"
   ]
  },
  {
   "cell_type": "markdown",
   "metadata": {
    "id": "hovxQlXl6ka6"
   },
   "source": [
    "## Подготовка данных"
   ]
  },
  {
   "cell_type": "code",
   "execution_count": 2,
   "metadata": {
    "id": "xnvHEoJn6ka7"
   },
   "outputs": [],
   "source": [
    "random_state = 42"
   ]
  },
  {
   "cell_type": "markdown",
   "metadata": {
    "id": "FvZPG6hO6ka7"
   },
   "source": [
    "Загрузим данные в память. "
   ]
  },
  {
   "cell_type": "code",
   "execution_count": 3,
   "metadata": {
    "colab": {
     "base_uri": "https://localhost:8080/"
    },
    "id": "l4n07gtT6ka7",
    "outputId": "6459aa9e-0f86-46d7-e853-faa0193539e1"
   },
   "outputs": [
    {
     "name": "stdout",
     "output_type": "stream",
     "text": [
      "CPU times: user 1min 3s, sys: 1.72 s, total: 1min 5s\n",
      "Wall time: 1min 5s\n"
     ]
    }
   ],
   "source": [
    "%%time\n",
    "members_dataset = MembersDataset.from_path(\"./data/members.csv\")\n",
    "songs_dataset = SongsDataset.from_path(\"./data/songs.csv\")\n",
    "train_dataset = TrainDataset.from_path(\"./data/train.csv\")\n",
    "songs_info_dataset = SongsInfoDataset.from_path(\"./data/song_extra_info.csv\")"
   ]
  },
  {
   "cell_type": "markdown",
   "metadata": {
    "id": "rrtM00Yw6ka8"
   },
   "source": [
    "Построим признаки для песен и пользователей и посмотрим, что получилось. "
   ]
  },
  {
   "cell_type": "code",
   "execution_count": 4,
   "metadata": {
    "colab": {
     "base_uri": "https://localhost:8080/"
    },
    "id": "JP9BeZDY6ka8",
    "outputId": "fd8a07c6-0dc6-45b8-aaaa-9806922e741d"
   },
   "outputs": [
    {
     "name": "stdout",
     "output_type": "stream",
     "text": [
      "CPU times: user 12.5 s, sys: 682 ms, total: 13.1 s\n",
      "Wall time: 13.2 s\n"
     ]
    }
   ],
   "source": [
    "%%time\n",
    "members_dataset = members_dataset.create_features()\n",
    "songs_dataset = songs_dataset.create_features(songs_info_dataset)"
   ]
  },
  {
   "cell_type": "code",
   "execution_count": 5,
   "metadata": {
    "colab": {
     "base_uri": "https://localhost:8080/",
     "height": 142
    },
    "id": "isbOUfyg6ka9",
    "outputId": "bec544bf-8078-45a5-beef-ca1ebd727082"
   },
   "outputs": [
    {
     "data": {
      "text/html": [
       "<div>\n",
       "<style scoped>\n",
       "    .dataframe tbody tr th:only-of-type {\n",
       "        vertical-align: middle;\n",
       "    }\n",
       "\n",
       "    .dataframe tbody tr th {\n",
       "        vertical-align: top;\n",
       "    }\n",
       "\n",
       "    .dataframe thead th {\n",
       "        text-align: right;\n",
       "    }\n",
       "</style>\n",
       "<table border=\"1\" class=\"dataframe\">\n",
       "  <thead>\n",
       "    <tr style=\"text-align: right;\">\n",
       "      <th></th>\n",
       "      <th>msno</th>\n",
       "      <th>city</th>\n",
       "      <th>gender</th>\n",
       "      <th>registered_via</th>\n",
       "      <th>bd_category</th>\n",
       "      <th>registration_init_year</th>\n",
       "      <th>expiration_date_year</th>\n",
       "    </tr>\n",
       "  </thead>\n",
       "  <tbody>\n",
       "    <tr>\n",
       "      <th>0</th>\n",
       "      <td>XQxgAYj3klVKjR3oxPPXYYFp4soD4TuBghkhMTD4oTw=</td>\n",
       "      <td>1</td>\n",
       "      <td>&lt;UNK&gt;</td>\n",
       "      <td>7</td>\n",
       "      <td>&lt;UNK&gt;</td>\n",
       "      <td>2011</td>\n",
       "      <td>2017</td>\n",
       "    </tr>\n",
       "    <tr>\n",
       "      <th>1</th>\n",
       "      <td>UizsfmJb9mV54qE9hCYyU07Va97c0lCRLEQX3ae+ztM=</td>\n",
       "      <td>1</td>\n",
       "      <td>&lt;UNK&gt;</td>\n",
       "      <td>7</td>\n",
       "      <td>&lt;UNK&gt;</td>\n",
       "      <td>2015</td>\n",
       "      <td>2017</td>\n",
       "    </tr>\n",
       "    <tr>\n",
       "      <th>2</th>\n",
       "      <td>D8nEhsIOBSoE6VthTaqDX8U6lqjJ7dLdr72mOyLya2A=</td>\n",
       "      <td>1</td>\n",
       "      <td>&lt;UNK&gt;</td>\n",
       "      <td>4</td>\n",
       "      <td>&lt;UNK&gt;</td>\n",
       "      <td>2016</td>\n",
       "      <td>2017</td>\n",
       "    </tr>\n",
       "  </tbody>\n",
       "</table>\n",
       "</div>"
      ],
      "text/plain": [
       "                                           msno city gender registered_via  \\\n",
       "0  XQxgAYj3klVKjR3oxPPXYYFp4soD4TuBghkhMTD4oTw=    1  <UNK>              7   \n",
       "1  UizsfmJb9mV54qE9hCYyU07Va97c0lCRLEQX3ae+ztM=    1  <UNK>              7   \n",
       "2  D8nEhsIOBSoE6VthTaqDX8U6lqjJ7dLdr72mOyLya2A=    1  <UNK>              4   \n",
       "\n",
       "  bd_category  registration_init_year  expiration_date_year  \n",
       "0       <UNK>                    2011                  2017  \n",
       "1       <UNK>                    2015                  2017  \n",
       "2       <UNK>                    2016                  2017  "
      ]
     },
     "execution_count": 5,
     "metadata": {},
     "output_type": "execute_result"
    }
   ],
   "source": [
    "members_dataset.pandas_df.head(3)"
   ]
  },
  {
   "cell_type": "code",
   "execution_count": 6,
   "metadata": {
    "colab": {
     "base_uri": "https://localhost:8080/",
     "height": 264
    },
    "id": "LlaUj84G6ka9",
    "outputId": "66fe7200-7459-48b0-f160-418d34833e33"
   },
   "outputs": [
    {
     "data": {
      "text/html": [
       "<div>\n",
       "<style scoped>\n",
       "    .dataframe tbody tr th:only-of-type {\n",
       "        vertical-align: middle;\n",
       "    }\n",
       "\n",
       "    .dataframe tbody tr th {\n",
       "        vertical-align: top;\n",
       "    }\n",
       "\n",
       "    .dataframe thead th {\n",
       "        text-align: right;\n",
       "    }\n",
       "</style>\n",
       "<table border=\"1\" class=\"dataframe\">\n",
       "  <thead>\n",
       "    <tr style=\"text-align: right;\">\n",
       "      <th></th>\n",
       "      <th>song_id</th>\n",
       "      <th>song_length</th>\n",
       "      <th>genre_ids</th>\n",
       "      <th>artist_name</th>\n",
       "      <th>composer</th>\n",
       "      <th>lyricist</th>\n",
       "      <th>language</th>\n",
       "      <th>genres_count</th>\n",
       "      <th>artist_name_count</th>\n",
       "      <th>composer_count</th>\n",
       "      <th>lyricists_count</th>\n",
       "      <th>isrc_year</th>\n",
       "    </tr>\n",
       "  </thead>\n",
       "  <tbody>\n",
       "    <tr>\n",
       "      <th>0</th>\n",
       "      <td>CXoTN1eb7AI+DntdU1vbcwGRV4SCIDxZu+YD8JP8r4E=</td>\n",
       "      <td>247640</td>\n",
       "      <td>465</td>\n",
       "      <td>張信哲 (Jeff Chang)</td>\n",
       "      <td>董貞</td>\n",
       "      <td>何啟弘</td>\n",
       "      <td>3.0</td>\n",
       "      <td>1</td>\n",
       "      <td>1</td>\n",
       "      <td>1</td>\n",
       "      <td>1</td>\n",
       "      <td>2014</td>\n",
       "    </tr>\n",
       "    <tr>\n",
       "      <th>1</th>\n",
       "      <td>o0kFgae9QtnYgRkVPqLJwa05zIhRlUjfF7O1tDw0ZDU=</td>\n",
       "      <td>197328</td>\n",
       "      <td>444</td>\n",
       "      <td>BLACKPINK</td>\n",
       "      <td>TEDDY|  FUTURE BOUNCE|  Bekuh BOOM</td>\n",
       "      <td>TEDDY</td>\n",
       "      <td>31.0</td>\n",
       "      <td>1</td>\n",
       "      <td>1</td>\n",
       "      <td>3</td>\n",
       "      <td>1</td>\n",
       "      <td>-1</td>\n",
       "    </tr>\n",
       "    <tr>\n",
       "      <th>2</th>\n",
       "      <td>DwVvVurfpuz+XPuFvucclVQEyPqcpUkHR0ne1RQzPs0=</td>\n",
       "      <td>231781</td>\n",
       "      <td>465</td>\n",
       "      <td>SUPER JUNIOR</td>\n",
       "      <td>&lt;UNK&gt;</td>\n",
       "      <td>&lt;UNK&gt;</td>\n",
       "      <td>31.0</td>\n",
       "      <td>1</td>\n",
       "      <td>1</td>\n",
       "      <td>0</td>\n",
       "      <td>0</td>\n",
       "      <td>-1</td>\n",
       "    </tr>\n",
       "  </tbody>\n",
       "</table>\n",
       "</div>"
      ],
      "text/plain": [
       "                                        song_id  song_length genre_ids  \\\n",
       "0  CXoTN1eb7AI+DntdU1vbcwGRV4SCIDxZu+YD8JP8r4E=       247640       465   \n",
       "1  o0kFgae9QtnYgRkVPqLJwa05zIhRlUjfF7O1tDw0ZDU=       197328       444   \n",
       "2  DwVvVurfpuz+XPuFvucclVQEyPqcpUkHR0ne1RQzPs0=       231781       465   \n",
       "\n",
       "        artist_name                            composer lyricist language  \\\n",
       "0  張信哲 (Jeff Chang)                                  董貞      何啟弘      3.0   \n",
       "1         BLACKPINK  TEDDY|  FUTURE BOUNCE|  Bekuh BOOM    TEDDY     31.0   \n",
       "2      SUPER JUNIOR                               <UNK>    <UNK>     31.0   \n",
       "\n",
       "   genres_count  artist_name_count  composer_count  lyricists_count isrc_year  \n",
       "0             1                  1               1                1      2014  \n",
       "1             1                  1               3                1        -1  \n",
       "2             1                  1               0                0        -1  "
      ]
     },
     "execution_count": 6,
     "metadata": {},
     "output_type": "execute_result"
    }
   ],
   "source": [
    "songs_dataset.pandas_df.head(3)"
   ]
  },
  {
   "cell_type": "markdown",
   "metadata": {
    "id": "bQmJbYJe6ka9"
   },
   "source": [
    "Теперь добавим в обучающую выборку признаков из песен и пользователей. "
   ]
  },
  {
   "cell_type": "code",
   "execution_count": 7,
   "metadata": {
    "id": "yqhcxZYj6ka-"
   },
   "outputs": [],
   "source": [
    "train_dataset = train_dataset.merge(members_dataset, on=\"msno\", how=\"left\")\n",
    "train_dataset = train_dataset.merge(songs_dataset, on=\"song_id\", how=\"left\")"
   ]
  },
  {
   "cell_type": "code",
   "execution_count": 8,
   "metadata": {
    "colab": {
     "base_uri": "https://localhost:8080/",
     "height": 315
    },
    "id": "2K9CvIa56ka-",
    "outputId": "6625c6fa-a48b-4b77-e22b-af47aa63db85"
   },
   "outputs": [
    {
     "data": {
      "text/html": [
       "<div>\n",
       "<style scoped>\n",
       "    .dataframe tbody tr th:only-of-type {\n",
       "        vertical-align: middle;\n",
       "    }\n",
       "\n",
       "    .dataframe tbody tr th {\n",
       "        vertical-align: top;\n",
       "    }\n",
       "\n",
       "    .dataframe thead th {\n",
       "        text-align: right;\n",
       "    }\n",
       "</style>\n",
       "<table border=\"1\" class=\"dataframe\">\n",
       "  <thead>\n",
       "    <tr style=\"text-align: right;\">\n",
       "      <th></th>\n",
       "      <th>msno</th>\n",
       "      <th>song_id</th>\n",
       "      <th>source_system_tab</th>\n",
       "      <th>source_screen_name</th>\n",
       "      <th>source_type</th>\n",
       "      <th>target</th>\n",
       "      <th>city</th>\n",
       "      <th>gender</th>\n",
       "      <th>registered_via</th>\n",
       "      <th>bd_category</th>\n",
       "      <th>...</th>\n",
       "      <th>genre_ids</th>\n",
       "      <th>artist_name</th>\n",
       "      <th>composer</th>\n",
       "      <th>lyricist</th>\n",
       "      <th>language</th>\n",
       "      <th>genres_count</th>\n",
       "      <th>artist_name_count</th>\n",
       "      <th>composer_count</th>\n",
       "      <th>lyricists_count</th>\n",
       "      <th>isrc_year</th>\n",
       "    </tr>\n",
       "  </thead>\n",
       "  <tbody>\n",
       "    <tr>\n",
       "      <th>0</th>\n",
       "      <td>FGtllVqz18RPiwJj/edr2gV78zirAiY/9SmYvia+kCg=</td>\n",
       "      <td>BBzumQNXUHKdEBOB7mAJuzok+IJA1c2Ryg/yzTF6tik=</td>\n",
       "      <td>explore</td>\n",
       "      <td>Explore</td>\n",
       "      <td>online-playlist</td>\n",
       "      <td>1</td>\n",
       "      <td>1</td>\n",
       "      <td>&lt;UNK&gt;</td>\n",
       "      <td>7</td>\n",
       "      <td>&lt;UNK&gt;</td>\n",
       "      <td>...</td>\n",
       "      <td>359</td>\n",
       "      <td>Bastille</td>\n",
       "      <td>Dan Smith| Mark Crew</td>\n",
       "      <td>&lt;UNK&gt;</td>\n",
       "      <td>52.0</td>\n",
       "      <td>1.0</td>\n",
       "      <td>1.0</td>\n",
       "      <td>2.0</td>\n",
       "      <td>0.0</td>\n",
       "      <td>2016</td>\n",
       "    </tr>\n",
       "    <tr>\n",
       "      <th>1</th>\n",
       "      <td>Xumu+NIjS6QYVxDS4/t3SawvJ7viT9hPKXmf0RtLNx8=</td>\n",
       "      <td>bhp/MpSNoqoxOIB+/l8WPqu6jldth4DIpCm3ayXnJqM=</td>\n",
       "      <td>my library</td>\n",
       "      <td>Local playlist more</td>\n",
       "      <td>local-playlist</td>\n",
       "      <td>1</td>\n",
       "      <td>13</td>\n",
       "      <td>female</td>\n",
       "      <td>9</td>\n",
       "      <td>young</td>\n",
       "      <td>...</td>\n",
       "      <td>1259</td>\n",
       "      <td>Various Artists</td>\n",
       "      <td>&lt;UNK&gt;</td>\n",
       "      <td>&lt;UNK&gt;</td>\n",
       "      <td>52.0</td>\n",
       "      <td>1.0</td>\n",
       "      <td>1.0</td>\n",
       "      <td>0.0</td>\n",
       "      <td>0.0</td>\n",
       "      <td>1999</td>\n",
       "    </tr>\n",
       "    <tr>\n",
       "      <th>2</th>\n",
       "      <td>Xumu+NIjS6QYVxDS4/t3SawvJ7viT9hPKXmf0RtLNx8=</td>\n",
       "      <td>JNWfrrC7zNN7BdMpsISKa4Mw+xVJYNnxXh3/Epw7QgY=</td>\n",
       "      <td>my library</td>\n",
       "      <td>Local playlist more</td>\n",
       "      <td>local-playlist</td>\n",
       "      <td>1</td>\n",
       "      <td>13</td>\n",
       "      <td>female</td>\n",
       "      <td>9</td>\n",
       "      <td>young</td>\n",
       "      <td>...</td>\n",
       "      <td>1259</td>\n",
       "      <td>Nas</td>\n",
       "      <td>N. Jones、W. Adams、J. Lordan、D. Ingle</td>\n",
       "      <td>&lt;UNK&gt;</td>\n",
       "      <td>52.0</td>\n",
       "      <td>1.0</td>\n",
       "      <td>1.0</td>\n",
       "      <td>1.0</td>\n",
       "      <td>0.0</td>\n",
       "      <td>2006</td>\n",
       "    </tr>\n",
       "  </tbody>\n",
       "</table>\n",
       "<p>3 rows × 23 columns</p>\n",
       "</div>"
      ],
      "text/plain": [
       "                                           msno  \\\n",
       "0  FGtllVqz18RPiwJj/edr2gV78zirAiY/9SmYvia+kCg=   \n",
       "1  Xumu+NIjS6QYVxDS4/t3SawvJ7viT9hPKXmf0RtLNx8=   \n",
       "2  Xumu+NIjS6QYVxDS4/t3SawvJ7viT9hPKXmf0RtLNx8=   \n",
       "\n",
       "                                        song_id source_system_tab  \\\n",
       "0  BBzumQNXUHKdEBOB7mAJuzok+IJA1c2Ryg/yzTF6tik=           explore   \n",
       "1  bhp/MpSNoqoxOIB+/l8WPqu6jldth4DIpCm3ayXnJqM=        my library   \n",
       "2  JNWfrrC7zNN7BdMpsISKa4Mw+xVJYNnxXh3/Epw7QgY=        my library   \n",
       "\n",
       "    source_screen_name      source_type  target city  gender registered_via  \\\n",
       "0              Explore  online-playlist       1    1   <UNK>              7   \n",
       "1  Local playlist more   local-playlist       1   13  female              9   \n",
       "2  Local playlist more   local-playlist       1   13  female              9   \n",
       "\n",
       "  bd_category  ...  genre_ids      artist_name  \\\n",
       "0       <UNK>  ...        359         Bastille   \n",
       "1       young  ...       1259  Various Artists   \n",
       "2       young  ...       1259              Nas   \n",
       "\n",
       "                               composer lyricist language genres_count  \\\n",
       "0                  Dan Smith| Mark Crew    <UNK>     52.0          1.0   \n",
       "1                                 <UNK>    <UNK>     52.0          1.0   \n",
       "2  N. Jones、W. Adams、J. Lordan、D. Ingle    <UNK>     52.0          1.0   \n",
       "\n",
       "  artist_name_count composer_count  lyricists_count  isrc_year  \n",
       "0               1.0            2.0              0.0       2016  \n",
       "1               1.0            0.0              0.0       1999  \n",
       "2               1.0            1.0              0.0       2006  \n",
       "\n",
       "[3 rows x 23 columns]"
      ]
     },
     "execution_count": 8,
     "metadata": {},
     "output_type": "execute_result"
    }
   ],
   "source": [
    "train_dataset.pandas_df.head(3)"
   ]
  },
  {
   "cell_type": "markdown",
   "metadata": {
    "id": "ZVfEmj7G6ka-"
   },
   "source": [
    "Теперь преобразуем некоторые колонки категориальным значениям и заполнил пропуски. "
   ]
  },
  {
   "cell_type": "code",
   "execution_count": 9,
   "metadata": {
    "id": "CCMNt-AL6ka_"
   },
   "outputs": [],
   "source": [
    "train_dataset.to_category([\"msno\", \"song_id\"])\n",
    "train_dataset.fill_na_category([\"source_system_tab\", \"source_screen_name\", \"source_type\"])"
   ]
  },
  {
   "cell_type": "code",
   "execution_count": 10,
   "metadata": {
    "colab": {
     "base_uri": "https://localhost:8080/"
    },
    "id": "jtxtARhF6ka_",
    "outputId": "8ac55167-5c81-4710-9f93-e3f24badf720"
   },
   "outputs": [
    {
     "name": "stdout",
     "output_type": "stream",
     "text": [
      "<class 'pandas.core.frame.DataFrame'>\n",
      "Int64Index: 7377418 entries, 0 to 7377417\n",
      "Data columns (total 23 columns):\n",
      " #   Column                  Dtype   \n",
      "---  ------                  -----   \n",
      " 0   msno                    category\n",
      " 1   song_id                 category\n",
      " 2   source_system_tab       category\n",
      " 3   source_screen_name      category\n",
      " 4   source_type             category\n",
      " 5   target                  int64   \n",
      " 6   city                    category\n",
      " 7   gender                  category\n",
      " 8   registered_via          category\n",
      " 9   bd_category             category\n",
      " 10  registration_init_year  int64   \n",
      " 11  expiration_date_year    int64   \n",
      " 12  song_length             float64 \n",
      " 13  genre_ids               category\n",
      " 14  artist_name             category\n",
      " 15  composer                category\n",
      " 16  lyricist                category\n",
      " 17  language                category\n",
      " 18  genres_count            float64 \n",
      " 19  artist_name_count       float64 \n",
      " 20  composer_count          float64 \n",
      " 21  lyricists_count         float64 \n",
      " 22  isrc_year               category\n",
      "dtypes: category(15), float64(5), int64(3)\n",
      "memory usage: 747.9 MB\n"
     ]
    }
   ],
   "source": [
    "train_dataset.pandas_df.info()"
   ]
  },
  {
   "cell_type": "markdown",
   "metadata": {
    "id": "GXNFFDer6ka_"
   },
   "source": [
    "Все круто!"
   ]
  },
  {
   "cell_type": "code",
   "execution_count": 11,
   "metadata": {
    "colab": {
     "base_uri": "https://localhost:8080/"
    },
    "id": "Jr-aNfBl6kbA",
    "outputId": "7f4e01c8-3e2a-4a40-8f7c-650e0f0349eb"
   },
   "outputs": [
    {
     "name": "stdout",
     "output_type": "stream",
     "text": [
      "Количество записей, для которых не нашлось пользователя или песни: 114\n"
     ]
    }
   ],
   "source": [
    "na_mask = train_dataset.pandas_df.isna().any(axis=1)\n",
    "print(f\"Количество записей, для которых не нашлось пользователя или песни: {sum(na_mask)}\")"
   ]
  },
  {
   "cell_type": "markdown",
   "metadata": {
    "id": "qlHIgmH06kbA"
   },
   "source": [
    "Их оказалось не так много, уберем из нашего набора данных."
   ]
  },
  {
   "cell_type": "code",
   "execution_count": 12,
   "metadata": {
    "id": "yB_thHSh6kbA"
   },
   "outputs": [],
   "source": [
    "train_dataset = train_dataset.remove_by_mask(na_mask)"
   ]
  },
  {
   "cell_type": "markdown",
   "metadata": {
    "id": "nLwkhQft6kbB"
   },
   "source": [
    "Так как **CatBoost** на CPU обучается достаточно долго (больше часа), то было решено обучать на GPU. Однако GPU не поддерживает группы больше 1023, поэтому тренировочный набор данных был уменьшен. При этом, желательно сохранить порядок записей."
   ]
  },
  {
   "cell_type": "code",
   "execution_count": 13,
   "metadata": {
    "id": "FYzYiVPA6kbB"
   },
   "outputs": [],
   "source": [
    "train_dataset_sm = train_dataset.reduce_by_members(size=1023)"
   ]
  },
  {
   "cell_type": "code",
   "execution_count": 14,
   "metadata": {
    "colab": {
     "base_uri": "https://localhost:8080/"
    },
    "id": "vhLZ_L7w6kbB",
    "outputId": "8101da28-2b36-4f13-f4ea-a36be95e58de"
   },
   "outputs": [
    {
     "data": {
      "text/plain": [
       "1    3564182\n",
       "0    3451109\n",
       "Name: target, dtype: int64"
      ]
     },
     "execution_count": 14,
     "metadata": {},
     "output_type": "execute_result"
    }
   ],
   "source": [
    "train_dataset_sm.pandas_df.target.value_counts()"
   ]
  },
  {
   "cell_type": "markdown",
   "metadata": {
    "id": "-7TwGZBs6kbC"
   },
   "source": [
    "Соотношение классов осталось тем же, все хорошо. Изменение размеров: 7377304 -> 7015291"
   ]
  },
  {
   "cell_type": "code",
   "execution_count": 15,
   "metadata": {
    "colab": {
     "base_uri": "https://localhost:8080/"
    },
    "id": "gQkEy0bVjjCf",
    "outputId": "6d87aff8-5a22-4b1f-9f74-24c8f10ef8a1"
   },
   "outputs": [
    {
     "name": "stdout",
     "output_type": "stream",
     "text": [
      "7377304 -> 7015291\n"
     ]
    }
   ],
   "source": [
    "print(f\"{len(train_dataset)} -> {len(train_dataset_sm)}\")"
   ]
  },
  {
   "cell_type": "markdown",
   "metadata": {
    "id": "n7-8HEIm6kbC"
   },
   "source": [
    "## Задание 1"
   ]
  },
  {
   "cell_type": "markdown",
   "metadata": {
    "id": "Jaet9xXf6kbD"
   },
   "source": [
    "Построить рекомендации для каждого пользователя, произвести оценку качества с помощью 5-fold CV с метриками NDCG, ROC AUC per user."
   ]
  },
  {
   "cell_type": "markdown",
   "metadata": {
    "id": "i16vIczQ6kbD"
   },
   "source": [
    "При разработке признаков я умеренно не стал брать признаки, полученные с помощью матричных факторизаций, чтобы потом добавить неклассические эмбеддинги, полученные в задании 2. "
   ]
  },
  {
   "cell_type": "markdown",
   "metadata": {
    "id": "sgFN6-Fm6kbD"
   },
   "source": [
    "Для **CatBoost** необоходимо, чтобы данные были упорядочены по **queries**. "
   ]
  },
  {
   "cell_type": "code",
   "execution_count": null,
   "metadata": {
    "colab": {
     "base_uri": "https://localhost:8080/"
    },
    "id": "Oq0GcIYVjjCk",
    "outputId": "ee590d65-86a7-493b-ae8f-66b17138c28b"
   },
   "outputs": [
    {
     "name": "stdout",
     "output_type": "stream",
     "text": [
      "Groupwise loss function. OneHotMaxSize set to 10\n"
     ]
    },
    {
     "name": "stderr",
     "output_type": "stream",
     "text": [
      "Metric PFound is not implemented on GPU. Will use CPU for metric computation, this could significantly affect learning time\n",
      "Metric PFound is not implemented on GPU. Will use CPU for metric computation, this could significantly affect learning time\n"
     ]
    },
    {
     "name": "stdout",
     "output_type": "stream",
     "text": [
      "0:\ttotal: 1.32s\tremaining: 3m 17s\n",
      "1:\ttotal: 2.49s\tremaining: 3m 4s\n",
      "2:\ttotal: 3.66s\tremaining: 2m 59s\n",
      "3:\ttotal: 4.84s\tremaining: 2m 56s\n",
      "4:\ttotal: 6.01s\tremaining: 2m 54s\n",
      "5:\ttotal: 7.18s\tremaining: 2m 52s\n",
      "6:\ttotal: 8.35s\tremaining: 2m 50s\n",
      "7:\ttotal: 9.53s\tremaining: 2m 49s\n",
      "8:\ttotal: 10.7s\tremaining: 2m 47s\n",
      "9:\ttotal: 11.9s\tremaining: 2m 46s\n",
      "10:\ttotal: 13.1s\tremaining: 2m 45s\n",
      "11:\ttotal: 14.3s\tremaining: 2m 43s\n",
      "12:\ttotal: 15.4s\tremaining: 2m 42s\n",
      "13:\ttotal: 16.6s\tremaining: 2m 41s\n",
      "14:\ttotal: 17.8s\tremaining: 2m 40s\n",
      "15:\ttotal: 19s\tremaining: 2m 38s\n",
      "16:\ttotal: 20.2s\tremaining: 2m 37s\n",
      "17:\ttotal: 21.3s\tremaining: 2m 36s\n",
      "18:\ttotal: 22.5s\tremaining: 2m 35s\n",
      "19:\ttotal: 23.7s\tremaining: 2m 33s\n",
      "20:\ttotal: 24.9s\tremaining: 2m 32s\n",
      "21:\ttotal: 26.1s\tremaining: 2m 31s\n",
      "22:\ttotal: 27.2s\tremaining: 2m 30s\n",
      "23:\ttotal: 28.4s\tremaining: 2m 29s\n",
      "24:\ttotal: 29.6s\tremaining: 2m 27s\n",
      "25:\ttotal: 30.7s\tremaining: 2m 26s\n",
      "26:\ttotal: 31.9s\tremaining: 2m 25s\n",
      "27:\ttotal: 33.1s\tremaining: 2m 24s\n",
      "28:\ttotal: 34.3s\tremaining: 2m 22s\n",
      "29:\ttotal: 35.4s\tremaining: 2m 21s\n",
      "30:\ttotal: 36.6s\tremaining: 2m 20s\n",
      "31:\ttotal: 37.8s\tremaining: 2m 19s\n",
      "32:\ttotal: 39s\tremaining: 2m 18s\n",
      "33:\ttotal: 40.2s\tremaining: 2m 17s\n",
      "34:\ttotal: 41.3s\tremaining: 2m 15s\n",
      "35:\ttotal: 42.5s\tremaining: 2m 14s\n",
      "36:\ttotal: 43.7s\tremaining: 2m 13s\n",
      "37:\ttotal: 44.9s\tremaining: 2m 12s\n",
      "38:\ttotal: 46s\tremaining: 2m 11s\n",
      "39:\ttotal: 47.2s\tremaining: 2m 9s\n",
      "40:\ttotal: 48.4s\tremaining: 2m 8s\n",
      "41:\ttotal: 49.6s\tremaining: 2m 7s\n",
      "42:\ttotal: 50.7s\tremaining: 2m 6s\n",
      "43:\ttotal: 51.9s\tremaining: 2m 5s\n",
      "44:\ttotal: 53.1s\tremaining: 2m 3s\n",
      "45:\ttotal: 54.3s\tremaining: 2m 2s\n",
      "46:\ttotal: 55.5s\tremaining: 2m 1s\n",
      "47:\ttotal: 56.6s\tremaining: 2m\n",
      "48:\ttotal: 57.8s\tremaining: 1m 59s\n",
      "49:\ttotal: 59s\tremaining: 1m 58s\n",
      "50:\ttotal: 1m\tremaining: 1m 56s\n",
      "51:\ttotal: 1m 1s\tremaining: 1m 55s\n",
      "52:\ttotal: 1m 2s\tremaining: 1m 54s\n",
      "53:\ttotal: 1m 3s\tremaining: 1m 53s\n",
      "54:\ttotal: 1m 4s\tremaining: 1m 52s\n",
      "55:\ttotal: 1m 6s\tremaining: 1m 50s\n",
      "56:\ttotal: 1m 7s\tremaining: 1m 49s\n",
      "57:\ttotal: 1m 8s\tremaining: 1m 48s\n",
      "58:\ttotal: 1m 9s\tremaining: 1m 47s\n",
      "59:\ttotal: 1m 10s\tremaining: 1m 46s\n",
      "60:\ttotal: 1m 11s\tremaining: 1m 44s\n",
      "61:\ttotal: 1m 13s\tremaining: 1m 43s\n",
      "62:\ttotal: 1m 14s\tremaining: 1m 42s\n",
      "63:\ttotal: 1m 15s\tremaining: 1m 41s\n",
      "64:\ttotal: 1m 16s\tremaining: 1m 40s\n",
      "65:\ttotal: 1m 17s\tremaining: 1m 39s\n",
      "66:\ttotal: 1m 19s\tremaining: 1m 37s\n",
      "67:\ttotal: 1m 20s\tremaining: 1m 36s\n",
      "68:\ttotal: 1m 21s\tremaining: 1m 35s\n",
      "69:\ttotal: 1m 22s\tremaining: 1m 34s\n",
      "70:\ttotal: 1m 23s\tremaining: 1m 33s\n",
      "71:\ttotal: 1m 24s\tremaining: 1m 31s\n",
      "72:\ttotal: 1m 26s\tremaining: 1m 30s\n",
      "73:\ttotal: 1m 27s\tremaining: 1m 29s\n",
      "74:\ttotal: 1m 28s\tremaining: 1m 28s\n",
      "75:\ttotal: 1m 29s\tremaining: 1m 27s\n",
      "76:\ttotal: 1m 30s\tremaining: 1m 26s\n",
      "77:\ttotal: 1m 32s\tremaining: 1m 24s\n",
      "78:\ttotal: 1m 33s\tremaining: 1m 23s\n",
      "79:\ttotal: 1m 34s\tremaining: 1m 22s\n",
      "80:\ttotal: 1m 35s\tremaining: 1m 21s\n",
      "81:\ttotal: 1m 36s\tremaining: 1m 20s\n",
      "82:\ttotal: 1m 37s\tremaining: 1m 19s\n",
      "83:\ttotal: 1m 39s\tremaining: 1m 17s\n",
      "84:\ttotal: 1m 40s\tremaining: 1m 16s\n",
      "85:\ttotal: 1m 41s\tremaining: 1m 15s\n",
      "86:\ttotal: 1m 42s\tremaining: 1m 14s\n",
      "87:\ttotal: 1m 43s\tremaining: 1m 13s\n",
      "88:\ttotal: 1m 45s\tremaining: 1m 12s\n",
      "89:\ttotal: 1m 46s\tremaining: 1m 10s\n",
      "90:\ttotal: 1m 47s\tremaining: 1m 9s\n",
      "91:\ttotal: 1m 48s\tremaining: 1m 8s\n",
      "92:\ttotal: 1m 49s\tremaining: 1m 7s\n",
      "93:\ttotal: 1m 51s\tremaining: 1m 6s\n",
      "94:\ttotal: 1m 52s\tremaining: 1m 4s\n",
      "95:\ttotal: 1m 53s\tremaining: 1m 3s\n",
      "96:\ttotal: 1m 54s\tremaining: 1m 2s\n",
      "97:\ttotal: 1m 55s\tremaining: 1m 1s\n",
      "98:\ttotal: 1m 56s\tremaining: 1m\n",
      "99:\ttotal: 1m 58s\tremaining: 59.1s\n",
      "100:\ttotal: 1m 59s\tremaining: 57.9s\n",
      "101:\ttotal: 2m\tremaining: 56.7s\n",
      "102:\ttotal: 2m 1s\tremaining: 55.5s\n",
      "103:\ttotal: 2m 2s\tremaining: 54.4s\n",
      "104:\ttotal: 2m 4s\tremaining: 53.2s\n",
      "105:\ttotal: 2m 5s\tremaining: 52s\n",
      "106:\ttotal: 2m 6s\tremaining: 50.8s\n",
      "107:\ttotal: 2m 7s\tremaining: 49.6s\n",
      "108:\ttotal: 2m 8s\tremaining: 48.4s\n",
      "109:\ttotal: 2m 9s\tremaining: 47.3s\n",
      "110:\ttotal: 2m 11s\tremaining: 46.1s\n",
      "111:\ttotal: 2m 12s\tremaining: 44.9s\n",
      "112:\ttotal: 2m 13s\tremaining: 43.7s\n",
      "113:\ttotal: 2m 14s\tremaining: 42.6s\n",
      "114:\ttotal: 2m 15s\tremaining: 41.4s\n",
      "115:\ttotal: 2m 17s\tremaining: 40.2s\n",
      "116:\ttotal: 2m 18s\tremaining: 39s\n",
      "117:\ttotal: 2m 19s\tremaining: 37.8s\n",
      "118:\ttotal: 2m 20s\tremaining: 36.6s\n",
      "119:\ttotal: 2m 21s\tremaining: 35.5s\n",
      "120:\ttotal: 2m 23s\tremaining: 34.3s\n",
      "121:\ttotal: 2m 24s\tremaining: 33.1s\n",
      "122:\ttotal: 2m 25s\tremaining: 31.9s\n",
      "123:\ttotal: 2m 26s\tremaining: 30.7s\n",
      "124:\ttotal: 2m 27s\tremaining: 29.6s\n",
      "125:\ttotal: 2m 28s\tremaining: 28.4s\n",
      "126:\ttotal: 2m 30s\tremaining: 27.2s\n",
      "127:\ttotal: 2m 31s\tremaining: 26s\n",
      "128:\ttotal: 2m 32s\tremaining: 24.8s\n",
      "129:\ttotal: 2m 33s\tremaining: 23.6s\n",
      "130:\ttotal: 2m 34s\tremaining: 22.5s\n",
      "131:\ttotal: 2m 36s\tremaining: 21.3s\n",
      "132:\ttotal: 2m 37s\tremaining: 20.1s\n",
      "133:\ttotal: 2m 38s\tremaining: 18.9s\n",
      "134:\ttotal: 2m 39s\tremaining: 17.7s\n",
      "135:\ttotal: 2m 40s\tremaining: 16.6s\n",
      "136:\ttotal: 2m 42s\tremaining: 15.4s\n",
      "137:\ttotal: 2m 43s\tremaining: 14.2s\n",
      "138:\ttotal: 2m 44s\tremaining: 13s\n",
      "139:\ttotal: 2m 45s\tremaining: 11.8s\n",
      "140:\ttotal: 2m 46s\tremaining: 10.6s\n",
      "141:\ttotal: 2m 47s\tremaining: 9.46s\n",
      "142:\ttotal: 2m 49s\tremaining: 8.28s\n",
      "143:\ttotal: 2m 50s\tremaining: 7.1s\n",
      "144:\ttotal: 2m 51s\tremaining: 5.91s\n",
      "145:\ttotal: 2m 52s\tremaining: 4.73s\n",
      "146:\ttotal: 2m 53s\tremaining: 3.55s\n",
      "147:\ttotal: 2m 55s\tremaining: 2.37s\n",
      "148:\ttotal: 2m 56s\tremaining: 1.18s\n",
      "149:\ttotal: 2m 57s\tremaining: 0us\n",
      "NDCG: 0.8395 | ROC AUC: 0.6454\n",
      "Groupwise loss function. OneHotMaxSize set to 10\n"
     ]
    },
    {
     "name": "stderr",
     "output_type": "stream",
     "text": [
      "Metric PFound is not implemented on GPU. Will use CPU for metric computation, this could significantly affect learning time\n",
      "Metric PFound is not implemented on GPU. Will use CPU for metric computation, this could significantly affect learning time\n"
     ]
    },
    {
     "name": "stdout",
     "output_type": "stream",
     "text": [
      "0:\ttotal: 1.32s\tremaining: 3m 16s\n",
      "1:\ttotal: 2.49s\tremaining: 3m 4s\n",
      "2:\ttotal: 3.66s\tremaining: 2m 59s\n",
      "3:\ttotal: 4.84s\tremaining: 2m 56s\n",
      "4:\ttotal: 6.02s\tremaining: 2m 54s\n",
      "5:\ttotal: 7.19s\tremaining: 2m 52s\n",
      "6:\ttotal: 8.36s\tremaining: 2m 50s\n",
      "7:\ttotal: 9.54s\tremaining: 2m 49s\n",
      "8:\ttotal: 10.7s\tremaining: 2m 47s\n",
      "9:\ttotal: 11.9s\tremaining: 2m 46s\n",
      "10:\ttotal: 13.1s\tremaining: 2m 45s\n",
      "11:\ttotal: 14.3s\tremaining: 2m 43s\n",
      "12:\ttotal: 15.4s\tremaining: 2m 42s\n",
      "13:\ttotal: 16.6s\tremaining: 2m 41s\n",
      "14:\ttotal: 17.8s\tremaining: 2m 40s\n",
      "15:\ttotal: 19s\tremaining: 2m 38s\n",
      "16:\ttotal: 20.1s\tremaining: 2m 37s\n",
      "17:\ttotal: 21.3s\tremaining: 2m 36s\n",
      "18:\ttotal: 22.5s\tremaining: 2m 35s\n",
      "19:\ttotal: 23.7s\tremaining: 2m 33s\n",
      "20:\ttotal: 24.9s\tremaining: 2m 32s\n",
      "21:\ttotal: 26s\tremaining: 2m 31s\n",
      "22:\ttotal: 27.2s\tremaining: 2m 30s\n",
      "23:\ttotal: 28.4s\tremaining: 2m 29s\n",
      "24:\ttotal: 29.6s\tremaining: 2m 27s\n",
      "25:\ttotal: 30.7s\tremaining: 2m 26s\n",
      "26:\ttotal: 31.9s\tremaining: 2m 25s\n",
      "27:\ttotal: 33.1s\tremaining: 2m 24s\n",
      "28:\ttotal: 34.3s\tremaining: 2m 23s\n",
      "29:\ttotal: 35.5s\tremaining: 2m 21s\n",
      "30:\ttotal: 36.6s\tremaining: 2m 20s\n",
      "31:\ttotal: 37.8s\tremaining: 2m 19s\n",
      "32:\ttotal: 39s\tremaining: 2m 18s\n",
      "33:\ttotal: 40.2s\tremaining: 2m 17s\n",
      "34:\ttotal: 41.3s\tremaining: 2m 15s\n",
      "35:\ttotal: 42.5s\tremaining: 2m 14s\n",
      "36:\ttotal: 43.7s\tremaining: 2m 13s\n",
      "37:\ttotal: 44.9s\tremaining: 2m 12s\n",
      "38:\ttotal: 46s\tremaining: 2m 11s\n",
      "39:\ttotal: 47.2s\tremaining: 2m 9s\n",
      "40:\ttotal: 48.4s\tremaining: 2m 8s\n",
      "41:\ttotal: 49.6s\tremaining: 2m 7s\n",
      "42:\ttotal: 50.8s\tremaining: 2m 6s\n",
      "43:\ttotal: 51.9s\tremaining: 2m 5s\n",
      "44:\ttotal: 53.1s\tremaining: 2m 3s\n",
      "45:\ttotal: 54.3s\tremaining: 2m 2s\n",
      "46:\ttotal: 55.5s\tremaining: 2m 1s\n",
      "47:\ttotal: 56.6s\tremaining: 2m\n",
      "48:\ttotal: 57.8s\tremaining: 1m 59s\n",
      "49:\ttotal: 59s\tremaining: 1m 57s\n",
      "50:\ttotal: 1m\tremaining: 1m 56s\n",
      "51:\ttotal: 1m 1s\tremaining: 1m 55s\n",
      "52:\ttotal: 1m 2s\tremaining: 1m 54s\n",
      "53:\ttotal: 1m 3s\tremaining: 1m 53s\n",
      "54:\ttotal: 1m 4s\tremaining: 1m 52s\n",
      "55:\ttotal: 1m 6s\tremaining: 1m 50s\n",
      "56:\ttotal: 1m 7s\tremaining: 1m 49s\n",
      "57:\ttotal: 1m 8s\tremaining: 1m 48s\n",
      "58:\ttotal: 1m 9s\tremaining: 1m 47s\n",
      "59:\ttotal: 1m 10s\tremaining: 1m 46s\n",
      "60:\ttotal: 1m 11s\tremaining: 1m 44s\n",
      "61:\ttotal: 1m 13s\tremaining: 1m 43s\n",
      "62:\ttotal: 1m 14s\tremaining: 1m 42s\n",
      "63:\ttotal: 1m 15s\tremaining: 1m 41s\n",
      "64:\ttotal: 1m 16s\tremaining: 1m 40s\n",
      "65:\ttotal: 1m 17s\tremaining: 1m 39s\n",
      "66:\ttotal: 1m 19s\tremaining: 1m 37s\n",
      "67:\ttotal: 1m 20s\tremaining: 1m 36s\n",
      "68:\ttotal: 1m 21s\tremaining: 1m 35s\n",
      "69:\ttotal: 1m 22s\tremaining: 1m 34s\n",
      "70:\ttotal: 1m 23s\tremaining: 1m 33s\n",
      "71:\ttotal: 1m 24s\tremaining: 1m 32s\n",
      "72:\ttotal: 1m 26s\tremaining: 1m 30s\n",
      "73:\ttotal: 1m 27s\tremaining: 1m 29s\n",
      "74:\ttotal: 1m 28s\tremaining: 1m 28s\n",
      "75:\ttotal: 1m 29s\tremaining: 1m 27s\n",
      "76:\ttotal: 1m 30s\tremaining: 1m 26s\n",
      "77:\ttotal: 1m 32s\tremaining: 1m 24s\n",
      "78:\ttotal: 1m 33s\tremaining: 1m 23s\n",
      "79:\ttotal: 1m 34s\tremaining: 1m 22s\n",
      "80:\ttotal: 1m 35s\tremaining: 1m 21s\n",
      "81:\ttotal: 1m 36s\tremaining: 1m 20s\n",
      "82:\ttotal: 1m 37s\tremaining: 1m 19s\n",
      "83:\ttotal: 1m 39s\tremaining: 1m 17s\n",
      "84:\ttotal: 1m 40s\tremaining: 1m 16s\n",
      "85:\ttotal: 1m 41s\tremaining: 1m 15s\n",
      "86:\ttotal: 1m 42s\tremaining: 1m 14s\n",
      "87:\ttotal: 1m 43s\tremaining: 1m 13s\n",
      "88:\ttotal: 1m 45s\tremaining: 1m 11s\n",
      "89:\ttotal: 1m 46s\tremaining: 1m 10s\n",
      "90:\ttotal: 1m 47s\tremaining: 1m 9s\n",
      "91:\ttotal: 1m 48s\tremaining: 1m 8s\n",
      "92:\ttotal: 1m 49s\tremaining: 1m 7s\n",
      "93:\ttotal: 1m 50s\tremaining: 1m 6s\n",
      "94:\ttotal: 1m 52s\tremaining: 1m 4s\n",
      "95:\ttotal: 1m 53s\tremaining: 1m 3s\n",
      "96:\ttotal: 1m 54s\tremaining: 1m 2s\n",
      "97:\ttotal: 1m 55s\tremaining: 1m 1s\n",
      "98:\ttotal: 1m 56s\tremaining: 1m\n",
      "99:\ttotal: 1m 58s\tremaining: 59s\n",
      "100:\ttotal: 1m 59s\tremaining: 57.9s\n",
      "101:\ttotal: 2m\tremaining: 56.7s\n",
      "102:\ttotal: 2m 1s\tremaining: 55.5s\n",
      "103:\ttotal: 2m 2s\tremaining: 54.3s\n",
      "104:\ttotal: 2m 4s\tremaining: 53.1s\n",
      "105:\ttotal: 2m 5s\tremaining: 52s\n",
      "106:\ttotal: 2m 6s\tremaining: 50.8s\n",
      "107:\ttotal: 2m 7s\tremaining: 49.6s\n",
      "108:\ttotal: 2m 8s\tremaining: 48.4s\n",
      "109:\ttotal: 2m 9s\tremaining: 47.3s\n",
      "110:\ttotal: 2m 11s\tremaining: 46.1s\n",
      "111:\ttotal: 2m 12s\tremaining: 44.9s\n",
      "112:\ttotal: 2m 13s\tremaining: 43.7s\n",
      "113:\ttotal: 2m 14s\tremaining: 42.5s\n",
      "114:\ttotal: 2m 15s\tremaining: 41.4s\n",
      "115:\ttotal: 2m 17s\tremaining: 40.2s\n",
      "116:\ttotal: 2m 18s\tremaining: 39s\n",
      "117:\ttotal: 2m 19s\tremaining: 37.8s\n",
      "118:\ttotal: 2m 20s\tremaining: 36.6s\n",
      "119:\ttotal: 2m 21s\tremaining: 35.5s\n",
      "120:\ttotal: 2m 23s\tremaining: 34.3s\n",
      "121:\ttotal: 2m 24s\tremaining: 33.1s\n",
      "122:\ttotal: 2m 25s\tremaining: 31.9s\n",
      "123:\ttotal: 2m 26s\tremaining: 30.7s\n",
      "124:\ttotal: 2m 27s\tremaining: 29.6s\n",
      "125:\ttotal: 2m 28s\tremaining: 28.4s\n",
      "126:\ttotal: 2m 30s\tremaining: 27.2s\n",
      "127:\ttotal: 2m 31s\tremaining: 26s\n",
      "128:\ttotal: 2m 32s\tremaining: 24.8s\n",
      "129:\ttotal: 2m 33s\tremaining: 23.6s\n",
      "130:\ttotal: 2m 34s\tremaining: 22.5s\n",
      "131:\ttotal: 2m 36s\tremaining: 21.3s\n",
      "132:\ttotal: 2m 37s\tremaining: 20.1s\n",
      "133:\ttotal: 2m 38s\tremaining: 18.9s\n",
      "134:\ttotal: 2m 39s\tremaining: 17.7s\n",
      "135:\ttotal: 2m 40s\tremaining: 16.6s\n",
      "136:\ttotal: 2m 41s\tremaining: 15.4s\n",
      "137:\ttotal: 2m 43s\tremaining: 14.2s\n",
      "138:\ttotal: 2m 44s\tremaining: 13s\n",
      "139:\ttotal: 2m 45s\tremaining: 11.8s\n",
      "140:\ttotal: 2m 46s\tremaining: 10.6s\n",
      "141:\ttotal: 2m 47s\tremaining: 9.46s\n",
      "142:\ttotal: 2m 49s\tremaining: 8.28s\n",
      "143:\ttotal: 2m 50s\tremaining: 7.09s\n",
      "144:\ttotal: 2m 51s\tremaining: 5.91s\n",
      "145:\ttotal: 2m 52s\tremaining: 4.73s\n",
      "146:\ttotal: 2m 53s\tremaining: 3.55s\n",
      "147:\ttotal: 2m 54s\tremaining: 2.36s\n",
      "148:\ttotal: 2m 56s\tremaining: 1.18s\n",
      "149:\ttotal: 2m 57s\tremaining: 0us\n",
      "NDCG: 0.8408 | ROC AUC: 0.6477\n",
      "Groupwise loss function. OneHotMaxSize set to 10\n"
     ]
    },
    {
     "name": "stderr",
     "output_type": "stream",
     "text": [
      "Metric PFound is not implemented on GPU. Will use CPU for metric computation, this could significantly affect learning time\n",
      "Metric PFound is not implemented on GPU. Will use CPU for metric computation, this could significantly affect learning time\n"
     ]
    },
    {
     "name": "stdout",
     "output_type": "stream",
     "text": [
      "0:\ttotal: 1.32s\tremaining: 3m 16s\n",
      "1:\ttotal: 2.5s\tremaining: 3m 4s\n",
      "2:\ttotal: 3.67s\tremaining: 2m 59s\n",
      "3:\ttotal: 4.85s\tremaining: 2m 57s\n",
      "4:\ttotal: 6.02s\tremaining: 2m 54s\n",
      "5:\ttotal: 7.19s\tremaining: 2m 52s\n",
      "6:\ttotal: 8.36s\tremaining: 2m 50s\n",
      "7:\ttotal: 9.53s\tremaining: 2m 49s\n",
      "8:\ttotal: 10.7s\tremaining: 2m 47s\n",
      "9:\ttotal: 11.9s\tremaining: 2m 46s\n",
      "10:\ttotal: 13.1s\tremaining: 2m 45s\n",
      "11:\ttotal: 14.2s\tremaining: 2m 43s\n",
      "12:\ttotal: 15.4s\tremaining: 2m 42s\n",
      "13:\ttotal: 16.6s\tremaining: 2m 41s\n",
      "14:\ttotal: 17.8s\tremaining: 2m 39s\n",
      "15:\ttotal: 18.9s\tremaining: 2m 38s\n",
      "16:\ttotal: 20.1s\tremaining: 2m 37s\n",
      "17:\ttotal: 21.3s\tremaining: 2m 36s\n",
      "18:\ttotal: 22.5s\tremaining: 2m 34s\n",
      "19:\ttotal: 23.6s\tremaining: 2m 33s\n",
      "20:\ttotal: 24.8s\tremaining: 2m 32s\n",
      "21:\ttotal: 26s\tremaining: 2m 31s\n",
      "22:\ttotal: 27.2s\tremaining: 2m 30s\n",
      "23:\ttotal: 28.3s\tremaining: 2m 28s\n",
      "24:\ttotal: 29.5s\tremaining: 2m 27s\n",
      "25:\ttotal: 30.7s\tremaining: 2m 26s\n",
      "26:\ttotal: 31.9s\tremaining: 2m 25s\n",
      "27:\ttotal: 33s\tremaining: 2m 23s\n",
      "28:\ttotal: 34.2s\tremaining: 2m 22s\n",
      "29:\ttotal: 35.4s\tremaining: 2m 21s\n",
      "30:\ttotal: 36.6s\tremaining: 2m 20s\n",
      "31:\ttotal: 37.8s\tremaining: 2m 19s\n",
      "32:\ttotal: 38.9s\tremaining: 2m 18s\n",
      "33:\ttotal: 40.1s\tremaining: 2m 16s\n",
      "34:\ttotal: 41.3s\tremaining: 2m 15s\n",
      "35:\ttotal: 42.5s\tremaining: 2m 14s\n",
      "36:\ttotal: 43.6s\tremaining: 2m 13s\n",
      "37:\ttotal: 44.8s\tremaining: 2m 12s\n",
      "38:\ttotal: 46s\tremaining: 2m 10s\n",
      "39:\ttotal: 47.2s\tremaining: 2m 9s\n",
      "40:\ttotal: 48.4s\tremaining: 2m 8s\n",
      "41:\ttotal: 49.5s\tremaining: 2m 7s\n",
      "42:\ttotal: 50.7s\tremaining: 2m 6s\n",
      "43:\ttotal: 51.9s\tremaining: 2m 5s\n",
      "44:\ttotal: 53.1s\tremaining: 2m 3s\n",
      "45:\ttotal: 54.2s\tremaining: 2m 2s\n",
      "46:\ttotal: 55.4s\tremaining: 2m 1s\n",
      "47:\ttotal: 56.6s\tremaining: 2m\n",
      "48:\ttotal: 57.8s\tremaining: 1m 59s\n",
      "49:\ttotal: 58.9s\tremaining: 1m 57s\n",
      "50:\ttotal: 1m\tremaining: 1m 56s\n",
      "51:\ttotal: 1m 1s\tremaining: 1m 55s\n",
      "52:\ttotal: 1m 2s\tremaining: 1m 54s\n",
      "53:\ttotal: 1m 3s\tremaining: 1m 53s\n",
      "54:\ttotal: 1m 4s\tremaining: 1m 51s\n",
      "55:\ttotal: 1m 5s\tremaining: 1m 50s\n",
      "56:\ttotal: 1m 7s\tremaining: 1m 49s\n",
      "57:\ttotal: 1m 8s\tremaining: 1m 48s\n",
      "58:\ttotal: 1m 9s\tremaining: 1m 47s\n",
      "59:\ttotal: 1m 10s\tremaining: 1m 46s\n",
      "60:\ttotal: 1m 11s\tremaining: 1m 44s\n",
      "61:\ttotal: 1m 13s\tremaining: 1m 43s\n",
      "62:\ttotal: 1m 14s\tremaining: 1m 42s\n",
      "63:\ttotal: 1m 15s\tremaining: 1m 41s\n",
      "64:\ttotal: 1m 16s\tremaining: 1m 40s\n",
      "65:\ttotal: 1m 17s\tremaining: 1m 38s\n",
      "66:\ttotal: 1m 18s\tremaining: 1m 37s\n",
      "67:\ttotal: 1m 20s\tremaining: 1m 36s\n",
      "68:\ttotal: 1m 21s\tremaining: 1m 35s\n",
      "69:\ttotal: 1m 22s\tremaining: 1m 34s\n",
      "70:\ttotal: 1m 23s\tremaining: 1m 33s\n",
      "71:\ttotal: 1m 24s\tremaining: 1m 31s\n",
      "72:\ttotal: 1m 26s\tremaining: 1m 30s\n",
      "73:\ttotal: 1m 27s\tremaining: 1m 29s\n",
      "74:\ttotal: 1m 28s\tremaining: 1m 28s\n",
      "75:\ttotal: 1m 29s\tremaining: 1m 27s\n",
      "76:\ttotal: 1m 30s\tremaining: 1m 26s\n",
      "77:\ttotal: 1m 31s\tremaining: 1m 24s\n",
      "78:\ttotal: 1m 33s\tremaining: 1m 23s\n",
      "79:\ttotal: 1m 34s\tremaining: 1m 22s\n",
      "80:\ttotal: 1m 35s\tremaining: 1m 21s\n",
      "81:\ttotal: 1m 36s\tremaining: 1m 20s\n",
      "82:\ttotal: 1m 37s\tremaining: 1m 18s\n",
      "83:\ttotal: 1m 39s\tremaining: 1m 17s\n",
      "84:\ttotal: 1m 40s\tremaining: 1m 16s\n",
      "85:\ttotal: 1m 41s\tremaining: 1m 15s\n",
      "86:\ttotal: 1m 42s\tremaining: 1m 14s\n",
      "87:\ttotal: 1m 43s\tremaining: 1m 13s\n",
      "88:\ttotal: 1m 44s\tremaining: 1m 11s\n",
      "89:\ttotal: 1m 46s\tremaining: 1m 10s\n",
      "90:\ttotal: 1m 47s\tremaining: 1m 9s\n",
      "91:\ttotal: 1m 48s\tremaining: 1m 8s\n",
      "92:\ttotal: 1m 49s\tremaining: 1m 7s\n",
      "93:\ttotal: 1m 50s\tremaining: 1m 6s\n",
      "94:\ttotal: 1m 52s\tremaining: 1m 4s\n",
      "95:\ttotal: 1m 53s\tremaining: 1m 3s\n",
      "96:\ttotal: 1m 54s\tremaining: 1m 2s\n",
      "97:\ttotal: 1m 55s\tremaining: 1m 1s\n",
      "98:\ttotal: 1m 56s\tremaining: 1m\n",
      "99:\ttotal: 1m 58s\tremaining: 59s\n",
      "100:\ttotal: 1m 59s\tremaining: 57.8s\n",
      "101:\ttotal: 2m\tremaining: 56.6s\n",
      "102:\ttotal: 2m 1s\tremaining: 55.5s\n",
      "103:\ttotal: 2m 2s\tremaining: 54.3s\n",
      "104:\ttotal: 2m 3s\tremaining: 53.1s\n",
      "105:\ttotal: 2m 5s\tremaining: 51.9s\n",
      "106:\ttotal: 2m 6s\tremaining: 50.8s\n",
      "107:\ttotal: 2m 7s\tremaining: 49.6s\n",
      "108:\ttotal: 2m 8s\tremaining: 48.4s\n",
      "109:\ttotal: 2m 9s\tremaining: 47.2s\n",
      "110:\ttotal: 2m 11s\tremaining: 46s\n",
      "111:\ttotal: 2m 12s\tremaining: 44.9s\n",
      "112:\ttotal: 2m 13s\tremaining: 43.7s\n",
      "113:\ttotal: 2m 14s\tremaining: 42.5s\n",
      "114:\ttotal: 2m 15s\tremaining: 41.3s\n",
      "115:\ttotal: 2m 16s\tremaining: 40.1s\n",
      "116:\ttotal: 2m 18s\tremaining: 39s\n",
      "117:\ttotal: 2m 19s\tremaining: 37.8s\n",
      "118:\ttotal: 2m 20s\tremaining: 36.6s\n",
      "119:\ttotal: 2m 21s\tremaining: 35.4s\n",
      "120:\ttotal: 2m 22s\tremaining: 34.3s\n",
      "121:\ttotal: 2m 24s\tremaining: 33.1s\n",
      "122:\ttotal: 2m 25s\tremaining: 31.9s\n",
      "123:\ttotal: 2m 26s\tremaining: 30.7s\n",
      "124:\ttotal: 2m 27s\tremaining: 29.5s\n",
      "125:\ttotal: 2m 28s\tremaining: 28.4s\n",
      "126:\ttotal: 2m 30s\tremaining: 27.2s\n",
      "127:\ttotal: 2m 31s\tremaining: 26s\n",
      "128:\ttotal: 2m 32s\tremaining: 24.8s\n",
      "129:\ttotal: 2m 33s\tremaining: 23.6s\n",
      "130:\ttotal: 2m 34s\tremaining: 22.4s\n",
      "131:\ttotal: 2m 35s\tremaining: 21.3s\n",
      "132:\ttotal: 2m 37s\tremaining: 20.1s\n",
      "133:\ttotal: 2m 38s\tremaining: 18.9s\n",
      "134:\ttotal: 2m 39s\tremaining: 17.7s\n",
      "135:\ttotal: 2m 40s\tremaining: 16.5s\n",
      "136:\ttotal: 2m 41s\tremaining: 15.4s\n",
      "137:\ttotal: 2m 43s\tremaining: 14.2s\n",
      "138:\ttotal: 2m 44s\tremaining: 13s\n",
      "139:\ttotal: 2m 45s\tremaining: 11.8s\n",
      "140:\ttotal: 2m 46s\tremaining: 10.6s\n",
      "141:\ttotal: 2m 47s\tremaining: 9.45s\n",
      "142:\ttotal: 2m 48s\tremaining: 8.27s\n",
      "143:\ttotal: 2m 50s\tremaining: 7.09s\n",
      "144:\ttotal: 2m 51s\tremaining: 5.91s\n",
      "145:\ttotal: 2m 52s\tremaining: 4.72s\n",
      "146:\ttotal: 2m 53s\tremaining: 3.54s\n",
      "147:\ttotal: 2m 54s\tremaining: 2.36s\n",
      "148:\ttotal: 2m 56s\tremaining: 1.18s\n",
      "149:\ttotal: 2m 57s\tremaining: 0us\n",
      "NDCG: 0.8395 | ROC AUC: 0.6456\n",
      "Groupwise loss function. OneHotMaxSize set to 10\n"
     ]
    },
    {
     "name": "stderr",
     "output_type": "stream",
     "text": [
      "Metric PFound is not implemented on GPU. Will use CPU for metric computation, this could significantly affect learning time\n",
      "Metric PFound is not implemented on GPU. Will use CPU for metric computation, this could significantly affect learning time\n"
     ]
    },
    {
     "name": "stdout",
     "output_type": "stream",
     "text": [
      "0:\ttotal: 1.34s\tremaining: 3m 19s\n",
      "1:\ttotal: 2.51s\tremaining: 3m 5s\n",
      "2:\ttotal: 3.67s\tremaining: 3m\n",
      "3:\ttotal: 4.84s\tremaining: 2m 56s\n",
      "4:\ttotal: 6.01s\tremaining: 2m 54s\n",
      "5:\ttotal: 7.19s\tremaining: 2m 52s\n",
      "6:\ttotal: 8.35s\tremaining: 2m 50s\n",
      "7:\ttotal: 9.52s\tremaining: 2m 48s\n",
      "8:\ttotal: 10.7s\tremaining: 2m 47s\n",
      "9:\ttotal: 11.9s\tremaining: 2m 45s\n",
      "10:\ttotal: 13s\tremaining: 2m 44s\n",
      "11:\ttotal: 14.2s\tremaining: 2m 43s\n",
      "12:\ttotal: 15.4s\tremaining: 2m 41s\n",
      "13:\ttotal: 16.5s\tremaining: 2m 40s\n",
      "14:\ttotal: 17.7s\tremaining: 2m 39s\n",
      "15:\ttotal: 18.9s\tremaining: 2m 38s\n",
      "16:\ttotal: 20s\tremaining: 2m 36s\n",
      "17:\ttotal: 21.2s\tremaining: 2m 35s\n",
      "18:\ttotal: 22.4s\tremaining: 2m 34s\n",
      "19:\ttotal: 23.5s\tremaining: 2m 33s\n",
      "20:\ttotal: 24.7s\tremaining: 2m 31s\n",
      "21:\ttotal: 25.9s\tremaining: 2m 30s\n",
      "22:\ttotal: 27.1s\tremaining: 2m 29s\n",
      "23:\ttotal: 28.2s\tremaining: 2m 28s\n",
      "24:\ttotal: 29.4s\tremaining: 2m 27s\n",
      "25:\ttotal: 30.6s\tremaining: 2m 25s\n",
      "26:\ttotal: 31.7s\tremaining: 2m 24s\n",
      "27:\ttotal: 32.9s\tremaining: 2m 23s\n",
      "28:\ttotal: 34.1s\tremaining: 2m 22s\n",
      "29:\ttotal: 35.3s\tremaining: 2m 21s\n",
      "30:\ttotal: 36.4s\tremaining: 2m 19s\n",
      "31:\ttotal: 37.6s\tremaining: 2m 18s\n",
      "32:\ttotal: 38.8s\tremaining: 2m 17s\n",
      "33:\ttotal: 40s\tremaining: 2m 16s\n",
      "34:\ttotal: 41.1s\tremaining: 2m 15s\n",
      "35:\ttotal: 42.3s\tremaining: 2m 14s\n",
      "36:\ttotal: 43.5s\tremaining: 2m 12s\n",
      "37:\ttotal: 44.7s\tremaining: 2m 11s\n",
      "38:\ttotal: 45.9s\tremaining: 2m 10s\n",
      "39:\ttotal: 47s\tremaining: 2m 9s\n",
      "40:\ttotal: 48.2s\tremaining: 2m 8s\n",
      "41:\ttotal: 49.4s\tremaining: 2m 6s\n",
      "42:\ttotal: 50.6s\tremaining: 2m 5s\n",
      "43:\ttotal: 51.7s\tremaining: 2m 4s\n",
      "44:\ttotal: 52.9s\tremaining: 2m 3s\n",
      "45:\ttotal: 54.1s\tremaining: 2m 2s\n",
      "46:\ttotal: 55.3s\tremaining: 2m 1s\n",
      "47:\ttotal: 56.4s\tremaining: 1m 59s\n",
      "48:\ttotal: 57.6s\tremaining: 1m 58s\n",
      "49:\ttotal: 58.8s\tremaining: 1m 57s\n",
      "50:\ttotal: 60s\tremaining: 1m 56s\n",
      "51:\ttotal: 1m 1s\tremaining: 1m 55s\n",
      "52:\ttotal: 1m 2s\tremaining: 1m 54s\n",
      "53:\ttotal: 1m 3s\tremaining: 1m 52s\n",
      "54:\ttotal: 1m 4s\tremaining: 1m 51s\n",
      "55:\ttotal: 1m 5s\tremaining: 1m 50s\n",
      "56:\ttotal: 1m 7s\tremaining: 1m 49s\n",
      "57:\ttotal: 1m 8s\tremaining: 1m 48s\n",
      "58:\ttotal: 1m 9s\tremaining: 1m 46s\n",
      "59:\ttotal: 1m 10s\tremaining: 1m 45s\n",
      "60:\ttotal: 1m 11s\tremaining: 1m 44s\n",
      "61:\ttotal: 1m 12s\tremaining: 1m 43s\n",
      "62:\ttotal: 1m 14s\tremaining: 1m 42s\n",
      "63:\ttotal: 1m 15s\tremaining: 1m 41s\n",
      "64:\ttotal: 1m 16s\tremaining: 1m 39s\n",
      "65:\ttotal: 1m 17s\tremaining: 1m 38s\n",
      "66:\ttotal: 1m 18s\tremaining: 1m 37s\n",
      "67:\ttotal: 1m 19s\tremaining: 1m 36s\n",
      "68:\ttotal: 1m 21s\tremaining: 1m 35s\n",
      "69:\ttotal: 1m 22s\tremaining: 1m 34s\n",
      "70:\ttotal: 1m 23s\tremaining: 1m 32s\n",
      "71:\ttotal: 1m 24s\tremaining: 1m 31s\n",
      "72:\ttotal: 1m 25s\tremaining: 1m 30s\n",
      "73:\ttotal: 1m 26s\tremaining: 1m 29s\n",
      "74:\ttotal: 1m 28s\tremaining: 1m 28s\n",
      "75:\ttotal: 1m 29s\tremaining: 1m 26s\n",
      "76:\ttotal: 1m 30s\tremaining: 1m 25s\n",
      "77:\ttotal: 1m 31s\tremaining: 1m 24s\n",
      "78:\ttotal: 1m 32s\tremaining: 1m 23s\n",
      "79:\ttotal: 1m 34s\tremaining: 1m 22s\n",
      "80:\ttotal: 1m 35s\tremaining: 1m 21s\n",
      "81:\ttotal: 1m 36s\tremaining: 1m 19s\n",
      "82:\ttotal: 1m 37s\tremaining: 1m 18s\n",
      "83:\ttotal: 1m 38s\tremaining: 1m 17s\n",
      "84:\ttotal: 1m 39s\tremaining: 1m 16s\n",
      "85:\ttotal: 1m 41s\tremaining: 1m 15s\n",
      "86:\ttotal: 1m 42s\tremaining: 1m 14s\n",
      "87:\ttotal: 1m 43s\tremaining: 1m 12s\n",
      "88:\ttotal: 1m 44s\tremaining: 1m 11s\n",
      "89:\ttotal: 1m 45s\tremaining: 1m 10s\n",
      "90:\ttotal: 1m 46s\tremaining: 1m 9s\n",
      "91:\ttotal: 1m 48s\tremaining: 1m 8s\n",
      "92:\ttotal: 1m 49s\tremaining: 1m 7s\n",
      "93:\ttotal: 1m 50s\tremaining: 1m 5s\n",
      "94:\ttotal: 1m 51s\tremaining: 1m 4s\n",
      "95:\ttotal: 1m 52s\tremaining: 1m 3s\n",
      "96:\ttotal: 1m 54s\tremaining: 1m 2s\n",
      "97:\ttotal: 1m 55s\tremaining: 1m 1s\n",
      "98:\ttotal: 1m 56s\tremaining: 60s\n",
      "99:\ttotal: 1m 57s\tremaining: 58.8s\n",
      "100:\ttotal: 1m 58s\tremaining: 57.6s\n",
      "101:\ttotal: 1m 59s\tremaining: 56.5s\n",
      "102:\ttotal: 2m 1s\tremaining: 55.3s\n",
      "103:\ttotal: 2m 2s\tremaining: 54.1s\n",
      "104:\ttotal: 2m 3s\tremaining: 52.9s\n",
      "105:\ttotal: 2m 4s\tremaining: 51.8s\n",
      "106:\ttotal: 2m 5s\tremaining: 50.6s\n",
      "107:\ttotal: 2m 7s\tremaining: 49.4s\n",
      "108:\ttotal: 2m 8s\tremaining: 48.2s\n",
      "109:\ttotal: 2m 9s\tremaining: 47.1s\n",
      "110:\ttotal: 2m 10s\tremaining: 45.9s\n",
      "111:\ttotal: 2m 11s\tremaining: 44.7s\n",
      "112:\ttotal: 2m 12s\tremaining: 43.5s\n",
      "113:\ttotal: 2m 14s\tremaining: 42.4s\n",
      "114:\ttotal: 2m 15s\tremaining: 41.2s\n",
      "115:\ttotal: 2m 16s\tremaining: 40s\n",
      "116:\ttotal: 2m 17s\tremaining: 38.8s\n",
      "117:\ttotal: 2m 18s\tremaining: 37.7s\n",
      "118:\ttotal: 2m 20s\tremaining: 36.5s\n",
      "119:\ttotal: 2m 21s\tremaining: 35.3s\n",
      "120:\ttotal: 2m 22s\tremaining: 34.1s\n",
      "121:\ttotal: 2m 23s\tremaining: 33s\n",
      "122:\ttotal: 2m 24s\tremaining: 31.8s\n",
      "123:\ttotal: 2m 25s\tremaining: 30.6s\n",
      "124:\ttotal: 2m 27s\tremaining: 29.4s\n",
      "125:\ttotal: 2m 28s\tremaining: 28.2s\n",
      "126:\ttotal: 2m 29s\tremaining: 27.1s\n",
      "127:\ttotal: 2m 30s\tremaining: 25.9s\n",
      "128:\ttotal: 2m 31s\tremaining: 24.7s\n",
      "129:\ttotal: 2m 32s\tremaining: 23.5s\n",
      "130:\ttotal: 2m 34s\tremaining: 22.4s\n",
      "131:\ttotal: 2m 35s\tremaining: 21.2s\n",
      "132:\ttotal: 2m 36s\tremaining: 20s\n",
      "133:\ttotal: 2m 37s\tremaining: 18.8s\n",
      "134:\ttotal: 2m 38s\tremaining: 17.7s\n",
      "135:\ttotal: 2m 40s\tremaining: 16.5s\n",
      "136:\ttotal: 2m 41s\tremaining: 15.3s\n",
      "137:\ttotal: 2m 42s\tremaining: 14.1s\n",
      "138:\ttotal: 2m 43s\tremaining: 12.9s\n",
      "139:\ttotal: 2m 44s\tremaining: 11.8s\n",
      "140:\ttotal: 2m 46s\tremaining: 10.6s\n",
      "141:\ttotal: 2m 47s\tremaining: 9.42s\n",
      "142:\ttotal: 2m 48s\tremaining: 8.24s\n",
      "143:\ttotal: 2m 49s\tremaining: 7.07s\n",
      "144:\ttotal: 2m 50s\tremaining: 5.89s\n",
      "145:\ttotal: 2m 51s\tremaining: 4.71s\n",
      "146:\ttotal: 2m 53s\tremaining: 3.53s\n",
      "147:\ttotal: 2m 54s\tremaining: 2.35s\n",
      "148:\ttotal: 2m 55s\tremaining: 1.18s\n",
      "149:\ttotal: 2m 56s\tremaining: 0us\n",
      "NDCG: 0.8391 | ROC AUC: 0.6448\n",
      "Groupwise loss function. OneHotMaxSize set to 10\n"
     ]
    },
    {
     "name": "stderr",
     "output_type": "stream",
     "text": [
      "Metric PFound is not implemented on GPU. Will use CPU for metric computation, this could significantly affect learning time\n",
      "Metric PFound is not implemented on GPU. Will use CPU for metric computation, this could significantly affect learning time\n"
     ]
    },
    {
     "name": "stdout",
     "output_type": "stream",
     "text": [
      "0:\ttotal: 1.33s\tremaining: 3m 17s\n",
      "1:\ttotal: 2.5s\tremaining: 3m 5s\n",
      "2:\ttotal: 3.67s\tremaining: 2m 59s\n",
      "3:\ttotal: 4.84s\tremaining: 2m 56s\n",
      "4:\ttotal: 6.01s\tremaining: 2m 54s\n",
      "5:\ttotal: 7.18s\tremaining: 2m 52s\n",
      "6:\ttotal: 8.35s\tremaining: 2m 50s\n",
      "7:\ttotal: 9.52s\tremaining: 2m 49s\n",
      "8:\ttotal: 10.7s\tremaining: 2m 47s\n",
      "9:\ttotal: 11.9s\tremaining: 2m 46s\n",
      "10:\ttotal: 13.1s\tremaining: 2m 44s\n",
      "11:\ttotal: 14.2s\tremaining: 2m 43s\n",
      "12:\ttotal: 15.4s\tremaining: 2m 42s\n",
      "13:\ttotal: 16.6s\tremaining: 2m 41s\n",
      "14:\ttotal: 17.8s\tremaining: 2m 39s\n",
      "15:\ttotal: 18.9s\tremaining: 2m 38s\n",
      "16:\ttotal: 20.1s\tremaining: 2m 37s\n",
      "17:\ttotal: 21.3s\tremaining: 2m 36s\n",
      "18:\ttotal: 22.5s\tremaining: 2m 34s\n",
      "19:\ttotal: 23.7s\tremaining: 2m 33s\n",
      "20:\ttotal: 24.8s\tremaining: 2m 32s\n",
      "21:\ttotal: 26s\tremaining: 2m 31s\n",
      "22:\ttotal: 27.2s\tremaining: 2m 30s\n",
      "23:\ttotal: 28.4s\tremaining: 2m 28s\n",
      "24:\ttotal: 29.6s\tremaining: 2m 27s\n",
      "25:\ttotal: 30.7s\tremaining: 2m 26s\n",
      "26:\ttotal: 31.9s\tremaining: 2m 25s\n",
      "27:\ttotal: 33.1s\tremaining: 2m 24s\n",
      "28:\ttotal: 34.3s\tremaining: 2m 22s\n",
      "29:\ttotal: 35.4s\tremaining: 2m 21s\n",
      "30:\ttotal: 36.6s\tremaining: 2m 20s\n",
      "31:\ttotal: 37.8s\tremaining: 2m 19s\n",
      "32:\ttotal: 39s\tremaining: 2m 18s\n",
      "33:\ttotal: 40.2s\tremaining: 2m 17s\n",
      "34:\ttotal: 41.4s\tremaining: 2m 15s\n",
      "35:\ttotal: 42.5s\tremaining: 2m 14s\n",
      "36:\ttotal: 43.7s\tremaining: 2m 13s\n",
      "37:\ttotal: 44.9s\tremaining: 2m 12s\n",
      "38:\ttotal: 46.1s\tremaining: 2m 11s\n",
      "39:\ttotal: 47.3s\tremaining: 2m 9s\n",
      "40:\ttotal: 48.4s\tremaining: 2m 8s\n",
      "41:\ttotal: 49.6s\tremaining: 2m 7s\n",
      "42:\ttotal: 50.8s\tremaining: 2m 6s\n",
      "43:\ttotal: 52s\tremaining: 2m 5s\n",
      "44:\ttotal: 53.1s\tremaining: 2m 3s\n",
      "45:\ttotal: 54.3s\tremaining: 2m 2s\n",
      "46:\ttotal: 55.5s\tremaining: 2m 1s\n",
      "47:\ttotal: 56.7s\tremaining: 2m\n",
      "48:\ttotal: 57.9s\tremaining: 1m 59s\n",
      "49:\ttotal: 59s\tremaining: 1m 58s\n",
      "50:\ttotal: 1m\tremaining: 1m 56s\n",
      "51:\ttotal: 1m 1s\tremaining: 1m 55s\n",
      "52:\ttotal: 1m 2s\tremaining: 1m 54s\n",
      "53:\ttotal: 1m 3s\tremaining: 1m 53s\n",
      "54:\ttotal: 1m 4s\tremaining: 1m 52s\n",
      "55:\ttotal: 1m 6s\tremaining: 1m 51s\n",
      "56:\ttotal: 1m 7s\tremaining: 1m 49s\n",
      "57:\ttotal: 1m 8s\tremaining: 1m 48s\n",
      "58:\ttotal: 1m 9s\tremaining: 1m 47s\n",
      "59:\ttotal: 1m 10s\tremaining: 1m 46s\n",
      "60:\ttotal: 1m 12s\tremaining: 1m 45s\n",
      "61:\ttotal: 1m 13s\tremaining: 1m 43s\n",
      "62:\ttotal: 1m 14s\tremaining: 1m 42s\n",
      "63:\ttotal: 1m 15s\tremaining: 1m 41s\n",
      "64:\ttotal: 1m 16s\tremaining: 1m 40s\n",
      "65:\ttotal: 1m 17s\tremaining: 1m 39s\n",
      "66:\ttotal: 1m 19s\tremaining: 1m 37s\n",
      "67:\ttotal: 1m 20s\tremaining: 1m 36s\n",
      "68:\ttotal: 1m 21s\tremaining: 1m 35s\n",
      "69:\ttotal: 1m 22s\tremaining: 1m 34s\n",
      "70:\ttotal: 1m 23s\tremaining: 1m 33s\n",
      "71:\ttotal: 1m 25s\tremaining: 1m 32s\n",
      "72:\ttotal: 1m 26s\tremaining: 1m 30s\n",
      "73:\ttotal: 1m 27s\tremaining: 1m 29s\n",
      "74:\ttotal: 1m 28s\tremaining: 1m 28s\n",
      "75:\ttotal: 1m 29s\tremaining: 1m 27s\n",
      "76:\ttotal: 1m 30s\tremaining: 1m 26s\n",
      "77:\ttotal: 1m 32s\tremaining: 1m 25s\n",
      "78:\ttotal: 1m 33s\tremaining: 1m 23s\n",
      "79:\ttotal: 1m 34s\tremaining: 1m 22s\n",
      "80:\ttotal: 1m 35s\tremaining: 1m 21s\n",
      "81:\ttotal: 1m 36s\tremaining: 1m 20s\n",
      "82:\ttotal: 1m 38s\tremaining: 1m 19s\n",
      "83:\ttotal: 1m 39s\tremaining: 1m 17s\n",
      "84:\ttotal: 1m 40s\tremaining: 1m 16s\n",
      "85:\ttotal: 1m 41s\tremaining: 1m 15s\n",
      "86:\ttotal: 1m 42s\tremaining: 1m 14s\n",
      "87:\ttotal: 1m 43s\tremaining: 1m 13s\n",
      "88:\ttotal: 1m 45s\tremaining: 1m 12s\n",
      "89:\ttotal: 1m 46s\tremaining: 1m 10s\n",
      "90:\ttotal: 1m 47s\tremaining: 1m 9s\n",
      "91:\ttotal: 1m 48s\tremaining: 1m 8s\n",
      "92:\ttotal: 1m 49s\tremaining: 1m 7s\n",
      "93:\ttotal: 1m 51s\tremaining: 1m 6s\n",
      "94:\ttotal: 1m 52s\tremaining: 1m 4s\n",
      "95:\ttotal: 1m 53s\tremaining: 1m 3s\n",
      "96:\ttotal: 1m 54s\tremaining: 1m 2s\n",
      "97:\ttotal: 1m 55s\tremaining: 1m 1s\n",
      "98:\ttotal: 1m 57s\tremaining: 1m\n",
      "99:\ttotal: 1m 58s\tremaining: 59.1s\n",
      "100:\ttotal: 1m 59s\tremaining: 57.9s\n",
      "101:\ttotal: 2m\tremaining: 56.7s\n",
      "102:\ttotal: 2m 1s\tremaining: 55.6s\n",
      "103:\ttotal: 2m 2s\tremaining: 54.4s\n",
      "104:\ttotal: 2m 4s\tremaining: 53.2s\n",
      "105:\ttotal: 2m 5s\tremaining: 52s\n",
      "106:\ttotal: 2m 6s\tremaining: 50.8s\n",
      "107:\ttotal: 2m 7s\tremaining: 49.6s\n",
      "108:\ttotal: 2m 8s\tremaining: 48.5s\n",
      "109:\ttotal: 2m 10s\tremaining: 47.3s\n",
      "110:\ttotal: 2m 11s\tremaining: 46.1s\n",
      "111:\ttotal: 2m 12s\tremaining: 44.9s\n",
      "112:\ttotal: 2m 13s\tremaining: 43.8s\n",
      "113:\ttotal: 2m 14s\tremaining: 42.6s\n",
      "114:\ttotal: 2m 15s\tremaining: 41.4s\n",
      "115:\ttotal: 2m 17s\tremaining: 40.2s\n",
      "116:\ttotal: 2m 18s\tremaining: 39s\n",
      "117:\ttotal: 2m 19s\tremaining: 37.8s\n",
      "118:\ttotal: 2m 20s\tremaining: 36.7s\n",
      "119:\ttotal: 2m 21s\tremaining: 35.5s\n",
      "120:\ttotal: 2m 23s\tremaining: 34.3s\n",
      "121:\ttotal: 2m 24s\tremaining: 33.1s\n",
      "122:\ttotal: 2m 25s\tremaining: 31.9s\n",
      "123:\ttotal: 2m 26s\tremaining: 30.8s\n",
      "124:\ttotal: 2m 27s\tremaining: 29.6s\n",
      "125:\ttotal: 2m 29s\tremaining: 28.4s\n",
      "126:\ttotal: 2m 30s\tremaining: 27.2s\n",
      "127:\ttotal: 2m 31s\tremaining: 26s\n",
      "128:\ttotal: 2m 32s\tremaining: 24.8s\n",
      "129:\ttotal: 2m 33s\tremaining: 23.7s\n",
      "130:\ttotal: 2m 34s\tremaining: 22.5s\n",
      "131:\ttotal: 2m 36s\tremaining: 21.3s\n",
      "132:\ttotal: 2m 37s\tremaining: 20.1s\n",
      "133:\ttotal: 2m 38s\tremaining: 18.9s\n",
      "134:\ttotal: 2m 39s\tremaining: 17.7s\n",
      "135:\ttotal: 2m 40s\tremaining: 16.6s\n",
      "136:\ttotal: 2m 42s\tremaining: 15.4s\n",
      "137:\ttotal: 2m 43s\tremaining: 14.2s\n",
      "138:\ttotal: 2m 44s\tremaining: 13s\n",
      "139:\ttotal: 2m 45s\tremaining: 11.8s\n",
      "140:\ttotal: 2m 46s\tremaining: 10.6s\n",
      "141:\ttotal: 2m 47s\tremaining: 9.46s\n",
      "142:\ttotal: 2m 49s\tremaining: 8.28s\n",
      "143:\ttotal: 2m 50s\tremaining: 7.1s\n",
      "144:\ttotal: 2m 51s\tremaining: 5.92s\n",
      "145:\ttotal: 2m 52s\tremaining: 4.73s\n",
      "146:\ttotal: 2m 53s\tremaining: 3.55s\n",
      "147:\ttotal: 2m 55s\tremaining: 2.37s\n",
      "148:\ttotal: 2m 56s\tremaining: 1.18s\n",
      "149:\ttotal: 2m 57s\tremaining: 0us\n",
      "NDCG: 0.8396 | ROC AUC: 0.6450\n"
     ]
    }
   ],
   "source": [
    "train_dataset_sm_sort = train_dataset_sm.sort_by(\"msno\")\n",
    "model = CatBoostModel(\"YetiRank\", 150, \"GPU\", random_state)\n",
    "scores = model.cv_scores(train_dataset_sm_sort, n_splits=5)"
   ]
  },
  {
   "cell_type": "code",
   "execution_count": null,
   "metadata": {
    "colab": {
     "base_uri": "https://localhost:8080/"
    },
    "id": "nkzec7m7kah9",
    "outputId": "fd842ad0-ab60-498f-a9c6-c8218adfcffb"
   },
   "outputs": [
    {
     "name": "stdout",
     "output_type": "stream",
     "text": [
      "Average NDCG: 0.8397\n",
      "Average ROC AUC per user: 0.6457\n"
     ]
    }
   ],
   "source": [
    "print(f\"Average NDCG: {np.mean(scores['NDCG']):.4f}\")\n",
    "print(f\"Average ROC AUC per user: {np.mean(scores['ROC_AUC']):.4f}\")"
   ]
  },
  {
   "cell_type": "markdown",
   "metadata": {
    "id": "yyUjsFx26kbE"
   },
   "source": [
    "## Задание 2"
   ]
  },
  {
   "cell_type": "markdown",
   "metadata": {
    "id": "EN85LqhE_1wO"
   },
   "source": [
    "Построить неклассические эмбеддинги и исследовать их полезность."
   ]
  },
  {
   "cell_type": "code",
   "execution_count": null,
   "metadata": {
    "colab": {
     "base_uri": "https://localhost:8080/"
    },
    "id": "rdHSMVPJ6kbE",
    "outputId": "a9a5725f-5b87-4836-8a62-26a76248da76"
   },
   "outputs": [
    {
     "name": "stdout",
     "output_type": "stream",
     "text": [
      "Fitting items\n",
      "Fitting users\n"
     ]
    },
    {
     "name": "stderr",
     "output_type": "stream",
     "text": [
      "100%|██████████| 30755/30755 [18:36<00:00, 27.54it/s]\n"
     ]
    },
    {
     "name": "stdout",
     "output_type": "stream",
     "text": [
      "CPU times: user 22min 22s, sys: 18.3 s, total: 22min 41s\n",
      "Wall time: 20min 55s\n"
     ]
    }
   ],
   "source": [
    "%%time\n",
    "embeddings = EmbeddingsBuilder(embedding_dim=100, random_state=random_state)\n",
    "embeddings = embeddings.fit(train_dataset_sm_sort)\n",
    "save_pickle(embeddings, \"embeddings.pkl\")"
   ]
  },
  {
   "cell_type": "code",
   "execution_count": null,
   "metadata": {
    "id": "xu_8VrbrlKxs"
   },
   "outputs": [],
   "source": [
    "embeddings = load_pickle(\"embeddings.pkl\")"
   ]
  },
  {
   "cell_type": "markdown",
   "metadata": {
    "id": "dhsRVHaWlTZq"
   },
   "source": [
    "Посмотрим на похожие песни и пользователей, визуализировав их с помощью PCA. Будем называть песни похожими, если они принадлежат к одному жанру."
   ]
  },
  {
   "cell_type": "code",
   "execution_count": null,
   "metadata": {
    "id": "g2QU0a5IlTph"
   },
   "outputs": [],
   "source": [
    "songs, genres = songs_dataset.similar_songs(n_groups=5)"
   ]
  },
  {
   "cell_type": "code",
   "execution_count": null,
   "metadata": {
    "colab": {
     "base_uri": "https://localhost:8080/"
    },
    "id": "iCw79bdgliBp",
    "outputId": "bf13140f-1936-4400-fbf4-a3942ff18843"
   },
   "outputs": [
    {
     "data": {
      "text/plain": [
       "(array(['1609', '2022', '2122', '465', '958'], dtype=object),\n",
       " array([166457, 168870, 139938, 567911, 176349]))"
      ]
     },
     "execution_count": 32,
     "metadata": {},
     "output_type": "execute_result"
    }
   ],
   "source": [
    "np.unique(genres, return_counts=True)"
   ]
  },
  {
   "cell_type": "markdown",
   "metadata": {
    "id": "NLeUTid4lfLA"
   },
   "source": [
    "Так как есть очень большой класс, уберем его. "
   ]
  },
  {
   "cell_type": "code",
   "execution_count": null,
   "metadata": {
    "colab": {
     "base_uri": "https://localhost:8080/",
     "height": 460
    },
    "id": "bqq4xhsylqRJ",
    "outputId": "283978d0-a265-40cd-9452-ce8cc04c0d23"
   },
   "outputs": [
    {
     "data": {
      "image/png": "[encoded data removed]",
      "text/plain": [
       "<Figure size 720x504 with 1 Axes>"
      ]
     },
     "metadata": {
      "needs_background": "light"
     },
     "output_type": "display_data"
    }
   ],
   "source": [
    "genres_mask = (genres != \"465\")\n",
    "songs_mask = np.array([embeddings.has_item(song) for song in songs])\n",
    "\n",
    "mask = genres_mask & songs_mask\n",
    "plot_similar(embeddings.get_item_embeddings(songs[mask]), genres[mask], \"Item embeddings\")"
   ]
  },
  {
   "cell_type": "markdown",
   "metadata": {
    "id": "HFTYzZRkmGhK"
   },
   "source": [
    "Как можно видеть, получились некоторые кластеры, обучим модель. "
   ]
  },
  {
   "cell_type": "code",
   "execution_count": null,
   "metadata": {
    "colab": {
     "base_uri": "https://localhost:8080/"
    },
    "id": "kZiwo_4_bVd1",
    "outputId": "6afa3fe1-1a26-46ea-850b-406d36a85a6b"
   },
   "outputs": [
    {
     "name": "stdout",
     "output_type": "stream",
     "text": [
      "Train size: 5612232 | Test size: 1403059\n",
      "Fitting items\n",
      "Fitting users\n"
     ]
    },
    {
     "name": "stderr",
     "output_type": "stream",
     "text": [
      "100%|██████████| 30755/30755 [19:34<00:00, 26.19it/s]\n"
     ]
    },
    {
     "name": "stdout",
     "output_type": "stream",
     "text": [
      "NDCG: 0.8463 | ROC AUC: 0.6345\n",
      "Train size: 5612233 | Test size: 1403058\n",
      "Fitting items\n",
      "Fitting users\n"
     ]
    },
    {
     "name": "stderr",
     "output_type": "stream",
     "text": [
      "100%|██████████| 30755/30755 [20:28<00:00, 25.04it/s]\n"
     ]
    },
    {
     "name": "stdout",
     "output_type": "stream",
     "text": [
      "NDCG: 0.8458 | ROC AUC: 0.6340\n",
      "Train size: 5612233 | Test size: 1403058\n",
      "Fitting items\n",
      "Fitting users\n"
     ]
    },
    {
     "name": "stderr",
     "output_type": "stream",
     "text": [
      "100%|██████████| 30755/30755 [21:06<00:00, 24.29it/s]\n"
     ]
    },
    {
     "name": "stdout",
     "output_type": "stream",
     "text": [
      "NDCG: 0.8455 | ROC AUC: 0.6339\n",
      "Train size: 5612233 | Test size: 1403058\n",
      "Fitting items\n",
      "Fitting users\n"
     ]
    },
    {
     "name": "stderr",
     "output_type": "stream",
     "text": [
      "100%|██████████| 30755/30755 [20:21<00:00, 25.18it/s]\n"
     ]
    },
    {
     "name": "stdout",
     "output_type": "stream",
     "text": [
      "NDCG: 0.8463 | ROC AUC: 0.6351\n",
      "Train size: 5612233 | Test size: 1403058\n",
      "Fitting items\n",
      "Fitting users\n"
     ]
    },
    {
     "name": "stderr",
     "output_type": "stream",
     "text": [
      "100%|██████████| 30755/30755 [20:32<00:00, 24.96it/s]\n"
     ]
    },
    {
     "name": "stdout",
     "output_type": "stream",
     "text": [
      "NDCG: 0.8456 | ROC AUC: 0.6328\n",
      "CPU times: user 2h 8min 4s, sys: 1min 7s, total: 2h 9min 12s\n",
      "Wall time: 2h 1min 32s\n"
     ]
    }
   ],
   "source": [
    "%%time\n",
    "train_dataset_sm_sort = train_dataset_sm.sort_by(\"msno\")\n",
    "model = EmbeddingModel(100, random_state=random_state)\n",
    "scores = model.cv_scores(train_dataset_sm_sort, n_splits=5)"
   ]
  },
  {
   "cell_type": "code",
   "execution_count": null,
   "metadata": {
    "colab": {
     "base_uri": "https://localhost:8080/"
    },
    "id": "_KYCcbdBbch9",
    "outputId": "0813ccf1-0381-4741-ca52-01081e0c26fc"
   },
   "outputs": [
    {
     "name": "stdout",
     "output_type": "stream",
     "text": [
      "Average NDCG: 0.8459\n",
      "Average ROC AUC per user: 0.6341\n"
     ]
    }
   ],
   "source": [
    "print(f\"Average NDCG: {np.mean(scores['NDCG']):.4f}\")\n",
    "print(f\"Average ROC AUC per user: {np.mean(scores['ROC_AUC']):.4f}\")"
   ]
  },
  {
   "cell_type": "markdown",
   "metadata": {
    "id": "4wuPj-1RDP1e"
   },
   "source": [
    "Получили сопоставимое качество с CatBoost, наверное, это норм. Теперь протестируем модели вместе. "
   ]
  },
  {
   "cell_type": "code",
   "execution_count": null,
   "metadata": {
    "colab": {
     "base_uri": "https://localhost:8080/"
    },
    "id": "OcB-rLsyJtiK",
    "outputId": "e7704eee-198e-4bf5-8b3b-bc20ee848312"
   },
   "outputs": [
    {
     "name": "stdout",
     "output_type": "stream",
     "text": [
      "Train size: 5612232 | Test size: 1403059\n",
      "Fitting items\n",
      "Fitting users\n",
      "100%|██████████| 30755/30755 [17:19<00:00, 29.58it/s]\n",
      "Fitted embedding model\n",
      "Fitted catboost\n",
      "Train size: 5612233 | Test size: 1403058\n",
      "Fitting items\n",
      "Fitting users\n",
      "100%|██████████| 30755/30755 [18:15<00:00, 28.14it/s]\n",
      "Fitted embedding model\n",
      "Fitted catboost\n",
      "Train size: 5612233 | Test size: 1403058\n",
      "Fitting items\n",
      "Fitting users\n",
      "100%|██████████| 30755/30755 [17:06<00:00, 30.01it/s]\n",
      "Fitted embedding model\n",
      "Fitted catboost\n",
      "Train size: 5612233 | Test size: 1403058\n",
      "Fitting items\n",
      "Fitting users\n",
      "100%|██████████| 30755/30755 [17:31<00:00, 29.31it/s]\n",
      "Fitted embedding model\n",
      "Fitted catboost\n",
      "Train size: 5612233 | Test size: 1403058\n",
      "Fitting items\n",
      "Fitting users\n",
      "100%|██████████| 30755/30755 [16:54<00:00, 30.44it/s]\n",
      "Fitted embedding model\n",
      "Fitted catboost\n"
     ]
    }
   ],
   "source": [
    "train_dataset_sm_sort = train_dataset_sm.sort_by(\"msno\")\n",
    "model = CombinedModel(\"YetiRank\", 150, 100, \"GPU\", random_state=random_state)\n",
    "scores = model.cv_scores(train_dataset_sm_sort, n_splits=5)"
   ]
  },
  {
   "cell_type": "code",
   "execution_count": null,
   "metadata": {
    "colab": {
     "base_uri": "https://localhost:8080/"
    },
    "id": "K_085TEwLgES",
    "outputId": "bb795813-6e82-44aa-822f-bae8b983ec99"
   },
   "outputs": [
    {
     "name": "stdout",
     "output_type": "stream",
     "text": [
      "Average NDCG: 0.8714\n",
      "Average ROC AUC per user: 0.6510\n"
     ]
    }
   ],
   "source": [
    "print(f\"Average NDCG: {np.mean(scores['NDCG']):.4f}\")\n",
    "print(f\"Average ROC AUC per user: {np.mean(scores['ROC_AUC']):.4f}\")"
   ]
  },
  {
   "cell_type": "markdown",
   "metadata": {
    "id": "U5OoYOBD-Zzn"
   },
   "source": [
    "Как можно видеть, метрики улучшились. Исследуем shap values."
   ]
  },
  {
   "cell_type": "code",
   "execution_count": 16,
   "metadata": {
    "colab": {
     "base_uri": "https://localhost:8080/"
    },
    "id": "odAI6AC2Rxe-",
    "outputId": "dbdf6d12-5129-4528-923f-f8a2f3b46d3d"
   },
   "outputs": [
    {
     "name": "stdout",
     "output_type": "stream",
     "text": [
      "Train size: 7014291 | Test size: 1000\n"
     ]
    }
   ],
   "source": [
    "train_dataset_sm_sort = train_dataset_sm.sort_by(\"msno\")\n",
    "indices = np.random.permutation(len(train_dataset_sm_sort))\n",
    "train_indices, test_indices = train_test_split(indices, test_size=1_000)\n",
    "train_indices = sorted(train_indices)\n",
    "test_indices = sorted(test_indices)\n",
    "\n",
    "X_train = TrainDataset(train_dataset_sm_sort.pandas_df.iloc[train_indices])\n",
    "X_test = TrainDataset(train_dataset_sm_sort.pandas_df.iloc[test_indices])\n",
    "\n",
    "print(f\"Train size: {len(X_train)} | Test size: {len(X_test)}\")"
   ]
  },
  {
   "cell_type": "code",
   "execution_count": 17,
   "metadata": {
    "colab": {
     "base_uri": "https://localhost:8080/"
    },
    "id": "El3gojD7FJKC",
    "outputId": "4887d28d-671d-4c84-8b15-c6c4dc8e8a6c"
   },
   "outputs": [
    {
     "name": "stdout",
     "output_type": "stream",
     "text": [
      "Fitting items\n",
      "Fitting users\n"
     ]
    },
    {
     "name": "stderr",
     "output_type": "stream",
     "text": [
      "100%|██████████| 30755/30755 [16:01<00:00, 31.99it/s]\n"
     ]
    }
   ],
   "source": [
    "emb_model = EmbeddingModel(embedding_dim=100, random_state=random_state)\n",
    "emb_model = emb_model.fit(X_train)\n",
    "train_scores = emb_model.predict(X_train)\n",
    "test_scores = emb_model.predict(X_test)"
   ]
  },
  {
   "cell_type": "code",
   "execution_count": 20,
   "metadata": {},
   "outputs": [],
   "source": [
    "X_train_df = X_train.pandas_df.reset_index(drop=True)\n",
    "X_train_df[\"sim\"] = train_scores \n",
    "\n",
    "X_test_df = X_test.pandas_df.reset_index(drop=True)\n",
    "X_test_df[\"sim\"] = test_scores"
   ]
  },
  {
   "cell_type": "code",
   "execution_count": 22,
   "metadata": {
    "id": "Q5PFRy1-XYL-"
   },
   "outputs": [],
   "source": [
    "model = CatBoostRanker(loss_function=\"YetiRank\", iterations=150)"
   ]
  },
  {
   "cell_type": "code",
   "execution_count": 23,
   "metadata": {},
   "outputs": [],
   "source": [
    "def to_pool(df): \n",
    "    cat_features = df.select_dtypes(include=[\"category\"]).columns.to_numpy()\n",
    "    \n",
    "    data = df.drop(\"target\", axis=1)\n",
    "    label = df.target.to_numpy()\n",
    "    group_id = df.msno.cat.codes.to_numpy()\n",
    "    \n",
    "    pool = Pool(data=data, label=label, group_id=group_id,\n",
    "                cat_features=cat_features, has_header=True)\n",
    "    \n",
    "    return pool"
   ]
  },
  {
   "cell_type": "code",
   "execution_count": 24,
   "metadata": {},
   "outputs": [
    {
     "name": "stdout",
     "output_type": "stream",
     "text": [
      "Groupwise loss function. OneHotMaxSize set to 10\n",
      "0:\ttotal: 17.6s\tremaining: 43m 45s\n",
      "1:\ttotal: 34.4s\tremaining: 42m 27s\n",
      "2:\ttotal: 50.1s\tremaining: 40m 56s\n",
      "3:\ttotal: 1m 6s\tremaining: 40m 20s\n",
      "4:\ttotal: 1m 22s\tremaining: 39m 41s\n",
      "5:\ttotal: 1m 37s\tremaining: 39m 9s\n",
      "6:\ttotal: 1m 54s\tremaining: 38m 57s\n",
      "7:\ttotal: 2m 10s\tremaining: 38m 29s\n",
      "8:\ttotal: 2m 25s\tremaining: 38m 5s\n",
      "9:\ttotal: 2m 41s\tremaining: 37m 44s\n",
      "10:\ttotal: 2m 57s\tremaining: 37m 25s\n",
      "11:\ttotal: 3m 13s\tremaining: 37m 8s\n",
      "12:\ttotal: 3m 30s\tremaining: 36m 53s\n",
      "13:\ttotal: 3m 45s\tremaining: 36m 34s\n",
      "14:\ttotal: 4m 1s\tremaining: 36m 16s\n",
      "15:\ttotal: 4m 17s\tremaining: 35m 59s\n",
      "16:\ttotal: 4m 33s\tremaining: 35m 40s\n",
      "17:\ttotal: 4m 49s\tremaining: 35m 23s\n",
      "18:\ttotal: 5m 5s\tremaining: 35m 6s\n",
      "19:\ttotal: 5m 21s\tremaining: 34m 49s\n",
      "20:\ttotal: 5m 37s\tremaining: 34m 32s\n",
      "21:\ttotal: 5m 54s\tremaining: 34m 22s\n",
      "22:\ttotal: 6m 11s\tremaining: 34m 9s\n",
      "23:\ttotal: 6m 28s\tremaining: 33m 57s\n",
      "24:\ttotal: 6m 45s\tremaining: 33m 47s\n",
      "25:\ttotal: 7m 3s\tremaining: 33m 40s\n",
      "26:\ttotal: 7m 21s\tremaining: 33m 29s\n",
      "27:\ttotal: 7m 38s\tremaining: 33m 16s\n",
      "28:\ttotal: 7m 54s\tremaining: 33m\n",
      "29:\ttotal: 8m 11s\tremaining: 32m 44s\n",
      "30:\ttotal: 8m 27s\tremaining: 32m 27s\n",
      "31:\ttotal: 8m 43s\tremaining: 32m 10s\n",
      "32:\ttotal: 8m 59s\tremaining: 31m 53s\n",
      "33:\ttotal: 9m 16s\tremaining: 31m 37s\n",
      "34:\ttotal: 9m 32s\tremaining: 31m 19s\n",
      "35:\ttotal: 9m 48s\tremaining: 31m 3s\n",
      "36:\ttotal: 10m 4s\tremaining: 30m 46s\n",
      "37:\ttotal: 10m 20s\tremaining: 30m 29s\n",
      "38:\ttotal: 10m 37s\tremaining: 30m 13s\n",
      "39:\ttotal: 10m 53s\tremaining: 29m 56s\n",
      "40:\ttotal: 11m 9s\tremaining: 29m 40s\n",
      "41:\ttotal: 11m 26s\tremaining: 29m 24s\n",
      "42:\ttotal: 11m 42s\tremaining: 29m 7s\n",
      "43:\ttotal: 11m 58s\tremaining: 28m 49s\n",
      "44:\ttotal: 12m 14s\tremaining: 28m 33s\n",
      "45:\ttotal: 12m 30s\tremaining: 28m 16s\n",
      "46:\ttotal: 12m 46s\tremaining: 27m 59s\n",
      "47:\ttotal: 13m 2s\tremaining: 27m 43s\n",
      "48:\ttotal: 13m 18s\tremaining: 27m 26s\n",
      "49:\ttotal: 13m 35s\tremaining: 27m 10s\n",
      "50:\ttotal: 13m 51s\tremaining: 26m 53s\n",
      "51:\ttotal: 14m 7s\tremaining: 26m 36s\n",
      "52:\ttotal: 14m 23s\tremaining: 26m 20s\n",
      "53:\ttotal: 14m 39s\tremaining: 26m 3s\n",
      "54:\ttotal: 14m 55s\tremaining: 25m 46s\n",
      "55:\ttotal: 15m 11s\tremaining: 25m 30s\n",
      "56:\ttotal: 15m 28s\tremaining: 25m 14s\n",
      "57:\ttotal: 15m 44s\tremaining: 24m 58s\n",
      "58:\ttotal: 16m\tremaining: 24m 41s\n",
      "59:\ttotal: 16m 16s\tremaining: 24m 25s\n",
      "60:\ttotal: 16m 33s\tremaining: 24m 8s\n",
      "61:\ttotal: 16m 49s\tremaining: 23m 52s\n",
      "62:\ttotal: 17m 5s\tremaining: 23m 36s\n",
      "63:\ttotal: 17m 21s\tremaining: 23m 19s\n",
      "64:\ttotal: 17m 38s\tremaining: 23m 3s\n",
      "65:\ttotal: 17m 54s\tremaining: 22m 47s\n",
      "66:\ttotal: 18m 10s\tremaining: 22m 31s\n",
      "67:\ttotal: 18m 26s\tremaining: 22m 14s\n",
      "68:\ttotal: 18m 43s\tremaining: 21m 58s\n",
      "69:\ttotal: 19m\tremaining: 21m 42s\n",
      "70:\ttotal: 19m 16s\tremaining: 21m 26s\n",
      "71:\ttotal: 19m 32s\tremaining: 21m 10s\n",
      "72:\ttotal: 19m 48s\tremaining: 20m 53s\n",
      "73:\ttotal: 20m 5s\tremaining: 20m 37s\n",
      "74:\ttotal: 20m 21s\tremaining: 20m 21s\n",
      "75:\ttotal: 20m 37s\tremaining: 20m 5s\n",
      "76:\ttotal: 20m 54s\tremaining: 19m 48s\n",
      "77:\ttotal: 21m 10s\tremaining: 19m 32s\n",
      "78:\ttotal: 21m 26s\tremaining: 19m 16s\n",
      "79:\ttotal: 21m 42s\tremaining: 18m 59s\n",
      "80:\ttotal: 21m 58s\tremaining: 18m 43s\n",
      "81:\ttotal: 22m 15s\tremaining: 18m 27s\n",
      "82:\ttotal: 22m 31s\tremaining: 18m 10s\n",
      "83:\ttotal: 22m 47s\tremaining: 17m 54s\n",
      "84:\ttotal: 23m 3s\tremaining: 17m 37s\n",
      "85:\ttotal: 23m 19s\tremaining: 17m 21s\n",
      "86:\ttotal: 23m 35s\tremaining: 17m 4s\n",
      "87:\ttotal: 23m 51s\tremaining: 16m 48s\n",
      "88:\ttotal: 24m 6s\tremaining: 16m 31s\n",
      "89:\ttotal: 24m 23s\tremaining: 16m 15s\n",
      "90:\ttotal: 24m 39s\tremaining: 15m 59s\n",
      "91:\ttotal: 24m 55s\tremaining: 15m 42s\n",
      "92:\ttotal: 25m 11s\tremaining: 15m 26s\n",
      "93:\ttotal: 25m 27s\tremaining: 15m 10s\n",
      "94:\ttotal: 25m 43s\tremaining: 14m 53s\n",
      "95:\ttotal: 25m 59s\tremaining: 14m 37s\n",
      "96:\ttotal: 26m 15s\tremaining: 14m 20s\n",
      "97:\ttotal: 26m 31s\tremaining: 14m 4s\n",
      "98:\ttotal: 26m 47s\tremaining: 13m 47s\n",
      "99:\ttotal: 27m 3s\tremaining: 13m 31s\n",
      "100:\ttotal: 27m 19s\tremaining: 13m 15s\n",
      "101:\ttotal: 27m 35s\tremaining: 12m 59s\n",
      "102:\ttotal: 27m 51s\tremaining: 12m 42s\n",
      "103:\ttotal: 28m 7s\tremaining: 12m 26s\n",
      "104:\ttotal: 28m 23s\tremaining: 12m 9s\n",
      "105:\ttotal: 28m 38s\tremaining: 11m 53s\n",
      "106:\ttotal: 28m 55s\tremaining: 11m 37s\n",
      "107:\ttotal: 29m 10s\tremaining: 11m 20s\n",
      "108:\ttotal: 29m 26s\tremaining: 11m 4s\n",
      "109:\ttotal: 29m 42s\tremaining: 10m 48s\n",
      "110:\ttotal: 29m 59s\tremaining: 10m 32s\n",
      "111:\ttotal: 30m 15s\tremaining: 10m 16s\n",
      "112:\ttotal: 30m 31s\tremaining: 9m 59s\n",
      "113:\ttotal: 30m 47s\tremaining: 9m 43s\n",
      "114:\ttotal: 31m 3s\tremaining: 9m 27s\n",
      "115:\ttotal: 31m 19s\tremaining: 9m 11s\n",
      "116:\ttotal: 31m 35s\tremaining: 8m 54s\n",
      "117:\ttotal: 31m 51s\tremaining: 8m 38s\n",
      "118:\ttotal: 32m 7s\tremaining: 8m 22s\n",
      "119:\ttotal: 32m 23s\tremaining: 8m 5s\n",
      "120:\ttotal: 32m 39s\tremaining: 7m 49s\n",
      "121:\ttotal: 32m 55s\tremaining: 7m 33s\n",
      "122:\ttotal: 33m 11s\tremaining: 7m 17s\n",
      "123:\ttotal: 33m 27s\tremaining: 7m\n",
      "124:\ttotal: 33m 43s\tremaining: 6m 44s\n",
      "125:\ttotal: 33m 59s\tremaining: 6m 28s\n",
      "126:\ttotal: 34m 15s\tremaining: 6m 12s\n",
      "127:\ttotal: 34m 31s\tremaining: 5m 56s\n",
      "128:\ttotal: 34m 47s\tremaining: 5m 39s\n",
      "129:\ttotal: 35m 3s\tremaining: 5m 23s\n",
      "130:\ttotal: 35m 19s\tremaining: 5m 7s\n",
      "131:\ttotal: 35m 35s\tremaining: 4m 51s\n",
      "132:\ttotal: 35m 51s\tremaining: 4m 35s\n",
      "133:\ttotal: 36m 8s\tremaining: 4m 18s\n",
      "134:\ttotal: 36m 24s\tremaining: 4m 2s\n",
      "135:\ttotal: 36m 40s\tremaining: 3m 46s\n",
      "136:\ttotal: 36m 56s\tremaining: 3m 30s\n",
      "137:\ttotal: 37m 12s\tremaining: 3m 14s\n",
      "138:\ttotal: 37m 28s\tremaining: 2m 57s\n",
      "139:\ttotal: 37m 44s\tremaining: 2m 41s\n",
      "140:\ttotal: 38m\tremaining: 2m 25s\n",
      "141:\ttotal: 38m 17s\tremaining: 2m 9s\n",
      "142:\ttotal: 38m 38s\tremaining: 1m 53s\n",
      "143:\ttotal: 38m 58s\tremaining: 1m 37s\n",
      "144:\ttotal: 39m 16s\tremaining: 1m 21s\n",
      "145:\ttotal: 39m 35s\tremaining: 1m 5s\n",
      "146:\ttotal: 39m 53s\tremaining: 48.8s\n",
      "147:\ttotal: 40m 11s\tremaining: 32.6s\n",
      "148:\ttotal: 40m 29s\tremaining: 16.3s\n",
      "149:\ttotal: 40m 47s\tremaining: 0us\n"
     ]
    },
    {
     "data": {
      "text/plain": [
       "<catboost.core.CatBoostRanker at 0x7fd64a89eb20>"
      ]
     },
     "execution_count": 24,
     "metadata": {},
     "output_type": "execute_result"
    }
   ],
   "source": [
    "model.fit(to_pool(X_train_df))"
   ]
  },
  {
   "cell_type": "code",
   "execution_count": 25,
   "metadata": {},
   "outputs": [],
   "source": [
    "shap_values = model.get_feature_importance(to_pool(X_test_df), type=\"ShapValues\", shap_calc_type=\"Exact\")[:, :-1]"
   ]
  },
  {
   "cell_type": "code",
   "execution_count": 27,
   "metadata": {},
   "outputs": [
    {
     "data": {
      "image/png": "[encoded data removed]",
      "text/plain": [
       "<Figure size 576x684 with 2 Axes>"
      ]
     },
     "metadata": {
      "needs_background": "light"
     },
     "output_type": "display_data"
    }
   ],
   "source": [
    "shap.summary_plot(shap_values, X_test_df.drop(\"target\", axis=1))"
   ]
  },
  {
   "cell_type": "markdown",
   "metadata": {},
   "source": [
    "Similarity -- самый важный признак. "
   ]
  },
  {
   "cell_type": "code",
   "execution_count": null,
   "metadata": {},
   "outputs": [],
   "source": []
  }
 ],
 "metadata": {
  "accelerator": "GPU",
  "colab": {
   "collapsed_sections": [
    "n7-8HEIm6kbC"
   ],
   "name": "solution.ipynb",
   "provenance": []
  },
  "kernelspec": {
   "display_name": "Python 3 (ipykernel)",
   "language": "python",
   "name": "python3"
  },
  "language_info": {
   "codemirror_mode": {
    "name": "ipython",
    "version": 3
   },
   "file_extension": ".py",
   "mimetype": "text/x-python",
   "name": "python",
   "nbconvert_exporter": "python",
   "pygments_lexer": "ipython3",
   "version": "3.8.11"
  }
 },
 "nbformat": 4,
 "nbformat_minor": 1
}