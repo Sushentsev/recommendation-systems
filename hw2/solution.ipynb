{
 "nbformat": 4,
 "nbformat_minor": 0,
 "metadata": {
  "accelerator": "GPU",
  "colab": {
   "name": "solution.ipynb",
   "provenance": [],
   "collapsed_sections": []
  },
  "kernelspec": {
   "display_name": "Python 3 (ipykernel)",
   "language": "python",
   "name": "python3"
  },
  "language_info": {
   "codemirror_mode": {
    "name": "ipython",
    "version": 3
   },
   "file_extension": ".py",
   "mimetype": "text/x-python",
   "name": "python",
   "nbconvert_exporter": "python",
   "pygments_lexer": "ipython3",
   "version": "3.8.11"
  }
 },
 "cells": [
  {
   "cell_type": "markdown",
   "metadata": {
    "collapsed": true,
    "id": "aoWZrdYj6ka4"
   },
   "source": [
    "# Music Recomendations"
   ]
  },
  {
   "cell_type": "code",
   "metadata": {
    "id": "bP2rFoVt6of5",
    "scrolled": true
   },
   "source": [
    "!pip install catboost==1.0.3\n",
    "!pip install gensim==4.1.0\n",
    "!pip install --upgrade numpy"
   ],
   "execution_count": null,
   "outputs": []
  },
  {
   "cell_type": "code",
   "metadata": {
    "colab": {
     "base_uri": "https://localhost:8080/"
    },
    "id": "aAove_va6u9V",
    "outputId": "bae7bcc1-686b-4adc-ef76-e181527e127a"
   },
   "source": [
    "!nvidia-smi"
   ],
   "execution_count": 1,
   "outputs": [
    {
     "output_type": "stream",
     "name": "stdout",
     "text": [
      "Wed Nov 24 10:50:01 2021       \n",
      "+-----------------------------------------------------------------------------+\n",
      "| NVIDIA-SMI 495.44       Driver Version: 460.32.03    CUDA Version: 11.2     |\n",
      "|-------------------------------+----------------------+----------------------+\n",
      "| GPU  Name        Persistence-M| Bus-Id        Disp.A | Volatile Uncorr. ECC |\n",
      "| Fan  Temp  Perf  Pwr:Usage/Cap|         Memory-Usage | GPU-Util  Compute M. |\n",
      "|                               |                      |               MIG M. |\n",
      "|===============================+======================+======================|\n",
      "|   0  Tesla K80           Off  | 00000000:00:04.0 Off |                    0 |\n",
      "| N/A   57C    P8    31W / 149W |      0MiB / 11441MiB |      0%      Default |\n",
      "|                               |                      |                  N/A |\n",
      "+-------------------------------+----------------------+----------------------+\n",
      "                                                                               \n",
      "+-----------------------------------------------------------------------------+\n",
      "| Processes:                                                                  |\n",
      "|  GPU   GI   CI        PID   Type   Process name                  GPU Memory |\n",
      "|        ID   ID                                                   Usage      |\n",
      "|=============================================================================|\n",
      "|  No running processes found                                                 |\n",
      "+-----------------------------------------------------------------------------+\n"
     ]
    }
   ]
  },
  {
   "cell_type": "code",
   "metadata": {
    "colab": {
     "base_uri": "https://localhost:8080/"
    },
    "id": "lwnCE5dt6p3q",
    "outputId": "aa539c54-3678-447a-c18f-a627499627e3"
   },
   "source": [
    "%cd /content\n",
    "!wget https://voudy-data.s3.eu-north-1.amazonaws.com/wsdm_data.tar.gz\n",
    "!tar -xf /content/wsdm_data.tar.gz\n",
    "!mkdir data\n",
    "!mv -t data members.csv song_extra_info.csv songs.csv train.csv\n",
    "!git clone -b hw2 https://github.com/Sushentsev/recommendation-systems\n",
    "%cd recommendation-systems/\n",
    "!mv /content/data /content/recommendation-systems/hw2"
   ],
   "execution_count": 2,
   "outputs": [
    {
     "output_type": "stream",
     "name": "stdout",
     "text": [
      "/content\n",
      "--2021-11-24 10:50:02--  https://voudy-data.s3.eu-north-1.amazonaws.com/wsdm_data.tar.gz\n",
      "Resolving voudy-data.s3.eu-north-1.amazonaws.com (voudy-data.s3.eu-north-1.amazonaws.com)... 52.95.171.72\n",
      "Connecting to voudy-data.s3.eu-north-1.amazonaws.com (voudy-data.s3.eu-north-1.amazonaws.com)|52.95.171.72|:443... connected.\n",
      "HTTP request sent, awaiting response... 200 OK\n",
      "Length: 613394184 (585M) [application/x-gzip]\n",
      "Saving to: ‘wsdm_data.tar.gz’\n",
      "\n",
      "wsdm_data.tar.gz    100%[===================>] 584.98M  23.6MB/s    in 26s     \n",
      "\n",
      "2021-11-24 10:50:30 (22.2 MB/s) - ‘wsdm_data.tar.gz’ saved [613394184/613394184]\n",
      "\n",
      "Cloning into 'recommendation-systems'...\n",
      "remote: Enumerating objects: 100, done.\u001B[K\n",
      "remote: Counting objects: 100% (100/100), done.\u001B[K\n",
      "remote: Compressing objects: 100% (70/70), done.\u001B[K\n",
      "remote: Total 100 (delta 50), reused 73 (delta 28), pack-reused 0\u001B[K\n",
      "Receiving objects: 100% (100/100), 6.36 MiB | 14.11 MiB/s, done.\n",
      "Resolving deltas: 100% (50/50), done.\n",
      "/content/recommendation-systems\n"
     ]
    }
   ]
  },
  {
   "cell_type": "code",
   "metadata": {
    "colab": {
     "base_uri": "https://localhost:8080/"
    },
    "id": "Bijh8iRH6rqv",
    "outputId": "09b33d62-ba08-412b-84f7-f9845713f212"
   },
   "source": [
    "%cd /content/recommendation-systems/hw2"
   ],
   "execution_count": 3,
   "outputs": [
    {
     "output_type": "stream",
     "name": "stdout",
     "text": [
      "/content/recommendation-systems/hw2\n"
     ]
    }
   ]
  },
  {
   "cell_type": "code",
   "metadata": {
    "id": "4G8Gs-HI6tSy"
   },
   "source": [
    "import sys\n",
    "sys.path.append(\"/content/recommendation-systems\")"
   ],
   "execution_count": 4,
   "outputs": []
  },
  {
   "cell_type": "code",
   "metadata": {
    "id": "MCXSw-XY6ka5",
    "colab": {
     "base_uri": "https://localhost:8080/"
    },
    "outputId": "a0b54b97-6f18-41e3-ac61-6a6bb538469f"
   },
   "source": [
    "from datasets.members import MembersDataset\n",
    "from datasets.songs import SongsDataset\n",
    "from datasets.train import TrainDataset\n",
    "from datasets.songs_info import SongsInfoDataset\n",
    "\n",
    "from models.catboost_model import CatBoostModel\n",
    "from models.embeddings_model import EmbeddingModel\n",
    "\n",
    "from embeddings_builder import EmbeddingsBuilder\n",
    "\n",
    "from plot import * \n",
    "from utils import * \n",
    "\n",
    "import pandas as pd\n",
    "import numpy as np\n",
    "import matplotlib.pyplot as plt\n",
    "\n",
    "%load_ext autoreload\n",
    "%autoreload 2"
   ],
   "execution_count": 8,
   "outputs": [
    {
     "output_type": "stream",
     "name": "stdout",
     "text": [
      "The autoreload extension is already loaded. To reload it, use:\n",
      "  %reload_ext autoreload\n"
     ]
    }
   ]
  },
  {
   "cell_type": "markdown",
   "metadata": {
    "id": "hovxQlXl6ka6"
   },
   "source": [
    "## Подготовка данных"
   ]
  },
  {
   "cell_type": "code",
   "metadata": {
    "id": "xnvHEoJn6ka7"
   },
   "source": [
    "random_state = 42"
   ],
   "execution_count": 9,
   "outputs": []
  },
  {
   "cell_type": "markdown",
   "metadata": {
    "id": "FvZPG6hO6ka7"
   },
   "source": [
    "Загрузим данные в память. "
   ]
  },
  {
   "cell_type": "code",
   "metadata": {
    "id": "l4n07gtT6ka7",
    "colab": {
     "base_uri": "https://localhost:8080/"
    },
    "outputId": "778bc17a-fb02-4ea6-be20-e6793c2cc15c"
   },
   "source": [
    "%%time\n",
    "members_dataset = MembersDataset.from_path(\"./data/members.csv\")\n",
    "songs_dataset = SongsDataset.from_path(\"./data/songs.csv\")\n",
    "train_dataset = TrainDataset.from_path(\"./data/train.csv\")\n",
    "songs_info_dataset = SongsInfoDataset.from_path(\"./data/song_extra_info.csv\")"
   ],
   "execution_count": 10,
   "outputs": [
    {
     "output_type": "stream",
     "name": "stdout",
     "text": [
      "CPU times: user 56.6 s, sys: 1.59 s, total: 58.2 s\n",
      "Wall time: 58 s\n"
     ]
    }
   ]
  },
  {
   "cell_type": "markdown",
   "metadata": {
    "id": "rrtM00Yw6ka8"
   },
   "source": [
    "Построим признаки для песен и пользователей и посмотрим, что получилось. "
   ]
  },
  {
   "cell_type": "code",
   "metadata": {
    "id": "JP9BeZDY6ka8",
    "colab": {
     "base_uri": "https://localhost:8080/"
    },
    "outputId": "ecc0258f-d98f-4514-8c1a-02d950fa35d4"
   },
   "source": [
    "%%time\n",
    "members_dataset = members_dataset.create_features()\n",
    "songs_dataset = songs_dataset.create_features(songs_info_dataset)"
   ],
   "execution_count": 11,
   "outputs": [
    {
     "output_type": "stream",
     "name": "stdout",
     "text": [
      "CPU times: user 21.4 s, sys: 854 ms, total: 22.2 s\n",
      "Wall time: 22.2 s\n"
     ]
    }
   ]
  },
  {
   "cell_type": "code",
   "metadata": {
    "id": "isbOUfyg6ka9",
    "colab": {
     "base_uri": "https://localhost:8080/",
     "height": 142
    },
    "outputId": "b0d8ffa7-c92e-4db7-e850-b1ad1e7924a8"
   },
   "source": [
    "members_dataset.pandas_df.head(3)"
   ],
   "execution_count": 12,
   "outputs": [
    {
     "output_type": "execute_result",
     "data": {
      "text/html": [
       "<div>\n",
       "<style scoped>\n",
       "    .dataframe tbody tr th:only-of-type {\n",
       "        vertical-align: middle;\n",
       "    }\n",
       "\n",
       "    .dataframe tbody tr th {\n",
       "        vertical-align: top;\n",
       "    }\n",
       "\n",
       "    .dataframe thead th {\n",
       "        text-align: right;\n",
       "    }\n",
       "</style>\n",
       "<table border=\"1\" class=\"dataframe\">\n",
       "  <thead>\n",
       "    <tr style=\"text-align: right;\">\n",
       "      <th></th>\n",
       "      <th>msno</th>\n",
       "      <th>city</th>\n",
       "      <th>gender</th>\n",
       "      <th>registered_via</th>\n",
       "      <th>bd_category</th>\n",
       "      <th>registration_init_year</th>\n",
       "      <th>expiration_date_year</th>\n",
       "    </tr>\n",
       "  </thead>\n",
       "  <tbody>\n",
       "    <tr>\n",
       "      <th>0</th>\n",
       "      <td>XQxgAYj3klVKjR3oxPPXYYFp4soD4TuBghkhMTD4oTw=</td>\n",
       "      <td>1</td>\n",
       "      <td>&lt;UNK&gt;</td>\n",
       "      <td>7</td>\n",
       "      <td>&lt;UNK&gt;</td>\n",
       "      <td>2011</td>\n",
       "      <td>2017</td>\n",
       "    </tr>\n",
       "    <tr>\n",
       "      <th>1</th>\n",
       "      <td>UizsfmJb9mV54qE9hCYyU07Va97c0lCRLEQX3ae+ztM=</td>\n",
       "      <td>1</td>\n",
       "      <td>&lt;UNK&gt;</td>\n",
       "      <td>7</td>\n",
       "      <td>&lt;UNK&gt;</td>\n",
       "      <td>2015</td>\n",
       "      <td>2017</td>\n",
       "    </tr>\n",
       "    <tr>\n",
       "      <th>2</th>\n",
       "      <td>D8nEhsIOBSoE6VthTaqDX8U6lqjJ7dLdr72mOyLya2A=</td>\n",
       "      <td>1</td>\n",
       "      <td>&lt;UNK&gt;</td>\n",
       "      <td>4</td>\n",
       "      <td>&lt;UNK&gt;</td>\n",
       "      <td>2016</td>\n",
       "      <td>2017</td>\n",
       "    </tr>\n",
       "  </tbody>\n",
       "</table>\n",
       "</div>"
      ],
      "text/plain": [
       "                                           msno  ... expiration_date_year\n",
       "0  XQxgAYj3klVKjR3oxPPXYYFp4soD4TuBghkhMTD4oTw=  ...                 2017\n",
       "1  UizsfmJb9mV54qE9hCYyU07Va97c0lCRLEQX3ae+ztM=  ...                 2017\n",
       "2  D8nEhsIOBSoE6VthTaqDX8U6lqjJ7dLdr72mOyLya2A=  ...                 2017\n",
       "\n",
       "[3 rows x 7 columns]"
      ]
     },
     "metadata": {},
     "execution_count": 12
    }
   ]
  },
  {
   "cell_type": "code",
   "metadata": {
    "id": "LlaUj84G6ka9",
    "colab": {
     "base_uri": "https://localhost:8080/",
     "height": 264
    },
    "outputId": "1eb024db-e87e-43a8-d91a-1b77656c3832"
   },
   "source": [
    "songs_dataset.pandas_df.head(3)"
   ],
   "execution_count": 13,
   "outputs": [
    {
     "output_type": "execute_result",
     "data": {
      "text/html": [
       "<div>\n",
       "<style scoped>\n",
       "    .dataframe tbody tr th:only-of-type {\n",
       "        vertical-align: middle;\n",
       "    }\n",
       "\n",
       "    .dataframe tbody tr th {\n",
       "        vertical-align: top;\n",
       "    }\n",
       "\n",
       "    .dataframe thead th {\n",
       "        text-align: right;\n",
       "    }\n",
       "</style>\n",
       "<table border=\"1\" class=\"dataframe\">\n",
       "  <thead>\n",
       "    <tr style=\"text-align: right;\">\n",
       "      <th></th>\n",
       "      <th>song_id</th>\n",
       "      <th>song_length</th>\n",
       "      <th>genre_ids</th>\n",
       "      <th>artist_name</th>\n",
       "      <th>composer</th>\n",
       "      <th>lyricist</th>\n",
       "      <th>language</th>\n",
       "      <th>genres_count</th>\n",
       "      <th>artist_name_count</th>\n",
       "      <th>composer_count</th>\n",
       "      <th>lyricists_count</th>\n",
       "      <th>isrc_year</th>\n",
       "    </tr>\n",
       "  </thead>\n",
       "  <tbody>\n",
       "    <tr>\n",
       "      <th>0</th>\n",
       "      <td>CXoTN1eb7AI+DntdU1vbcwGRV4SCIDxZu+YD8JP8r4E=</td>\n",
       "      <td>247640</td>\n",
       "      <td>465</td>\n",
       "      <td>張信哲 (Jeff Chang)</td>\n",
       "      <td>董貞</td>\n",
       "      <td>何啟弘</td>\n",
       "      <td>3.0</td>\n",
       "      <td>1</td>\n",
       "      <td>1</td>\n",
       "      <td>1</td>\n",
       "      <td>1</td>\n",
       "      <td>2014</td>\n",
       "    </tr>\n",
       "    <tr>\n",
       "      <th>1</th>\n",
       "      <td>o0kFgae9QtnYgRkVPqLJwa05zIhRlUjfF7O1tDw0ZDU=</td>\n",
       "      <td>197328</td>\n",
       "      <td>444</td>\n",
       "      <td>BLACKPINK</td>\n",
       "      <td>TEDDY|  FUTURE BOUNCE|  Bekuh BOOM</td>\n",
       "      <td>TEDDY</td>\n",
       "      <td>31.0</td>\n",
       "      <td>1</td>\n",
       "      <td>1</td>\n",
       "      <td>3</td>\n",
       "      <td>1</td>\n",
       "      <td>-1</td>\n",
       "    </tr>\n",
       "    <tr>\n",
       "      <th>2</th>\n",
       "      <td>DwVvVurfpuz+XPuFvucclVQEyPqcpUkHR0ne1RQzPs0=</td>\n",
       "      <td>231781</td>\n",
       "      <td>465</td>\n",
       "      <td>SUPER JUNIOR</td>\n",
       "      <td>&lt;UNK&gt;</td>\n",
       "      <td>&lt;UNK&gt;</td>\n",
       "      <td>31.0</td>\n",
       "      <td>1</td>\n",
       "      <td>1</td>\n",
       "      <td>0</td>\n",
       "      <td>0</td>\n",
       "      <td>-1</td>\n",
       "    </tr>\n",
       "  </tbody>\n",
       "</table>\n",
       "</div>"
      ],
      "text/plain": [
       "                                        song_id  ...  isrc_year\n",
       "0  CXoTN1eb7AI+DntdU1vbcwGRV4SCIDxZu+YD8JP8r4E=  ...       2014\n",
       "1  o0kFgae9QtnYgRkVPqLJwa05zIhRlUjfF7O1tDw0ZDU=  ...         -1\n",
       "2  DwVvVurfpuz+XPuFvucclVQEyPqcpUkHR0ne1RQzPs0=  ...         -1\n",
       "\n",
       "[3 rows x 12 columns]"
      ]
     },
     "metadata": {},
     "execution_count": 13
    }
   ]
  },
  {
   "cell_type": "markdown",
   "metadata": {
    "id": "bQmJbYJe6ka9"
   },
   "source": [
    "Теперь добавим в обучающую выборку признаков из песен и пользователей. "
   ]
  },
  {
   "cell_type": "code",
   "metadata": {
    "id": "yqhcxZYj6ka-"
   },
   "source": [
    "train_dataset = train_dataset.merge(members_dataset, on=\"msno\", how=\"left\")\n",
    "train_dataset = train_dataset.merge(songs_dataset, on=\"song_id\", how=\"left\")"
   ],
   "execution_count": 14,
   "outputs": []
  },
  {
   "cell_type": "code",
   "metadata": {
    "id": "2K9CvIa56ka-",
    "colab": {
     "base_uri": "https://localhost:8080/",
     "height": 315
    },
    "outputId": "7d36eeb0-e23d-46d3-e8db-1331d609b3ef"
   },
   "source": [
    "train_dataset.pandas_df.head(3)"
   ],
   "execution_count": 15,
   "outputs": [
    {
     "output_type": "execute_result",
     "data": {
      "text/html": [
       "<div>\n",
       "<style scoped>\n",
       "    .dataframe tbody tr th:only-of-type {\n",
       "        vertical-align: middle;\n",
       "    }\n",
       "\n",
       "    .dataframe tbody tr th {\n",
       "        vertical-align: top;\n",
       "    }\n",
       "\n",
       "    .dataframe thead th {\n",
       "        text-align: right;\n",
       "    }\n",
       "</style>\n",
       "<table border=\"1\" class=\"dataframe\">\n",
       "  <thead>\n",
       "    <tr style=\"text-align: right;\">\n",
       "      <th></th>\n",
       "      <th>msno</th>\n",
       "      <th>song_id</th>\n",
       "      <th>source_system_tab</th>\n",
       "      <th>source_screen_name</th>\n",
       "      <th>source_type</th>\n",
       "      <th>target</th>\n",
       "      <th>city</th>\n",
       "      <th>gender</th>\n",
       "      <th>registered_via</th>\n",
       "      <th>bd_category</th>\n",
       "      <th>registration_init_year</th>\n",
       "      <th>expiration_date_year</th>\n",
       "      <th>song_length</th>\n",
       "      <th>genre_ids</th>\n",
       "      <th>artist_name</th>\n",
       "      <th>composer</th>\n",
       "      <th>lyricist</th>\n",
       "      <th>language</th>\n",
       "      <th>genres_count</th>\n",
       "      <th>artist_name_count</th>\n",
       "      <th>composer_count</th>\n",
       "      <th>lyricists_count</th>\n",
       "      <th>isrc_year</th>\n",
       "    </tr>\n",
       "  </thead>\n",
       "  <tbody>\n",
       "    <tr>\n",
       "      <th>0</th>\n",
       "      <td>FGtllVqz18RPiwJj/edr2gV78zirAiY/9SmYvia+kCg=</td>\n",
       "      <td>BBzumQNXUHKdEBOB7mAJuzok+IJA1c2Ryg/yzTF6tik=</td>\n",
       "      <td>explore</td>\n",
       "      <td>Explore</td>\n",
       "      <td>online-playlist</td>\n",
       "      <td>1</td>\n",
       "      <td>1</td>\n",
       "      <td>&lt;UNK&gt;</td>\n",
       "      <td>7</td>\n",
       "      <td>&lt;UNK&gt;</td>\n",
       "      <td>2012</td>\n",
       "      <td>2017</td>\n",
       "      <td>206471.0</td>\n",
       "      <td>359</td>\n",
       "      <td>Bastille</td>\n",
       "      <td>Dan Smith| Mark Crew</td>\n",
       "      <td>&lt;UNK&gt;</td>\n",
       "      <td>52.0</td>\n",
       "      <td>1.0</td>\n",
       "      <td>1.0</td>\n",
       "      <td>2.0</td>\n",
       "      <td>0.0</td>\n",
       "      <td>2016</td>\n",
       "    </tr>\n",
       "    <tr>\n",
       "      <th>1</th>\n",
       "      <td>Xumu+NIjS6QYVxDS4/t3SawvJ7viT9hPKXmf0RtLNx8=</td>\n",
       "      <td>bhp/MpSNoqoxOIB+/l8WPqu6jldth4DIpCm3ayXnJqM=</td>\n",
       "      <td>my library</td>\n",
       "      <td>Local playlist more</td>\n",
       "      <td>local-playlist</td>\n",
       "      <td>1</td>\n",
       "      <td>13</td>\n",
       "      <td>female</td>\n",
       "      <td>9</td>\n",
       "      <td>young</td>\n",
       "      <td>2011</td>\n",
       "      <td>2017</td>\n",
       "      <td>284584.0</td>\n",
       "      <td>1259</td>\n",
       "      <td>Various Artists</td>\n",
       "      <td>&lt;UNK&gt;</td>\n",
       "      <td>&lt;UNK&gt;</td>\n",
       "      <td>52.0</td>\n",
       "      <td>1.0</td>\n",
       "      <td>1.0</td>\n",
       "      <td>0.0</td>\n",
       "      <td>0.0</td>\n",
       "      <td>1999</td>\n",
       "    </tr>\n",
       "    <tr>\n",
       "      <th>2</th>\n",
       "      <td>Xumu+NIjS6QYVxDS4/t3SawvJ7viT9hPKXmf0RtLNx8=</td>\n",
       "      <td>JNWfrrC7zNN7BdMpsISKa4Mw+xVJYNnxXh3/Epw7QgY=</td>\n",
       "      <td>my library</td>\n",
       "      <td>Local playlist more</td>\n",
       "      <td>local-playlist</td>\n",
       "      <td>1</td>\n",
       "      <td>13</td>\n",
       "      <td>female</td>\n",
       "      <td>9</td>\n",
       "      <td>young</td>\n",
       "      <td>2011</td>\n",
       "      <td>2017</td>\n",
       "      <td>225396.0</td>\n",
       "      <td>1259</td>\n",
       "      <td>Nas</td>\n",
       "      <td>N. Jones、W. Adams、J. Lordan、D. Ingle</td>\n",
       "      <td>&lt;UNK&gt;</td>\n",
       "      <td>52.0</td>\n",
       "      <td>1.0</td>\n",
       "      <td>1.0</td>\n",
       "      <td>1.0</td>\n",
       "      <td>0.0</td>\n",
       "      <td>2006</td>\n",
       "    </tr>\n",
       "  </tbody>\n",
       "</table>\n",
       "</div>"
      ],
      "text/plain": [
       "                                           msno  ... isrc_year\n",
       "0  FGtllVqz18RPiwJj/edr2gV78zirAiY/9SmYvia+kCg=  ...      2016\n",
       "1  Xumu+NIjS6QYVxDS4/t3SawvJ7viT9hPKXmf0RtLNx8=  ...      1999\n",
       "2  Xumu+NIjS6QYVxDS4/t3SawvJ7viT9hPKXmf0RtLNx8=  ...      2006\n",
       "\n",
       "[3 rows x 23 columns]"
      ]
     },
     "metadata": {},
     "execution_count": 15
    }
   ]
  },
  {
   "cell_type": "markdown",
   "metadata": {
    "id": "ZVfEmj7G6ka-"
   },
   "source": [
    "Теперь преобразуем некоторые колонки категориальным значениям и заполнил пропуски. "
   ]
  },
  {
   "cell_type": "code",
   "metadata": {
    "id": "CCMNt-AL6ka_"
   },
   "source": [
    "train_dataset.to_category([\"msno\", \"song_id\"])\n",
    "train_dataset.fill_na_category([\"source_system_tab\", \"source_screen_name\", \"source_type\"])"
   ],
   "execution_count": 16,
   "outputs": []
  },
  {
   "cell_type": "code",
   "metadata": {
    "id": "jtxtARhF6ka_",
    "colab": {
     "base_uri": "https://localhost:8080/"
    },
    "outputId": "07b13eaf-83a9-4721-8911-8f12c091d651"
   },
   "source": [
    "train_dataset.pandas_df.info()"
   ],
   "execution_count": 17,
   "outputs": [
    {
     "output_type": "stream",
     "name": "stdout",
     "text": [
      "<class 'pandas.core.frame.DataFrame'>\n",
      "Int64Index: 7377418 entries, 0 to 7377417\n",
      "Data columns (total 23 columns):\n",
      " #   Column                  Dtype   \n",
      "---  ------                  -----   \n",
      " 0   msno                    category\n",
      " 1   song_id                 category\n",
      " 2   source_system_tab       category\n",
      " 3   source_screen_name      category\n",
      " 4   source_type             category\n",
      " 5   target                  int64   \n",
      " 6   city                    category\n",
      " 7   gender                  category\n",
      " 8   registered_via          category\n",
      " 9   bd_category             category\n",
      " 10  registration_init_year  int64   \n",
      " 11  expiration_date_year    int64   \n",
      " 12  song_length             float64 \n",
      " 13  genre_ids               category\n",
      " 14  artist_name             category\n",
      " 15  composer                category\n",
      " 16  lyricist                category\n",
      " 17  language                category\n",
      " 18  genres_count            float64 \n",
      " 19  artist_name_count       float64 \n",
      " 20  composer_count          float64 \n",
      " 21  lyricists_count         float64 \n",
      " 22  isrc_year               category\n",
      "dtypes: category(15), float64(5), int64(3)\n",
      "memory usage: 754.9 MB\n"
     ]
    }
   ]
  },
  {
   "cell_type": "markdown",
   "metadata": {
    "id": "GXNFFDer6ka_"
   },
   "source": [
    "Все круто!"
   ]
  },
  {
   "cell_type": "code",
   "metadata": {
    "colab": {
     "base_uri": "https://localhost:8080/"
    },
    "id": "Jr-aNfBl6kbA",
    "outputId": "e3a62cd2-e2bf-4803-e7d3-74c3ee2b1f49"
   },
   "source": [
    "na_mask = train_dataset.pandas_df.isna().any(axis=1)\n",
    "print(f\"Количество записей, для которых не нашлось пользователя или песни: {sum(na_mask)}\")"
   ],
   "execution_count": 18,
   "outputs": [
    {
     "output_type": "stream",
     "name": "stdout",
     "text": [
      "Количество записей, для которых не нашлось пользователя или песни: 114\n"
     ]
    }
   ]
  },
  {
   "cell_type": "markdown",
   "metadata": {
    "id": "qlHIgmH06kbA"
   },
   "source": [
    "Их оказалось не так много, уберем из нашего набора данных."
   ]
  },
  {
   "cell_type": "code",
   "metadata": {
    "id": "yB_thHSh6kbA"
   },
   "source": [
    "train_dataset = train_dataset.remove_by_mask(na_mask)"
   ],
   "execution_count": 19,
   "outputs": []
  },
  {
   "cell_type": "markdown",
   "metadata": {
    "id": "nLwkhQft6kbB"
   },
   "source": [
    "Так как **CatBoost** на CPU обучается достаточно долго (больше часа), то было решено обучать на GPU. Однако GPU не поддерживает группы больше 1023, поэтому тренировочный набор данных был уменьшен. При этом, желательно сохранить порядок записей."
   ]
  },
  {
   "cell_type": "code",
   "metadata": {
    "id": "FYzYiVPA6kbB"
   },
   "source": [
    "train_dataset_sm = train_dataset.reduce_by_members(size=1023)"
   ],
   "execution_count": 20,
   "outputs": []
  },
  {
   "cell_type": "code",
   "metadata": {
    "colab": {
     "base_uri": "https://localhost:8080/"
    },
    "id": "vhLZ_L7w6kbB",
    "outputId": "349754bb-5f55-4d56-da80-f4c53d3a517b"
   },
   "source": [
    "train_dataset_sm.pandas_df.target.value_counts()"
   ],
   "execution_count": 21,
   "outputs": [
    {
     "output_type": "execute_result",
     "data": {
      "text/plain": [
       "1    3564182\n",
       "0    3451109\n",
       "Name: target, dtype: int64"
      ]
     },
     "metadata": {},
     "execution_count": 21
    }
   ]
  },
  {
   "cell_type": "markdown",
   "metadata": {
    "id": "-7TwGZBs6kbC"
   },
   "source": [
    "Соотношение классов осталось тем же, все хорошо. Изменение размеров: 7377304 -> 7015291"
   ]
  },
  {
   "cell_type": "code",
   "metadata": {
    "id": "gQkEy0bVjjCf",
    "colab": {
     "base_uri": "https://localhost:8080/"
    },
    "outputId": "ed6381ef-eee6-4c1b-85c6-1ce28c950bd8"
   },
   "source": [
    "print(f\"{len(train_dataset)} -> {len(train_dataset_sm)}\")"
   ],
   "execution_count": 22,
   "outputs": [
    {
     "output_type": "stream",
     "name": "stdout",
     "text": [
      "7377304 -> 7015291\n"
     ]
    }
   ]
  },
  {
   "cell_type": "markdown",
   "metadata": {
    "id": "n7-8HEIm6kbC"
   },
   "source": [
    "## Задание 1"
   ]
  },
  {
   "cell_type": "markdown",
   "metadata": {
    "id": "Jaet9xXf6kbD"
   },
   "source": [
    "Построить рекомендации для каждого пользователя, произвести оценку качества с помощью 5-fold CV с метриками NDCG, ROC AUC per user."
   ]
  },
  {
   "cell_type": "markdown",
   "metadata": {
    "id": "i16vIczQ6kbD"
   },
   "source": [
    "При разработке признаков я умеренно не стал брать признаки, полученные с помощью матричных факторизаций, чтобы потом добавить неклассические эмбеддинги, полученные в задании 2. "
   ]
  },
  {
   "cell_type": "markdown",
   "metadata": {
    "id": "sgFN6-Fm6kbD"
   },
   "source": [
    "Для **CatBoost** необоходимо, чтобы данные были упорядочены по **queries**, поэтому будем обучать модели на упорядоченных данных, но эмбеддинги составлять на основе натурального порядка. "
   ]
  },
  {
   "cell_type": "code",
   "metadata": {
    "id": "Oq0GcIYVjjCk",
    "colab": {
     "base_uri": "https://localhost:8080/"
    },
    "outputId": "6440383b-f4fe-45cb-d59b-0646c4bf2070"
   },
   "source": [
    "train_dataset_sm_sort = train_dataset_sm.sort_by(\"msno\")\n",
    "model = CatBoostModel(\"YetiRank\", 150, \"GPU\", random_state)\n",
    "scores = model.cv_scores(train_dataset_sm_sort, n_splits=5)"
   ],
   "execution_count": 23,
   "outputs": [
    {
     "output_type": "stream",
     "name": "stdout",
     "text": [
      "Groupwise loss function. OneHotMaxSize set to 10\n"
     ]
    },
    {
     "output_type": "stream",
     "name": "stderr",
     "text": [
      "Metric PFound is not implemented on GPU. Will use CPU for metric computation, this could significantly affect learning time\n",
      "Metric PFound is not implemented on GPU. Will use CPU for metric computation, this could significantly affect learning time\n"
     ]
    },
    {
     "output_type": "stream",
     "name": "stdout",
     "text": [
      "0:\ttotal: 1.37s\tremaining: 3m 24s\n",
      "1:\ttotal: 2.58s\tremaining: 3m 10s\n",
      "2:\ttotal: 3.79s\tremaining: 3m 5s\n",
      "3:\ttotal: 5s\tremaining: 3m 2s\n",
      "4:\ttotal: 6.22s\tremaining: 3m\n",
      "5:\ttotal: 7.43s\tremaining: 2m 58s\n",
      "6:\ttotal: 8.66s\tremaining: 2m 56s\n",
      "7:\ttotal: 9.88s\tremaining: 2m 55s\n",
      "8:\ttotal: 11.1s\tremaining: 2m 53s\n",
      "9:\ttotal: 12.3s\tremaining: 2m 52s\n",
      "10:\ttotal: 13.5s\tremaining: 2m 50s\n",
      "11:\ttotal: 14.7s\tremaining: 2m 49s\n",
      "12:\ttotal: 16s\tremaining: 2m 48s\n",
      "13:\ttotal: 17.2s\tremaining: 2m 46s\n",
      "14:\ttotal: 18.4s\tremaining: 2m 45s\n",
      "15:\ttotal: 19.6s\tremaining: 2m 44s\n",
      "16:\ttotal: 20.8s\tremaining: 2m 42s\n",
      "17:\ttotal: 22s\tremaining: 2m 41s\n",
      "18:\ttotal: 23.3s\tremaining: 2m 40s\n",
      "19:\ttotal: 24.5s\tremaining: 2m 39s\n",
      "20:\ttotal: 25.7s\tremaining: 2m 37s\n",
      "21:\ttotal: 26.9s\tremaining: 2m 36s\n",
      "22:\ttotal: 28.1s\tremaining: 2m 35s\n",
      "23:\ttotal: 29.3s\tremaining: 2m 34s\n",
      "24:\ttotal: 30.6s\tremaining: 2m 32s\n",
      "25:\ttotal: 31.8s\tremaining: 2m 31s\n",
      "26:\ttotal: 33s\tremaining: 2m 30s\n",
      "27:\ttotal: 34.2s\tremaining: 2m 29s\n",
      "28:\ttotal: 35.4s\tremaining: 2m 27s\n",
      "29:\ttotal: 36.7s\tremaining: 2m 26s\n",
      "30:\ttotal: 37.9s\tremaining: 2m 25s\n",
      "31:\ttotal: 39.1s\tremaining: 2m 24s\n",
      "32:\ttotal: 40.3s\tremaining: 2m 22s\n",
      "33:\ttotal: 41.5s\tremaining: 2m 21s\n",
      "34:\ttotal: 42.7s\tremaining: 2m 20s\n",
      "35:\ttotal: 44s\tremaining: 2m 19s\n",
      "36:\ttotal: 45.2s\tremaining: 2m 17s\n",
      "37:\ttotal: 46.4s\tremaining: 2m 16s\n",
      "38:\ttotal: 47.6s\tremaining: 2m 15s\n",
      "39:\ttotal: 48.8s\tremaining: 2m 14s\n",
      "40:\ttotal: 50.1s\tremaining: 2m 13s\n",
      "41:\ttotal: 51.3s\tremaining: 2m 11s\n",
      "42:\ttotal: 52.5s\tremaining: 2m 10s\n",
      "43:\ttotal: 53.7s\tremaining: 2m 9s\n",
      "44:\ttotal: 54.9s\tremaining: 2m 8s\n",
      "45:\ttotal: 56.1s\tremaining: 2m 6s\n",
      "46:\ttotal: 57.4s\tremaining: 2m 5s\n",
      "47:\ttotal: 58.6s\tremaining: 2m 4s\n",
      "48:\ttotal: 59.8s\tremaining: 2m 3s\n",
      "49:\ttotal: 1m 1s\tremaining: 2m 2s\n",
      "50:\ttotal: 1m 2s\tremaining: 2m\n",
      "51:\ttotal: 1m 3s\tremaining: 1m 59s\n",
      "52:\ttotal: 1m 4s\tremaining: 1m 58s\n",
      "53:\ttotal: 1m 5s\tremaining: 1m 57s\n",
      "54:\ttotal: 1m 7s\tremaining: 1m 55s\n",
      "55:\ttotal: 1m 8s\tremaining: 1m 54s\n",
      "56:\ttotal: 1m 9s\tremaining: 1m 53s\n",
      "57:\ttotal: 1m 10s\tremaining: 1m 52s\n",
      "58:\ttotal: 1m 11s\tremaining: 1m 51s\n",
      "59:\ttotal: 1m 13s\tremaining: 1m 49s\n",
      "60:\ttotal: 1m 14s\tremaining: 1m 48s\n",
      "61:\ttotal: 1m 15s\tremaining: 1m 47s\n",
      "62:\ttotal: 1m 16s\tremaining: 1m 46s\n",
      "63:\ttotal: 1m 18s\tremaining: 1m 44s\n",
      "64:\ttotal: 1m 19s\tremaining: 1m 43s\n",
      "65:\ttotal: 1m 20s\tremaining: 1m 42s\n",
      "66:\ttotal: 1m 21s\tremaining: 1m 41s\n",
      "67:\ttotal: 1m 22s\tremaining: 1m 39s\n",
      "68:\ttotal: 1m 24s\tremaining: 1m 38s\n",
      "69:\ttotal: 1m 25s\tremaining: 1m 37s\n",
      "70:\ttotal: 1m 26s\tremaining: 1m 36s\n",
      "71:\ttotal: 1m 27s\tremaining: 1m 35s\n",
      "72:\ttotal: 1m 29s\tremaining: 1m 33s\n",
      "73:\ttotal: 1m 30s\tremaining: 1m 32s\n",
      "74:\ttotal: 1m 31s\tremaining: 1m 31s\n",
      "75:\ttotal: 1m 32s\tremaining: 1m 30s\n",
      "76:\ttotal: 1m 33s\tremaining: 1m 29s\n",
      "77:\ttotal: 1m 35s\tremaining: 1m 27s\n",
      "78:\ttotal: 1m 36s\tremaining: 1m 26s\n",
      "79:\ttotal: 1m 37s\tremaining: 1m 25s\n",
      "80:\ttotal: 1m 38s\tremaining: 1m 24s\n",
      "81:\ttotal: 1m 39s\tremaining: 1m 22s\n",
      "82:\ttotal: 1m 41s\tremaining: 1m 21s\n",
      "83:\ttotal: 1m 42s\tremaining: 1m 20s\n",
      "84:\ttotal: 1m 43s\tremaining: 1m 19s\n",
      "85:\ttotal: 1m 44s\tremaining: 1m 18s\n",
      "86:\ttotal: 1m 46s\tremaining: 1m 16s\n",
      "87:\ttotal: 1m 47s\tremaining: 1m 15s\n",
      "88:\ttotal: 1m 48s\tremaining: 1m 14s\n",
      "89:\ttotal: 1m 49s\tremaining: 1m 13s\n",
      "90:\ttotal: 1m 50s\tremaining: 1m 11s\n",
      "91:\ttotal: 1m 52s\tremaining: 1m 10s\n",
      "92:\ttotal: 1m 53s\tremaining: 1m 9s\n",
      "93:\ttotal: 1m 54s\tremaining: 1m 8s\n",
      "94:\ttotal: 1m 55s\tremaining: 1m 7s\n",
      "95:\ttotal: 1m 57s\tremaining: 1m 5s\n",
      "96:\ttotal: 1m 58s\tremaining: 1m 4s\n",
      "97:\ttotal: 1m 59s\tremaining: 1m 3s\n",
      "98:\ttotal: 2m\tremaining: 1m 2s\n",
      "99:\ttotal: 2m 1s\tremaining: 1m\n",
      "100:\ttotal: 2m 3s\tremaining: 59.7s\n",
      "101:\ttotal: 2m 4s\tremaining: 58.5s\n",
      "102:\ttotal: 2m 5s\tremaining: 57.3s\n",
      "103:\ttotal: 2m 6s\tremaining: 56.1s\n",
      "104:\ttotal: 2m 8s\tremaining: 54.9s\n",
      "105:\ttotal: 2m 9s\tremaining: 53.6s\n",
      "106:\ttotal: 2m 10s\tremaining: 52.4s\n",
      "107:\ttotal: 2m 11s\tremaining: 51.2s\n",
      "108:\ttotal: 2m 12s\tremaining: 50s\n",
      "109:\ttotal: 2m 14s\tremaining: 48.8s\n",
      "110:\ttotal: 2m 15s\tremaining: 47.5s\n",
      "111:\ttotal: 2m 16s\tremaining: 46.3s\n",
      "112:\ttotal: 2m 17s\tremaining: 45.1s\n",
      "113:\ttotal: 2m 18s\tremaining: 43.9s\n",
      "114:\ttotal: 2m 20s\tremaining: 42.7s\n",
      "115:\ttotal: 2m 21s\tremaining: 41.4s\n",
      "116:\ttotal: 2m 22s\tremaining: 40.2s\n",
      "117:\ttotal: 2m 23s\tremaining: 39s\n",
      "118:\ttotal: 2m 25s\tremaining: 37.8s\n",
      "119:\ttotal: 2m 26s\tremaining: 36.6s\n",
      "120:\ttotal: 2m 27s\tremaining: 35.4s\n",
      "121:\ttotal: 2m 28s\tremaining: 34.1s\n",
      "122:\ttotal: 2m 29s\tremaining: 32.9s\n",
      "123:\ttotal: 2m 31s\tremaining: 31.7s\n",
      "124:\ttotal: 2m 32s\tremaining: 30.5s\n",
      "125:\ttotal: 2m 33s\tremaining: 29.3s\n",
      "126:\ttotal: 2m 34s\tremaining: 28s\n",
      "127:\ttotal: 2m 36s\tremaining: 26.8s\n",
      "128:\ttotal: 2m 37s\tremaining: 25.6s\n",
      "129:\ttotal: 2m 38s\tremaining: 24.4s\n",
      "130:\ttotal: 2m 39s\tremaining: 23.2s\n",
      "131:\ttotal: 2m 40s\tremaining: 21.9s\n",
      "132:\ttotal: 2m 42s\tremaining: 20.7s\n",
      "133:\ttotal: 2m 43s\tremaining: 19.5s\n",
      "134:\ttotal: 2m 44s\tremaining: 18.3s\n",
      "135:\ttotal: 2m 45s\tremaining: 17.1s\n",
      "136:\ttotal: 2m 47s\tremaining: 15.8s\n",
      "137:\ttotal: 2m 48s\tremaining: 14.6s\n",
      "138:\ttotal: 2m 49s\tremaining: 13.4s\n",
      "139:\ttotal: 2m 50s\tremaining: 12.2s\n",
      "140:\ttotal: 2m 51s\tremaining: 11s\n",
      "141:\ttotal: 2m 53s\tremaining: 9.75s\n",
      "142:\ttotal: 2m 54s\tremaining: 8.54s\n",
      "143:\ttotal: 2m 55s\tremaining: 7.32s\n",
      "144:\ttotal: 2m 56s\tremaining: 6.1s\n",
      "145:\ttotal: 2m 58s\tremaining: 4.88s\n",
      "146:\ttotal: 2m 59s\tremaining: 3.66s\n",
      "147:\ttotal: 3m\tremaining: 2.44s\n",
      "148:\ttotal: 3m 1s\tremaining: 1.22s\n",
      "149:\ttotal: 3m 2s\tremaining: 0us\n",
      "Groupwise loss function. OneHotMaxSize set to 10\n"
     ]
    },
    {
     "output_type": "stream",
     "name": "stderr",
     "text": [
      "Metric PFound is not implemented on GPU. Will use CPU for metric computation, this could significantly affect learning time\n",
      "Metric PFound is not implemented on GPU. Will use CPU for metric computation, this could significantly affect learning time\n"
     ]
    },
    {
     "output_type": "stream",
     "name": "stdout",
     "text": [
      "0:\ttotal: 1.35s\tremaining: 3m 20s\n",
      "1:\ttotal: 2.55s\tremaining: 3m 8s\n",
      "2:\ttotal: 3.76s\tremaining: 3m 4s\n",
      "3:\ttotal: 4.97s\tremaining: 3m 1s\n",
      "4:\ttotal: 6.17s\tremaining: 2m 59s\n",
      "5:\ttotal: 7.38s\tremaining: 2m 57s\n",
      "6:\ttotal: 8.6s\tremaining: 2m 55s\n",
      "7:\ttotal: 9.8s\tremaining: 2m 54s\n",
      "8:\ttotal: 11s\tremaining: 2m 52s\n",
      "9:\ttotal: 12.2s\tremaining: 2m 51s\n",
      "10:\ttotal: 13.5s\tremaining: 2m 50s\n",
      "11:\ttotal: 14.7s\tremaining: 2m 48s\n",
      "12:\ttotal: 15.9s\tremaining: 2m 47s\n",
      "13:\ttotal: 17.1s\tremaining: 2m 46s\n",
      "14:\ttotal: 18.3s\tremaining: 2m 45s\n",
      "15:\ttotal: 19.6s\tremaining: 2m 43s\n",
      "16:\ttotal: 20.8s\tremaining: 2m 42s\n",
      "17:\ttotal: 22s\tremaining: 2m 41s\n",
      "18:\ttotal: 23.2s\tremaining: 2m 39s\n",
      "19:\ttotal: 24.4s\tremaining: 2m 38s\n",
      "20:\ttotal: 25.6s\tremaining: 2m 37s\n",
      "21:\ttotal: 26.8s\tremaining: 2m 36s\n",
      "22:\ttotal: 28s\tremaining: 2m 34s\n",
      "23:\ttotal: 29.2s\tremaining: 2m 33s\n",
      "24:\ttotal: 30.5s\tremaining: 2m 32s\n",
      "25:\ttotal: 31.7s\tremaining: 2m 30s\n",
      "26:\ttotal: 32.9s\tremaining: 2m 29s\n",
      "27:\ttotal: 34.1s\tremaining: 2m 28s\n",
      "28:\ttotal: 35.3s\tremaining: 2m 27s\n",
      "29:\ttotal: 36.5s\tremaining: 2m 25s\n",
      "30:\ttotal: 37.7s\tremaining: 2m 24s\n",
      "31:\ttotal: 38.9s\tremaining: 2m 23s\n",
      "32:\ttotal: 40.1s\tremaining: 2m 22s\n",
      "33:\ttotal: 41.4s\tremaining: 2m 21s\n",
      "34:\ttotal: 42.6s\tremaining: 2m 19s\n",
      "35:\ttotal: 43.8s\tremaining: 2m 18s\n",
      "36:\ttotal: 45s\tremaining: 2m 17s\n",
      "37:\ttotal: 46.2s\tremaining: 2m 16s\n",
      "38:\ttotal: 47.4s\tremaining: 2m 14s\n",
      "39:\ttotal: 48.6s\tremaining: 2m 13s\n",
      "40:\ttotal: 49.8s\tremaining: 2m 12s\n",
      "41:\ttotal: 51s\tremaining: 2m 11s\n",
      "42:\ttotal: 52.2s\tremaining: 2m 9s\n",
      "43:\ttotal: 53.4s\tremaining: 2m 8s\n",
      "44:\ttotal: 54.7s\tremaining: 2m 7s\n",
      "45:\ttotal: 55.9s\tremaining: 2m 6s\n",
      "46:\ttotal: 57.1s\tremaining: 2m 5s\n",
      "47:\ttotal: 58.3s\tremaining: 2m 3s\n",
      "48:\ttotal: 59.5s\tremaining: 2m 2s\n",
      "49:\ttotal: 1m\tremaining: 2m 1s\n",
      "50:\ttotal: 1m 1s\tremaining: 2m\n",
      "51:\ttotal: 1m 3s\tremaining: 1m 58s\n",
      "52:\ttotal: 1m 4s\tremaining: 1m 57s\n",
      "53:\ttotal: 1m 5s\tremaining: 1m 56s\n",
      "54:\ttotal: 1m 6s\tremaining: 1m 55s\n",
      "55:\ttotal: 1m 7s\tremaining: 1m 54s\n",
      "56:\ttotal: 1m 9s\tremaining: 1m 52s\n",
      "57:\ttotal: 1m 10s\tremaining: 1m 51s\n",
      "58:\ttotal: 1m 11s\tremaining: 1m 50s\n",
      "59:\ttotal: 1m 12s\tremaining: 1m 49s\n",
      "60:\ttotal: 1m 13s\tremaining: 1m 47s\n",
      "61:\ttotal: 1m 15s\tremaining: 1m 46s\n",
      "62:\ttotal: 1m 16s\tremaining: 1m 45s\n",
      "63:\ttotal: 1m 17s\tremaining: 1m 44s\n",
      "64:\ttotal: 1m 18s\tremaining: 1m 43s\n",
      "65:\ttotal: 1m 20s\tremaining: 1m 41s\n",
      "66:\ttotal: 1m 21s\tremaining: 1m 40s\n",
      "67:\ttotal: 1m 22s\tremaining: 1m 39s\n",
      "68:\ttotal: 1m 23s\tremaining: 1m 38s\n",
      "69:\ttotal: 1m 24s\tremaining: 1m 36s\n",
      "70:\ttotal: 1m 26s\tremaining: 1m 35s\n",
      "71:\ttotal: 1m 27s\tremaining: 1m 34s\n",
      "72:\ttotal: 1m 28s\tremaining: 1m 33s\n",
      "73:\ttotal: 1m 29s\tremaining: 1m 32s\n",
      "74:\ttotal: 1m 30s\tremaining: 1m 30s\n",
      "75:\ttotal: 1m 32s\tremaining: 1m 29s\n",
      "76:\ttotal: 1m 33s\tremaining: 1m 28s\n",
      "77:\ttotal: 1m 34s\tremaining: 1m 27s\n",
      "78:\ttotal: 1m 35s\tremaining: 1m 26s\n",
      "79:\ttotal: 1m 36s\tremaining: 1m 24s\n",
      "80:\ttotal: 1m 38s\tremaining: 1m 23s\n",
      "81:\ttotal: 1m 39s\tremaining: 1m 22s\n",
      "82:\ttotal: 1m 40s\tremaining: 1m 21s\n",
      "83:\ttotal: 1m 41s\tremaining: 1m 19s\n",
      "84:\ttotal: 1m 43s\tremaining: 1m 18s\n",
      "85:\ttotal: 1m 44s\tremaining: 1m 17s\n",
      "86:\ttotal: 1m 45s\tremaining: 1m 16s\n",
      "87:\ttotal: 1m 46s\tremaining: 1m 15s\n",
      "88:\ttotal: 1m 47s\tremaining: 1m 13s\n",
      "89:\ttotal: 1m 49s\tremaining: 1m 12s\n",
      "90:\ttotal: 1m 50s\tremaining: 1m 11s\n",
      "91:\ttotal: 1m 51s\tremaining: 1m 10s\n",
      "92:\ttotal: 1m 52s\tremaining: 1m 9s\n",
      "93:\ttotal: 1m 53s\tremaining: 1m 7s\n",
      "94:\ttotal: 1m 55s\tremaining: 1m 6s\n",
      "95:\ttotal: 1m 56s\tremaining: 1m 5s\n",
      "96:\ttotal: 1m 57s\tremaining: 1m 4s\n",
      "97:\ttotal: 1m 58s\tremaining: 1m 2s\n",
      "98:\ttotal: 1m 59s\tremaining: 1m 1s\n",
      "99:\ttotal: 2m 1s\tremaining: 1m\n",
      "100:\ttotal: 2m 2s\tremaining: 59.4s\n",
      "101:\ttotal: 2m 3s\tremaining: 58.1s\n",
      "102:\ttotal: 2m 4s\tremaining: 56.9s\n",
      "103:\ttotal: 2m 5s\tremaining: 55.7s\n",
      "104:\ttotal: 2m 7s\tremaining: 54.5s\n",
      "105:\ttotal: 2m 8s\tremaining: 53.3s\n",
      "106:\ttotal: 2m 9s\tremaining: 52.1s\n",
      "107:\ttotal: 2m 10s\tremaining: 50.9s\n",
      "108:\ttotal: 2m 12s\tremaining: 49.7s\n",
      "109:\ttotal: 2m 13s\tremaining: 48.5s\n",
      "110:\ttotal: 2m 14s\tremaining: 47.2s\n",
      "111:\ttotal: 2m 15s\tremaining: 46s\n",
      "112:\ttotal: 2m 16s\tremaining: 44.8s\n",
      "113:\ttotal: 2m 18s\tremaining: 43.6s\n",
      "114:\ttotal: 2m 19s\tremaining: 42.4s\n",
      "115:\ttotal: 2m 20s\tremaining: 41.2s\n",
      "116:\ttotal: 2m 21s\tremaining: 40s\n",
      "117:\ttotal: 2m 22s\tremaining: 38.8s\n",
      "118:\ttotal: 2m 24s\tremaining: 37.6s\n",
      "119:\ttotal: 2m 25s\tremaining: 36.3s\n",
      "120:\ttotal: 2m 26s\tremaining: 35.1s\n",
      "121:\ttotal: 2m 27s\tremaining: 33.9s\n",
      "122:\ttotal: 2m 29s\tremaining: 32.7s\n",
      "123:\ttotal: 2m 30s\tremaining: 31.5s\n",
      "124:\ttotal: 2m 31s\tremaining: 30.3s\n",
      "125:\ttotal: 2m 32s\tremaining: 29.1s\n",
      "126:\ttotal: 2m 33s\tremaining: 27.9s\n",
      "127:\ttotal: 2m 35s\tremaining: 26.7s\n",
      "128:\ttotal: 2m 36s\tremaining: 25.4s\n",
      "129:\ttotal: 2m 37s\tremaining: 24.2s\n",
      "130:\ttotal: 2m 38s\tremaining: 23s\n",
      "131:\ttotal: 2m 39s\tremaining: 21.8s\n",
      "132:\ttotal: 2m 41s\tremaining: 20.6s\n",
      "133:\ttotal: 2m 42s\tremaining: 19.4s\n",
      "134:\ttotal: 2m 43s\tremaining: 18.2s\n",
      "135:\ttotal: 2m 44s\tremaining: 17s\n",
      "136:\ttotal: 2m 45s\tremaining: 15.7s\n",
      "137:\ttotal: 2m 47s\tremaining: 14.5s\n",
      "138:\ttotal: 2m 48s\tremaining: 13.3s\n",
      "139:\ttotal: 2m 49s\tremaining: 12.1s\n",
      "140:\ttotal: 2m 50s\tremaining: 10.9s\n",
      "141:\ttotal: 2m 52s\tremaining: 9.69s\n",
      "142:\ttotal: 2m 53s\tremaining: 8.48s\n",
      "143:\ttotal: 2m 54s\tremaining: 7.27s\n",
      "144:\ttotal: 2m 55s\tremaining: 6.06s\n",
      "145:\ttotal: 2m 56s\tremaining: 4.84s\n",
      "146:\ttotal: 2m 58s\tremaining: 3.63s\n",
      "147:\ttotal: 2m 59s\tremaining: 2.42s\n",
      "148:\ttotal: 3m\tremaining: 1.21s\n",
      "149:\ttotal: 3m 1s\tremaining: 0us\n",
      "Groupwise loss function. OneHotMaxSize set to 10\n"
     ]
    },
    {
     "output_type": "stream",
     "name": "stderr",
     "text": [
      "Metric PFound is not implemented on GPU. Will use CPU for metric computation, this could significantly affect learning time\n",
      "Metric PFound is not implemented on GPU. Will use CPU for metric computation, this could significantly affect learning time\n"
     ]
    },
    {
     "output_type": "stream",
     "name": "stdout",
     "text": [
      "0:\ttotal: 1.35s\tremaining: 3m 22s\n",
      "1:\ttotal: 2.56s\tremaining: 3m 9s\n",
      "2:\ttotal: 3.76s\tremaining: 3m 4s\n",
      "3:\ttotal: 4.96s\tremaining: 3m\n",
      "4:\ttotal: 6.16s\tremaining: 2m 58s\n",
      "5:\ttotal: 7.37s\tremaining: 2m 56s\n",
      "6:\ttotal: 8.57s\tremaining: 2m 55s\n",
      "7:\ttotal: 9.79s\tremaining: 2m 53s\n",
      "8:\ttotal: 11s\tremaining: 2m 52s\n",
      "9:\ttotal: 12.2s\tremaining: 2m 50s\n",
      "10:\ttotal: 13.4s\tremaining: 2m 49s\n",
      "11:\ttotal: 14.6s\tremaining: 2m 48s\n",
      "12:\ttotal: 15.8s\tremaining: 2m 46s\n",
      "13:\ttotal: 17.1s\tremaining: 2m 45s\n",
      "14:\ttotal: 18.3s\tremaining: 2m 44s\n",
      "15:\ttotal: 19.5s\tremaining: 2m 43s\n",
      "16:\ttotal: 20.7s\tremaining: 2m 41s\n",
      "17:\ttotal: 21.9s\tremaining: 2m 40s\n",
      "18:\ttotal: 23.1s\tremaining: 2m 39s\n",
      "19:\ttotal: 24.3s\tremaining: 2m 37s\n",
      "20:\ttotal: 25.5s\tremaining: 2m 36s\n",
      "21:\ttotal: 26.7s\tremaining: 2m 35s\n",
      "22:\ttotal: 28s\tremaining: 2m 34s\n",
      "23:\ttotal: 29.2s\tremaining: 2m 33s\n",
      "24:\ttotal: 30.4s\tremaining: 2m 31s\n",
      "25:\ttotal: 31.6s\tremaining: 2m 30s\n",
      "26:\ttotal: 32.8s\tremaining: 2m 29s\n",
      "27:\ttotal: 34s\tremaining: 2m 28s\n",
      "28:\ttotal: 35.2s\tremaining: 2m 26s\n",
      "29:\ttotal: 36.4s\tremaining: 2m 25s\n",
      "30:\ttotal: 37.6s\tremaining: 2m 24s\n",
      "31:\ttotal: 38.8s\tremaining: 2m 23s\n",
      "32:\ttotal: 40.1s\tremaining: 2m 22s\n",
      "33:\ttotal: 41.3s\tremaining: 2m 20s\n",
      "34:\ttotal: 42.5s\tremaining: 2m 19s\n",
      "35:\ttotal: 43.7s\tremaining: 2m 18s\n",
      "36:\ttotal: 44.9s\tremaining: 2m 17s\n",
      "37:\ttotal: 46.1s\tremaining: 2m 15s\n",
      "38:\ttotal: 47.3s\tremaining: 2m 14s\n",
      "39:\ttotal: 48.6s\tremaining: 2m 13s\n",
      "40:\ttotal: 49.8s\tremaining: 2m 12s\n",
      "41:\ttotal: 51s\tremaining: 2m 11s\n",
      "42:\ttotal: 52.2s\tremaining: 2m 9s\n",
      "43:\ttotal: 53.4s\tremaining: 2m 8s\n",
      "44:\ttotal: 54.6s\tremaining: 2m 7s\n",
      "45:\ttotal: 55.8s\tremaining: 2m 6s\n",
      "46:\ttotal: 57s\tremaining: 2m 4s\n",
      "47:\ttotal: 58.2s\tremaining: 2m 3s\n",
      "48:\ttotal: 59.4s\tremaining: 2m 2s\n",
      "49:\ttotal: 1m\tremaining: 2m 1s\n",
      "50:\ttotal: 1m 1s\tremaining: 2m\n",
      "51:\ttotal: 1m 3s\tremaining: 1m 58s\n",
      "52:\ttotal: 1m 4s\tremaining: 1m 57s\n",
      "53:\ttotal: 1m 5s\tremaining: 1m 56s\n",
      "54:\ttotal: 1m 6s\tremaining: 1m 55s\n",
      "55:\ttotal: 1m 7s\tremaining: 1m 53s\n",
      "56:\ttotal: 1m 9s\tremaining: 1m 52s\n",
      "57:\ttotal: 1m 10s\tremaining: 1m 51s\n",
      "58:\ttotal: 1m 11s\tremaining: 1m 50s\n",
      "59:\ttotal: 1m 12s\tremaining: 1m 49s\n",
      "60:\ttotal: 1m 13s\tremaining: 1m 47s\n",
      "61:\ttotal: 1m 15s\tremaining: 1m 46s\n",
      "62:\ttotal: 1m 16s\tremaining: 1m 45s\n",
      "63:\ttotal: 1m 17s\tremaining: 1m 44s\n",
      "64:\ttotal: 1m 18s\tremaining: 1m 43s\n",
      "65:\ttotal: 1m 19s\tremaining: 1m 41s\n",
      "66:\ttotal: 1m 21s\tremaining: 1m 40s\n",
      "67:\ttotal: 1m 22s\tremaining: 1m 39s\n",
      "68:\ttotal: 1m 23s\tremaining: 1m 38s\n",
      "69:\ttotal: 1m 24s\tremaining: 1m 36s\n",
      "70:\ttotal: 1m 26s\tremaining: 1m 35s\n",
      "71:\ttotal: 1m 27s\tremaining: 1m 34s\n",
      "72:\ttotal: 1m 28s\tremaining: 1m 33s\n",
      "73:\ttotal: 1m 29s\tremaining: 1m 32s\n",
      "74:\ttotal: 1m 30s\tremaining: 1m 30s\n",
      "75:\ttotal: 1m 32s\tremaining: 1m 29s\n",
      "76:\ttotal: 1m 33s\tremaining: 1m 28s\n",
      "77:\ttotal: 1m 34s\tremaining: 1m 27s\n",
      "78:\ttotal: 1m 35s\tremaining: 1m 26s\n",
      "79:\ttotal: 1m 36s\tremaining: 1m 24s\n",
      "80:\ttotal: 1m 38s\tremaining: 1m 23s\n",
      "81:\ttotal: 1m 39s\tremaining: 1m 22s\n",
      "82:\ttotal: 1m 40s\tremaining: 1m 21s\n",
      "83:\ttotal: 1m 41s\tremaining: 1m 19s\n",
      "84:\ttotal: 1m 42s\tremaining: 1m 18s\n",
      "85:\ttotal: 1m 44s\tremaining: 1m 17s\n",
      "86:\ttotal: 1m 45s\tremaining: 1m 16s\n",
      "87:\ttotal: 1m 46s\tremaining: 1m 15s\n",
      "88:\ttotal: 1m 47s\tremaining: 1m 13s\n",
      "89:\ttotal: 1m 49s\tremaining: 1m 12s\n",
      "90:\ttotal: 1m 50s\tremaining: 1m 11s\n",
      "91:\ttotal: 1m 51s\tremaining: 1m 10s\n",
      "92:\ttotal: 1m 52s\tremaining: 1m 9s\n",
      "93:\ttotal: 1m 53s\tremaining: 1m 7s\n",
      "94:\ttotal: 1m 55s\tremaining: 1m 6s\n",
      "95:\ttotal: 1m 56s\tremaining: 1m 5s\n",
      "96:\ttotal: 1m 57s\tremaining: 1m 4s\n",
      "97:\ttotal: 1m 58s\tremaining: 1m 3s\n",
      "98:\ttotal: 1m 59s\tremaining: 1m 1s\n",
      "99:\ttotal: 2m 1s\tremaining: 1m\n",
      "100:\ttotal: 2m 2s\tremaining: 59.4s\n",
      "101:\ttotal: 2m 3s\tremaining: 58.2s\n",
      "102:\ttotal: 2m 4s\tremaining: 57s\n",
      "103:\ttotal: 2m 6s\tremaining: 55.8s\n",
      "104:\ttotal: 2m 7s\tremaining: 54.5s\n",
      "105:\ttotal: 2m 8s\tremaining: 53.3s\n",
      "106:\ttotal: 2m 9s\tremaining: 52.1s\n",
      "107:\ttotal: 2m 10s\tremaining: 50.9s\n",
      "108:\ttotal: 2m 12s\tremaining: 49.7s\n",
      "109:\ttotal: 2m 13s\tremaining: 48.5s\n",
      "110:\ttotal: 2m 14s\tremaining: 47.3s\n",
      "111:\ttotal: 2m 15s\tremaining: 46s\n",
      "112:\ttotal: 2m 16s\tremaining: 44.8s\n",
      "113:\ttotal: 2m 18s\tremaining: 43.6s\n",
      "114:\ttotal: 2m 19s\tremaining: 42.4s\n",
      "115:\ttotal: 2m 20s\tremaining: 41.2s\n",
      "116:\ttotal: 2m 21s\tremaining: 40s\n",
      "117:\ttotal: 2m 22s\tremaining: 38.8s\n",
      "118:\ttotal: 2m 24s\tremaining: 37.6s\n",
      "119:\ttotal: 2m 25s\tremaining: 36.4s\n",
      "120:\ttotal: 2m 26s\tremaining: 35.1s\n",
      "121:\ttotal: 2m 27s\tremaining: 33.9s\n",
      "122:\ttotal: 2m 29s\tremaining: 32.7s\n",
      "123:\ttotal: 2m 30s\tremaining: 31.5s\n",
      "124:\ttotal: 2m 31s\tremaining: 30.3s\n",
      "125:\ttotal: 2m 32s\tremaining: 29.1s\n",
      "126:\ttotal: 2m 33s\tremaining: 27.9s\n",
      "127:\ttotal: 2m 35s\tremaining: 26.7s\n",
      "128:\ttotal: 2m 36s\tremaining: 25.4s\n",
      "129:\ttotal: 2m 37s\tremaining: 24.2s\n",
      "130:\ttotal: 2m 38s\tremaining: 23s\n",
      "131:\ttotal: 2m 39s\tremaining: 21.8s\n",
      "132:\ttotal: 2m 41s\tremaining: 20.6s\n",
      "133:\ttotal: 2m 42s\tremaining: 19.4s\n",
      "134:\ttotal: 2m 43s\tremaining: 18.2s\n",
      "135:\ttotal: 2m 44s\tremaining: 17s\n",
      "136:\ttotal: 2m 45s\tremaining: 15.7s\n",
      "137:\ttotal: 2m 47s\tremaining: 14.5s\n",
      "138:\ttotal: 2m 48s\tremaining: 13.3s\n",
      "139:\ttotal: 2m 49s\tremaining: 12.1s\n",
      "140:\ttotal: 2m 50s\tremaining: 10.9s\n",
      "141:\ttotal: 2m 52s\tremaining: 9.69s\n",
      "142:\ttotal: 2m 53s\tremaining: 8.48s\n",
      "143:\ttotal: 2m 54s\tremaining: 7.27s\n",
      "144:\ttotal: 2m 55s\tremaining: 6.06s\n",
      "145:\ttotal: 2m 56s\tremaining: 4.84s\n",
      "146:\ttotal: 2m 58s\tremaining: 3.63s\n",
      "147:\ttotal: 2m 59s\tremaining: 2.42s\n",
      "148:\ttotal: 3m\tremaining: 1.21s\n",
      "149:\ttotal: 3m 1s\tremaining: 0us\n",
      "Groupwise loss function. OneHotMaxSize set to 10\n"
     ]
    },
    {
     "output_type": "stream",
     "name": "stderr",
     "text": [
      "Metric PFound is not implemented on GPU. Will use CPU for metric computation, this could significantly affect learning time\n",
      "Metric PFound is not implemented on GPU. Will use CPU for metric computation, this could significantly affect learning time\n"
     ]
    },
    {
     "output_type": "stream",
     "name": "stdout",
     "text": [
      "0:\ttotal: 1.35s\tremaining: 3m 20s\n",
      "1:\ttotal: 2.55s\tremaining: 3m 8s\n",
      "2:\ttotal: 3.76s\tremaining: 3m 4s\n",
      "3:\ttotal: 4.97s\tremaining: 3m 1s\n",
      "4:\ttotal: 6.19s\tremaining: 2m 59s\n",
      "5:\ttotal: 7.4s\tremaining: 2m 57s\n",
      "6:\ttotal: 8.61s\tremaining: 2m 55s\n",
      "7:\ttotal: 9.83s\tremaining: 2m 54s\n",
      "8:\ttotal: 11s\tremaining: 2m 53s\n",
      "9:\ttotal: 12.3s\tremaining: 2m 51s\n",
      "10:\ttotal: 13.5s\tremaining: 2m 50s\n",
      "11:\ttotal: 14.7s\tremaining: 2m 49s\n",
      "12:\ttotal: 15.9s\tremaining: 2m 47s\n",
      "13:\ttotal: 17.1s\tremaining: 2m 46s\n",
      "14:\ttotal: 18.4s\tremaining: 2m 45s\n",
      "15:\ttotal: 19.6s\tremaining: 2m 43s\n",
      "16:\ttotal: 20.8s\tremaining: 2m 42s\n",
      "17:\ttotal: 22s\tremaining: 2m 41s\n",
      "18:\ttotal: 23.2s\tremaining: 2m 40s\n",
      "19:\ttotal: 24.4s\tremaining: 2m 38s\n",
      "20:\ttotal: 25.6s\tremaining: 2m 37s\n",
      "21:\ttotal: 26.9s\tremaining: 2m 36s\n",
      "22:\ttotal: 28.1s\tremaining: 2m 35s\n",
      "23:\ttotal: 29.3s\tremaining: 2m 33s\n",
      "24:\ttotal: 30.5s\tremaining: 2m 32s\n",
      "25:\ttotal: 31.7s\tremaining: 2m 31s\n",
      "26:\ttotal: 32.9s\tremaining: 2m 30s\n",
      "27:\ttotal: 34.2s\tremaining: 2m 28s\n",
      "28:\ttotal: 35.4s\tremaining: 2m 27s\n",
      "29:\ttotal: 36.6s\tremaining: 2m 26s\n",
      "30:\ttotal: 37.8s\tremaining: 2m 25s\n",
      "31:\ttotal: 39s\tremaining: 2m 23s\n",
      "32:\ttotal: 40.2s\tremaining: 2m 22s\n",
      "33:\ttotal: 41.5s\tremaining: 2m 21s\n",
      "34:\ttotal: 42.7s\tremaining: 2m 20s\n",
      "35:\ttotal: 43.9s\tremaining: 2m 19s\n",
      "36:\ttotal: 45.1s\tremaining: 2m 17s\n",
      "37:\ttotal: 46.3s\tremaining: 2m 16s\n",
      "38:\ttotal: 47.6s\tremaining: 2m 15s\n",
      "39:\ttotal: 48.8s\tremaining: 2m 14s\n",
      "40:\ttotal: 50s\tremaining: 2m 12s\n",
      "41:\ttotal: 51.2s\tremaining: 2m 11s\n",
      "42:\ttotal: 52.4s\tremaining: 2m 10s\n",
      "43:\ttotal: 53.6s\tremaining: 2m 9s\n",
      "44:\ttotal: 54.8s\tremaining: 2m 7s\n",
      "45:\ttotal: 56.1s\tremaining: 2m 6s\n",
      "46:\ttotal: 57.3s\tremaining: 2m 5s\n",
      "47:\ttotal: 58.5s\tremaining: 2m 4s\n",
      "48:\ttotal: 59.7s\tremaining: 2m 3s\n",
      "49:\ttotal: 1m\tremaining: 2m 1s\n",
      "50:\ttotal: 1m 2s\tremaining: 2m\n",
      "51:\ttotal: 1m 3s\tremaining: 1m 59s\n",
      "52:\ttotal: 1m 4s\tremaining: 1m 58s\n",
      "53:\ttotal: 1m 5s\tremaining: 1m 56s\n",
      "54:\ttotal: 1m 6s\tremaining: 1m 55s\n",
      "55:\ttotal: 1m 8s\tremaining: 1m 54s\n",
      "56:\ttotal: 1m 9s\tremaining: 1m 53s\n",
      "57:\ttotal: 1m 10s\tremaining: 1m 52s\n",
      "58:\ttotal: 1m 11s\tremaining: 1m 50s\n",
      "59:\ttotal: 1m 13s\tremaining: 1m 49s\n",
      "60:\ttotal: 1m 14s\tremaining: 1m 48s\n",
      "61:\ttotal: 1m 15s\tremaining: 1m 47s\n",
      "62:\ttotal: 1m 16s\tremaining: 1m 45s\n",
      "63:\ttotal: 1m 17s\tremaining: 1m 44s\n",
      "64:\ttotal: 1m 19s\tremaining: 1m 43s\n",
      "65:\ttotal: 1m 20s\tremaining: 1m 42s\n",
      "66:\ttotal: 1m 21s\tremaining: 1m 41s\n",
      "67:\ttotal: 1m 22s\tremaining: 1m 39s\n",
      "68:\ttotal: 1m 24s\tremaining: 1m 38s\n",
      "69:\ttotal: 1m 25s\tremaining: 1m 37s\n",
      "70:\ttotal: 1m 26s\tremaining: 1m 36s\n",
      "71:\ttotal: 1m 27s\tremaining: 1m 34s\n",
      "72:\ttotal: 1m 28s\tremaining: 1m 33s\n",
      "73:\ttotal: 1m 30s\tremaining: 1m 32s\n",
      "74:\ttotal: 1m 31s\tremaining: 1m 31s\n",
      "75:\ttotal: 1m 32s\tremaining: 1m 30s\n",
      "76:\ttotal: 1m 33s\tremaining: 1m 28s\n",
      "77:\ttotal: 1m 34s\tremaining: 1m 27s\n",
      "78:\ttotal: 1m 36s\tremaining: 1m 26s\n",
      "79:\ttotal: 1m 37s\tremaining: 1m 25s\n",
      "80:\ttotal: 1m 38s\tremaining: 1m 23s\n",
      "81:\ttotal: 1m 39s\tremaining: 1m 22s\n",
      "82:\ttotal: 1m 41s\tremaining: 1m 21s\n",
      "83:\ttotal: 1m 42s\tremaining: 1m 20s\n",
      "84:\ttotal: 1m 43s\tremaining: 1m 19s\n",
      "85:\ttotal: 1m 44s\tremaining: 1m 17s\n",
      "86:\ttotal: 1m 45s\tremaining: 1m 16s\n",
      "87:\ttotal: 1m 47s\tremaining: 1m 15s\n",
      "88:\ttotal: 1m 48s\tremaining: 1m 14s\n",
      "89:\ttotal: 1m 49s\tremaining: 1m 13s\n",
      "90:\ttotal: 1m 50s\tremaining: 1m 11s\n",
      "91:\ttotal: 1m 52s\tremaining: 1m 10s\n",
      "92:\ttotal: 1m 53s\tremaining: 1m 9s\n",
      "93:\ttotal: 1m 54s\tremaining: 1m 8s\n",
      "94:\ttotal: 1m 55s\tremaining: 1m 6s\n",
      "95:\ttotal: 1m 56s\tremaining: 1m 5s\n",
      "96:\ttotal: 1m 58s\tremaining: 1m 4s\n",
      "97:\ttotal: 1m 59s\tremaining: 1m 3s\n",
      "98:\ttotal: 2m\tremaining: 1m 2s\n",
      "99:\ttotal: 2m 1s\tremaining: 1m\n",
      "100:\ttotal: 2m 2s\tremaining: 59.7s\n",
      "101:\ttotal: 2m 4s\tremaining: 58.5s\n",
      "102:\ttotal: 2m 5s\tremaining: 57.2s\n",
      "103:\ttotal: 2m 6s\tremaining: 56s\n",
      "104:\ttotal: 2m 7s\tremaining: 54.8s\n",
      "105:\ttotal: 2m 9s\tremaining: 53.6s\n",
      "106:\ttotal: 2m 10s\tremaining: 52.4s\n",
      "107:\ttotal: 2m 11s\tremaining: 51.2s\n",
      "108:\ttotal: 2m 12s\tremaining: 49.9s\n",
      "109:\ttotal: 2m 13s\tremaining: 48.7s\n",
      "110:\ttotal: 2m 15s\tremaining: 47.5s\n",
      "111:\ttotal: 2m 16s\tremaining: 46.3s\n",
      "112:\ttotal: 2m 17s\tremaining: 45.1s\n",
      "113:\ttotal: 2m 18s\tremaining: 43.8s\n",
      "114:\ttotal: 2m 20s\tremaining: 42.6s\n",
      "115:\ttotal: 2m 21s\tremaining: 41.4s\n",
      "116:\ttotal: 2m 22s\tremaining: 40.2s\n",
      "117:\ttotal: 2m 23s\tremaining: 39s\n",
      "118:\ttotal: 2m 24s\tremaining: 37.8s\n",
      "119:\ttotal: 2m 26s\tremaining: 36.5s\n",
      "120:\ttotal: 2m 27s\tremaining: 35.3s\n",
      "121:\ttotal: 2m 28s\tremaining: 34.1s\n",
      "122:\ttotal: 2m 29s\tremaining: 32.9s\n",
      "123:\ttotal: 2m 31s\tremaining: 31.7s\n",
      "124:\ttotal: 2m 32s\tremaining: 30.4s\n",
      "125:\ttotal: 2m 33s\tremaining: 29.2s\n",
      "126:\ttotal: 2m 34s\tremaining: 28s\n",
      "127:\ttotal: 2m 35s\tremaining: 26.8s\n",
      "128:\ttotal: 2m 37s\tremaining: 25.6s\n",
      "129:\ttotal: 2m 38s\tremaining: 24.4s\n",
      "130:\ttotal: 2m 39s\tremaining: 23.1s\n",
      "131:\ttotal: 2m 40s\tremaining: 21.9s\n",
      "132:\ttotal: 2m 41s\tremaining: 20.7s\n",
      "133:\ttotal: 2m 43s\tremaining: 19.5s\n",
      "134:\ttotal: 2m 44s\tremaining: 18.3s\n",
      "135:\ttotal: 2m 45s\tremaining: 17s\n",
      "136:\ttotal: 2m 46s\tremaining: 15.8s\n",
      "137:\ttotal: 2m 48s\tremaining: 14.6s\n",
      "138:\ttotal: 2m 49s\tremaining: 13.4s\n",
      "139:\ttotal: 2m 50s\tremaining: 12.2s\n",
      "140:\ttotal: 2m 51s\tremaining: 11s\n",
      "141:\ttotal: 2m 52s\tremaining: 9.74s\n",
      "142:\ttotal: 2m 54s\tremaining: 8.52s\n",
      "143:\ttotal: 2m 55s\tremaining: 7.31s\n",
      "144:\ttotal: 2m 56s\tremaining: 6.09s\n",
      "145:\ttotal: 2m 57s\tremaining: 4.87s\n",
      "146:\ttotal: 2m 59s\tremaining: 3.65s\n",
      "147:\ttotal: 3m\tremaining: 2.44s\n",
      "148:\ttotal: 3m 1s\tremaining: 1.22s\n",
      "149:\ttotal: 3m 2s\tremaining: 0us\n",
      "Groupwise loss function. OneHotMaxSize set to 10\n"
     ]
    },
    {
     "output_type": "stream",
     "name": "stderr",
     "text": [
      "Metric PFound is not implemented on GPU. Will use CPU for metric computation, this could significantly affect learning time\n",
      "Metric PFound is not implemented on GPU. Will use CPU for metric computation, this could significantly affect learning time\n"
     ]
    },
    {
     "output_type": "stream",
     "name": "stdout",
     "text": [
      "0:\ttotal: 1.39s\tremaining: 3m 26s\n",
      "1:\ttotal: 2.62s\tremaining: 3m 13s\n",
      "2:\ttotal: 3.83s\tremaining: 3m 7s\n",
      "3:\ttotal: 5.05s\tremaining: 3m 4s\n",
      "4:\ttotal: 6.27s\tremaining: 3m 1s\n",
      "5:\ttotal: 7.49s\tremaining: 2m 59s\n",
      "6:\ttotal: 8.71s\tremaining: 2m 57s\n",
      "7:\ttotal: 9.92s\tremaining: 2m 56s\n",
      "8:\ttotal: 11.1s\tremaining: 2m 54s\n",
      "9:\ttotal: 12.4s\tremaining: 2m 53s\n",
      "10:\ttotal: 13.6s\tremaining: 2m 51s\n",
      "11:\ttotal: 14.8s\tremaining: 2m 50s\n",
      "12:\ttotal: 16s\tremaining: 2m 48s\n",
      "13:\ttotal: 17.3s\tremaining: 2m 47s\n",
      "14:\ttotal: 18.5s\tremaining: 2m 46s\n",
      "15:\ttotal: 19.7s\tremaining: 2m 45s\n",
      "16:\ttotal: 20.9s\tremaining: 2m 43s\n",
      "17:\ttotal: 22.1s\tremaining: 2m 42s\n",
      "18:\ttotal: 23.4s\tremaining: 2m 41s\n",
      "19:\ttotal: 24.6s\tremaining: 2m 39s\n",
      "20:\ttotal: 25.8s\tremaining: 2m 38s\n",
      "21:\ttotal: 27s\tremaining: 2m 37s\n",
      "22:\ttotal: 28.2s\tremaining: 2m 35s\n",
      "23:\ttotal: 29.5s\tremaining: 2m 34s\n",
      "24:\ttotal: 30.7s\tremaining: 2m 33s\n",
      "25:\ttotal: 31.9s\tremaining: 2m 32s\n",
      "26:\ttotal: 33.1s\tremaining: 2m 30s\n",
      "27:\ttotal: 34.4s\tremaining: 2m 29s\n",
      "28:\ttotal: 35.6s\tremaining: 2m 28s\n",
      "29:\ttotal: 36.8s\tremaining: 2m 27s\n",
      "30:\ttotal: 38s\tremaining: 2m 25s\n",
      "31:\ttotal: 39.2s\tremaining: 2m 24s\n",
      "32:\ttotal: 40.4s\tremaining: 2m 23s\n",
      "33:\ttotal: 41.7s\tremaining: 2m 22s\n",
      "34:\ttotal: 42.9s\tremaining: 2m 20s\n",
      "35:\ttotal: 44.1s\tremaining: 2m 19s\n",
      "36:\ttotal: 45.3s\tremaining: 2m 18s\n",
      "37:\ttotal: 46.5s\tremaining: 2m 17s\n",
      "38:\ttotal: 47.7s\tremaining: 2m 15s\n",
      "39:\ttotal: 49s\tremaining: 2m 14s\n",
      "40:\ttotal: 50.2s\tremaining: 2m 13s\n",
      "41:\ttotal: 51.4s\tremaining: 2m 12s\n",
      "42:\ttotal: 52.6s\tremaining: 2m 10s\n",
      "43:\ttotal: 53.8s\tremaining: 2m 9s\n",
      "44:\ttotal: 55.1s\tremaining: 2m 8s\n",
      "45:\ttotal: 56.3s\tremaining: 2m 7s\n",
      "46:\ttotal: 57.5s\tremaining: 2m 5s\n",
      "47:\ttotal: 58.7s\tremaining: 2m 4s\n",
      "48:\ttotal: 59.9s\tremaining: 2m 3s\n",
      "49:\ttotal: 1m 1s\tremaining: 2m 2s\n",
      "50:\ttotal: 1m 2s\tremaining: 2m 1s\n",
      "51:\ttotal: 1m 3s\tremaining: 1m 59s\n",
      "52:\ttotal: 1m 4s\tremaining: 1m 58s\n",
      "53:\ttotal: 1m 6s\tremaining: 1m 57s\n",
      "54:\ttotal: 1m 7s\tremaining: 1m 56s\n",
      "55:\ttotal: 1m 8s\tremaining: 1m 54s\n",
      "56:\ttotal: 1m 9s\tremaining: 1m 53s\n",
      "57:\ttotal: 1m 10s\tremaining: 1m 52s\n",
      "58:\ttotal: 1m 12s\tremaining: 1m 51s\n",
      "59:\ttotal: 1m 13s\tremaining: 1m 49s\n",
      "60:\ttotal: 1m 14s\tremaining: 1m 48s\n",
      "61:\ttotal: 1m 15s\tremaining: 1m 47s\n",
      "62:\ttotal: 1m 17s\tremaining: 1m 46s\n",
      "63:\ttotal: 1m 18s\tremaining: 1m 45s\n",
      "64:\ttotal: 1m 19s\tremaining: 1m 43s\n",
      "65:\ttotal: 1m 20s\tremaining: 1m 42s\n",
      "66:\ttotal: 1m 21s\tremaining: 1m 41s\n",
      "67:\ttotal: 1m 23s\tremaining: 1m 40s\n",
      "68:\ttotal: 1m 24s\tremaining: 1m 38s\n",
      "69:\ttotal: 1m 25s\tremaining: 1m 37s\n",
      "70:\ttotal: 1m 26s\tremaining: 1m 36s\n",
      "71:\ttotal: 1m 27s\tremaining: 1m 35s\n",
      "72:\ttotal: 1m 29s\tremaining: 1m 34s\n",
      "73:\ttotal: 1m 30s\tremaining: 1m 32s\n",
      "74:\ttotal: 1m 31s\tremaining: 1m 31s\n",
      "75:\ttotal: 1m 32s\tremaining: 1m 30s\n",
      "76:\ttotal: 1m 34s\tremaining: 1m 29s\n",
      "77:\ttotal: 1m 35s\tremaining: 1m 27s\n",
      "78:\ttotal: 1m 36s\tremaining: 1m 26s\n",
      "79:\ttotal: 1m 37s\tremaining: 1m 25s\n",
      "80:\ttotal: 1m 38s\tremaining: 1m 24s\n",
      "81:\ttotal: 1m 40s\tremaining: 1m 23s\n",
      "82:\ttotal: 1m 41s\tremaining: 1m 21s\n",
      "83:\ttotal: 1m 42s\tremaining: 1m 20s\n",
      "84:\ttotal: 1m 43s\tremaining: 1m 19s\n",
      "85:\ttotal: 1m 45s\tremaining: 1m 18s\n",
      "86:\ttotal: 1m 46s\tremaining: 1m 16s\n",
      "87:\ttotal: 1m 47s\tremaining: 1m 15s\n",
      "88:\ttotal: 1m 48s\tremaining: 1m 14s\n",
      "89:\ttotal: 1m 49s\tremaining: 1m 13s\n",
      "90:\ttotal: 1m 51s\tremaining: 1m 12s\n",
      "91:\ttotal: 1m 52s\tremaining: 1m 10s\n",
      "92:\ttotal: 1m 53s\tremaining: 1m 9s\n",
      "93:\ttotal: 1m 54s\tremaining: 1m 8s\n",
      "94:\ttotal: 1m 56s\tremaining: 1m 7s\n",
      "95:\ttotal: 1m 57s\tremaining: 1m 6s\n",
      "96:\ttotal: 1m 58s\tremaining: 1m 4s\n",
      "97:\ttotal: 1m 59s\tremaining: 1m 3s\n",
      "98:\ttotal: 2m 1s\tremaining: 1m 2s\n",
      "99:\ttotal: 2m 2s\tremaining: 1m 1s\n",
      "100:\ttotal: 2m 3s\tremaining: 59.9s\n",
      "101:\ttotal: 2m 4s\tremaining: 58.7s\n",
      "102:\ttotal: 2m 5s\tremaining: 57.5s\n",
      "103:\ttotal: 2m 7s\tremaining: 56.2s\n",
      "104:\ttotal: 2m 8s\tremaining: 55s\n",
      "105:\ttotal: 2m 9s\tremaining: 53.8s\n",
      "106:\ttotal: 2m 10s\tremaining: 52.6s\n",
      "107:\ttotal: 2m 12s\tremaining: 51.4s\n",
      "108:\ttotal: 2m 13s\tremaining: 50.1s\n",
      "109:\ttotal: 2m 14s\tremaining: 48.9s\n",
      "110:\ttotal: 2m 15s\tremaining: 47.7s\n",
      "111:\ttotal: 2m 17s\tremaining: 46.5s\n",
      "112:\ttotal: 2m 18s\tremaining: 45.3s\n",
      "113:\ttotal: 2m 19s\tremaining: 44s\n",
      "114:\ttotal: 2m 20s\tremaining: 42.8s\n",
      "115:\ttotal: 2m 21s\tremaining: 41.6s\n",
      "116:\ttotal: 2m 23s\tremaining: 40.4s\n",
      "117:\ttotal: 2m 24s\tremaining: 39.1s\n",
      "118:\ttotal: 2m 25s\tremaining: 37.9s\n",
      "119:\ttotal: 2m 26s\tremaining: 36.7s\n",
      "120:\ttotal: 2m 28s\tremaining: 35.5s\n",
      "121:\ttotal: 2m 29s\tremaining: 34.3s\n",
      "122:\ttotal: 2m 30s\tremaining: 33s\n",
      "123:\ttotal: 2m 31s\tremaining: 31.8s\n",
      "124:\ttotal: 2m 32s\tremaining: 30.6s\n",
      "125:\ttotal: 2m 34s\tremaining: 29.4s\n",
      "126:\ttotal: 2m 35s\tremaining: 28.1s\n",
      "127:\ttotal: 2m 36s\tremaining: 26.9s\n",
      "128:\ttotal: 2m 37s\tremaining: 25.7s\n",
      "129:\ttotal: 2m 39s\tremaining: 24.5s\n",
      "130:\ttotal: 2m 40s\tremaining: 23.2s\n",
      "131:\ttotal: 2m 41s\tremaining: 22s\n",
      "132:\ttotal: 2m 42s\tremaining: 20.8s\n",
      "133:\ttotal: 2m 43s\tremaining: 19.6s\n",
      "134:\ttotal: 2m 45s\tremaining: 18.3s\n",
      "135:\ttotal: 2m 46s\tremaining: 17.1s\n",
      "136:\ttotal: 2m 47s\tremaining: 15.9s\n",
      "137:\ttotal: 2m 48s\tremaining: 14.7s\n",
      "138:\ttotal: 2m 50s\tremaining: 13.5s\n",
      "139:\ttotal: 2m 51s\tremaining: 12.2s\n",
      "140:\ttotal: 2m 52s\tremaining: 11s\n",
      "141:\ttotal: 2m 53s\tremaining: 9.78s\n",
      "142:\ttotal: 2m 54s\tremaining: 8.56s\n",
      "143:\ttotal: 2m 56s\tremaining: 7.34s\n",
      "144:\ttotal: 2m 57s\tremaining: 6.12s\n",
      "145:\ttotal: 2m 58s\tremaining: 4.89s\n",
      "146:\ttotal: 2m 59s\tremaining: 3.67s\n",
      "147:\ttotal: 3m 1s\tremaining: 2.45s\n",
      "148:\ttotal: 3m 2s\tremaining: 1.22s\n",
      "149:\ttotal: 3m 3s\tremaining: 0us\n"
     ]
    }
   ]
  },
  {
   "cell_type": "code",
   "metadata": {
    "colab": {
     "base_uri": "https://localhost:8080/"
    },
    "id": "nkzec7m7kah9",
    "outputId": "89edeee1-60cc-4540-c1bd-57d9d81d5ff5"
   },
   "source": [
    "print(f\"Average NDCG: {np.mean(scores['NDCG']):.4f}\")\n",
    "print(f\"Average ROC AUC per user: {np.mean(scores['ROC_AUC']):.4f}\")"
   ],
   "execution_count": 24,
   "outputs": [
    {
     "output_type": "stream",
     "name": "stdout",
     "text": [
      "Average NDCG: 0.8341\n",
      "Average ROC AUC per user: 0.6416\n"
     ]
    }
   ]
  },
  {
   "cell_type": "markdown",
   "metadata": {
    "id": "yyUjsFx26kbE"
   },
   "source": [
    "## Задание 2"
   ]
  },
  {
   "cell_type": "markdown",
   "metadata": {
    "id": "EN85LqhE_1wO"
   },
   "source": [
    "Построить неклассические эмбеддинги и исследовать их полезность."
   ]
  },
  {
   "cell_type": "code",
   "metadata": {
    "id": "rdHSMVPJ6kbE",
    "colab": {
     "base_uri": "https://localhost:8080/"
    },
    "outputId": "bb636d9f-aec1-4e33-f813-e5643ee31f6d"
   },
   "source": [
    "%%time\n",
    "embeddings = EmbeddingsBuilder(embedding_dim=100, random_state=random_state)\n",
    "embeddings = embeddings.fit(train_dataset)\n",
    "save_pickle(embeddings, \"embeddings.pkl\")"
   ],
   "execution_count": 26,
   "outputs": [
    {
     "output_type": "stream",
     "name": "stdout",
     "text": [
      "CPU times: user 22min 10s, sys: 9.49 s, total: 22min 20s\n",
      "Wall time: 20min 25s\n"
     ]
    }
   ]
  },
  {
   "cell_type": "code",
   "metadata": {
    "id": "xu_8VrbrlKxs"
   },
   "source": [
    "embeddings = load_pickle(\"embeddings.pkl\")"
   ],
   "execution_count": 27,
   "outputs": []
  },
  {
   "cell_type": "markdown",
   "metadata": {
    "id": "dhsRVHaWlTZq"
   },
   "source": [
    "Посмотрим на похожие песни и пользователей, визуализировав их с помощью PCA. Будем называть песни похожими, если они принадлежат к одному жанру."
   ]
  },
  {
   "cell_type": "code",
   "metadata": {
    "id": "g2QU0a5IlTph"
   },
   "source": [
    "songs, genres = songs_dataset.similar_songs(n_groups=5)"
   ],
   "execution_count": 28,
   "outputs": []
  },
  {
   "cell_type": "code",
   "metadata": {
    "colab": {
     "base_uri": "https://localhost:8080/"
    },
    "id": "iCw79bdgliBp",
    "outputId": "06a0191c-ce59-438a-8aad-cb43bf75238c"
   },
   "source": [
    "np.unique(genres, return_counts=True)"
   ],
   "execution_count": 29,
   "outputs": [
    {
     "output_type": "execute_result",
     "data": {
      "text/plain": [
       "(array(['1609', '2022', '2122', '465', '958'], dtype=object),\n",
       " array([166457, 168870, 139938, 567911, 176349]))"
      ]
     },
     "metadata": {},
     "execution_count": 29
    }
   ]
  },
  {
   "cell_type": "markdown",
   "metadata": {
    "id": "NLeUTid4lfLA"
   },
   "source": [
    "Так как есть очень большой класс, уберем его. "
   ]
  },
  {
   "cell_type": "code",
   "metadata": {
    "colab": {
     "base_uri": "https://localhost:8080/",
     "height": 460
    },
    "id": "bqq4xhsylqRJ",
    "outputId": "515b0a5a-9944-49d1-e9e8-aa1ffae89fd7"
   },
   "source": [
    "genres_mask = (genres != \"465\")\n",
    "songs_mask = np.array([embeddings.has_item(song) for song in songs])\n",
    "\n",
    "mask = genres_mask & songs_mask\n",
    "plot_similar(embeddings.get_item_embeddings(songs[mask]), genres[mask], \"Item embeddings\")"
   ],
   "execution_count": 31,
   "outputs": [
    {
     "output_type": "display_data",
     "data": {
      "image/png": "[encoded data removed]",
      "text/plain": [
       "<Figure size 720x504 with 1 Axes>"
      ]
     },
     "metadata": {
      "needs_background": "light"
     }
    }
   ]
  },
  {
   "cell_type": "markdown",
   "metadata": {
    "id": "HFTYzZRkmGhK"
   },
   "source": [
    "Как можно видеть, получились некоторые кластеры, обучим модель. "
   ]
  },
  {
   "cell_type": "code",
   "metadata": {
    "colab": {
     "base_uri": "https://localhost:8080/"
    },
    "id": "vNc1k5MQmLve",
    "outputId": "f552a6a4-be6c-42e2-ad94-0328c3eb23c9"
   },
   "source": [
    "%%time\n",
    "model = EmbeddingModel(embeddings)\n",
    "scores = model.cv_scores(train_dataset_sm_sort, n_splits=5)"
   ],
   "execution_count": 32,
   "outputs": [
    {
     "output_type": "stream",
     "name": "stdout",
     "text": [
      "CPU times: user 2min 28s, sys: 6.07 s, total: 2min 34s\n",
      "Wall time: 2min 34s\n"
     ]
    }
   ]
  },
  {
   "cell_type": "code",
   "metadata": {
    "colab": {
     "base_uri": "https://localhost:8080/"
    },
    "id": "xeS7JS4_mbk6",
    "outputId": "6295ca52-269b-42c7-9d24-df5b41aa0545"
   },
   "source": [
    "print(f\"Average NDCG: {np.mean(scores['NDCG']):.4f}\")\n",
    "print(f\"Average ROC AUC per user: {np.mean(scores['ROC_AUC']):.4f}\")"
   ],
   "execution_count": 33,
   "outputs": [
    {
     "output_type": "stream",
     "name": "stdout",
     "text": [
      "Average NDCG: 0.9159\n",
      "Average ROC AUC per user: 0.7168\n"
     ]
    }
   ]
  },
  {
   "cell_type": "markdown",
   "metadata": {
    "id": "lo6R6faIvnQI"
   },
   "source": [
    "Как можно видеть, метрики лучше!. Возможно, это зависит от признаков, многие признаки были нерелеватные."
   ]
  },
  {
   "cell_type": "markdown",
   "metadata": {
    "id": "cXRnH_3sv4nO"
   },
   "source": [
    "**TODO:** добавить в деревья, посчитать SHAP values."
   ]
  },
  {
   "cell_type": "code",
   "metadata": {
    "id": "w2A295yIvjoq"
   },
   "source": [
    ""
   ],
   "execution_count": null,
   "outputs": []
  }
 ]
}